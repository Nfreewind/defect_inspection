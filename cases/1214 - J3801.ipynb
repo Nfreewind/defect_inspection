{
 "cells": [
  {
   "cell_type": "code",
   "execution_count": 1,
   "metadata": {
    "collapsed": false
   },
   "outputs": [
    {
     "name": "stderr",
     "output_type": "stream",
     "text": [
      "Using TensorFlow backend.\n"
     ]
    }
   ],
   "source": [
    "from defectlib import extract_bnfeatures_from_defect, train_svm_classifier, plot_tsne\n",
    "import numpy as np\n",
    "%matplotlib inline"
   ]
  },
  {
   "cell_type": "code",
   "execution_count": 8,
   "metadata": {
    "collapsed": false,
    "scrolled": true
   },
   "outputs": [
    {
     "name": "stdout",
     "output_type": "stream",
     "text": [
      "there are 27 images inside J3801_8A_c1\n",
      "Processing ./ben1214/J3801/8A/J3801_8A_c1/F3Y636300BHGY4T9 8AAAAAA_0.jpg...\n",
      "there are 18 images inside J3801_8A_c10\n",
      "Processing ./ben1214/J3801/8A/J3801_8A_c10/F3Y63620E6XGY4R9 8AAAAAA_0.jpg...\n",
      "there are 20 images inside J3801_8A_c2\n",
      "Processing ./ben1214/J3801/8A/J3801_8A_c2/F3Y64911UELGY4TA 8AAAAAA_0.jpg...\n",
      "there are 15 images inside J3801_8A_c0\n",
      "Processing ./defect_tensors_D10/J3801/8A/J3801_8A_c0/0 8AAAAAA_0.jpg...\n",
      "there are 2 images inside J3801_8A_c1\n",
      "Processing ./defect_tensors_D10/J3801/8A/J3801_8A_c1/F3Y649519FXGY4TA 8AAAAAA_0.jpg...\n",
      "there are 3 images inside J3801_8A_c10\n",
      "Processing ./defect_tensors_D10/J3801/8A/J3801_8A_c10/F3Y649607RPGY4TA 8AAAAAA_0.jpg...\n",
      "there are 4 images inside J3801_8A_c2\n",
      "Processing ./defect_tensors_D10/J3801/8A/J3801_8A_c2/F3Y64930GUBGY4TA 8AAAAAA_0.jpg...\n"
     ]
    }
   ],
   "source": [
    "features, labels, sns, images = extract_bnfeatures_from_defect('./ben1214/J3801/')\n",
    "features_test, labels_test, sns_test, images_test = extract_bnfeatures_from_defect('./defect_tensors_D10/J3801/')\n",
    "features_all = np.concatenate((features, features_test))\n",
    "labels_all = np.concatenate((labels, labels_test))\n",
    "sns_all = np.concatenate((sns, sns_test))\n",
    "images_all = np.concatenate((images, images_test))"
   ]
  },
  {
   "cell_type": "code",
   "execution_count": 9,
   "metadata": {
    "collapsed": false
   },
   "outputs": [
    {
     "data": {
      "image/png": "[encoded data removed]",
      "text/plain": [
       "<matplotlib.figure.Figure at 0x13e125f90>"
      ]
     },
     "metadata": {},
     "output_type": "display_data"
    }
   ],
   "source": [
    "plot_tsne(features_all, labels_all, sns_all, perplexity=10, interactive=False, images=images_all)"
   ]
  },
  {
   "cell_type": "code",
   "execution_count": 15,
   "metadata": {
    "collapsed": false
   },
   "outputs": [
    {
     "name": "stdout",
     "output_type": "stream",
     "text": [
      "train test split == True\n",
      "Fitting 3 folds for each of 20 candidates, totalling 60 fits\n",
      "[CV] kernel=linear, C=1 ..............................................\n",
      "[CV] ............... kernel=linear, C=1, score=0.521739, total=   0.0s\n",
      "[CV] kernel=linear, C=1 ..............................................\n",
      "[CV] ............... kernel=linear, C=1, score=0.590909, total=   0.0s\n",
      "[CV] kernel=linear, C=1 ..............................................\n",
      "[CV] ............... kernel=linear, C=1, score=0.571429, total=   0.0s\n",
      "[CV] kernel=linear, C=10 .............................................\n",
      "[CV] .............. kernel=linear, C=10, score=0.521739, total=   0.0s\n",
      "[CV] kernel=linear, C=10 .............................................\n",
      "[CV] .............. kernel=linear, C=10, score=0.590909, total=   0.0s\n",
      "[CV] kernel=linear, C=10 .............................................\n",
      "[CV] .............. kernel=linear, C=10, score=0.571429, total=   0.0s\n",
      "[CV] kernel=linear, C=100 ............................................\n"
     ]
    },
    {
     "name": "stderr",
     "output_type": "stream",
     "text": [
      "[Parallel(n_jobs=1)]: Done   1 out of   1 | elapsed:    0.0s remaining:    0.0s\n",
      "[Parallel(n_jobs=1)]: Done   2 out of   2 | elapsed:    0.1s remaining:    0.0s\n"
     ]
    },
    {
     "name": "stdout",
     "output_type": "stream",
     "text": [
      "[CV] ............. kernel=linear, C=100, score=0.521739, total=   0.0s\n",
      "[CV] kernel=linear, C=100 ............................................\n",
      "[CV] ............. kernel=linear, C=100, score=0.590909, total=   0.0s\n",
      "[CV] kernel=linear, C=100 ............................................\n",
      "[CV] ............. kernel=linear, C=100, score=0.571429, total=   0.0s\n",
      "[CV] kernel=linear, C=1000 ...........................................\n",
      "[CV] ............ kernel=linear, C=1000, score=0.521739, total=   0.0s\n",
      "[CV] kernel=linear, C=1000 ...........................................\n",
      "[CV] ............ kernel=linear, C=1000, score=0.590909, total=   0.0s\n",
      "[CV] kernel=linear, C=1000 ...........................................\n",
      "[CV] ............ kernel=linear, C=1000, score=0.571429, total=   0.0s\n",
      "[CV] kernel=rbf, C=1, gamma=0.01 .....................................\n",
      "[CV] ...... kernel=rbf, C=1, gamma=0.01, score=0.347826, total=   0.0s\n",
      "[CV] kernel=rbf, C=1, gamma=0.01 .....................................\n",
      "[CV] ...... kernel=rbf, C=1, gamma=0.01, score=0.363636, total=   0.0s\n",
      "[CV] kernel=rbf, C=1, gamma=0.01 .....................................\n",
      "[CV] ...... kernel=rbf, C=1, gamma=0.01, score=0.380952, total=   0.0s\n",
      "[CV] kernel=rbf, C=1, gamma=0.001 ....................................\n",
      "[CV] ..... kernel=rbf, C=1, gamma=0.001, score=0.304348, total=   0.0s\n",
      "[CV] kernel=rbf, C=1, gamma=0.001 ....................................\n",
      "[CV] ..... kernel=rbf, C=1, gamma=0.001, score=0.318182, total=   0.0s\n",
      "[CV] kernel=rbf, C=1, gamma=0.001 ....................................\n",
      "[CV] ..... kernel=rbf, C=1, gamma=0.001, score=0.285714, total=   0.0s\n",
      "[CV] kernel=rbf, C=1, gamma=0.0001 ...................................\n",
      "[CV] .... kernel=rbf, C=1, gamma=0.0001, score=0.304348, total=   0.0s\n",
      "[CV] kernel=rbf, C=1, gamma=0.0001 ...................................\n",
      "[CV] .... kernel=rbf, C=1, gamma=0.0001, score=0.318182, total=   0.0s\n",
      "[CV] kernel=rbf, C=1, gamma=0.0001 ...................................\n",
      "[CV] .... kernel=rbf, C=1, gamma=0.0001, score=0.285714, total=   0.0s\n",
      "[CV] kernel=rbf, C=1, gamma=1e-05 ....................................\n",
      "[CV] ..... kernel=rbf, C=1, gamma=1e-05, score=0.304348, total=   0.0s\n",
      "[CV] kernel=rbf, C=1, gamma=1e-05 ....................................\n",
      "[CV] ..... kernel=rbf, C=1, gamma=1e-05, score=0.318182, total=   0.0s\n",
      "[CV] kernel=rbf, C=1, gamma=1e-05 ....................................\n",
      "[CV] ..... kernel=rbf, C=1, gamma=1e-05, score=0.285714, total=   0.0s\n",
      "[CV] kernel=rbf, C=10, gamma=0.01 ....................................\n",
      "[CV] ..... kernel=rbf, C=10, gamma=0.01, score=0.521739, total=   0.0s\n",
      "[CV] kernel=rbf, C=10, gamma=0.01 ....................................\n",
      "[CV] ..... kernel=rbf, C=10, gamma=0.01, score=0.545455, total=   0.0s\n",
      "[CV] kernel=rbf, C=10, gamma=0.01 ....................................\n",
      "[CV] ..... kernel=rbf, C=10, gamma=0.01, score=0.571429, total=   0.0s\n",
      "[CV] kernel=rbf, C=10, gamma=0.001 ...................................\n",
      "[CV] .... kernel=rbf, C=10, gamma=0.001, score=0.347826, total=   0.0s\n",
      "[CV] kernel=rbf, C=10, gamma=0.001 ...................................\n",
      "[CV] .... kernel=rbf, C=10, gamma=0.001, score=0.409091, total=   0.0s\n",
      "[CV] kernel=rbf, C=10, gamma=0.001 ...................................\n",
      "[CV] .... kernel=rbf, C=10, gamma=0.001, score=0.428571, total=   0.0s\n",
      "[CV] kernel=rbf, C=10, gamma=0.0001 ..................................\n",
      "[CV] ... kernel=rbf, C=10, gamma=0.0001, score=0.304348, total=   0.0s\n",
      "[CV] kernel=rbf, C=10, gamma=0.0001 ..................................\n",
      "[CV] ... kernel=rbf, C=10, gamma=0.0001, score=0.318182, total=   0.0s\n",
      "[CV] kernel=rbf, C=10, gamma=0.0001 ..................................\n",
      "[CV] ... kernel=rbf, C=10, gamma=0.0001, score=0.285714, total=   0.0s\n",
      "[CV] kernel=rbf, C=10, gamma=1e-05 ...................................\n",
      "[CV] .... kernel=rbf, C=10, gamma=1e-05, score=0.304348, total=   0.0s\n",
      "[CV] kernel=rbf, C=10, gamma=1e-05 ...................................\n",
      "[CV] .... kernel=rbf, C=10, gamma=1e-05, score=0.318182, total=   0.0s\n",
      "[CV] kernel=rbf, C=10, gamma=1e-05 ...................................\n",
      "[CV] .... kernel=rbf, C=10, gamma=1e-05, score=0.285714, total=   0.0s\n",
      "[CV] kernel=rbf, C=100, gamma=0.01 ...................................\n",
      "[CV] .... kernel=rbf, C=100, gamma=0.01, score=0.521739, total=   0.0s\n",
      "[CV] kernel=rbf, C=100, gamma=0.01 ...................................\n",
      "[CV] .... kernel=rbf, C=100, gamma=0.01, score=0.590909, total=   0.0s\n",
      "[CV] kernel=rbf, C=100, gamma=0.01 ...................................\n",
      "[CV] .... kernel=rbf, C=100, gamma=0.01, score=0.571429, total=   0.0s\n",
      "[CV] kernel=rbf, C=100, gamma=0.001 ..................................\n",
      "[CV] ... kernel=rbf, C=100, gamma=0.001, score=0.521739, total=   0.0s\n",
      "[CV] kernel=rbf, C=100, gamma=0.001 ..................................\n",
      "[CV] ... kernel=rbf, C=100, gamma=0.001, score=0.545455, total=   0.0s\n",
      "[CV] kernel=rbf, C=100, gamma=0.001 ..................................\n",
      "[CV] ... kernel=rbf, C=100, gamma=0.001, score=0.571429, total=   0.0s\n",
      "[CV] kernel=rbf, C=100, gamma=0.0001 .................................\n",
      "[CV] .. kernel=rbf, C=100, gamma=0.0001, score=0.347826, total=   0.0s\n",
      "[CV] kernel=rbf, C=100, gamma=0.0001 .................................\n",
      "[CV] .. kernel=rbf, C=100, gamma=0.0001, score=0.409091, total=   0.0s\n",
      "[CV] kernel=rbf, C=100, gamma=0.0001 .................................\n",
      "[CV] .. kernel=rbf, C=100, gamma=0.0001, score=0.428571, total=   0.0s\n",
      "[CV] kernel=rbf, C=100, gamma=1e-05 ..................................\n",
      "[CV] ... kernel=rbf, C=100, gamma=1e-05, score=0.304348, total=   0.0s\n",
      "[CV] kernel=rbf, C=100, gamma=1e-05 ..................................\n",
      "[CV] ... kernel=rbf, C=100, gamma=1e-05, score=0.318182, total=   0.0s\n",
      "[CV] kernel=rbf, C=100, gamma=1e-05 ..................................\n",
      "[CV] ... kernel=rbf, C=100, gamma=1e-05, score=0.285714, total=   0.0s\n",
      "[CV] kernel=rbf, C=1000, gamma=0.01 ..................................\n",
      "[CV] ... kernel=rbf, C=1000, gamma=0.01, score=0.521739, total=   0.0s\n",
      "[CV] kernel=rbf, C=1000, gamma=0.01 ..................................\n",
      "[CV] ... kernel=rbf, C=1000, gamma=0.01, score=0.590909, total=   0.0s\n",
      "[CV] kernel=rbf, C=1000, gamma=0.01 ..................................\n",
      "[CV] ... kernel=rbf, C=1000, gamma=0.01, score=0.571429, total=   0.0s\n",
      "[CV] kernel=rbf, C=1000, gamma=0.001 .................................\n",
      "[CV] .. kernel=rbf, C=1000, gamma=0.001, score=0.521739, total=   0.0s\n",
      "[CV] kernel=rbf, C=1000, gamma=0.001 .................................\n",
      "[CV] .. kernel=rbf, C=1000, gamma=0.001, score=0.590909, total=   0.0s\n",
      "[CV] kernel=rbf, C=1000, gamma=0.001 .................................\n",
      "[CV] .. kernel=rbf, C=1000, gamma=0.001, score=0.571429, total=   0.0s\n",
      "[CV] kernel=rbf, C=1000, gamma=0.0001 ................................\n",
      "[CV] . kernel=rbf, C=1000, gamma=0.0001, score=0.521739, total=   0.0s\n",
      "[CV] kernel=rbf, C=1000, gamma=0.0001 ................................\n",
      "[CV] . kernel=rbf, C=1000, gamma=0.0001, score=0.545455, total=   0.0s\n",
      "[CV] kernel=rbf, C=1000, gamma=0.0001 ................................\n",
      "[CV] . kernel=rbf, C=1000, gamma=0.0001, score=0.571429, total=   0.0s\n",
      "[CV] kernel=rbf, C=1000, gamma=1e-05 .................................\n",
      "[CV] .. kernel=rbf, C=1000, gamma=1e-05, score=0.347826, total=   0.0s\n",
      "[CV] kernel=rbf, C=1000, gamma=1e-05 .................................\n",
      "[CV] .. kernel=rbf, C=1000, gamma=1e-05, score=0.409091, total=   0.0s\n",
      "[CV] kernel=rbf, C=1000, gamma=1e-05 .................................\n",
      "[CV] .. kernel=rbf, C=1000, gamma=1e-05, score=0.428571, total=   0.0s\n",
      "Cannot save trained svm model to model.model\n",
      "\n",
      "Best parameters set:\n",
      "SVC(C=1, cache_size=200, class_weight=None, coef0=0.0,\n",
      "  decision_function_shape=None, degree=3, gamma='auto', kernel='linear',\n",
      "  max_iter=-1, probability=True, random_state=None, shrinking=True,\n",
      "  tol=0.001, verbose=False)\n",
      "\n",
      "Confusion matrix:\n",
      "Labels: 0,1,10,2\n",
      "\n",
      "[[6 0 0 0]\n",
      " [0 5 4 1]\n",
      " [0 0 1 0]\n",
      " [1 1 1 3]]\n",
      "\n",
      "Classification report:\n",
      "             precision    recall  f1-score   support\n",
      "\n",
      "          0       0.86      1.00      0.92         6\n",
      "          1       0.83      0.50      0.62        10\n",
      "         10       0.17      1.00      0.29         1\n",
      "          2       0.75      0.50      0.60         6\n",
      "\n",
      "avg / total       0.79      0.65      0.68        23\n",
      "\n"
     ]
    },
    {
     "name": "stderr",
     "output_type": "stream",
     "text": [
      "[Parallel(n_jobs=1)]: Done  60 out of  60 | elapsed:    2.0s finished\n"
     ]
    },
    {
     "data": {
      "text/plain": [
       "GridSearchCV(cv=3, error_score='raise',\n",
       "       estimator=SVC(C=1.0, cache_size=200, class_weight=None, coef0=0.0,\n",
       "  decision_function_shape=None, degree=3, gamma='auto', kernel='rbf',\n",
       "  max_iter=-1, probability=True, random_state=None, shrinking=True,\n",
       "  tol=0.001, verbose=False),\n",
       "       fit_params={}, iid=True, n_jobs=1,\n",
       "       param_grid=[{'kernel': ['linear'], 'C': [1, 10, 100, 1000]}, {'kernel': ['rbf'], 'C': [1, 10, 100, 1000], 'gamma': [0.01, 0.001, 0.0001, 1e-05]}],\n",
       "       pre_dispatch='2*n_jobs', refit=True, return_train_score=True,\n",
       "       scoring=None, verbose=3)"
      ]
     },
     "execution_count": 15,
     "metadata": {},
     "output_type": "execute_result"
    }
   ],
   "source": [
    "train_svm_classifier(features_all, labels_all, sns_all, 'model.model', split=True)"
   ]
  },
  {
   "cell_type": "code",
   "execution_count": 6,
   "metadata": {
    "collapsed": false
   },
   "outputs": [
    {
     "name": "stdout",
     "output_type": "stream",
     "text": [
      "the number of class 1 is 29\n",
      "the number of class 10 is 21\n",
      "the number of class 2 is 24\n",
      "the number of class 0 is 15\n"
     ]
    }
   ],
   "source": [
    "for label_class in set(labels_all):\n",
    "    sns_in_label = sns_all[labels_all == label_class]\n",
    "    print 'the number of class {} is {}'.format(label_class, len(sns_in_label))\n",
    "    #for sn in set(sns_in_label):\n",
    "        # print '\\tthe number of S\\N {}:{}'.format(sn, len(sns_all[(labels_all == label_class) & (sns_all == sn)]))"
   ]
  },
  {
   "cell_type": "code",
   "execution_count": 11,
   "metadata": {
    "collapsed": false
   },
   "outputs": [
    {
     "data": {
      "text/html": [
       "\n",
       "    <div class=\"bk-root\">\n",
       "        <a href=\"http://bokeh.pydata.org\" target=\"_blank\" class=\"bk-logo bk-logo-small bk-logo-notebook\"></a>\n",
       "        <span id=\"57c72ebc-d3ad-4199-8d66-62fe16b55f51\">Loading BokehJS ...</span>\n",
       "    </div>"
      ]
     },
     "metadata": {},
     "output_type": "display_data"
    },
    {
     "data": {
      "application/javascript": [
       "\n",
       "(function(global) {\n",
       "  function now() {\n",
       "    return new Date();\n",
       "  }\n",
       "\n",
       "  var force = \"1\";\n",
       "\n",
       "  if (typeof (window._bokeh_onload_callbacks) === \"undefined\" || force !== \"\") {\n",
       "    window._bokeh_onload_callbacks = [];\n",
       "    window._bokeh_is_loading = undefined;\n",
       "  }\n",
       "\n",
       "\n",
       "  \n",
       "  if (typeof (window._bokeh_timeout) === \"undefined\" || force !== \"\") {\n",
       "    window._bokeh_timeout = Date.now() + 5000;\n",
       "    window._bokeh_failed_load = false;\n",
       "  }\n",
       "\n",
       "  var NB_LOAD_WARNING = {'data': {'text/html':\n",
       "     \"<div style='background-color: #fdd'>\\n\"+\n",
       "     \"<p>\\n\"+\n",
       "     \"BokehJS does not appear to have successfully loaded. If loading BokehJS from CDN, this \\n\"+\n",
       "     \"may be due to a slow or bad network connection. Possible fixes:\\n\"+\n",
       "     \"</p>\\n\"+\n",
       "     \"<ul>\\n\"+\n",
       "     \"<li>re-rerun `output_notebook()` to attempt to load from CDN again, or</li>\\n\"+\n",
       "     \"<li>use INLINE resources instead, as so:</li>\\n\"+\n",
       "     \"</ul>\\n\"+\n",
       "     \"<code>\\n\"+\n",
       "     \"from bokeh.resources import INLINE\\n\"+\n",
       "     \"output_notebook(resources=INLINE)\\n\"+\n",
       "     \"</code>\\n\"+\n",
       "     \"</div>\"}};\n",
       "\n",
       "  function display_loaded() {\n",
       "    if (window.Bokeh !== undefined) {\n",
       "      Bokeh.$(\"#57c72ebc-d3ad-4199-8d66-62fe16b55f51\").text(\"BokehJS successfully loaded.\");\n",
       "    } else if (Date.now() < window._bokeh_timeout) {\n",
       "      setTimeout(display_loaded, 100)\n",
       "    }\n",
       "  }\n",
       "\n",
       "  function run_callbacks() {\n",
       "    window._bokeh_onload_callbacks.forEach(function(callback) { callback() });\n",
       "    delete window._bokeh_onload_callbacks\n",
       "    console.info(\"Bokeh: all callbacks have finished\");\n",
       "  }\n",
       "\n",
       "  function load_libs(js_urls, callback) {\n",
       "    window._bokeh_onload_callbacks.push(callback);\n",
       "    if (window._bokeh_is_loading > 0) {\n",
       "      console.log(\"Bokeh: BokehJS is being loaded, scheduling callback at\", now());\n",
       "      return null;\n",
       "    }\n",
       "    if (js_urls == null || js_urls.length === 0) {\n",
       "      run_callbacks();\n",
       "      return null;\n",
       "    }\n",
       "    console.log(\"Bokeh: BokehJS not loaded, scheduling load and callback at\", now());\n",
       "    window._bokeh_is_loading = js_urls.length;\n",
       "    for (var i = 0; i < js_urls.length; i++) {\n",
       "      var url = js_urls[i];\n",
       "      var s = document.createElement('script');\n",
       "      s.src = url;\n",
       "      s.async = false;\n",
       "      s.onreadystatechange = s.onload = function() {\n",
       "        window._bokeh_is_loading--;\n",
       "        if (window._bokeh_is_loading === 0) {\n",
       "          console.log(\"Bokeh: all BokehJS libraries loaded\");\n",
       "          run_callbacks()\n",
       "        }\n",
       "      };\n",
       "      s.onerror = function() {\n",
       "        console.warn(\"failed to load library \" + url);\n",
       "      };\n",
       "      console.log(\"Bokeh: injecting script tag for BokehJS library: \", url);\n",
       "      document.getElementsByTagName(\"head\")[0].appendChild(s);\n",
       "    }\n",
       "  };var element = document.getElementById(\"57c72ebc-d3ad-4199-8d66-62fe16b55f51\");\n",
       "  if (element == null) {\n",
       "    console.log(\"Bokeh: ERROR: autoload.js configured with elementid '57c72ebc-d3ad-4199-8d66-62fe16b55f51' but no matching script tag was found. \")\n",
       "    return false;\n",
       "  }\n",
       "\n",
       "  var js_urls = ['https://cdn.pydata.org/bokeh/release/bokeh-0.12.3.min.js', 'https://cdn.pydata.org/bokeh/release/bokeh-widgets-0.12.3.min.js'];\n",
       "\n",
       "  var inline_js = [\n",
       "    function(Bokeh) {\n",
       "      Bokeh.set_log_level(\"info\");\n",
       "    },\n",
       "    \n",
       "    function(Bokeh) {\n",
       "      \n",
       "      Bokeh.$(\"#57c72ebc-d3ad-4199-8d66-62fe16b55f51\").text(\"BokehJS is loading...\");\n",
       "    },\n",
       "    function(Bokeh) {\n",
       "      console.log(\"Bokeh: injecting CSS: https://cdn.pydata.org/bokeh/release/bokeh-0.12.3.min.css\");\n",
       "      Bokeh.embed.inject_css(\"https://cdn.pydata.org/bokeh/release/bokeh-0.12.3.min.css\");\n",
       "      console.log(\"Bokeh: injecting CSS: https://cdn.pydata.org/bokeh/release/bokeh-widgets-0.12.3.min.css\");\n",
       "      Bokeh.embed.inject_css(\"https://cdn.pydata.org/bokeh/release/bokeh-widgets-0.12.3.min.css\");\n",
       "    }\n",
       "  ];\n",
       "\n",
       "  function run_inline_js() {\n",
       "    \n",
       "    if ((window.Bokeh !== undefined) || (force === \"1\")) {\n",
       "      for (var i = 0; i < inline_js.length; i++) {\n",
       "        inline_js[i](window.Bokeh);\n",
       "      }if (force === \"1\") {\n",
       "        display_loaded();\n",
       "      }} else if (Date.now() < window._bokeh_timeout) {\n",
       "      setTimeout(run_inline_js, 100);\n",
       "    } else if (!window._bokeh_failed_load) {\n",
       "      console.log(\"Bokeh: BokehJS failed to load within specified timeout.\");\n",
       "      window._bokeh_failed_load = true;\n",
       "    } else if (!force) {\n",
       "      var cell = $(\"#57c72ebc-d3ad-4199-8d66-62fe16b55f51\").parents('.cell').data().cell;\n",
       "      cell.output_area.append_execute_result(NB_LOAD_WARNING)\n",
       "    }\n",
       "\n",
       "  }\n",
       "\n",
       "  if (window._bokeh_is_loading === 0) {\n",
       "    console.log(\"Bokeh: BokehJS loaded, going straight to plotting\");\n",
       "    run_inline_js();\n",
       "  } else {\n",
       "    load_libs(js_urls, function() {\n",
       "      console.log(\"Bokeh: BokehJS plotting callback run at\", now());\n",
       "      run_inline_js();\n",
       "    });\n",
       "  }\n",
       "}(this));"
      ]
     },
     "metadata": {},
     "output_type": "display_data"
    }
   ],
   "source": [
    "from bokeh.plotting import figure, output_notebook\n",
    "output_notebook()\n",
    "from bokeh.plotting import figure, show\n",
    "from tsne import bh_sne"
   ]
  },
  {
   "cell_type": "code",
   "execution_count": 13,
   "metadata": {
    "collapsed": false
   },
   "outputs": [
    {
     "data": {
      "text/html": [
       "\n",
       "\n",
       "    <div class=\"bk-root\">\n",
       "        <div class=\"plotdiv\" id=\"e8050550-f74f-448a-86a7-549bc7b6a374\"></div>\n",
       "    </div>\n",
       "<script type=\"text/javascript\">\n",
       "  \n",
       "  (function(global) {\n",
       "    function now() {\n",
       "      return new Date();\n",
       "    }\n",
       "  \n",
       "    var force = \"\";\n",
       "  \n",
       "    if (typeof (window._bokeh_onload_callbacks) === \"undefined\" || force !== \"\") {\n",
       "      window._bokeh_onload_callbacks = [];\n",
       "      window._bokeh_is_loading = undefined;\n",
       "    }\n",
       "  \n",
       "  \n",
       "    \n",
       "    if (typeof (window._bokeh_timeout) === \"undefined\" || force !== \"\") {\n",
       "      window._bokeh_timeout = Date.now() + 0;\n",
       "      window._bokeh_failed_load = false;\n",
       "    }\n",
       "  \n",
       "    var NB_LOAD_WARNING = {'data': {'text/html':\n",
       "       \"<div style='background-color: #fdd'>\\n\"+\n",
       "       \"<p>\\n\"+\n",
       "       \"BokehJS does not appear to have successfully loaded. If loading BokehJS from CDN, this \\n\"+\n",
       "       \"may be due to a slow or bad network connection. Possible fixes:\\n\"+\n",
       "       \"</p>\\n\"+\n",
       "       \"<ul>\\n\"+\n",
       "       \"<li>re-rerun `output_notebook()` to attempt to load from CDN again, or</li>\\n\"+\n",
       "       \"<li>use INLINE resources instead, as so:</li>\\n\"+\n",
       "       \"</ul>\\n\"+\n",
       "       \"<code>\\n\"+\n",
       "       \"from bokeh.resources import INLINE\\n\"+\n",
       "       \"output_notebook(resources=INLINE)\\n\"+\n",
       "       \"</code>\\n\"+\n",
       "       \"</div>\"}};\n",
       "  \n",
       "    function display_loaded() {\n",
       "      if (window.Bokeh !== undefined) {\n",
       "        Bokeh.$(\"#e8050550-f74f-448a-86a7-549bc7b6a374\").text(\"BokehJS successfully loaded.\");\n",
       "      } else if (Date.now() < window._bokeh_timeout) {\n",
       "        setTimeout(display_loaded, 100)\n",
       "      }\n",
       "    }\n",
       "  \n",
       "    function run_callbacks() {\n",
       "      window._bokeh_onload_callbacks.forEach(function(callback) { callback() });\n",
       "      delete window._bokeh_onload_callbacks\n",
       "      console.info(\"Bokeh: all callbacks have finished\");\n",
       "    }\n",
       "  \n",
       "    function load_libs(js_urls, callback) {\n",
       "      window._bokeh_onload_callbacks.push(callback);\n",
       "      if (window._bokeh_is_loading > 0) {\n",
       "        console.log(\"Bokeh: BokehJS is being loaded, scheduling callback at\", now());\n",
       "        return null;\n",
       "      }\n",
       "      if (js_urls == null || js_urls.length === 0) {\n",
       "        run_callbacks();\n",
       "        return null;\n",
       "      }\n",
       "      console.log(\"Bokeh: BokehJS not loaded, scheduling load and callback at\", now());\n",
       "      window._bokeh_is_loading = js_urls.length;\n",
       "      for (var i = 0; i < js_urls.length; i++) {\n",
       "        var url = js_urls[i];\n",
       "        var s = document.createElement('script');\n",
       "        s.src = url;\n",
       "        s.async = false;\n",
       "        s.onreadystatechange = s.onload = function() {\n",
       "          window._bokeh_is_loading--;\n",
       "          if (window._bokeh_is_loading === 0) {\n",
       "            console.log(\"Bokeh: all BokehJS libraries loaded\");\n",
       "            run_callbacks()\n",
       "          }\n",
       "        };\n",
       "        s.onerror = function() {\n",
       "          console.warn(\"failed to load library \" + url);\n",
       "        };\n",
       "        console.log(\"Bokeh: injecting script tag for BokehJS library: \", url);\n",
       "        document.getElementsByTagName(\"head\")[0].appendChild(s);\n",
       "      }\n",
       "    };var element = document.getElementById(\"e8050550-f74f-448a-86a7-549bc7b6a374\");\n",
       "    if (element == null) {\n",
       "      console.log(\"Bokeh: ERROR: autoload.js configured with elementid 'e8050550-f74f-448a-86a7-549bc7b6a374' but no matching script tag was found. \")\n",
       "      return false;\n",
       "    }\n",
       "  \n",
       "    var js_urls = [];\n",
       "  \n",
       "    var inline_js = [\n",
       "      function(Bokeh) {\n",
       "        Bokeh.$(function() {\n",
       "            var docs_json = {\"2d0cb460-9a3c-4802-875c-118496ba124e\":{\"roots\":{\"references\":[{\"attributes\":{\"fill_alpha\":{\"value\":0.1},\"fill_color\":{\"value\":\"#1f77b4\"},\"line_alpha\":{\"value\":0.1},\"line_color\":{\"value\":\"#1f77b4\"},\"size\":{\"units\":\"screen\",\"value\":20},\"x\":{\"field\":\"x\"},\"y\":{\"field\":\"y\"}},\"id\":\"856ebfab-b1a1-4267-abf5-cac1cfe7f922\",\"type\":\"Circle\"},{\"attributes\":{},\"id\":\"880495ee-eefa-4290-9fbc-90ab93af8194\",\"type\":\"BasicTickFormatter\"},{\"attributes\":{\"fill_alpha\":{\"value\":0.1},\"fill_color\":{\"value\":\"#1f77b4\"},\"line_alpha\":{\"value\":0.1},\"line_color\":{\"value\":\"#1f77b4\"},\"size\":{\"units\":\"screen\",\"value\":20},\"x\":{\"field\":\"x\"},\"y\":{\"field\":\"y\"}},\"id\":\"0a124317-9a1a-4624-858e-339751946fa2\",\"type\":\"Circle\"},{\"attributes\":{\"data_source\":{\"id\":\"26bfddb0-2d4b-47bb-b30c-db02ea4c172a\",\"type\":\"ColumnDataSource\"},\"glyph\":{\"id\":\"f059ad2e-5ef7-4557-aff4-f83d0134a384\",\"type\":\"Circle\"},\"hover_glyph\":null,\"nonselection_glyph\":{\"id\":\"ed3384ab-e58f-487e-ad27-c98e0a6a06ee\",\"type\":\"Circle\"},\"selection_glyph\":null},\"id\":\"bd1193d1-860c-4c37-b1bf-041483d58bc2\",\"type\":\"GlyphRenderer\"},{\"attributes\":{\"callback\":null,\"column_names\":[\"imgs\",\"y\",\"desc\",\"x\"],\"data\":{\"desc\":[\"F3Y64911UELGY4TA\",\"F3Y64960KC2H3RNA\",\"F3Y65031BWQH3RPA\",\"F3Y65031BWRH3RPA\",\"F3Y65031BWSH3RPA\",\"F3Y65031BWTH3RPA\",\"F3Y650503F3H3RQC\",\"F3Y650503F5H3RQC\",\"F3Y650503F6H3RQC\",\"F3Y65050AJ0GY4RB\",\"F3Y65050AJ3GY4RB\",\"F3Y65050FUXGY4TB\",\"F3Y65050PJRH3RQC\",\"F3Y65050PJTH3RQC\",\"F3Y65050PJUH3RQC\",\"F3Y650603EMGY4TB\",\"F3Y650603FKGY4TB\",\"F3Y650603PDGY4TB\",\"F3Y650603TNGY4TB\",\"F3Y650606DKGY4TB\",\"F3Y64930GUBGY4TA\",\"F3Y64930GUEGY4TA\",\"F3Y64940DWVH3RPA\",\"F3Y64950Q8UGY4TA\"],\"imgs\":[\"./ben1214/J3801/8A/J3801_8A_c2/F3Y64911UELGY4TA 8AAAAAA_0.jpg\",\"./ben1214/J3801/8A/J3801_8A_c2/F3Y64960KC2H3RNA 8AAAAAA_0.jpg\",\"./ben1214/J3801/8A/J3801_8A_c2/F3Y65031BWQH3RPA 8AAAAAA_0.jpg\",\"./ben1214/J3801/8A/J3801_8A_c2/F3Y65031BWRH3RPA 8AAAAAA_0.jpg\",\"./ben1214/J3801/8A/J3801_8A_c2/F3Y65031BWSH3RPA 8AAAAAA_0.jpg\",\"./ben1214/J3801/8A/J3801_8A_c2/F3Y65031BWTH3RPA 8AAAAAA_0.jpg\",\"./ben1214/J3801/8A/J3801_8A_c2/F3Y650503F3H3RQC 8AAAAAA_0.jpg\",\"./ben1214/J3801/8A/J3801_8A_c2/F3Y650503F5H3RQC 8AAAAAA_0.jpg\",\"./ben1214/J3801/8A/J3801_8A_c2/F3Y650503F6H3RQC 8AAAAAA_0.jpg\",\"./ben1214/J3801/8A/J3801_8A_c2/F3Y65050AJ0GY4RB 8AAAAAA_0.jpg\",\"./ben1214/J3801/8A/J3801_8A_c2/F3Y65050AJ3GY4RB 8AAAAAA_0.jpg\",\"./ben1214/J3801/8A/J3801_8A_c2/F3Y65050FUXGY4TB 8AAAAAA_0.jpg\",\"./ben1214/J3801/8A/J3801_8A_c2/F3Y65050PJRH3RQC 8AAAAAA_0.jpg\",\"./ben1214/J3801/8A/J3801_8A_c2/F3Y65050PJTH3RQC 8AAAAAA_0.jpg\",\"./ben1214/J3801/8A/J3801_8A_c2/F3Y65050PJUH3RQC 8AAAAAA_0.jpg\",\"./ben1214/J3801/8A/J3801_8A_c2/F3Y650603EMGY4TB 8AAAAAA_0.jpg\",\"./ben1214/J3801/8A/J3801_8A_c2/F3Y650603FKGY4TB 8AAAAAA_0.jpg\",\"./ben1214/J3801/8A/J3801_8A_c2/F3Y650603PDGY4TB 8AAAAAA_0.jpg\",\"./ben1214/J3801/8A/J3801_8A_c2/F3Y650603TNGY4TB 8AAAAAA_0.jpg\",\"./ben1214/J3801/8A/J3801_8A_c2/F3Y650606DKGY4TB 8AAAAAA_0.jpg\",\"./defect_tensors_D10/J3801/8A/J3801_8A_c2/F3Y64930GUBGY4TA 8AAAAAA_0.jpg\",\"./defect_tensors_D10/J3801/8A/J3801_8A_c2/F3Y64930GUEGY4TA 8AAAAAA_0.jpg\",\"./defect_tensors_D10/J3801/8A/J3801_8A_c2/F3Y64940DWVH3RPA 8AAAAAA_0.jpg\",\"./defect_tensors_D10/J3801/8A/J3801_8A_c2/F3Y64950Q8UGY4TA 8AAAAAA_0.jpg\"],\"x\":[4.877516127676177,0.5808838160660673,4.235844083783911,2.734887718458177,-4.345857125538958,-2.3579734729726054,1.4475191867726795,2.341875414330722,3.8617586031016136,-5.273778627342411,4.507130503913642,-7.013725718068682,2.552711630255502,-4.269515655816871,-1.4104629622654978,6.557857507674995,5.796973605039855,-2.4779412740390736,-3.6782999029309735,-2.652971332949774,12.906265028498437,4.174589727998711,-21.646978794325793,-0.41866591301062733],\"y\":[4.090662382601834,-4.15420092649426,-13.536752844682265,-12.642833969985057,1.8854621010837662,0.8816449605461013,0.8172830434500747,2.889543580901212,3.6765545369114525,-0.5635106228940674,0.3800571508745178,-0.40055603852249466,-5.812470205719683,0.5323253166124571,-12.943462500815574,1.1362532875863292,-0.9859062604825688,-0.04288555119317222,-0.4178903068252822,-1.0644328324176804,11.143452263602153,-2.3968065068365014,14.48556094185514,-6.236218789205799]}},\"id\":\"4b1bda6e-4b4a-4967-9466-f1b0b3ae2657\",\"type\":\"ColumnDataSource\"},{\"attributes\":{\"data_source\":{\"id\":\"4b1bda6e-4b4a-4967-9466-f1b0b3ae2657\",\"type\":\"ColumnDataSource\"},\"glyph\":{\"id\":\"5742c323-31fe-4a09-b58d-ba0b22ce93ac\",\"type\":\"Circle\"},\"hover_glyph\":null,\"nonselection_glyph\":{\"id\":\"2801b74c-8530-43a1-a684-8a18ee386cca\",\"type\":\"Circle\"},\"selection_glyph\":null},\"id\":\"cd84544b-8138-4e54-abce-95eb09fe8356\",\"type\":\"GlyphRenderer\"},{\"attributes\":{\"formatter\":{\"id\":\"db7678ac-c99c-4c5d-8bc1-8dcb32c833d1\",\"type\":\"BasicTickFormatter\"},\"plot\":{\"id\":\"3dc2ccb2-5aeb-4f69-ad41-130730980be3\",\"subtype\":\"Figure\",\"type\":\"Plot\"},\"ticker\":{\"id\":\"4fd7c88f-104a-45d9-9d10-de4d11b9fa70\",\"type\":\"BasicTicker\"}},\"id\":\"cba2a387-6d31-41b0-a029-2a513985cd51\",\"type\":\"LinearAxis\"},{\"attributes\":{\"callback\":null,\"column_names\":[\"imgs\",\"y\",\"desc\",\"x\"],\"data\":{\"desc\":[\"F3Y636300BHGY4T9\",\"F3Y64731A3BH3RPA\",\"F3Y648700P9GY2VA\",\"F3Y64960GUMH3RNA\",\"F3Y65012P44GY4TA\",\"F3Y65012P56GY4TA\",\"F3Y65020115H3RNA\",\"F3Y65020AQ6H3RNA\",\"F3Y65020AQ7H3RNA\",\"F3Y65020AQEH3RNA\",\"F3Y650300HJH3RNA\",\"F3Y650300HMH3RNA\",\"F3Y6503063AGY4TA\",\"F3Y650310KVGY4TA\",\"F3Y65040YDLGY4TA\",\"F3Y65040YG8GY4TA\",\"F3Y65040ZUMGY4TA\",\"F3Y65040ZV4GY4TA\",\"F3Y650410V9GY4TA\",\"F3Y650411LHGY4TA\",\"F3Y650505D0GY4TB\",\"F3Y650505R7GY4TB\",\"F3Y65050749GY4TB\",\"F3Y650507FGGY4TB\",\"F3Y650507JAGY4TB\",\"F3Y6505081HGY4TB\",\"F3Y65050ESCGY4TB\",\"F3Y649519FXGY4TA\",\"F3Y649519G0GY4TA\"],\"imgs\":[\"./ben1214/J3801/8A/J3801_8A_c1/F3Y636300BHGY4T9 8AAAAAA_0.jpg\",\"./ben1214/J3801/8A/J3801_8A_c1/F3Y64731A3BH3RPA 8AAAAAA_0.jpg\",\"./ben1214/J3801/8A/J3801_8A_c1/F3Y648700P9GY2VA 8AAAAAA_0.jpg\",\"./ben1214/J3801/8A/J3801_8A_c1/F3Y64960GUMH3RNA 8AAAAAA_0.jpg\",\"./ben1214/J3801/8A/J3801_8A_c1/F3Y65012P44GY4TA 8AAAAAA_0.jpg\",\"./ben1214/J3801/8A/J3801_8A_c1/F3Y65012P56GY4TA 8AAAAAA_0.jpg\",\"./ben1214/J3801/8A/J3801_8A_c1/F3Y65020115H3RNA 8AAAAAA_0.jpg\",\"./ben1214/J3801/8A/J3801_8A_c1/F3Y65020AQ6H3RNA 8AAAAAA_0.jpg\",\"./ben1214/J3801/8A/J3801_8A_c1/F3Y65020AQ7H3RNA 8AAAAAA_0.jpg\",\"./ben1214/J3801/8A/J3801_8A_c1/F3Y65020AQEH3RNA 8AAAAAA_0.jpg\",\"./ben1214/J3801/8A/J3801_8A_c1/F3Y650300HJH3RNA 8AAAAAA_0.jpg\",\"./ben1214/J3801/8A/J3801_8A_c1/F3Y650300HMH3RNA 8AAAAAA_0.jpg\",\"./ben1214/J3801/8A/J3801_8A_c1/F3Y6503063AGY4TA 8AAAAAA_0.jpg\",\"./ben1214/J3801/8A/J3801_8A_c1/F3Y650310KVGY4TA 8AAAAAA_0.jpg\",\"./ben1214/J3801/8A/J3801_8A_c1/F3Y65040YDLGY4TA 8AAAAAA_0.jpg\",\"./ben1214/J3801/8A/J3801_8A_c1/F3Y65040YG8GY4TA 8AAAAAA_0.jpg\",\"./ben1214/J3801/8A/J3801_8A_c1/F3Y65040ZUMGY4TA 8AAAAAA_0.jpg\",\"./ben1214/J3801/8A/J3801_8A_c1/F3Y65040ZV4GY4TA 8AAAAAA_0.jpg\",\"./ben1214/J3801/8A/J3801_8A_c1/F3Y650410V9GY4TA 8AAAAAA_0.jpg\",\"./ben1214/J3801/8A/J3801_8A_c1/F3Y650411LHGY4TA 8AAAAAA_0.jpg\",\"./ben1214/J3801/8A/J3801_8A_c1/F3Y650505D0GY4TB 8AAAAAA_0.jpg\",\"./ben1214/J3801/8A/J3801_8A_c1/F3Y650505R7GY4TB 8AAAAAA_0.jpg\",\"./ben1214/J3801/8A/J3801_8A_c1/F3Y65050749GY4TB 8AAAAAA_0.jpg\",\"./ben1214/J3801/8A/J3801_8A_c1/F3Y650507FGGY4TB 8AAAAAA_0.jpg\",\"./ben1214/J3801/8A/J3801_8A_c1/F3Y650507JAGY4TB 8AAAAAA_0.jpg\",\"./ben1214/J3801/8A/J3801_8A_c1/F3Y6505081HGY4TB 8AAAAAA_0.jpg\",\"./ben1214/J3801/8A/J3801_8A_c1/F3Y65050ESCGY4TB 8AAAAAA_0.jpg\",\"./defect_tensors_D10/J3801/8A/J3801_8A_c1/F3Y649519FXGY4TA 8AAAAAA_0.jpg\",\"./defect_tensors_D10/J3801/8A/J3801_8A_c1/F3Y649519G0GY4TA 8AAAAAA_0.jpg\"],\"x\":[0.5038800832756161,11.73779131755733,9.529091698136595,-7.369450840836169,2.710599007905424,9.458818091486657,0.8549148634939875,10.970497764289437,-2.2665139920090915,8.291863519969928,-1.4961094716865941,-0.4841998812880972,4.498963652802916,2.511813021112346,-1.2059170636753225,0.5836121983366458,7.80599958635816,5.636271654836013,-0.008033495866183191,8.320620911936746,8.094549346695475,7.749030476728708,1.1629802241175782,-1.8388599479656436,0.8280621600072375,-2.9179948911197315,1.587569805788555,-1.3072605045918473,-1.8548490685753374],\"y\":[-13.094579771553796,-4.517238647088342,-3.7353336679839932,1.6582820975202872,-11.147559935958972,-0.3314072626227062,-1.4033825785949732,-4.370074842697827,-12.649668139122898,1.3043750151626319,2.396625503057931,5.162143508983709,-6.040140794752835,-2.335588337462284,-11.454402082917577,-11.825558863376274,0.2676335670473686,-4.11258874343058,-9.587072089607318,-2.1678643097630834,-1.8334565279780275,-0.29783554308953947,-11.055596073273428,-3.5801481055880098,-6.349901876911289,-2.3554040457063135,-3.1580607435372197,-6.8372723134428774,-7.365907844090467]}},\"id\":\"b136a55e-d4ff-408d-99a2-9249d7eef1f2\",\"type\":\"ColumnDataSource\"},{\"attributes\":{\"data_source\":{\"id\":\"b136a55e-d4ff-408d-99a2-9249d7eef1f2\",\"type\":\"ColumnDataSource\"},\"glyph\":{\"id\":\"5a59c447-ab19-40d3-8f8f-3ed507b0b624\",\"type\":\"Circle\"},\"hover_glyph\":null,\"nonselection_glyph\":{\"id\":\"0a124317-9a1a-4624-858e-339751946fa2\",\"type\":\"Circle\"},\"selection_glyph\":null},\"id\":\"0742c47b-7472-4fa9-8e4e-22d916903c68\",\"type\":\"GlyphRenderer\"},{\"attributes\":{},\"id\":\"db7678ac-c99c-4c5d-8bc1-8dcb32c833d1\",\"type\":\"BasicTickFormatter\"},{\"attributes\":{\"callback\":null,\"column_names\":[\"imgs\",\"y\",\"desc\",\"x\"],\"data\":{\"desc\":[\"0\",\"1\",\"10\",\"11\",\"12\",\"13\",\"14\",\"2\",\"3\",\"4\",\"5\",\"6\",\"7\",\"8\",\"9\"],\"imgs\":[\"./defect_tensors_D10/J3801/8A/J3801_8A_c0/0 8AAAAAA_0.jpg\",\"./defect_tensors_D10/J3801/8A/J3801_8A_c0/1 8AAAAAA_0.jpg\",\"./defect_tensors_D10/J3801/8A/J3801_8A_c0/10 8AAAAAA_0.jpg\",\"./defect_tensors_D10/J3801/8A/J3801_8A_c0/11 8AAAAAA_0.jpg\",\"./defect_tensors_D10/J3801/8A/J3801_8A_c0/12 8AAAAAA_0.jpg\",\"./defect_tensors_D10/J3801/8A/J3801_8A_c0/13 8AAAAAA_0.jpg\",\"./defect_tensors_D10/J3801/8A/J3801_8A_c0/14 8AAAAAA_0.jpg\",\"./defect_tensors_D10/J3801/8A/J3801_8A_c0/2 8AAAAAA_0.jpg\",\"./defect_tensors_D10/J3801/8A/J3801_8A_c0/3 8AAAAAA_0.jpg\",\"./defect_tensors_D10/J3801/8A/J3801_8A_c0/4 8AAAAAA_0.jpg\",\"./defect_tensors_D10/J3801/8A/J3801_8A_c0/5 8AAAAAA_0.jpg\",\"./defect_tensors_D10/J3801/8A/J3801_8A_c0/6 8AAAAAA_0.jpg\",\"./defect_tensors_D10/J3801/8A/J3801_8A_c0/7 8AAAAAA_0.jpg\",\"./defect_tensors_D10/J3801/8A/J3801_8A_c0/8 8AAAAAA_0.jpg\",\"./defect_tensors_D10/J3801/8A/J3801_8A_c0/9 8AAAAAA_0.jpg\"],\"x\":[-21.032082416719266,-21.141977551095874,13.902225556655825,13.792201252832253,-22.53184229821732,-24.784552242626656,-22.884788942542375,-19.877239133178556,-23.38638466140109,-23.076697202330205,-21.67053953745275,15.367899110074324,14.792099749932314,-22.311987209025833,14.385125510598382],\"y\":[16.87039446914154,15.586032855651737,10.123924917754886,9.26225828858472,17.696329940150072,17.699287987683153,16.567722113051808,16.77399449058511,16.337511688468847,17.98022300268395,18.091484447863866,8.733159328455807,9.167480839805073,15.957002503889177,10.32245932044962]}},\"id\":\"d8017b3e-6190-485a-9545-dd8cf95bd838\",\"type\":\"ColumnDataSource\"},{\"attributes\":{\"data_source\":{\"id\":\"d8017b3e-6190-485a-9545-dd8cf95bd838\",\"type\":\"ColumnDataSource\"},\"glyph\":{\"id\":\"326f468b-06b1-4884-b128-d2ee1ae19d21\",\"type\":\"Circle\"},\"hover_glyph\":null,\"nonselection_glyph\":{\"id\":\"856ebfab-b1a1-4267-abf5-cac1cfe7f922\",\"type\":\"Circle\"},\"selection_glyph\":null},\"id\":\"df0f01db-284f-4032-9a1f-2df93f10c7d8\",\"type\":\"GlyphRenderer\"},{\"attributes\":{\"active_drag\":\"auto\",\"active_scroll\":\"auto\",\"active_tap\":\"auto\",\"tools\":[{\"id\":\"757d79eb-ed80-44ce-96b2-03904d60066a\",\"type\":\"HoverTool\"}]},\"id\":\"81a0e334-580f-4bde-ba23-9db330f7b2d4\",\"type\":\"Toolbar\"},{\"attributes\":{\"fill_alpha\":{\"value\":0.5},\"fill_color\":{\"value\":\"red\"},\"line_alpha\":{\"value\":0.5},\"line_color\":{\"value\":\"red\"},\"size\":{\"units\":\"screen\",\"value\":20},\"x\":{\"field\":\"x\"},\"y\":{\"field\":\"y\"}},\"id\":\"5a59c447-ab19-40d3-8f8f-3ed507b0b624\",\"type\":\"Circle\"},{\"attributes\":{},\"id\":\"3d701575-52b4-46e0-a83c-843bbc34d152\",\"type\":\"BasicTicker\"},{\"attributes\":{\"callback\":null,\"column_names\":[\"imgs\",\"y\",\"desc\",\"x\"],\"data\":{\"desc\":[\"F3Y63620E6XGY4R9\",\"F3Y636701VWGY4R0\",\"F3Y64460UC3GY4TA\",\"F3Y64760UCFGY4RA\",\"F3Y647703YJGY4RA\",\"F3Y647705ZZGY4RA\",\"F3Y6477074RGY4RA\",\"F3Y648605PEH3RPA\",\"F3Y649305SZGY4TA\",\"F3Y64961JDTGY4TA\",\"F3Y649705VZH3RPA\",\"F3Y649705W0H3RPA\",\"F3Y64970658H3RPA\",\"F3Y65010VE9H3RPA\",\"F3Y6501181NH3RPA\",\"F3Y650202XDH3RPA\",\"F3Y6502055TH3RPA\",\"F3Y650610DHGY4TB\",\"F3Y649607RPGY4TA\",\"F3Y649607RQGY4TA\",\"F3Y64960EUFGY4TA\"],\"imgs\":[\"./ben1214/J3801/8A/J3801_8A_c10/F3Y63620E6XGY4R9 8AAAAAA_0.jpg\",\"./ben1214/J3801/8A/J3801_8A_c10/F3Y636701VWGY4R0 8AAAAAA_0.jpg\",\"./ben1214/J3801/8A/J3801_8A_c10/F3Y64460UC3GY4TA 8AAAAAA_0.jpg\",\"./ben1214/J3801/8A/J3801_8A_c10/F3Y64760UCFGY4RA 8AAAAAA_0.jpg\",\"./ben1214/J3801/8A/J3801_8A_c10/F3Y647703YJGY4RA 8AAAAAA_0.jpg\",\"./ben1214/J3801/8A/J3801_8A_c10/F3Y647705ZZGY4RA 8AAAAAA_0.jpg\",\"./ben1214/J3801/8A/J3801_8A_c10/F3Y6477074RGY4RA 8AAAAAA_0.jpg\",\"./ben1214/J3801/8A/J3801_8A_c10/F3Y648605PEH3RPA 8AAAAAA_0.jpg\",\"./ben1214/J3801/8A/J3801_8A_c10/F3Y649305SZGY4TA 8AAAAAA_0.jpg\",\"./ben1214/J3801/8A/J3801_8A_c10/F3Y64961JDTGY4TA 8AAAAAA_0.jpg\",\"./ben1214/J3801/8A/J3801_8A_c10/F3Y649705VZH3RPA 8AAAAAA_0.jpg\",\"./ben1214/J3801/8A/J3801_8A_c10/F3Y649705W0H3RPA 8AAAAAA_0.jpg\",\"./ben1214/J3801/8A/J3801_8A_c10/F3Y64970658H3RPA 8AAAAAA_0.jpg\",\"./ben1214/J3801/8A/J3801_8A_c10/F3Y65010VE9H3RPA 8AAAAAA_0.jpg\",\"./ben1214/J3801/8A/J3801_8A_c10/F3Y6501181NH3RPA 8AAAAAA_0.jpg\",\"./ben1214/J3801/8A/J3801_8A_c10/F3Y650202XDH3RPA 8AAAAAA_0.jpg\",\"./ben1214/J3801/8A/J3801_8A_c10/F3Y6502055TH3RPA 8AAAAAA_0.jpg\",\"./ben1214/J3801/8A/J3801_8A_c10/F3Y650610DHGY4TB 8AAAAAA_0.jpg\",\"./defect_tensors_D10/J3801/8A/J3801_8A_c10/F3Y649607RPGY4TA 8AAAAAA_0.jpg\",\"./defect_tensors_D10/J3801/8A/J3801_8A_c10/F3Y649607RQGY4TA 8AAAAAA_0.jpg\",\"./defect_tensors_D10/J3801/8A/J3801_8A_c10/F3Y64960EUFGY4TA 8AAAAAA_0.jpg\"],\"x\":[5.824460326523154,5.188919494959802,5.195595951214068,1.9442370937446887,8.334959889788507,8.325277913439072,4.886274510192731,-6.373400702897569,-3.6453072330248824,1.9165583905938373,-6.386975250593355,-3.8090796609485666,-5.962658013583727,5.844288601198178,-0.37435163195206067,1.6029150417527842,3.175020128933821,-7.8717291910000275,16.701684193794758,15.957191079284634,16.867276681546468],\"y\":[-2.4014746099046085,-7.1852815387424975,-9.056460587867845,-7.615841526654441,-7.386463756451184,-7.0804635701039285,-9.087407473446374,-1.3387172769225673,-11.941209988449874,-3.673437131017148,-2.28458245237357,-12.251195326511374,-2.656683276698188,-1.9933830210236316,-2.880094407069654,1.6792054048773395,-13.047765108002363,-2.49918882494175,12.044604517640616,12.10286109638916,11.479823901882563]}},\"id\":\"26bfddb0-2d4b-47bb-b30c-db02ea4c172a\",\"type\":\"ColumnDataSource\"},{\"attributes\":{\"callback\":null,\"plot\":{\"id\":\"3dc2ccb2-5aeb-4f69-ad41-130730980be3\",\"subtype\":\"Figure\",\"type\":\"Plot\"},\"tooltips\":\"\\n                <div>\\n                    <div>\\n                        <img\\n                            src=\\\"@imgs\\\" height=\\\"80\\\" alt=\\\"@imgs\\\" width=\\\"80\\\"\\n                            style=\\\"float: left; margin: 0px 15px 15px 0px;\\\"\\n                            border=\\\"2\\\"\\n                        ></img>\\n                    </div>\\n                    <div>\\n                        <span style=\\\"font-size: 17px; font-weight: bold;\\\">@desc</span>\\n                    </div>\\n                </div>\\n            \"},\"id\":\"757d79eb-ed80-44ce-96b2-03904d60066a\",\"type\":\"HoverTool\"},{\"attributes\":{},\"id\":\"ab1e8aa6-3bed-4e5a-b5f1-6d24998cad75\",\"type\":\"ToolEvents\"},{\"attributes\":{\"formatter\":{\"id\":\"880495ee-eefa-4290-9fbc-90ab93af8194\",\"type\":\"BasicTickFormatter\"},\"plot\":{\"id\":\"3dc2ccb2-5aeb-4f69-ad41-130730980be3\",\"subtype\":\"Figure\",\"type\":\"Plot\"},\"ticker\":{\"id\":\"3d701575-52b4-46e0-a83c-843bbc34d152\",\"type\":\"BasicTicker\"}},\"id\":\"fd52fe8a-0a31-4a2e-a068-17725b9094da\",\"type\":\"LinearAxis\"},{\"attributes\":{\"callback\":null},\"id\":\"aefb1db7-ccf3-438e-925b-305472f53778\",\"type\":\"DataRange1d\"},{\"attributes\":{\"plot\":{\"id\":\"3dc2ccb2-5aeb-4f69-ad41-130730980be3\",\"subtype\":\"Figure\",\"type\":\"Plot\"},\"ticker\":{\"id\":\"3d701575-52b4-46e0-a83c-843bbc34d152\",\"type\":\"BasicTicker\"}},\"id\":\"a1746aa1-9ac8-4448-9f03-3cf3ee2574b5\",\"type\":\"Grid\"},{\"attributes\":{\"fill_alpha\":{\"value\":0.5},\"fill_color\":{\"value\":\"blue\"},\"line_alpha\":{\"value\":0.5},\"line_color\":{\"value\":\"blue\"},\"size\":{\"units\":\"screen\",\"value\":20},\"x\":{\"field\":\"x\"},\"y\":{\"field\":\"y\"}},\"id\":\"f059ad2e-5ef7-4557-aff4-f83d0134a384\",\"type\":\"Circle\"},{\"attributes\":{\"fill_alpha\":{\"value\":0.1},\"fill_color\":{\"value\":\"#1f77b4\"},\"line_alpha\":{\"value\":0.1},\"line_color\":{\"value\":\"#1f77b4\"},\"size\":{\"units\":\"screen\",\"value\":20},\"x\":{\"field\":\"x\"},\"y\":{\"field\":\"y\"}},\"id\":\"2801b74c-8530-43a1-a684-8a18ee386cca\",\"type\":\"Circle\"},{\"attributes\":{\"callback\":null},\"id\":\"0feaaa07-ac35-4df0-9a3f-e3a57f4bd5ed\",\"type\":\"DataRange1d\"},{\"attributes\":{\"fill_alpha\":{\"value\":0.5},\"fill_color\":{\"value\":\"green\"},\"line_alpha\":{\"value\":0.5},\"line_color\":{\"value\":\"green\"},\"size\":{\"units\":\"screen\",\"value\":20},\"x\":{\"field\":\"x\"},\"y\":{\"field\":\"y\"}},\"id\":\"326f468b-06b1-4884-b128-d2ee1ae19d21\",\"type\":\"Circle\"},{\"attributes\":{\"fill_alpha\":{\"value\":0.1},\"fill_color\":{\"value\":\"#1f77b4\"},\"line_alpha\":{\"value\":0.1},\"line_color\":{\"value\":\"#1f77b4\"},\"size\":{\"units\":\"screen\",\"value\":20},\"x\":{\"field\":\"x\"},\"y\":{\"field\":\"y\"}},\"id\":\"ed3384ab-e58f-487e-ad27-c98e0a6a06ee\",\"type\":\"Circle\"},{\"attributes\":{\"dimension\":1,\"plot\":{\"id\":\"3dc2ccb2-5aeb-4f69-ad41-130730980be3\",\"subtype\":\"Figure\",\"type\":\"Plot\"},\"ticker\":{\"id\":\"4fd7c88f-104a-45d9-9d10-de4d11b9fa70\",\"type\":\"BasicTicker\"}},\"id\":\"49920130-9dae-43e2-ace1-25b0dd3cf0d3\",\"type\":\"Grid\"},{\"attributes\":{},\"id\":\"4fd7c88f-104a-45d9-9d10-de4d11b9fa70\",\"type\":\"BasicTicker\"},{\"attributes\":{\"plot\":null,\"text\":\"Mouse over the dots\"},\"id\":\"719c6466-8693-45a0-ac96-3dabadc80ee9\",\"type\":\"Title\"},{\"attributes\":{\"below\":[{\"id\":\"fd52fe8a-0a31-4a2e-a068-17725b9094da\",\"type\":\"LinearAxis\"}],\"left\":[{\"id\":\"cba2a387-6d31-41b0-a029-2a513985cd51\",\"type\":\"LinearAxis\"}],\"plot_height\":800,\"plot_width\":800,\"renderers\":[{\"id\":\"fd52fe8a-0a31-4a2e-a068-17725b9094da\",\"type\":\"LinearAxis\"},{\"id\":\"a1746aa1-9ac8-4448-9f03-3cf3ee2574b5\",\"type\":\"Grid\"},{\"id\":\"cba2a387-6d31-41b0-a029-2a513985cd51\",\"type\":\"LinearAxis\"},{\"id\":\"49920130-9dae-43e2-ace1-25b0dd3cf0d3\",\"type\":\"Grid\"},{\"id\":\"0742c47b-7472-4fa9-8e4e-22d916903c68\",\"type\":\"GlyphRenderer\"},{\"id\":\"bd1193d1-860c-4c37-b1bf-041483d58bc2\",\"type\":\"GlyphRenderer\"},{\"id\":\"cd84544b-8138-4e54-abce-95eb09fe8356\",\"type\":\"GlyphRenderer\"},{\"id\":\"df0f01db-284f-4032-9a1f-2df93f10c7d8\",\"type\":\"GlyphRenderer\"}],\"title\":{\"id\":\"719c6466-8693-45a0-ac96-3dabadc80ee9\",\"type\":\"Title\"},\"tool_events\":{\"id\":\"ab1e8aa6-3bed-4e5a-b5f1-6d24998cad75\",\"type\":\"ToolEvents\"},\"toolbar\":{\"id\":\"81a0e334-580f-4bde-ba23-9db330f7b2d4\",\"type\":\"Toolbar\"},\"x_range\":{\"id\":\"0feaaa07-ac35-4df0-9a3f-e3a57f4bd5ed\",\"type\":\"DataRange1d\"},\"y_range\":{\"id\":\"aefb1db7-ccf3-438e-925b-305472f53778\",\"type\":\"DataRange1d\"}},\"id\":\"3dc2ccb2-5aeb-4f69-ad41-130730980be3\",\"subtype\":\"Figure\",\"type\":\"Plot\"},{\"attributes\":{\"fill_alpha\":{\"value\":0.5},\"fill_color\":{\"value\":\"yellow\"},\"line_alpha\":{\"value\":0.5},\"line_color\":{\"value\":\"yellow\"},\"size\":{\"units\":\"screen\",\"value\":20},\"x\":{\"field\":\"x\"},\"y\":{\"field\":\"y\"}},\"id\":\"5742c323-31fe-4a09-b58d-ba0b22ce93ac\",\"type\":\"Circle\"}],\"root_ids\":[\"3dc2ccb2-5aeb-4f69-ad41-130730980be3\"]},\"title\":\"Bokeh Application\",\"version\":\"0.12.3\"}};\n",
       "            var render_items = [{\"docid\":\"2d0cb460-9a3c-4802-875c-118496ba124e\",\"elementid\":\"e8050550-f74f-448a-86a7-549bc7b6a374\",\"modelid\":\"3dc2ccb2-5aeb-4f69-ad41-130730980be3\"}];\n",
       "            \n",
       "            Bokeh.embed.embed_items(docs_json, render_items);\n",
       "        });\n",
       "      },\n",
       "      function(Bokeh) {\n",
       "      }\n",
       "    ];\n",
       "  \n",
       "    function run_inline_js() {\n",
       "      \n",
       "      if ((window.Bokeh !== undefined) || (force === \"1\")) {\n",
       "        for (var i = 0; i < inline_js.length; i++) {\n",
       "          inline_js[i](window.Bokeh);\n",
       "        }if (force === \"1\") {\n",
       "          display_loaded();\n",
       "        }} else if (Date.now() < window._bokeh_timeout) {\n",
       "        setTimeout(run_inline_js, 100);\n",
       "      } else if (!window._bokeh_failed_load) {\n",
       "        console.log(\"Bokeh: BokehJS failed to load within specified timeout.\");\n",
       "        window._bokeh_failed_load = true;\n",
       "      } else if (!force) {\n",
       "        var cell = $(\"#e8050550-f74f-448a-86a7-549bc7b6a374\").parents('.cell').data().cell;\n",
       "        cell.output_area.append_execute_result(NB_LOAD_WARNING)\n",
       "      }\n",
       "  \n",
       "    }\n",
       "  \n",
       "    if (window._bokeh_is_loading === 0) {\n",
       "      console.log(\"Bokeh: BokehJS loaded, going straight to plotting\");\n",
       "      run_inline_js();\n",
       "    } else {\n",
       "      load_libs(js_urls, function() {\n",
       "        console.log(\"Bokeh: BokehJS plotting callback run at\", now());\n",
       "        run_inline_js();\n",
       "      });\n",
       "    }\n",
       "  }(this));\n",
       "</script>"
      ]
     },
     "metadata": {},
     "output_type": "display_data"
    }
   ],
   "source": [
    "plot_tsne(features_all, labels_all, sns_all, perplexity=10, interactive=True, images=images_all)"
   ]
  },
  {
   "cell_type": "code",
   "execution_count": 16,
   "metadata": {
    "collapsed": true
   },
   "outputs": [],
   "source": [
    "from defectlib import create_graph"
   ]
  },
  {
   "cell_type": "code",
   "execution_count": 17,
   "metadata": {
    "collapsed": true
   },
   "outputs": [],
   "source": [
    "create_graph('./inception_dec_2015/tensorflow_inception_graph.pb')"
   ]
  },
  {
   "cell_type": "code",
   "execution_count": 18,
   "metadata": {
    "collapsed": true
   },
   "outputs": [],
   "source": [
    "import tensorflow as tf"
   ]
  },
  {
   "cell_type": "code",
   "execution_count": 19,
   "metadata": {
    "collapsed": true
   },
   "outputs": [],
   "source": [
    "sess = tf.Session()"
   ]
  },
  {
   "cell_type": "code",
   "execution_count": 21,
   "metadata": {
    "collapsed": false
   },
   "outputs": [
    {
     "data": {
      "text/plain": [
       "<tensorflow.python.framework.ops.Graph at 0x12faef5d0>"
      ]
     },
     "execution_count": 21,
     "metadata": {},
     "output_type": "execute_result"
    }
   ],
   "source": [
    "sess.graph"
   ]
  },
  {
   "cell_type": "code",
   "execution_count": 22,
   "metadata": {
    "collapsed": true
   },
   "outputs": [],
   "source": [
    "from tensorflow.python.platform import gfile"
   ]
  },
  {
   "cell_type": "code",
   "execution_count": 24,
   "metadata": {
    "collapsed": true
   },
   "outputs": [],
   "source": [
    "sess.close()"
   ]
  },
  {
   "cell_type": "code",
   "execution_count": 25,
   "metadata": {
    "collapsed": false
   },
   "outputs": [],
   "source": [
    "from defectlib import extract_images_from_dir"
   ]
  },
  {
   "cell_type": "code",
   "execution_count": 31,
   "metadata": {
    "collapsed": false
   },
   "outputs": [],
   "source": [
    "images = extract_images_from_dir('./defect_tensors/Conn1/10/Conn1_10_c0/', comb=False)"
   ]
  },
  {
   "cell_type": "code",
   "execution_count": 34,
   "metadata": {
    "collapsed": false
   },
   "outputs": [],
   "source": [
    "image_data = gfile.FastGFile(images[0], 'rb').read()"
   ]
  },
  {
   "cell_type": "code",
   "execution_count": 35,
   "metadata": {
    "collapsed": false
   },
   "outputs": [
    {
     "data": {
      "text/plain": [
       "'\\x89PNG\\r\\n\\x1a\\n\\x00\\x00\\x00\\rIHDR\\x00\\x00\\x00\\xae\\x00\\x00\\x00;\\x08\\x02\\x00\\x00\\x00m\\xc5&I\\x00\\x00\\x00\\x06bKGD\\x00\\x00\\x00\\x00\\x00\\x00\\xf9C\\xbb\\x7f\\x00\\x00\\x00\\tpHYs\\x00\\x00\\x00\\x15\\x00\\x00\\x00\\x15\\x00\\xf9\\xccS\\x0e\\x00\\x00\\x00\\x0funIt==\\'\\xbe==\\'\\xbe\\x03NIIMAQKLx?\\x00\\x00\\x006zTXtVersion\\x00\\x00x\\x01\\xf3K,\\xc9\\xcc\\xcfK\\xccQ\\xf0\\xcc+.)*\\xcdM\\xcd+)V\\xf0\\xf4u\\x0cT\\x08\\xcb,\\x06\\xca(X\\xe8\\x99\\xe9\\x19\\x00\\x00\\x12y\\x0c\\xfdZ\\xd0|y\\x00\\x00\\x00\\x0ftEXtNI Image Type\\x004\\xc9\\xc1\\xcfz\\x00\\x00 \\x00IDATx\\x01\\xec\\xbce\\x93dYv%:?\\xe7\\x8d\\xa0\\x8b\\xba\\xaa\\x92\"\\x8332\\x98#\\x9c\\x19\\xae\\xfb\\x05gffff\\x08\\xf0`\\xe6\\xc4\\xca\\xcc\\xc2\\xaenI\\xdd\\xd2H\\x9a1\\xbdy\\xa6\\x9f\\xf1\\xb6gH\\xea.\\xd93\\x9b/3f2\\xd9+[v\\xeb\\xdc\\x1b\\xd7=2\\xfc\\xac\\xbb\\xf7>{\\xad\\xe3\\xff\\xe5\\xbf\\xfc\\xeb\\x7f\\xcfW-\\x93k\\xd6\\xa9u\\xdb4\\xc9>Cv\\xccR\\x9csT\\xd7<\\xdd\\xb5\\xc0p-2\\xdd\\xf3t\\xe7\\xbf\\xdd\\xf9\\xff\\x0f\\xfe\\x93\\x7f\\x02\\xa3K\\xfa\\x895\\xf3\\x14\\xd96C\\xb1\\xcfP\\x1c\\xb3}\\x1e\\xb8\\x17\\xe8\\xeeE\\x86\\x070Os\\xcdQ\\x9d\\xf34\\'pb\\x8e\\x06,q\\xceR\\x1c3d\\xdb\\x14\\xc9<M\\xb2\\xccP,34\\xcb,\\xcd2E1>_\\xd7\\x8f\\xafj\\xc7V\\xd4\\x80\\x91%\\xf5\\xd0\\xbczpN5<\\xaf\\xfdO\\xfe\\xf1\\xfdg\\xfa\\xf3\\x9e\\xce*G\\x16\\xb5\\xcfVa.\\x81\\x10\\xf6Y\\x1a\\xc4\\x03\\xcf\\x02\\xdd\\xb3\\xc4\\xf4\\x01\\x16\\xe8\\xbeY\\n0\\xc3\\xb7\\xc8\\xf0/\\xd2\\xfd\\xcb4\\xff2\\xd5\\xbfH\\xf1\\xcd\\x92\\\\3\\xeb\\xce\\x19\\x92\\xe3>\\x96\\x00\\x93&\\xd6L\\xe3+\\x86\\xd1%\\xdd=\\xc6\\x96\\xf5\\x80\\xf1e\\xc3\\xc4\\x8a\\xf9c\\xd4q\\xce\\x90]3d\\'\\xdc\\x0f\\x80+p\\xfd\\x1e\\xcf\\x96M\\xe3KF\\x18\\xc3\\xb1?X6>_1M\\xad\\x99\\xa7\\xd7-3$\\xeb\\x7f\\xa6\\x8f\\xfa?\\xfa\\xdf2\\xb8\\xa8\\x1a_\\xd3>\\'\\x19\\xa6(\\xa6i\\x8ai\\x8ef\\x99\\xa7\\xdb\\xe6i\\xd6%\\xa6s\\x95\\xedYa{\\x97\\x18\\xee\\x15\\xa6g\\x89\\xeeZ\\xa4:W(\\xaeU\\x8ak\\x85\\xea^\\xa2z\\x96\\xa8\\xee\\x05\\x8ak\\x8e\\xec\\x98^\\xb7=_\\xb3<[1\\x8d-\\x1bF\\x16u\\xc3\\x0b\\xda\\xa1y\\xcd\\xe0\\x1cD\\x85>\\x86\\xe74\\xc3sZ\\xc0\\xd0\\xacnxN7\\xb6h\\x80\\xf9\\x1e]\\xd0\\x8f\\xcc\\xc3)\\\\\\xd4\\x0c\\xce\\xa8\\x01\\xffv}\\x18\\xaeL\\xab\\x06\\xa7\\x95\\xa3\\xf3\\x9a\\x89e\\xc3\\xe4\\xaa\\xe9\\xd9\\x92~lA;2\\xa7\\x86+#s\\xa6\\xd1y\\xc7\\xd8\\x82c|\\xd1\\xfel\\xc9\\xfe|\\xd59\\xb5\\x0eQ\\nH\\xd6\\xc74\\xc99\\xb9\\xe6x\\xbej\\x9fX\\xb1M,;\\x86gM\\xff\\xd1?\\xfd\\xffP\\xff\\xbeg\\xeb\\x86Y\\x86e\\x89\\xedX\\xe1\\xbaV8\\xce\\x15\\x8ek\\x95\\xe3Za;\\xd7y\\x1e\\x12\\xcf\\xb7\\xce\\xf5\\x01!(<?\\x95\\x17\\xa0r\\xfc\\x0c\\x8e\\x9f\\xce\\xf2QY>\\n;\\x00 \\xb1\\x03\\xab\\x0c\\x1f\\x10br\\xd56\\xbed\\x1e]4\\x8e.\\x99\\x86\\xe6\\xf5Og5\\x8f\\xa7\\x14\\x8f&\\xe5\\x8f&\\xa5\\x8f\\'\\xa5O&e\\x03S\\xf2\\xa7S\\xf2\\xd1y-\\x14%\\xf347T$0\\x80\\xe9\\x076\\x00\\x0f\\xe0x_\\xac@<\\x80)\\x1f\\x98\\xec\\xdf\\x0c\\xd3\\x7f\\x1f\\x18\\x80\\nC3\\xca\\'\\xcf\\xa5\\x00\\xb8sl\\xc94\\xba\\x00d\\xd2\\x8d\\x02?\\x164\\xc3\\x0b\\xca\\xe1\\x05\\xd5\\xd8\\xa2f|Y7\\xb1\\no\\xa8~:\\xad\\x1c\\x98V\\x01\\xf3\\x06g\\xe0\\xcdu\\xc3\\xb3\\xfa\\xa7\\xd3\\xc0\\xc5>\\x0b\\xc7\\x96 \\xe4\\xd8\\'\\x96m\\xa3\\x0b\\x96\\xc1\\x19\\xc3\\xc0\\xa4\\xee\\xc9\\xa4n`\\xd2\\xf0t\\xca8<m\\x1e\\x9d\\xb5\\x8e\\xcf\\xdb\\'\\x16\\x9d\\x00\\x18\\x8c\\xcd\\xd9\\x9e-8\\xfeCM\\xd6\\xff\\xd9\\x7f\\xcc*\\xcf\\xc9\\x95EpCVn)(\\xcdy\\xb5\\xb5\\xa02gd\\xba\\xa8D\\x13F\\xe5^\\x91\\xc4%\\x96\\xbaU\\x86\\x98\\xd9\\x99wxK6gVk\\x88J\\x14\\x01!\\xea\\xe6!N&\\xe2\\xa5\\xf1=\\xabL\\x07D\\xf2\\xf1E\\xfd\\xe8<L\\x8fqhN?0\\x03TP>\\x9c\\x90=|&\\x01<~.\\x1d\\x9c\\x91\\x8f.h\\xa6I\\xb6UN\\x90.N\\x02\\xc8\\x82\\xe8\\n;\\x00\\xb4\\x80rd\\x85\\xed\\xa7\\x89\\x12\\x0c4E\\x16\\x84!\\x08\\xc1\\xbb\\xcd\\x92mk\\x1c?\\x13M\\xb0\\xf1\\x14\\x89\\x17\\x9c\\xa7:\\x9e\\xaf\\xc0,\\x1a\\x17\\xe8\\xce%\\x96g\\x9e\\xee\\x98\"\\x19&V\\xb5\\xcfV\\xd4\\xcf\\xd7\\xd53T\\xfd\\x1c\\xdd\\xb8\\xc04\\xc3\\xf1\\xf9\\x9avtQ\\t\\x18_\\xd6\\x02\\xc6\\x964#\\x0b\\x8a\\x81ibh^:\\xba\\xa4\\x98X\\xd3@}3\\xb9n\\x84\\xebOgd\\x8f\\'\\x89\\x81i\\xd9\\xe0\\xacrx^=4\\xa7\\x02\\xd6>|F<zF\\x0cL\\xca\\x86gU#\\xb3\\xea\\xc1i\\xc5p\\xff\\xa8\\x1c\\x9eQ?_6\\x8d\\xcei\\x9fN\\x02)\\x15\\x83S\\xaa\\xa1i\\xf5\\xc8\\x9cn|\\xc18\\xbe\\x08\\xd7\\xf5\\xc33\\xba\\xd19\\xc3\\xf3e\\xeb\\xf3%\\xcb\\xf3%\\xf3\\xc4\\x82i|\\xce\\x00\\xf8?;y\\xff{\\xdf\\x9d0\\x14\\x9c\\xd1^\\xa2rQh\\xdfU\\xba\\xb7\\xe5\\xcem\\xbe~\\x9a,\\xec\\x84\\x92\\x1d\\x97\\xbfhsg\\x1d\\xdeB2\\xb7]\\xef\\\\l\\xee\\xdem\\xf6nJ\\x95\\xfd@\\xb8\\xa97g\\x08y@@\\x848h\\x90.\\xf4\\xad\\xb0\\xbc0y\\x93\\xfd\\xc5\\x08\\x04m\\xdb\\xb3\\x15\\xeb\\xb3U\\xeb\\xf8\\xb2\\xb9\\xff \\xf63\\x82\\xe1\\xf9\\x9a\\x01\\xe6`\\x89\\xe9\\x01\\x06\\xb0\\xf0\\x0c\\x9b\\xc8\\x02`\\xee\\xa9\\xa2(\\x80E\\xa4\\x84\\xaa\\xa2HS\\xe6\\xc9\\xb2tQ\\x8c\\xcc\\x0fQ\\x85\\x11\\x9e4\\x8b\\xebjrs\\x13\\xd3\\x96\\xf9\\xb2\\x0c\\x0b\\x8b\\x03`\\x80(\\xf3pdb\\x91u\\x9e{\\x99m[\\xe5\\xda\\xe8\\xa8\\x97\\x81\\xfb\\xe1H\\x128W9\\x8e\\x15\\xb6c\\x8d\\xeb\\xa6\\x89B4q\\x88\\x8a\\x04 \\xc8M\\xad\\xeb\\xa7\\xc9\\xfaY\\xaaq\\x89m\\xa7\\x8a\\x82k<\\x0f\\xe4A`\\xd2\\xe8\\x92\\n\\xfea\\xf3t\\xfb\\n\\xc73\\xcfp<[\\xd5\\x0f\\xcd)\\x9eN\\xcb\\xc6\\x164\\x0b4\\xc7\\x12\\xc3\\x05%\\xcb\\xf8\\xa2\\xee\\xf1\\x84\\x04\\x00\\xd9\\nN!D\\x01K\\xe0\\xf4\\xebQ\\x14\\x8e\\x10\\xc3\\x80\\xb8\\x10\\xbd\\xeeC\\x17\\x043`\\x0f\\\\\\x1c_\\xd0N,\\xe8\\x9e\\xcdk\\x9f/\\xea\\x01#\\xd3\\xca\\t\\x08r+\\x86\\xc9%\\xc3\\xe0\\x94f\\xe0\\xb9jpJ;:g\\x04\\x0c\\xcf\\xe8Gf\\rcs\\xa6\\xf1Y\\xe3\\xc4\\xbcyj\\xc96\\xb9h}6g\\x1a\\x83|:\\xa5\\xfa\\xdf;\\xd7\\xff\\x8bw\\xd3\\xd8\\xea\\xa1\\xcc~\\xbey\\xdd\\xea\\xbd\\xde>|\\x03\\xd8\\xdc\\xbbio\\x1eW\\x9b\\xbb\\xb9b3\\x91.%3\\xa5fkso\\xff\\xe4\\xec\\xfc\\xfa\\xe2\\xf2z\\xff\\xe0\\xa8Tm\\xfb\\xc3\\x19\\xad\\xd1\\x8d+ lx\\x04\\xb8\\x97%\\x0eQx\\xdeu\\x8e\\x7f\\x85\\x1d\\x82\\x02s\\x81\\xde\\xc7\\x123\\xb0\\x08\\xe9\\x83\\x0eE\\xa8\\x1b\\xd6\\xa5+\\x1c\\xdf*\\xd7\\xbf\\xce\\x87\\x19\\x8a\\x03\\xe8(\\x84\\x81\\x04\\x1d\\x8d\\x03\\x15\\x18X\\x82#\\xcd\\xf4!I\\xb3\\xf1$\\x04\\x03\\x16\\x96\\xe0I3\"U\\x11\\xd7U\\x80\\n\"UA \\xcf\\xf2\\xa4i\\xb8(T\\xe4\\xc5\\xea\\xa2H\\x95ca\\x11*\\xe2\\xa5\\x08]L<\\xc0\\x96\\x84\\xd8\\x92 \\x13\\xf33\\xb1\\x10\\x0b\\x8f\\xf0dIT[\\xc0\\xf5%\\x80@\\x91\\xa6\\x08\\xfd$\\xbe\\x07@GC\"m\\x8e+OP\\xc5\\x81U\\x9ek\\x91e##>\\x96$\\xcaW\\xa6x\\x8a$\\\\\\\\b\\xd9g)\\xa6%\\xa6\\xfd\\xfe\\x1d\\x84\\xca\\x0c]\\x1c\\x9a!\\x1b\\xa7IF\\x12\\xcf\\x0f\\xff\\x06\\xa1*M\\xc7\\x02\\xf3\\x0c\\xd3\\xd8\\x92\\xec\\xf9\\xaaj\\x95\\x03w\\xc6\\xf8\\xf28Y\\xe0\\x99&A\\xf5#\\x19[\\x94\\xcf\\xd3Ld\\xbe\\x87)\\n\\xad\\xb3]\\x0b\\x14\\xf3\\xf4*\\xb0A\\xbdL\\xb7\\xc1\\xe9*\\xd39\\xb9b\\x18x.\\x19x.\\x1d\\x9b\\xd7L\\xafY\\xa6W!\\x90\\x98Fg\\xb5\\x03\\xcf\\xe4\\x8fG\\xa5#S\\x9a\\xe9e\\xcb\\x02\\xd99O\\xb2O,\\xe8\\x87\\xa7\\x14#\\xd3\\xf2\\x91i\\xc5\\xf3E\\xcd\\xcc\\x9a\\xee\\xf9\\x12\\x84(\\xfc\\xc1\\xb8\\xf0\\x8b!\\xf6\\xa7\\x03\\xcc\\xcf\\x07\\xd9_\\x8e\\xf0\\x1eM\\x88\\x9eN\\xe3\\x833\\x92\\xa1Y\\xe9\\xc8<D_\\xc5\\xc0\\x14\\xfe\\xf0\\x99\\xe8\\xabQ\\xc1\\xffb\\xee\\xff\\xdd\\x8f\\xe5\\xb6\\xba+\\xba\\x11\\xce\\xee\\x17\\x1a\\xa7\\x1b;\\x17\\x1b;\\x97\\x9b\\xdb\\'[\\xdb\\x87\\x1b\\x1b\\xfb\\xcd\\xe6V\\xb5\\xda\\xa9T;\\x8dVos\\xebhw\\xef\\xfc\\xe0\\xe0\\xb2\\xb7}R\\xaen\\x87\"e\\xa3%\"Q\\x86\\xc4R\\xbf\\x90\\x08\\xb0\\xd1(C\\x18$qC@\\x85\\xfbE\\xc7,\\x05\\x9e<\\xef\\x02\\xdd\\xbb\\xc8\\xf0.1\\xbd\\xcbl/P\\x01\\x8e\\x00 \\x04\\x80$\\x00N\\xc4\\x80\\n\\x14$\\x02l\\x801\\x80\\x81\\xc6\\xee\\x9f~&\\x1a\\xa3\\x8b\"\\x0cq\\x94C$a\\x02\\xeey\\xc0D\\xe3\\x0cQ\\x8a)\\xce\\xb2\\xb1\\x1c\\x87\\xc82\\xd1\\x14\\x84\\x10\\xaa0DC\\xc2p\\'\\xbc\\x04\\x08\\xc4\\xc6!~\\xa49DN \\xab\\x00D\\xca\\x9aP^f\\xa2\\x99\\x8f7\\xc7!\\xdd@\\xf8\\x11(\\xf3\\x1ci\\x9a\\x81\\x01##L<\\xc1\\x93g\\x11\\r\\xc4\\xa4\"_\\x99\\xa5\\xa3\\xd1u\\x1e\\xf0\\xc6/\\xd6\\x94\\x14\\xd6\\xb6\\xd2\\xda\\xc6uU\\x16\\x0e\\xac\\x8d\\t\\x15\\x05\\x95mS\\xe7\\xe9\\xca\\xac\\x15\\x8e,\\xba\\xc6uP\\x10/\\xa2Ji\\x9cM\\xbd\\xa7+1\\x16\\xd9D\\x18\\x98\\xb1\\xc2\\xb6\\x013T\\xb6\\xba\\xd5\\xdfS\\x98\\xaal4\\xbc\\xc6r\\x000uN\\xe7hk\\xed-\\x91\"=G2<_R-\\xd1\\xac|IR\\xa2\\xab\\x08\\xa5\\x19\\x12\\xdb\\x0bQ\\x04\\x82\\xc7\\x02\\xc9\\xca\\x16EqU\\x11S\\xe6(\\x1c\\xcf\\xcc\\x8av|N2\\xbd\\xa2\\xa2\\xf2\\x9c\\x1c\\xd4O\\x17\\x00ET\\xe3s\\xe8\\x93q\\xceW\\x83\\xb4\\x87#\\xcc\\xa7\\x13\\xfc\\x91i\\xf1\\xf8\\x1c\\xfel\\x9e\\x98X\\x90<_\\x94?_\\x04\\xf6\\xe0\\x83\\x13\\xe2\\x81g\\xe2\\'\\xe3\\xa2\\x87#\\x82/\\x9e\\xb0?y@\\xff\\xcb\\xaf\\xa8\\xbf\\xfa\\x9a\\xf6\\xd9\\x00\\xeb\\x8b!\\x0e\\x00h\\xf4\\xab\\xc7\\xf4_\\x90A\\xe5h\\xba?R\\xa1\\xd4<\\xdd\\xde\\xbb\\xdc9\\xb8><\\xbc<9\\xbe\\x00\\x1c\\x1d\\x9e\\xef\\xed\\x1eon\\xee7Z\\xfb\\x95Z\\xafR\\xde\\xa9\\x14w\\xcb\\x85\\x9dTr\\xcb\\xef\\xaf[\\xac9\\x85&\\x89J\\xc3|4\\xc4\\x10\\x86\\xa1\\xae\\x04*\\xacq!nGWy\\x91eNh\\x81\\xe9\\x9f\\x87ui\\x9f\\x07\\xfd\\xb9\\x07,0\\xfc\\xf3\\xf4\\xe0\\x02#\\xb4\\xcc\\x8c\\xac\\xb0\\xa2+\\xac\\xc8*\\xa7\\x8fun\\x94\\xc4\\x8d\\x01\\xc8|\\x98\\xda\\x04\\rI\\x90\\xf8\\xf0Y\\x87\\xd7xa\\n\\x12gBB\\x91d\\x19X\\x8a\\xc4\\x8f\\x90x1\\n?A\\x15\\xa4\\xe8H\\x1f4a\\x92\\xc2\\x87\\x17\\x86I\\xdcH\\x1f\\xbc\\x08\\x99\\x17\\xbb\\x7f7\\n?\\t\\xb7q\\xf0\\x02\\x97(\\x02{\\x18\\xe2\\x14E\\x10\\x83\\xf4\\x04\\xe4c\\xe2)\\xb6$\\xcd\\xc4\\x930\\xbe\\xa7#d(\\xae,\\x0b\\x80\\x8b@M\\xf8\\xa72Q\\xa0 \\xc4\\x9e\\n\\xa2\\x84\\xf4T\\xe0J\\xf2|i\\t\\xd34e\\x96:f\\xc8\\x03\\x15HB7\\r\\xf5\\x0b\\x94I\\x99\\xb9\\xaa\\xb45$\\xc6\\xb2X\\x93\\xe3\\xc9\\x12l\"\\x8a\\xa82\\nk\\xc3\\xe0\\xddR\\xd9[bU\\x8e\\x8b\\xc7\\x00\\x06\\xd7\\x867~\\xe2\\x8a\\xee*\\xad9\\xba\\xc8\\xb6\\xc660\\xc4.\\xa91\\xeb\\x08\\xf6\\xcc\\x9e.\\xae\\xce\\x929\\xae%\\xaa\\x99\\x8b\\x85U\\xe6\\xaa\\xcd\\xbfer\\xb7QE\\x82\\xcas\\xac\\xd2\\x8dt\\xbeC\\xaaM)MY\\xb1\"L\\xe5\\x9a\\x17\\xc9\\xca\\xa9%|l\\x06\\x19\\x9b\\x11\\x8e\\xcd\\x88F\\xa7E#S\\xc8\\xe8\\x8cxb\\x81\\x98^Q\\xcc\\xafk\\x01s\\xabZ\\xa0\\xd1\\xd4\\x92jb^1<\\x89?\\x1eE\\xbez\\xca\\xfd\\xfc\\x11\\xf3\\x93\\xc7t`\\x00D\\x14\\xc0\\'O\\x18\\xbf\\xa0\\x82\\xd6\\xd5\\xf5\\xc6{\\xb1\\xc2I\\xad\\x0b<\\xb898yyq\\xf5\\xea\\xee\\xc5\\xdb\\xd7o>\\xbc~\\xf3\\xc3\\xcd\\xcd\\xbb\\xc3\\xa3\\xdbF\\xfb8\\x93\\xdf\\x88F\\x9b\\xc1@\\xdd\\xef\\xab\\xb9<u\\xab\\xa3\\xa27\\xe7e\\x9a\\x1c*\\x8b\\xf3\\xb1\\x18K\\x0c\\xcfkL /\\xa1\\xda\\xa6X\\xd3\\xe0)\\xcaL\"G\\x13\\'\\xa9\"H\\x04\\xc9\\x8f\\x1f}\\n>n\\x92\\x00&8F\\x11\\xa6\\xf8Rxd\\xab\\x1c\\xa2HC\\xa0*\\x8c\\xad\\xb2#\\xeb\\x9c(\\x1dI3D\\x19\\xaa \\xb9\\xce\\x8d\\xcd\\xd3 \\xb3\\xf8W8a\\x920N\\x15\\xa7hh\\x9a\\x8c$\\x96!\\xfb\\xd0\\xfcK\\xf4\\xc0\\n3L\\xe2$\\xe8\\xc2,\\x95\\x9fYg\\'\\x97h\\x91\\x15Fb\\x95\\x99\\x04\\xc0`\\x99\\x1e_\\xa0\\x84\\xe7H\\x81yrp\\x9d\\x9d\\xa0\\t2ta\\x86\\xcc\\x8b\\x03\\xd5V8\\xb1\\x05Vl\\x99\\x9b\\x04\\xac\\xf2\\xd3k\\x82\\x0c`\\x9e\\x19]`BX*0\\xb0\"M\\x9c_\\xe7\\xa7\\x96\\xd9\\xb1Un\\x82,\\xcc\\xd0\\xd1\\x02\\x0b/\\x01\\x18h\\x81.\\xce3\\xf1\\x02GZ\\xe0J\\xf3,<\\xbd\\xc6\\x0f\\x91\\x84\\x11 (W\\n\\x0c\\xc8\\x0b\\x14E\\x00\\x0c8\\x92\\x0cP\\n\\x06|yA\\xa8,\\xf2\\xa59\\x0e\\x96\\xe2`I\\\\S\\x91\\x1a\\xea\\nsEj\\xcc\\x88\\xd5Q\\xae\\xc4\\xcf\\xc6\\xbd\\x02YHe)\\x1b]M\\xa5\\xa9\\xc4\\'\"d\\x8e\\x83O\\x84\\xe4\\x86\\xbc\\xc1Y\\xd7\\xda\\xca\\xb8:!\\x94\\x04\\x11I@\\xaaI\\xd8\\xbc5\\xb3\\xbbD\\xa8C\\x0c\\x9eq\\x8d\\xa6\\\\\\\\\\x97,\\xac\\x11+\\x14\\xf9*U\\xb5LV,\\xae\\xcb\\x16V\\xe5K\\xeb\\xca5\\xaa\\x96\\xcc0RYf\\n\\xd3\\xbcB\\xd6\\xcd/+g\\x16\\x14\\xb3\\x8b\\xca\\xe9y\\xf9\\xc441<\\x8e|\\xfa\\x98\\xfeg_\\x93\\xff\\xe2!\\x15\\x08\\xf1\\xd9S\\xd6/\\xa8\\xa0\\xf7l\\xfa\\x93\\xbb\\xa9\\xcaEc\\xe3\\xaa\\xb7\\x7f\\xbd\\x7ftwrz{~qwy\\xf9\\xf2\\xea\\xea\\xed\\xd9\\xf9\\xab\\xde\\xcee\\xb9\\xb6\\x17\\x89\\xd7<\\xbe\\x92\\xcd\\x963\\x1aSj]J\\xa9M\\xc9TIT\\x96\\x12`QN?2\\'9DZ\\xe3\\xd8\\xb1G.m\\x91K\\xb5k\\x0f\\xd1\\xd4Y\\x92\\x1c\\xa4\\x7f\\x89\\xa9\\xa9rl\\xa8\\x1c]\\x89\\xa9\\xce&2\\x0cqR\\xa8(Y}G\\x8e\\xe0\\xa9\\xc9\\xbd\\'\\xd37\\x04\\x92,S\\x18\\xe3ci\\x8d\\xb9kq\\xef\\xe9\\xac\\x9b\\xa8\\xa2D\\xe1\\x06i\\xfc\\xb0P\\x9a\\x93\\x1b\\x9a*s\\x07\\xd7V\\xa0Td\\x88#t\\xc4\\x07\\xe0\\xe0\\x11\\xb1*\\x8bk\\xf2\\\\\\x1cf\\x1a\\xca\\x94\\x00|\\xd6\\x08|\\xf4\\xb2\\x02\\x1bJQ~d\\x8d\\xe5_ax\\xe1\\xc8\\xc1S|I\\x96\\x85&VY^\\x127\\xb0\\xce\\x0b\\xafp\\xa2\\x80evd\\x91\\x15\\x9eg\\x04\\x97\\xd8\\xd1yFh\\x89\\x15Y\\xe3%\\xd6yI`\\xc0\\x02#<C\\xf1\\xcfR\\x03\\xf3\\xf4\\xf0\\x12\\x84.N\\x82$\\xc8\\xac\\xf3\\xd3\\xab\\xdc$\\x8c\\xe1\\x1e\\xaa0CE\\xb2da\\x1a\\x88\\x05\\xaf\\x02\\xacr\\xe3p\\x0fY\\x08\\x17\\xb3TQ\\x9e\\x81\\x95h\\xa2\"EX\\xa0\"E\\x00Y\\x90\\'\\xf1sk\\xdc\\x0c\\x0ch\\xa2\\x1c\\x13\\x83\\x92\\x19\\xae\\xc0#\\x91d`y\\x06Qa\\xcb\\xea<e\\x9b\\xabh\\x93\\x90\\xc2*/I\\x13\\xe7\\xf8\\x8a\\x1a\\xa6\\xafA\\n\\xe3\\x101\\xa9!\\xef\\x08m\\xfbb=g\\xa0\\xad5$El\\x85\\x90%\\x93\\xe1&\\x83\\xc1g6\\x07\\xcd\\x16\\x9f\\xc9\\xe23\\x98\\xdc:\\x9dU\\xad1+\\x956)a\\x15\\xf0\\xb5,\\x96\\x99D\\xd2-.\\x02\\x15\\xd4\\xf3\\xcb\\xba\\xf9U\\xdd\\xdc\\x9avfY\\xfdxB\\xfc\\xc5\\x10\\xf7\\x93\\'\\xcc\\xbf|D\\x03\\xfc\\x91\\nRK\\xdb\\x12\\xdc\\x89\\xe4\\x8e\\xf2\\xcd\\xdb\\xd6\\xf6\\xcd\\xd6\\xee\\xe5&\\x94\\x0b\\x9bG\\xed\\xf6^\\xbd\\xbeS\\xa9\\xed\\x95*;\\xa9\\xecf \\xda\\xb6\\xb9\\x8b*C\\x0e\\x93\\'y\\x90\\x0e\\x04~\\x86 @\\x17\\x04)\\x820\\x94\\xfa4$\\xce@aQ\\x90\\xd7{\\x8e<\\xa9\\x17\\xfe\\xeckG\\xf4Rf\\xd9\\x10\\xaaJ\\x88\\xba\\xa8uo;b\\'\\xde\\xd4\\xb9=z$5\\x96\\x84\\xf2\\x04\\x04CO\\xe4 \\x9e\\xbf\\x8e\\xe7\\xae\\xbc\\x91\\x03\\x8d\\xb9\\x8e\\xc9\\xd3\\n}\\t\\xc6\\xe9\\xd2\\x8bx\\xf6\\xda\\xe6\\xed\\x89\\xe5i\\x1e\\x16S\\x18k\\xee\\xf0Q,\\x7f\\xe7\\x8a\\x1d\\xa9\\xacM\\xa1\"\\xcd\\x93Dpm\\xc6\\xe0n\\xbb\\xa2{FOG K0\\x90\\x00\\x17\\x8f*\\xcd\\x90\\x9bw\\x00*KC\\xa4\\xc8@\\x86\\x06\\xa0\\xaa\\xac=\\xd4s\\xc7\\xf6\\xf5\\xae\\x16\\x07\\x0f\\xb1\\xd0\\x00\\x87\\x88C\\xca\\x97\\x99Z\\xb06\\xe1J2\\xb0TY\\xe7\\x06`\\xb1\\n<&\\xf4u\\x85\\xa5\\x03\\xcb\\x16\\xb8\\xb8\\x06\\x8b[A\\x84-Np\\xb1\\x14\\x1c\\x19\\xc2(\\x99\\x03M\\x14?\\t\\xd6\\xb7P\\xdf\\x88\\xe0O\\x8eB\\xe5\\xb1\\xca\\xf1\\xafq\\x02d~\\x98*\\x88\\xd2\\x041\\x00\\x95\\x1f\\xa5\\xf0\\xc2\\xeb\\x1c`g\\x94\\n\\x93\\xcd\\x8bA\\n\\x83\\x80\\xb4\\xc6\\x82\\xb8\\x15Z\\xa0@\\x0f\\xc6\\xbb\\xc2\\x08\\xc0\\xf55vx\\x05\\x88H\\x0f-1ck\\xdc\\x14\\x05)P\\xc5\\xa5U^\\x16\\x02\\xd2\\x1a7\\x01,\\x81_\\xc1@\\xe3<IRn,\\xc1\\x9f\\x90(\\x9cE\\xd2\\x07nO\\xd5\\xa2t\\xfa\\xcc\\xe1Fi\\xf3\\xec\\xf8\\xee\\xf6\\xea\\xed\\xf5\\xf5\\xed\\xd5\\xd5\\xd5\\xc5\\xf9\\xc9\\xe9\\xd1\\xd6\\xc1n\\xbb\\x9c\\xcb\\xb9\\xcc.1\\x17c\\x92\\xd4\\xabs\\xd2\\xa9g\\xd8\\xf0\\x98dd\\\\\\xfat\\xb2\\xbf\\x9c\\x86\\xb5\\xf4\\xc0\\xb4\\xf4\\xab1\\xd1\\xe7C\\xfc_=a\\xff\\xe5\\xe3?\\x89\\n\\n\\xfb\\x863\\xb2\\x9f,\\x9e\\x95\\xdb/\\x9b\\x1bW\\xad\\xeeI\\xb5\\xb1\\x9f/t\\x12\\xc9J0\\\\p\\xfb\\n\\x0eO\\xd6\\xec\\xc8\\xea,\\x19\\x95!\\xc1\\xc7BT\\xaew\\x8d\\xe9X\\xa4\\xda\\x17)\\xb6E\\xaa\\xa3\\xbf4\\xe8\\xab\\x15P\\x0f\\x86I\\xfc\\xb8@Q\\x95Y\\xb6\\xf5\\xde#K\\xf0D\\xeb\\xda\\x95\\x18\\x9bP\\x8ba\\xfa\\x8a\\xde\\xbb\\xe5M\\x9d\\xc5Jw\\xf6\\xe0\\x86T\\x9fB\\x95\\x11\\x9d\\xb5\\x18L\\xec\\xa6\\x8bg\\xe9\\xc2\\x99/\\xbc\\xa56\\xa4\\xd5\\xc6\\xb4\\xd3\\xdf\\xccU\\xce+\\xad\\xdbT\\xe1\\xd8\\xea\\xaeJT\\x11\\x8d9\\xeb\\x8dl\\x14\\x1aW\\x85\\xc6E8\\xdd\\xd3\\xdb\\x0b<\\xdc/\\xd1\\xa6\\xdc\\x91^\\xa6z\\x9b,]imU\\xb1\"\\x0e0\\xba\\xda\\x91\\xecy\\xa6\\xfa\"\\x96\\xbf\\x841\\xaaL \\xb2\\x18\\xfc\\xb4\\xd8z\\xdd\\xda\\xf9!]\\xbd\\xd5X\\xcb\\x88,\"\\xd5e\\xe1\\t+\\xb4\\xde\\xc4\\x8b\\xd7V\\xff&\\xae\\xce0\\x11?\\x13\\xf1\\xa9-\\xb5P\\xe6<Q\\xba58;b \\x1c\\x1e\\xc5\\x94Y\\xb3{\\xd3\\x1d>t\\xf8w\\xa5\\xda\\x12S\\x18\\xa2p\\xbc\\\\,\\xee\\x8a\\x1e\\xbbb\\'Z\\xe7\\x86@\\x96%\\xf3\\x02\\xeb\\x1c\\x1f\\x84\\x1c \\x96\\xd2\\xdc\\x91hk<<\\r\\xf1\\x8c\\xca\\x0bA<\\x83S\\x80XQ\\xe2b\\x19\\x860N\\x07\\xae\\xf0\\xa3|<\\x8f)jbY\\x85)L\\x93\\xd9\\xd1U\\x06\\x10\"F\\x17\\xe6i\\x10B\\x84\\x85\\xfe\\x11\\xd2\\x16+\\xb6\\xc6\\x8c\\xd0\\xb8\\x11\\x1e\\x9a\\xe1\\x89b\\x984\\xe5\\xf0l\\x95k/\\xca\\xb5\\xbblv7\\x19I\\x95s\\x95\\xe3\\x83\\xd37\\xaf\\xdf\\x7f\\xf8\\xf0\\xfd\\x87\\xef\\xbe\\xf9\\xf6\\x87o\\xbe\\xfb\\xe1\\xcd\\xb7\\xdf\\xdd\\xbc\\xffp\\xb5\\xb3\\xd5\\r\\xb8|b\\x1eN[U.N\\xa1\\x13c\\xc8\\xc0\\x10\\xfa\\xf8\\xa9\\xe8\\xebQ\\xe4\\xc1s\\xf1\\xe3i\\xfc\\xc9\\x94\\xe4\\xc13\\xf4\\xd7#\\xc2\\xcf\\x06y\\x9f>\\xe5\\xfe1*(\\x1d\\x9b\\xee\\xd8A\\xaaxVj\\xde\\xd5Zg\\x95\\xfa~:\\xd7\\x8d\\xc4\\xcano\\xcal\\x8b\\xaa\\xf4a\\x89\\x12\\x96\\x8b^\\x1e\\xeae#\\xeeeP\\xa4(\\xa0;\\x80\\x82\\x00\\x9d]\\xeb\\xb3e\\xeb\\xd8\\x92\\r0\\xb1\\xea\\x9c&{\\xe7h\\x01 \\x04\\x05I\\xf1\\xe5\\x15\\xa9\\xa9\\x03@\\xb5e\\x8e$\\x0e+{\\xa1\\xb2_f{\\x12\\x87\\xae\\xf0\\x96\\xcc\\x90\\x11\\x10\\x01D\\x12\\xd4YK\\xfeh/\\x9e9\\x0e\\xc5w\\xb5\\xa6<\\xa1\\x88\\xca4\\tw\\xa0\\x93\\xcc\\x1d\\xa7\\xf2\\'\\xbe\\xc8\\xa6J\\x9f\\x96i\\xe2zk!\\x10\\xdb\\xceV\\xce2\\x95Sw\\xb8\\x83*\\xc3by\\xc8\\xeam\\xa4+\\x97\\xb5\\xcd\\xb7\\xe1\\xcc\\xa1\\xdeQ%4I\\x98col\\xaf\\xd8|U\\xdf\\xfa\\x10\\xcb\\x9f+ME\\x91<\\xaa0\\xe6\\x81.\\x8d\\xed\\x0f\\xc5\\xd6+\\xf8\\xd5\\xc0!L\\x15\\xb7\\xfa\\xda\\xcd\\xde\\x87\\xed\\xe3\\x9f\\x0b\\xcd\\x176_\\x9b\\x8f\\xf9\\xe8<\\x9b\\xd1Q\\xcd\\xd7n\\x1a\\x9b\\xdf\\x84S\\x07ZKQ,\\x0bc\\x8a\\xa8?\\xb6S\\xef\\xbe\\xed\\xf6\\xbe\\x8d\\xa5\\x8f\\x08E\\x8c\\xc5w`\\xf2h\\xb1\\xf5v\\xef\\xfcok\\x9b\\x1f\\xec\\x81M\\x91<\\xc6\\x14\\xb8\\xe4\\xdal2\\x7f\\xb1w\\xf2\\xd7\\xcd\\xcd\\x0f\\xae\\xc0\\x96\\x10\\x0b\\xf2\\xc5~\\x9d\\xb9\\x1cM\\x1d\\x17k/|\\xe1m\\x99:\\xc5E\\xdcl\\xbeS\\xaaL\\x06\\xa3G\\xc9\\xec\\x8d\\xcb\\xbf\\x87@\\xd1\\xca\\xf1\\xd1\\xb9A\\x84\\xc8\\xbb\\x02gf\\xd7\\x81D\\xdb\\xe2a9&0\\x86\\x1b\\xc1\\x15%O\\xf0\\xd0\\x1d<T\\xe9\\x8a\\x12y\\xc2h\\xa9\\x96\\xab\\xd7[\\xdb\\xef{\\xbd\\xbb\\xad\\xee\\xf6\\xce\\xd6\\xee\\xf1\\xd1\\xd9\\xd9\\xd9\\xd5\\xc9\\xe9\\xf9\\xe1\\xc9\\xde\\xe9\\xe5\\xd1\\xe5\\xf5\\xe1\\xf5\\xed\\xde\\xcd\\xed\\xdeF\\xbb\\x19py1\\x01\\xc1\\xa6\\xea\\xe9k\\x9a\\xe5\\x05\\xf5\\xf3i\\xf5\\xd0(\\xf1x\\x02\\xfdzB\\xf4\\xd58\\xf2\\xe89\\x0eT\\xf8r\\x14\\x81\\xc0\\x00l\\xf8#\\x15\\xd4N(k\\xf7\\xd3\\xa5\\xb3b\\xe3\\xaa\\xd28\\x82t\\x90L\\xb7\\xdc\\xde\\x8c\\xde\\x18\\x90)=\\x08\\xe1\\xe6 \\xd6u\\xa6e\\x9ed\\x9c^\\xd1\\r\\xcd\\x03\\x8c#\\x8b\\xe6\\x91E\\xeb\\xc8\\xa2ed\\xc1:\\xbc`\\x1d\\x9a\\xb7\\x8c,BO\\xc99\\xb9\\xee\\x9e\"\\x81\\xaa\\t\\x9d\\x83\\x18G\\x92\\x85\\xa2\\x89\\x05\\xd5\\xb8\\xd0\\x0f\\x1d\\x1e\\xba\\xc8/R\\xa5\\x94\\xd6\\x8a\\xa6\\xff\\x10\\xc7\\x98B7\\x9dgG$!\\xad\\xb9h\\xf7\\xb4\\x1c\\xde\\xb6J\\x9fAp?_\\xe4\\x96\\xa9\\xe26W\\xdd\\x13\\xe8:\\xbc-\\xb5!+\"\\x02\\x00\\x856\\xe5\\n\\xb6\\x03\\xf1m\\xbb\\xbf\\x01=P\\x8e\\xd8\\x06GG\\xa0\\x9e(\\x1cD\\xb3\\xbb\\x16O\\x19\\x8a)\\xb8(\\xd7\\xc7\\x82\\xc9\\xadJ\\xe7\\xa6\\xd8\\xbc\\x84\\n\\x0bW\\x051e\\xc0\\xe4*\\x86R\\xdbp\\'\\xfcHmNq\\xc5.L\\x11\\x81\\x80\\xb4u\\xf0C\\xbb\\xf7>\\x9a9T\\xe8\\xd3B\\xc2o\\xf34\\n\\xb5\\xcb\\xd6\\xf6\\xdbl\\xf9\\xdc\\xe1kHTQ\\x9e\\xd8evV\\x9a\\x9bo\\xcen\\xfe\\xb0\\xb5\\xff\\x9d\\xc5YEp\\x1f*\\x8f\\x843\\xa7\\xbbg\\xbf\\xdf9\\xf9\\xebL\\xf9F\\xa1\\xcf3\\xf9N\\x89*\\x99.^\\xbe~\\xff\\xcf\\x97w\\xff=S\\xba\\x82\\x89g\\xf1\\x9d\\x1ac\\xa1P\\xb99\\xbe\\xf8\\xfd\\xd6\\xee\\xf7._G\\x88\\xfa\\x18l\\x8b\\xd6\\x90\\xebl~\\x7f|\\xfe\\xf7\\x8d\\xce\\xb7:S\\x83\\x87\\x84\\x05\\xe2\\xb8\\xd5\\xb5{~\\xf3\\xcf\\x07\\xe7\\xff\\x94*\\xbe\\x95i\\xebt\\x8e\\x1f\"A z|z\\xf9\\x0f\\x07\\'\\x7fH\\xa4\\x8e\\x8d\\xa6\\x82V\\x97\\xced\\xf6\\xf7\\xf6>\\\\\\\\\\xbc\\xbf\\xbc\\xbc\\xbe\\xb9\\xb9\\xbb\\xbe{qy{w|q\\xbe}\\xb8\\xb5\\xb9\\xbf\\xb1\\xb5\\xd7\\xd8\\xde-\\xf7\\xf6*\\xb5J\\xce\\xe3\\xb0\\xe3\"\\t\\x8b\\xaae\\x905\\xcb\\xcb\\x9a\\x89\\x19\\xf5\\xd31\\xfc\\xc1\\x04\\xfe\\xebg\\xe2\\xcfG\\x11\\x88\\x07_\\x0c\\x0b\\x80\\x07\\x10\\x12 G\\xfc\\x91\\n\\x1a\\xd7\\xa6/\\xb1\\x97.\\x9d\\x14\\xeb\\x97\\x95\\xfaA\\xb1\\xdcK\\xa4Z.OF\\xa3\\xf3\\xa2\\x84\\x83\\xc9\\xb7\\xac\\xd1\\xd4\\xd3\\xcb\\xea\\xb1Y\\xe5\\xd0\\x94\\xec\\xd1\\x94\\xfa\\xf1\\x8c~`\\xce4\\xb4`\\x03\\x0c/\\xda\\x01O\\xe7,\\x83s\\x96\\xe1y\\x88\\x10\\xf6\\xf1e\\x10\\xaf\\x81\\r\\xde5XX\\nB\\xab\\x1c\\x907msT\\xd3*\\xdb\\xca\\x14C\\xb5\\x1cC\\xe4y\\x08\\x9e+t7\\x80.\\x88\\x08$i\\x89\\xa6\\xac1\\xb7\\xe4\\xda*\\x17\\x89R\\x98\\x1e\\x067 @\\x13\\x84\\xa2 \\xd7T\\xc4\\x92\\x0c\\x8d\\rz\\x87\\x97\\'\\x8a*\\xb4E\\x8d\\xa9\\xa6\\x82\\x96\\x91<\\xc9\\x11\\xfa\\x04h@\\xa2L\\x1a\\xacU\\xbb\\xa7\\xad\\xb7\\x94qy\\x8c%p\\n0\\xbf\\xc9Q\\x8d\\xa4\\x0e\\x93\\xf9S\\xab\\xbb\\x81+`:=P~k\\xcdy\\x87\\xbf\\r5\\x97\\xda\\x98\\xe5\\x8a\\xdd\\x1c\\x91K\\xaeK%\\xf2\\'\\xf9\\x1a\\x14+\\'\\xae`\\xd7\\xec\\xaay\\xc3\\x1b\\xf1\\xecA\\xb6|\\x96\\xcc\\x1f;\\xfd-B\\x19\\xa6\\xb2\\r\"\\x89/]<98\\xfby\\xff\\xf47\\xee`\\x1bW\\x84\\x04\\xb8\\x0f\\xe2\\rD\\x9dZ\\xf7]\\xa1\\xf6\\xc2\\xecl\\xc2/\\x85\\x08\\xe7\\xf0u\\x0eN\\xff\\xea\\xe2\\xf6\\xef+\\xcd\\x97F[\\x99\\xc9\\xb3I\\x95\\xd1xz\\xff\\xe0\\xe47/^\\xfeC\\xb1t\\xae\\xd1&\\xb9<\\xabD\\x1a\\xac6/\\x0f\\xcf~\\xd8\\xdc}\\x1b\\x8co\\xa22\\x9f\\x00sY\\\\\\x95\\xd3\\xeb\\xbfy\\xf3\\xdd?o\\x1f\\xfeh\\xf75\\xe9\\\\3O\\xec\\x0c\\'v.o\\xff\\xf0\\xe6\\xfd?u\\xb7^\\xb8\\xbc%\\x99\\xc2c\\xb6\\xc4\\x0b\\xc5\\xdd\\xdd\\xfd\\xdb\\x8b\\xeb\\xb7\\xb7\\xaf\\xbe\\xbdy\\xf5\\xdd\\xdd\\x9b\\xef\\xaf_\\xbf?\\xbc<\\xdd<\\xd8in\\xd4\\x1a\\xedl\\xab\\x9b/\\xe4S\\x1e\\x97]F(Y4-\\xb0aiY=\\x0e\\xea\\xcf\\x18\\xf6\\xe5\\xb8\\xf8\\xf31\\xe4\\xf3\\x8fy\\xe1>5\\x00\\x0f\\xfe\\xe2\\x11\\xf3\\x8fT0\\xf8\\xb6C\\xa9\\xfdl\\xf9\\xa4T?\\x07*\\x14J\\xdb\\xb1D\\xc3\\xe6LI\\x15N\\x96\\xc0\\xbcH\\xd1A\\xd7\\x02\\x9a\\xa9O&\\xa1?\\xaf~4mx<c\\x1c\\x983\\x0f\\x02\\x15\\x96\\xec\\xc3K\\x0e \\xc4\\xc0\\x8ci`\\xc60<o\\x864\\x01+\\xc05n\\x94\\x8a\\xc4i\"\\xe8\\x16\\xf8\\x16\\xe9\\xd6\\x05\\x9ai\\x99a\\xa1\\xf0\\x1dL\\xb1\\x87\\r=A,L\\xe6\\xb9\\xd7\\xd8\\x0e\\x12\\xd7MG\\x02L\\x11T\\xfe!\\x01\\x11\\x15\\xe0Q\\x06\\xdfGa9)L\\'\\x93\\xe7c\\x0b\\x82L\\x9e\\x9f\\xccp.\\x91\\xcck4;\\x83\\x0bs\\x1f\\xe5\\x8b#\\xf0\\x18\\xb1@!\\xa3ZI4\\x0b\\x9d\\xed\\x14\\x88C\\x84<\\x85J\\xe2\\x1c\\x81\\x8fL\\xb7R\\x99v1\\x11\\xd3\\x18\\xcaf{\\x0b\\x8eB4\\x0cW(\\x0c\\x1b\\x0f\\t`\\xd2\\xa4T\\x99\\xc3ei\\n\\xdb\\xba\\xce2\\xb1En\\xb5)oq7l\\xde\\x96\\xd5\\xd3\\x84\\x01\\x1c\\xbd\\x91\\xedh\\xe6\\x08\\xe2\\x84\\xcd\\xdb\\x94\\xa8b0\\x9d\\xeb4\\x9d\\xc5Y\\xab4_\\xb4\\xb7\\xdeA\\x16\\x83\\xe0\\xc4\\x15{\\xa1\\xb0\\x10Jcv\\xff\\x96?~ht\\xb6\\xf8D\\x90\\xca\\xb5\\x8b\\x15\\xd1X\\xe6\\xb8\\xbb\\xf3m\\xa9q\\x07\\xf1\\x8c/\\xf6p\\x04\\x0e\\xb3\\xbd\\xdc\\xe8\\xbcz\\xf9\\xe6\\xbf7;/-\\xb6\\x12O`gq\\xcc\\xfeH\\xbb\\xda\\xbajl\\xdc\\xa5\\x8bG2M\\x84\\x8f:\\xa5\\xeah\"wx~\\xf7\\xdf\\x0e\\xce\\xff*\\x92\\xdeg\\tlt\\x9e\\xd9\\xec(u\\xb7\\xdf\\xbe\\xfb\\xfe\\xff9\\xbb\\xfa)\\x12oa\\x12\\x1b\\x97\\xa7V(\\xdd\\x0ew2\\x96\\xaa\\xe6\\xcb\\x1b\\xd5\\xf6\\xfe\\xde\\xc9\\xcb\\xcb\\x97\\x1f.^\\xbd<\\xbc\\xba\\xdc>\\xd8\\xda\\xd8\\xaem\\x82<\\xd0\\xae%\\x13\\x11\\xa3\\xde\\xcac\\xe9\\xb8L\\xed\\xc2\\x92bd\\x02\\x1f\\x1cG?\\x1f\\x11|6*\\x04*|>\\xd4\\xc7g\\x83\\x82O\\x06x\\x7f\\xf1\\xe8O\\xa2\\x82)\\xd0\\x8bd\\x0f\\xf2\\xd5\\xd3r\\xf3\\xa2\\xd6<\\xcc\\x177C\\x91\\x8a\\xc1\\x1c\\x15\\xe3\\x16\\nK?\\xb3\\xaa\\x1a\\x9d\\xc1\\x9fL*\\x9e@\\xdb|F\\xff\\x18\\xa4\\xbcy\\xf3\\xd3\\x05\\xcb\\xd0\\x92mt\\xd55\\xbe\\xe6\\x1e]v\\x0eA\\x9a\\x98\\x07\\x85\\xda\\xb1\\xc8\\x08r\\xa5E\\xe8+\\x10\\x86\\xbej\\xc0\\xc6\\x13t\\xa8\\xc8\\xc4~\\xbe4J\\xe8R2cVbH#\\xea(_\\x11\\x12\\xaa\"\\xa8.A\\x18\\xd3\\xa8&\\x8a(\\x83By\\xa0\\x0f\\x99_$\\x0f\\x12\\xaa\\x88T\\x13\\xc3\\x14!\\x1e\\xea\\xa2\\xf3\\xcd\\x0c\\x81I@\\xb8Pe\\x00\\xd7\\x86\\xc5\\xaa\\x80P\\x02\\xc1\\xd3\\xc3\\xe4\\xd99B\\x17\\x0c\\x84\\x18P\\xc4\\xcbE\\\\\\x0c\\xae\\x95D7\\x90hz\\x16\\xdf\\x0e\\x17QIH,\\t\\xc1m\\x14\\xa6\\x89\\xca\\xb2\\x00\\x98\\xd0\\xaa\\x13zX|\\xd7\\x02I3OR\\x93\\xd8f\\xa8WPET,\\x8f\\xdc\\x97\\x052mJo+\\x03\\t\\xac\\x9e\\x86\\xda\\x94\\xe3\\xa1\\x1eX\\xa3?\\x9fC\\xc5\\x92\\x80\\xc9^\\xb1{\\x9b\\x06k\\t\\x95\\x06\\xe9<\\xc7:\\xcb\\x06\\x006`\\xaa\\xb4H\\x1eg\\x89\\xbc+t#\\x99m\\x91\\xa8\\x13\\xae\\xe0\\x86\\xdd\\xdb\\xd6\\x18\\xf3B\\xccO\\xa6\\xeb\\xc5D \\x18\\xdd\\xde9\\xf8\\xbe\\xd1y\\xe9\\xf0\\xd4\\x11\\xccCe\\xea%\\xaa\\x90\\xdd[\\r\\'\\xb7\\x01J}\\x9c\\x87:\\x99\\x02\\xabH\\xea\\x8fe\\x8f\\xa0\\\\\\x835\\x02\\xae\\x8c\\xd2\\xb8\\x16\\x84\\xf0\\xb9\\x02\\xadN\\xef\\x9b\\x83\\xb3\\x9f\\xe2\\xd9= \\r\\x93k$\\xd1T\\x90\\xa4\\x0c\\xd6\\xb2?\\xd2\\x838\\x14I\\x1f6\\xb7^_\\xbe\\xfc\\xcd\\xd1\\xe5\\x87\\xdd\\xa3\\xb3\\x9d\\xc3\\x9d\\xfd\\xe3\\xbd\\x83\\x83\\xbdJ\\xb9\\xe8\\xb0y\\x11\\xbe\\x81\\xcbT\\xcd-J\\x87\\x9f\\xa1\\x8fG\\x85\\x9f\\x8d\\xf0\\x7f5\\xc4\\xf9U?$\\x08\\xeey\\xf0\\xab\\'\\xdc\\x7fG\\x85\\xedX\\xee\\xa0P;\\xad\\xb5/\\xea\\xad\\x83\\\\\\xa1\\xeb\\x0f\\x15u\\xc6\\x88\\x18\\xb7R\\xd8\\xe6\\xd9u\\xfd\\xe8\\xac\\xec\\xf1\\x94\\xf6\\xf1\\xb4\\xf1\\xc9\\xac\\xe9\\xf1,P\\xc14\\xb8h\\x19^\\xb6\\x8d\\xaf\\xbb\\x9e\\x93=\\x93\\x14\\xefs\\xb2{\\x8a\\xec\\x9e\\xa3\\xf9H\\x828_^$\\x0c-\\xa5\\xad\\xa3\\xb45\\xa5\\xa6*\\xaaNc\\x9a\\x94\\xd4\\x98\\xd3:\\xcbFo]\\xeb.\\x10\\xe6\\x10a\\n\\xc9\\xacQ\\xb53\\xa9\\xf3d5\\x8e\\x84\\xcc\\x14&t\\x01B\\xe3\\x07\\xe8\\xediw\\xa8\\xe6\\xf0W\\xb4\\xd6\\x84T\\xe3\\xc7\\x94\\x1e\\xb9>dtf\\xac\\xde\\x82\\xc9\\x93W\\xdb\\x12r(cU\\x01\\x80\\xde\\x9a\\xb1\\xb8\\x8aFG^\\xae\\x8db\\xf2\\x00*\\xf3\\xc3Q\\xa6\\x8e\\xc2JD\\xaeM\\xe0\\xf20L![\\xe0\\x00\\xa2H\\x94qL\\x16\\x01f\\xf0\\xc5^:\\xd7FbYh|\\'<\\xca\\xd0\\xbd\\x81G\\x99\\x8bz\\xa1f\\x04@\\xef\\\\\\xaeKC\\xa8\\x80\\xdc\\x81\\xca\\xc3t\\x9eu\\x91\\xa4\\\\XW \\x84\\x17\\x92\\x05*\\x0b@\\xb2\\x80t\\xb9B\\xd5\\xce\\xae\\xa9\\x00kL3\\x99c#\\xb1-$\\x96ivE\\xb6\\xb0\\xaed\\xf0\\xedRM\\x12\\x93G\\x80\\x8bL\\xbe\\r\\xda>,\\x81Ug\\xc9\\xc1\\x13\\x0f\\xa9Gk\\xcap\\x85v2C\\xcf\\xe4;\\xa0\\xb6\\x80\"Ig)\\xc94)\\xb6\\xd0Mb\\x98\\xa9\\x1c\\x9bD\\x05\\xbf\\xbd\\xa4\\xd4\\x17PY\\x8c\\x0e-m\\x96E\\x80\\x05\\xcd\\xceF\\xb6t\\x19\\x88\\xf6\\x94\\xba4\\x9dmYZSb\\xb2\\xa8\\xdd\\xbb\\xe1\\x8f\\xeek\\xadU\\x80?\\xbe\\xdd\\xdc\\xba\\xee\\x1d\\xbd\\x05*\\xec\\x1e\\xed\\xed\\x1c\\xec\\xee\\xef\\xef\\x94\\x8ay\\x9b\\xd5#\\xe4\\xe9\\x18T\\xe9\\xf4\\x1c\\x84\\x04\\xd1\\xa3Q\\xc1\\x17\\xe3\\x82OF\\xb8\\x9f\\x0c\\xf5\\xa9\\xf0\\xe9SXIr\\xff\\xf21\\xe7\\x17T\\xb0\\x84zPR\\x95\\x9ag\\xf5\\xcey\\xbd\\xb9\\x9f\\xc9\\xb5=\\xfe\\xbcF\\x1f\\x12a\\x162\\xdb\\x0c\\xfa\\xc7\\xc8\\xac\\xec\\xc1\\xa4\\xf6\\xe1=\\x15@}^0\\r-YFV\\x80\\n\\xcei\\x9a\\x7f\\x9e\\x19Zd\\x87a\\xe1\\x00y\\x81\\x0c\\xa5/\\x12\\xe7Hr\"5\\x10\\xa2,1\\x941mF\\xacJ\\x88TqL\\x1b\\x97\\x992rKJj\\rK,A\\xa9%(\\xb7\\x86T\\x8e\\xa8\\xc6\\x11SZ\\xc3rSPn\\xf0\\x03\\xf4\\xf6\\xb8\\xdd\\x97s\\xf8sVO\\xca\\xe0\\x88\\xeala\\x93+n\\xf7g\\x9c\\xc1\\x9c=\\x985y\\x12J\\x93K\\xaa3\\x03L\\xee\\x80+\\x9cp\\x85\\xe3f\\xaf_m\\xb5\\xab,V\\xad\\xdda\\x0f\\x86\\\\\\x91\\xa8-\\x10\\xd49\\x9c\\n\\x93\\x05Sk\\xd5\\x16\\xbb3\\x14\\x07\\xc0\\xfd\\xf0*>\\xae\\x16K}\\n]\\xc2\\xe4(\\xd9\\xbd\\r\\xa3\\xbd\\x84\\xc9\\x83P\\x17\\xb3\\x84\\x16\\x99&j\\xf3T=\\xe1\\xb6\\xcdS\\x91j\\xa0\\x95\\xee`\\x0ba2\\x9czK\\n U\\x07y\"+\\x8bo\\x0460\\x85v6\\xe2\\x84\\xf2\\x13\\xe8\\xb2F\\xd7-\\x91\\x14\\xcb\\x14%Kh\\x97\\xaacjc\\x06\\x95\\xfa\\xe9\\x1c\\xd32I\\xbe\\xb0J\\xf0D\\x0e\\x85.\\xae\\xb7\\xe4\\x94\\xfa$\\x93k^^\\x97\\xaf\\x90\\x94\\x0c\\x9e\\x13\\x93\\xc7%\\xaa\\x94X\\x1ae\\t\\xdc\\x0b\\xd0\\xf6YR.\\x93\\r,\\x81\\x1f\\x9au|4B\\xe7z\\xd6\\xc07D2Q\\x98.!\\x16\\xd7\\x1a\\xeb2U\\x012\\xe3:\\xd5\\x06\\x10\\x12i\\xbdm\\xcb\\xe1?\\x96\\xe9[\\x88\\xac\\xa8\\xb14!\\x9c46\\xdf\\x82b\\xb0{x\\xd2\\xdb=\\xd8\\xeat3\\x89\\xa4\\xd9\\xe0\\x14\\xf24t\\n>=\\x8f\\x0fO\\x00\\x15\\xf8\\x90\\x1d>\\x1d\\x11@\\x82\\xf8b\\x18\\xf97*\\xfc\\xa2\\xd5\\xe8\\x8c\\xefg*G\\xe5\\xd6Y\\xa3\\xdb\\xa7B*\\xd3tz2\\n\\xb5\\x8f\\'\\xd4/S\\xf5\\x13\\x8b\\xca\\xa7\\x93\\x92\\xaf\\'u\\x8fg-\\x90\\x17\\x06\\x16\\x0c\\xc3+\\x96Qp\\xa9\\xc0b\\x92\\xe4\\\\`\\x04V\\x81\\x01Bh\\xd0&\\xc8\\x828t\\xf8\\xa1\\xdd\\xc4\\x10\\xc7\\xb9D\\x02\\x91\\xa7\\xc4\\xca\\xb4H\\x11\\x17\\xca\\xa3\\x02YX\\xa8\\x08\\x89T\\x11L\\x9d\"\\xd4y\\x00\\xaaH\\x89\\x15IT\\x01\\xf9;#SeepT\\xa6\\x01\\x84,!\\x91\\'\\x15\\xea\\xac\\xdeT\\xd2\\x9b\\x8b\\x1aCV\\xaa\\x88\\xc9T1\\xa56\\xa95f\\xb5\\xa6\\x9cB\\x1b\\x07\\x01\\x0cW\\x06\\x94\\xfa\\xa8\\xde\\x9a692FGRm\\x8e\\xc8u~\\x85\\xc1\\xaf\\xb3EL\\xae\\x84\\xd1\\x19\\xd3\\xdb#j\\xb3_\\xaew\\xc3\\xc0\\x11\\xc8\\x02\\x93,\\x9e\\x84\\xca\\xe4#TN\\xb96f\\xb0\\xe5\\xed\\xde\\x1a\\xf40`\\xee!\\xa8\\x88$nX(\\x19\\xed\\xf9Pb+\\x99\\xdf\\x8f\\xa4\\xb6\\x0c\\xb6\\x8cL\\x13\\x92\\xa9\\x83\\x1ac\\xdc\\x1b\\xaa{\\x82U\\x835)\\xc4\\xac<\\x91I\\xa9\\x8b@x\\xf7\\x84Z\\x9e`\\xdd`Mc2H:\\x06\\\\\\xeeu\\x07j\\xe9\\xc2~,\\xbdm\\xb2\\xa7\\x05(\\xa4$%\\x1c\\xad\\xae\\x9c\\xcb_\\xb68\\xb3\\xb0&\\x87S\\x16_\\xc7G\\xadZs\\xda\\xe2*\\x19mP\\xb8\\xf8\\xd7(\\n\\xe0\\x07d\\r\\x11\\xeeUj\\x13\\x12\\x05\\x14C\\xaeu\\xaanj\\x1e[\\xa3\\x1a\\x04hP\\xa9+\\xa8\\xf5%1\\x11g\\x80\\x99\\x88d\\\\%\\x9b\\x98\\x820\\xa6*C\\x07\\x96\\x83\\xa6\\xa1W\\xa10T>\\xa6\\x89o6z\\xa7\\x9b;\\x07\\xed\\xcef1\\x9b\\rx<j\\xb9\\x91\\xc7R\\x92WESs\\xc4\\xc8\\x04\\xfapT\\xf0\\t\\xf4\\x94\\xa0\\x910\\x04k\\x07!T\\t\\x7f\\xfe\\x90\\xf5_\\xbf\\xfe\\xa5\\x00\\xe1\\x8c\\xefe\\xaaG\\x95\\xceE\\x03\\xa2Bm7\\x99\\xa8y\\xdci\\xad\\xc6\\'\\x14h\\xd7(@X\\xd0\\xb8\\x88/\\x9fI\\xbf|&\\xffzR\\xfdd\\xd60\\xb4h\\x19]\\xb1\\x8f\\xaf9&\\xc0\\xdb\\x0824\\'\\xba\\x0e\\x82\\x908M\\x11\\xa5\\xa8bPoA\\xee\\xcb\\xb0$ 7\\xf7\\xa5\\x1d\\xae,\\r\\xe0\\xc9\\xd3\\x02%T\\tY1\\x90@U@Uy\\xe8\\x06\"\\x8a\\x94H\\x9e\\xc2\\x95\\x19B\\x95%\\x94\\x19\\x1c\\xc6\\xf2\\x14\\xa1H\\xe3\\xb2\\xa4\\x08\\x8f\\xe2\\xb28p\\x82\\x90\\'\\xc4x\\x18%\"D\\xff4\\x81K\\xe3P!Ba(&\\xa2(\\xa4jY\\x8cP$d\\xea\\xa4\\x14\\x02\\x0f\\x11D\\xf0\\x00$\\x02H\\x07p\\nG\\\\\\x1e\\x85S\\xa9*\\xa9\\xd0\\xc2L\\xe4\\x15\\x9a\\x1c\\xd0\\x0ez\\x03\\x1c\\x13\\x99\\xdb\\x00\\x00 \\x00IDAT\\xd0&\\x91\\xa9\\xfdJ]Hm\\x88\\xe8-\\t\\xb9\\xc6/\\x96\\xd8\\x11\\xcc\\xa2\\xd6\\x05-\\xf6\\x94\\xc3\\x9d\\xb5\\xbb\\xd2\\x06sD\\xa5\\xf5\\xaa\\xb4\\x1e\\xbd)\\xe8\\xf6e\\x01Fk\\x84\\x90Zy\\x02\\x95B\\xedvy\\xb2\\xb1d\\x13\\xe0\\xf6\\xe5\\xb4\\x86 J\\x98UZ_8V/\\xd7\\x0f\\x8b\\xd5}O\\xa0\\x88\\xcb\\xec|\\x91Nm\\xf0\\'\\xb2\\xdd|e7\\x9aj\\x99l\\xd0&\\xb2\\xa1\\x12\\xe0A8\\x91\\xdbL\\xe6\\xb7\\x03\\xd1\\x86\\xda\\x10\\xa60\\xe4B\\xd4\\xa67\\xa7\\xfc\\xe1v*\\xb7\\xe7\\t4d\\xaa\\x08\\x8de\\\\Z\\x93+u\\x99H\\xf20[\\xbar\\xf9\\xb61i\\x02j\\xe4U\\xf2G*\\x08#\\xd0\\xbc\\x02Py\\x11hXi,\\xf5d\\xe1\\xac\\xdd{\\xb7\\xd9;\\xed\\xed\\x1dw7\\xb6\\xd3\\xf1\\x98\\xddl\\xc2\\x11\\x05eU4=A\\x1b{&\\x1a\\x1c\\x15=\\x18\\x14~\\xf2\\xb4\\x8fO?V\\x8b\\x90\\x1a\\xfe\\xec\\x01\\xf3\\xff\\xfa\\xea\\x97\\xb2\\xa4#\\xb6\\x9b\\xad\\x1e\\x95\\xdb\\xe7\\xf5\\xf6i\\xad\\xba\\x93\\x88W\\x9d\\x8e\\x84B\\xe1\\xe2pT\\x8b\\xeb\\xca\\xc9\\x05)P\\xe1\\xc1\\xa4\\xf2\\xd14\\xf0@\\xf7\\x14\\n\\x85y3P\\xe1\\xd9\\xbak\\x8a\\xea\\x9b\\xa1\\x07\\x16\\xd8\\x91UA\\x82\\x02\\x12\\xb0\\xb4\\x08`\\xc9J\\x00\\x8e\\xa2\\xc2UV\\xe1\\xf8\\xaf\\xa8r\\x95u\\x9e\\xaa\\x81\\xa8\\xeb\"uU\\xa8*\\x0b\\x94\\x05P\\x8a\\x85`APB\\xb3=\\xcb\\x93\\x83~\\xd3\\'\\r_\\x9e\\xe7\\x81\\x06(\\xcds\\xa5\\x05\\x9e\\xac\\x04\\x95\\x07_\\x91\\x07Jq\\xa4)\\x8e4\\xc1\\x96$Xh\\x9e\\x8d\\x96\\xb9x\\xe5\\x1e\\x1c\\xbc\\xcc%\\xfa`c\\x05\\xf8\\x11K\\x9cc\\xa1\\x19\\x0e\\x9e\\xe5\\xe0`eH\\x83\\xd8\\xc1\\xc6R<IF \\xcb\\t\\xa4}\\xf0%i.\\x16\\xe1\\xe2\\x11\\x10~\\xfau\\x9f2)\\x96\\xc7\\x04D\\x90\\x87\\xf9D\\x12\\xa8\\x06\\x02bi\\x80P\\x06\\x15P\\x7f\\xc8\\xbc\"\\xc2\\x81J\\x9c\\xc0\\x1b\\xb5>\\x04D\\x91)\\xdd|D\\x87I,\\x1a\\x9d\\xcfb\\x8b\\x19LA\\x9d\\xc1\\xafT\\xbbp\\x89\\x19#L\\xd0\\x86qz\\xd2@\\x1a\\xe8\\xcb\\xe1R\\x8b\\x10\\xd5\\xc9T6\\x93-\\xe4\\x0f\\xe7\\x01FkPL\\xe8\\x11L\\xab\\xd29\\xfc\\x91\\x14\\xd0\\xc1\\x1bJh\\x8cv.\"\\x91*Mvw$\\x9a,\\xa5r\\xf5p\\xbc\\xa05zx\\x88\\x92L\\x17\\x99\\xac\\xe1x\\xaa\\x99-l\\xf9CU\\x89\\xdcEc)\\xe6\\x96\\x05\\x13\\xb3\\xece\\xa6\\x99\"\\xf4Q\\x85\\x81\\x15\\x96\\x9b\\xcc\\x0f\\xe8\\xec\\xb5t\\xe9\\xb4\\xd3{\\xb3\\x03}\\xa6\\xab\\xbb\\x8b\\xf3\\x8bn\\xa3\\x1a\\xf48%b\\xf5\\xea\\x02ox`\\xe5\\xc9 \\xff\\xf1\\xa0\\xf0\\xab\\x01\\x88\\x04\\xe2\\xcf\\x87\\xf0O\\x9f\\n\\xa0J\\xb8/\\x18\\xff}T\\xf0\\xa6\\x0f\\x0b\\x8d\\xb3J\\xe7\\xaa\\xde>\\xbb\\xa7\\x82\\xc3\\x99\\x84E\\x0b\\x9b\\xab\\x81b\\x1b\\xc4\\xef\\x919\\xf9\\xc3\\x19\\xcd\\x13\\xb0+\\xce\\x9b\\xa0\\x85\\x00\\x18YrL\\xac{gh\\xa19F\\x04T\\xbeU~\\x8aN\\x14\\x05\\x9a\\x96P\\xdd\\xe4+\\xaa<E\\x85\\xd7?\\xfe\\x0b\\xf8\\xca\\x1a\\x8c\\xb9\\xb22GV\\xe6+\\xeb\\x88\\xba\\x85\\xa8\\x9b\\x88\\xba!\\xd2\\x003\\xaa|e\\x91#\\xcb\\x81\\x00\\xfd\\xaf(\\xb0%\\xa0\\xfa\\x17\\xd8D\\x91\\x85\\xf7\\x07,\"\\xfb\\x11)p\\x15\\xf4\\x01\\xda\\xa0\\xb8\\xc8BAt\\xee\\x83\\x01\\x801V\\x02\\xc0\\x80\\x01\\xd2\\xa28\\xcf\\xc2\\xe0\\xb5%\\x06V\\xa0\\x8a\\xc0|\\x90c\\xc1\\xbb\\xc1{~\\x04\\xe8\\x8at\\x14\\xd4\\xc5\\xfe\\rp\\x1b\\x13-\\xdc\\x83\\x85\\x15\\x98X\\x8e\\x81f\\xe1\\x08\\xbf\\x94+-\\xb1q\\xf8E\\x19\\x86(\\xcd%\\n\\x02Y\\x19\\xc0\\x93\\x149x\\x1e\\xa4j\\x9e\\x14<T\\xe0\\xa3)\\x02\\xb8 taI\\xc8\\x89l4\\xc9\\'2\"y\\x1e\\x07O\\x8d,\\xc3\\x07\\x19I\\x14\\x16\\xe01\\xa9&\\xaf2U\\x94\\x86\\x12&K\\x08\\xb1\\x10\"\\r\\xe1\\xfa\\xa8\\xd4\\x18\\x97\\xe8c\"\\x85\\x9f\\x8d\\xda\\xf9\\x12\\xb7D\\x1b\\xd1@\\xb2s\\xe5\\x01\\x84\\xda\\xcfFL\\x0c>\\x04\\x95\\xa8\\xd3W\\xf6\\x86jVWA,qQ`-\\xb0,\\x9a\\x98\\xe5\\x8d/\\xc8\\x9e-\\xabF\\xc1\\xce9\\xab\\x98\\xa3\\xd8\\xd4\\x962\\xb4\\x07\\xbb;\\xafwv\\x8f/.o_\\xbdxywyV-d\\x8d\\x1a\\x07D\\x85\\xe1\\xa7k\\x03\\x83\\xc2\\xc7O\\x85_\\x0e\\x88~\\xf5\\x04\\xfdl\\x90\\xf8\\xd5\\x93~\\xc1\\x08\\x81\\xe1\\xbe\\\\\\xf8E\\xad\\x10\\xcc\\x9f\\x96Z\\x17\\xe5\\xf6e\\xb5yR*\\xf7b\\xf1\\x9a\\xc3\\x99V(=\\x1c\\xbea\\x91\\xac\\x9f\\\\R\\x0e\\xcd\\xca\\xbf\\x9aR?\\x98\\xd1>\\x9e\\x85\\x8e\\x82\\x150\\xb4`\\x1f[qOQ\\x82@\\x85Evb]\\x98e\\x10%\\xbe\\xba\\tT\\x809\\x16(k@\\x08\\x00\\x0c\\x84\\xaa:\\x1c\\xff\\xe4\\n\\xdc\\xd0A\\xd4m\\x80H\\xd3\\x16\\xaa\\x1b|%x@\\xfee\\x9e\\xd8\\x92\\x12\\x0b\\x9eoI\\x95-\\xa9\\xb1\\x89\\x1a\\x13\\xab2\\xb02H|\\x1f\\x91\\xa7\\xa3Y\\x9a8C\\x87f>\\x9e\\x05\\xc0\\x00d\\xeb{\\xc0\\xf8\\x1e4,C\\x85\\x1b$y:\\x91\\x83\\x01I\\x94\\xa4\\xa0i\\x18\\xd0\\x88,\\x8dH\\x03\\xa8x\\x9a\\x8afh\\xf0r<G\\xc3\\xb20\\xbe\\x07\\x8c\\xef\\xd1\\x7f\\x1f\\xf4\\xe3\\xbb\\x81,.\\x02\\x03f\\x8aM\\xe48\\x92<\\x1cYx\\xf6#`\\x9c\\xe7\\x10\\x85>$\\xd0N\\xed{\\xf2\\xc0\\xa7\\xc9\\x14\\'9X\\x86GdA \\xe5\\xfe\\x0b\\x12<,)\\x92\\xe5PE\\x01\\x95\\xe7DDZ\\x88\\x01]\\xe2<h|)\\xa2\\x1ci\\x84\\x89\\x05\\xc1\\x82\\x05`\\xa0\\x01\\xae$\"\\x94C]\\x05\\xe2S\\x88\\x8d\\x01E|\\x88,,7d5\\xd6\\xa2\\xc2\\x94\\xe5K\\xfc\\xabt\\xdd\\xd4\"><)\\xfcrX\\xf0\\xd5\\x08\\xf2\\xeb!\\xe4\\xc1\\xb8d\\x99\\xe5W\\xdb\\x1b\\x91\\xfcY\\xa5\\xfb\\x02\\xa8p{\\xf7\\xe6\\xdd\\xebo^\\x9d_4\\xf3\\x05\\xa7\\xde\\xcdYG\\x9e\\r.\\x0f\\x0c\\xb2\\x1e>\\xa1\\x7f9\\xc8\\xfe|\\\\\\xf8\\xeb\\t\\xd1\\xe7\\xa3P9\\n\\xbe\\xe87\\x18\\x04\\x9f\\r\\xf3\\x7fA\\x85p\\xe1\\x0c\\xa8\\x00\\xa84\\x8e\\xa1\\xbf\\x04\\xde$\\xab-)\\x93\\xbbY\\\\\\xc3<\\xd90\\xb9\\xdc\\xdf\\xd6\\xf2\\xd5\\xb4\\xf6\\xc1\\xac\\x1e*\\xc7\\x819;\\xe0\\xe9\\x82}d\\xc5\\xfd\\x9c\\x12\\\\`%V\\xf9Y\\n<\\x9aD\\x85%\\x85\\xa7\\x1fx\\xd0\\x10\\xaa\\x005DU\\x13\\xa9\\xeb\\xa8\\xb6\\x0fL\\xd7\\xc0u\\rL\\xdb@\\xd5\\x1bb\\xd5\\x96H\\xb5)Rw\\x00\\x88\\xb2)\\x90\\xd78\\xc4\\xfd\\x03\\n\\xcfh\\x89\\x85V\\xd9X\\x8d\\x85\\xd5\\x19\\xa2{T\\x19\\xa2\\nC\\x0c(\\xd1E \\xf8\\x82\\xfe\\x0b\\xd3\\x0f\\xb3\\x05\\x8f{\\x86&NCu\\xf2\\'\\xe8\\x17+0\\xcd\\xffF\\x052\\xfc\\x14\\xe6\\x18\\x07d\\xa8x\\xaa\\x0f,\\x05\\xb9\\x0c\\x00?\"\\x8bS\\xf7\\xb8\\xa7\\x0b0\\xa6\\x0f\\xa0\\x0e8\\\\DI2\\x12\\xa3\\x80\\xd3\\x02K1AU\\xc7\\xe1\\x97&\\x01t\\x98u\\x14HY\\xfc7\\x80\\xc5\\xe1\\x1e\\xf4~@\\xeaG):h\\xd0`q@A+/r\\xb0\\x12_R\\x05\\xf0@\\x86F\\x8b}`e\\x16^\\xbb\\x07p\\x9d..\\x03X8\\xf86*l\\xbc\\x04/dC,\\xc4\\x0b,,\\xc7%rbU\\x85\\x80\\x0fP\\r\\xe9/\\xb9BwL.i\\x06\\'\\x88/\\x9e\"\\x9f<\\xe6\\x7f6\\x80@\\xd3o\\x95\\x13\\xbe\\xa7B}\\xf3eo\\xf7\\xe8\\xfa\\xf6\\xf5\\xdb\\x97\\xafo\\x8f\\x8f\\xab\\x99\\x8cC\\xeb\\xe2S\\xd0\\xb9\\t\\xda\\xd3a\\xce\\x93A\\xd6\\x97\\xc3\\x9cOGy\\x9f\\x0e\\x03\\xf8\\x9f\\r\\xf7I\\xf0\\xe9\\x10\\xef\\x93\\xc1?\\xd1\\xa2\\x80\\x14\\xa1\\xe2i\\xaeyVl_TZ\\xc7\\xf9\\xe2V0\\\\2Y\\xe3\\x84\\xd4\\xc9\\xe0\\x1af\\x81\\n\\xab\\x9a\\xa1\\x05\\xe0\\x81\\xf1\\xc1\\x9c\\xf1\\xe1\\x9c\\xe5\\xd1\\x9c\\r\\xf0t\\xd19\\xb6\\xee\\x9b\\xa2\\x85\\x17\\xd8\\xc9UA\\x96\\x0c\\xb1ZR\\xe5\\xc8\\xff\\x95\\x07\\x10\\x0c\\x14\\x15DU\\x15\\xa9k\\x98\\xa6\\x86\\xf6Q\\x15\\xab\\xc1X\\x06a\\xb6.\\x906\\x052`@C\\xa8h\\xf2e5\\x0e\\xfc\\xfd\\xe2<]t\\x8f\\x02\\x1d)Q\\xf8\\x05\\x12\\'\\xbf\\xce.\\x928%\\n\\xafL\\x15\\x94)\\xfc\\x12\\x99\\x9f\\'\\xf3s$~\\x86\\xc4\\x87\\xd5\\n\\xb8\\x8c\\xc0\\x1c\\x9b\\x06\\xc0\\x18@\\x12\\x80\\x9f \\xb1\\xce\\x8f\\x93@\\xd8\\xc5st\"O\\xc3\\x0bT,OAs0\\x80\\xe4u\\x7f\\nW\\xc8h\\x8e$\\xce\\xae\\nS\\xf7X\\x17e\\xe0\\n\\xe5\\xfe\\xba\\x08\\xa2HfM\\x98\\x02\\xac\\n\\xe0\\xefJ\\xac#\\xc0\\x1b\\x08\\x1eE\\xb2(\\x07\\x1e\\x16\\n\\x92\\xa1\\x8a!\\x90\\xe4)\\xe2\\x1cY\\x9c%\\x8b\\xfa\\x801\\x80*\\xce\\x83\\xe1\\x05\\xd0\\xf7\\xb6@\\xde\\xc1\\xfay\\n8\\x019\\x88\\'\\xad\\xc2_\\xcd\\x93Ta\\x9a\\xe1\"M\\x0c\\xd6\\x982\\x13\\xaf\\x01\\x80\\x10\\xfd#QgK\\x1a\\\\i\\x9d\\x0b\\xb1\\x10\\xaf\\xdc\\';6^\\xe6K\\xcbbU\\x03\\xd7\\x82\\t\\xaa\\x0e\\xee\\xbde\\xbaw|N\\xf7hT\\xf2\\xf9\\x80\\xf8W\\x0f\\x05\\xbf\\x1e\\xc2G\\x17L d\\xeb\\x9c\\xadL\\xfd\\xaew\\xf2\\xdd\\xc9\\xf9\\xcd\\xed\\xcbo\\xde\\xbdy{{z\\\\N\\xa7l\\x1a\\xa7\\x88A,\\xcfr\\x86Fy\\x80\\x87\\xe3\\xc8\\x17\\xe3\"XL\\xc2\\n\\xe2\\x13h*@\\xe5\\x08\\xfd\\xa5\\xc7\\x9c_&\\x88\\xc2q\\x9f\\n\\x9d\\xcbZ\\xeb\\xe4\\x9e\\n\\x06s\\x0c\\x93\\xd8i\\\\\\xfd,\\x05v,\\xa9\\x9f\\xcci\\xbe\\x98\\xd4~\\xfe\\\\\\xf3\\xd5\\x94\\xf1\\xc1\\x8c\\xe5\\xe1\\xac\\xf5\\xe9\\x92\\xeb\\x19%4\\xcd\\x88\\xcd\\xb1\\xe2\\xf3\\xec\\xc4\\x9a \\x0bT\\x10\\xe96U\\x8e}\\xb5cOf\\xde\\xfc\\x18\\x03\\xea\\xc0h\\xb0\\xa5\\x00\\xe4\\x06\\x18\\xd4\\x08M\\x05\\x91\\x96\\x11i\\x05U\\xd4p`\\x89\\xaa\\x8a@\\x85\\xf8\\xd1\\r\\xc0\\xf9\\x98h\\xe1T\\x00\\x11\\x02\\xc9\\xd0xI2;N\\xe3\\xa5\\x98B\\xb0\\xb4d\\xe9|\\x90}\\xe3\\x002\\xd8C\\xb8`eK\\xd3\\x91\\xec=h`!\\x11\\xa4)\\xfc\\x14\\x80\\xcc\\x03g[\\x9a\\x86\\x80W,OC\\xf2T$\\x07\\xa0\\xc3c*\\x06\\xf3H\\x9e,\\x84\\xe9\\xcc\\x91\\x91<\\t\\xc9\\xad\\t\\xc0\\xbc\\x94^\\x17f\\xd6\\x11\\x98K\\x98\\xda<L*\\t\\xc9\\x92DY\\xa8{Vx\\xc9\\x15~\\x1fk\\x82\\x14\\\\\\xa4\\x88\\n\\xf0*\\xb2 K\\x817\\xec\\xdf\\xdc\\xe7\\x01\\x90f\\x1dI\\x03`\\x00\\xa7T\\x14~\\x94\\x83\\xd2\\xe4cu\\x02a\\x03\\xa6\\xbc\\x7f\\n\\xc7~]B\\xf4\\x0b\\x97\\xfb+dx7q\\x99\\x8aUiX\\x95\\x8aV(\\xe2\\x12\\x19\\x1c.\\xe2\\x12\\x80\\x8a\\x96ih\\x19LS\\xf0\\x12\\xb6\\xa4\\x0c\\x19V\\xa4i\\xa2\\xda\\x06\\xa2\\xaa\\x80A\\x1c\\xf6\\xaf\\x827\\xff\\xabQ\\xe2\\x8b\\x01\\xc9\\xaf\\x1e\\x88\\xbf\\x1eQN,;i\\xa2\\xac\\xde\\xb3Q\\xeb}\\x7f\\xf1\\xfao_\\xbd\\xfb\\xee\\xcd\\x87\\x1f\\xbe\\x7f\\xff\\x1e\\xa8PL$Lr\\xab\\x80\\x8a.L\\xb1\\x07\\x86\\xd8\\x10\\x18\\x1e|\\xa4\\x02h\\x10\\x9f\\xc1J\\xf2#\\x15\\xfe\\xfc\\x11\\xfb\\xcf\\x1e\\xb2~A\\x85X\\t\\x9c\\n\\x97\\xd5\\xeeu\\xb3sZ,o\\x85\\xc2%\\xbd!,\\x12\\x9b\\xc9\\x0c\\xcd4l\\x80\\x9c\\x93=\\x9eVB\\x82\\x00<\\x9a\\xb3>Yp\\x0c,:G\\xd6|c\\xa4\\xc08)0A\\x0eL\\xd3#K\\x9c\\x04\\xf8v\\x84\\xea\\x8e\\xd1wj\\r]\\x98\\x03\\':\\xd7\\x0ex@\\x14\\xe6\\xb6\\xde\\xb1\\xe1\\x0c\\x1dz\"`X\\xda78\\xba2mY\\xaa)\\xa9\\x8du\\xb3k\\xc3`o\\xab\\x8c\\x15\\x89&\\x8bH\\xe3byR\\xa2\\xc9+\\x8du\\xad\\xa5+\\xd7\\xd5\\xc5\\xf2\\x92\\x00\\xcf\\x89\\xc0H\\xa8\\xac\\xa1\\x8a\\xaa\\x90(rDi6\\x92b\\x08S\\xe0Kc\\x89\\xf2\\x9c\\x8f\\xc1\\x96%.0E\\xf9?\\x05\\x03\\xc93\\x90\\xc2\\x9f\\x82)*3\\x90\\x12MP\\xa4\\xf2\\n}\\x08\\n\\xe0,\\x02+\\x11\\xe0~\\x00\\xe6\"\\x00\\x9c\\x82\\xd7\\x08b5E\\x00\\xf7\\x14\\x01\\x10\\x9c\\x004a\\x99\\x8eT\\x01\\x10\\x9c>\\xa2H\\x01\\xe6\\t\\xd2d>\\x98\\xf0\\x92\\x1f\\x01\\x1b7\\xb2\\x1fi\\x97\\xa7\\x08r\\x00\\xaa0\\x0f\\xe8\\xc70^v\\x9d\\x07\\xd6\\x98\\x0c\\x05\\xdcM\\x1fA\\xed{\\x9cr\\xa4\\x8f\\x8c\\x04\\x86}D\\x9e\\x8c\\xe4H@5$G\\x01\\xfa\\x02\\x89\\xff\\xa5\\xd4-\\xf2\\xe5e\\xa8\\xac!\\xbd\"JH\\x1c\\x89y\\x9a}hN\\xf9\\xf5\\x18PA\\xfa\\xd9c\\xe2\\xc1\\xa8\\xfa\\xf9\\nh:Ekh\\xb7}\\xf8\\xdb\\xbb\\x0f\\xff\\xf0\\xedO\\xbf\\x03\\xfc\\xf8\\xdd\\xb7\\xd7\\xc7\\x07\\xf9X\\xcc(\\xb3\\xf0)\\xe2\\xb9I\\xf6\\xe0\\x08\\x17\\x12\\xc4\\xaf!5@H\\x80\\x16\\x13\\xf4\\x97\\x06\\x05\\xf7T\\xf8\\xaf\\x0f\\xfeD\\x8b\\x02R$\\xca\\xa7\\x95\\xcee}\\xe3\\xba\\xde:\\xca\\x17\\xba\\xc1PQ\\xaf\\x0fa\\x98\\x85\\xc6\\xd2\\xcf\\xad\\x83\\xd5Z\\xf1t\\xae_3~=\\r0}=c\\x86\\xa80\\xb8\\xec\\x1a\\\\\\xea\\x03*\\x86\\xf1u\\xdf4%\\xb8\\xc4\\x8aQE9\\xa9iK\\xe3\\xdc\\xd7{\\x0e\\xf4\\xee\\x1d\\x95mCm\\xeb\\x98\\xbd\\xdb\\xe1\\xecU\\xa6\\xf2\\n\\x10N\\x9d\\xe9,\\x15\\xb5\\xa1\\xe0\\xf2w\\x0b\\xd5\\xebZ\\xfb\\x15\\xc8\\x80\\xfehWo\\xcdjL\\x19\\xa3\\xbd\\xe8\\tuS\\xf9\\xb3h\\xea\\xd0\\xe1\\xedh\\x8cE\\xad\\xa9\\xe4\\xf2ozC=\\xa7\\xaf\\xab\\xb7\\x94`\\x9d-U\\xa5%\\xca\\xbcJ_\\xb5\\xba\\xb6@\\xef\\xb787qEF$I\\xc0Qgi\\x98\\x1c\\x1d\\x90.\\xa5\\xea<&\\xcf@\\x93ND\\xa4\\x08eQ\\xa9\\x03a\\xa9\\x8a\\xcaJ\\xe0\\t\\x10\\xe2\\xb0\\x1c/\\x08`\\xa5\\x8a\\x83\\xd51\\xce\\x14%Y\\xe24K\\x94\\x01C\\x11\\x13I\\xb3\\xc5Y\\x183\\x04\\xf7T+0\\x91<\\x13\\xc9\\xb1\\x90\\x02\\x80.\\xc8\\xd3\\xf99:?O\\xe5\\x83W%I\\xe5\\x83a\\xae\\x1f\\x84\\xc8\\xdc$\\x89\\x0b\\x834\\x15\\xd8\\x00\\x965\\x1e\\xd8\\x9f\\x80\\n\\xc0\\xa1\\xdc*;\\xb5\\xccL\\xac\\xb0\\x12\\xebp\\x03\\xbfO\\x08\\x12\\x0f\\x08\\x94\\x01\\xb7\\x12\\xb8\\xe2\\x00k<\\xb0y\\xf6\\rp\\xf7V90\\xc9\\xadq\\xe2\\x80u0\\xf1\\n\\x93L,\\x03\\x0bi\\xe0\\x01\\x98\\xada\\xd3\\x07]\\x1c\\x01?\\xfe\\xf0\\x9c\\xec\\xe1\\x18\\xf1\\xd5\\x80\\xec\\xcb\\'\\xd2\\xaf\\x87U\\xcfW\\xbc\\x02y\\xdd\\x11\\xdd\\xaf\\xf6\\xbe?\\xbe\\xfd\\xf9\\xf5\\xfb\\xef\\xde\\xff\\xf0\\x9b\\xef\\xbf}\\x7f~\\xb4\\x97\\x89\\xc5t2\\x0b\\x8b$\\x9c\\x9f\\xe1\\x8dM @\\x85\\xcf\\xa12\\x18\\x06*@\\xabQ\\xfc\\xd9 \\x02\\xeb\\x88?\\x7f\\xc8\\xf9\\xaf_\\xff2*$@\\x93\\x04\\xc7\\n\\xf4\\x15\\x1a\\x07\\x85|7\\x18(\\xe8u\\x01Tl\\xa40\\xd43\\xabJ\\xf0S\\xc3\\xe6Zh*<\\x9a\\xd6<\\x9a7=\\x9a7?\\xe9kQP9Z\\x9f\\xce[@\\x96\\x049\\xea\\xd9j\\xdf\\xa90G\\xf3C\\xef\\x19\\\\{`\\xf5D5%\\xd8\\xb6\\x00N_\\xa9\\xbed\\xf2lD\\xb2g\\xd9\\xda]\\xbat\\xe5\\xf6\\xd5\\x8d\\xe6l(\\xda\\xd9\\xday\\xfd\\xea\\xcd\\xdf]\\xdd\\xfefc\\xfb:\\x96jCc\\xc7lO\\xfa\\xc3\\xb5f\\xe7\\xa6\\xd6\\xba\\x8a\\xa7z6WYoJ{\\x03\\xadDz/S8\\x8e%w\\xec\\xae\\x8a\\xc6\\x90\\x01B\\xd8\\xdc\\xcdb\\xed\\xb6\\xb3\\xfdm\\xa5\\xf5\\n$\\x19\\x8d\\xa9\\x00\\xcd|\\x7ft\\xa7\\xb9\\xf9\\xae\\n\\xde\\xa4\\xcc\\xa9\\x1d\\xcc\\xe9\\xea\\x9c\\xdaPv\\x07\\xf6\\n\\xd5w\\xd9\\xd2\\xdbP\\xfc\\xd2\\n\\x81J[7\\xb9\\xb6\\x1d\\xc1Cg\\xe8\\xc8\\xe0\\xdc\"4e\\xa1\\x04V}`V\\xc8\\x82\\x9b\\xd2\\xea\\xd97\\xd8\\xb7%P\\xea\\xc2\\xe3\\x08\\xa2\\x9a\\xbc\\xac2v\\x95\\xba\\xb6TY\\x13\\xe1y\\x8e \\xc5\\xe6\\'\\xf9b\\xf0\\xf3\\xd5e\\x9a\\x0e\\x06\\xb5\\x0e^\\xe1\\x89K\\x02\\xac\\x82\\x10uT\\x06\\xa2v\\x97+*\\xb1\\x04\\x05\\x16\\xbf\\xc8\\xe0\\xe6yH\\x89\\x0bcn\\x96\\xc9I\\x01\\x18\\xec$\\x1c9\\xfc,GPd\\xf2\\n4N\\x96\\xca\\xce\\xc0\\x91\\xce\\xcd1xy:/Ob\\xc4\\xd7\\x191\\x123NbF\\xa9\\x9c\\x04\\x1b\\xc9 \\x92\\x92D\\xd5\\x94i\\x9b\\xf0/a\\n\\xe3\\x8bd\\xdb\\xd8\\xb4\\xf2\\xd1\\x10\\xf6\\xebG\\xe2/\\x1f\\x89\\x1f\\x0c+\\xa6W\\xddBy\\xc5\\x9b<\\xc8\\xb5^u\\xf7_\\x9c^\\xdd\\xbe~\\xf7\\xed\\xbb7\\xaf\\x0ez\\x1b\\xf1`H\\x85\\x1b\\xc9\\x8b\\xec\\x99)\\xee\\xe83\\xe4\\xe1\\x00\\xe3\\xd3A\\xa0\\x02\\xf2\\xd9\\x88\\xe8\\x8b!\\xf1\\xa7\\x03\\xc2\\xbf|\\xc4\\xfb\\x8b\\x87\\xdc?\\xfb\\xfaOdI\\x88\\n\\xe9\\xea)\\xf0\\xa0\\xda>-\\x977\\xd3\\xa9j\\xc0\\x9b6\\xea\\xbc\\xb8XOc\\xa8\\xe7W\\x15\\x93\\x0b\\x04\\xac_\\x07fT\\x8f\\xa7U\\x0fg\\xb4\\x0fft\\x8ff\\r\\xd0`\\x00]\\xea\\xc9\\xac\\xf1\\xe9\\x9cy\\x04$\\xca%p*X\\'Va\\x7f\\xb4c\\x99\\x15\\xa0\\x08#,\\x0c\\xc4\\x08p$\\xbbA\\x8f\\xe6`a\\x10\\xf8\\xad\\xbe\\xae\\'\\xbc\\xe5\\xf57\\xf4\\xc6\\xb4\\xcbS.\\x96\\x0fO\\xcf\\x7f\\xb8\\xbe\\xfb\\xe9\\xf0\\xe4\\r\\xf8\\xa6\\xa09\\xa3\\xd1\\xfb\\x8c\\x96(\\xa8\\xb1\\xb9\\xe2n<\\xd9u\\xba\\x0b\\x1a]\\xd8`\\x8a\\xbb\\xbd\\xa5h\\xbc\\x13On\\xf8\\x02U\\x8d!\\x82\\xcb\\xdd\\x1ac\\xb4\\xdc8\\xd9?y\\xbfw\\xfcM\\xba\\xb8\\xed\\xf4\\xe7m\\x9eL4\\xdd<<\\xff\\xe6\\xfa\\xc5O\\'\\xe7\\xef\\xaa\\x8dC\\xb3-\\x012\\x8a\\xd3S\\xa8\\xd4N\\xda\\xdd\\xebB\\xe9\\xd0\\x1fl\\x18\\xcd)\\xa7\\xaf\\x12Mo\\x83\\x19,_=q\\x05j\\n]\\x04\\xf6\\x00\\xca4\\xe1dn\\xaf\\xbd\\xf5\\xb2\\xdb{\\x9d-\\x1d[]e\\xad9\\xe3\\xf0\\xd6\\xab\\xad\\xdbj\\xebE\\x0e\\xd4\\xa0\\xc8\\x8eB\\x93F%\\x11p\\xa3D\\xd3G\\x85\\xda]\\x0c\\x08\\xe7\\xddT\\x19\\xca\\x1aS\\xdd\\xe6\\xde\\xf6\\x85\\x8f\\x03\\xd1S\\xbd\\xa5#\\x86\\xee\\x16?&\\x14\\xa7u\\xc6\\x8e\\xd5\\xb1c\\xb4l\\xca\\x94%1\\x9e\\x11\\x88\\x12\\x02Q\\x12\\x95\\x14\\x08yCL\\xd4\\xf8\\xe22\\x1b\"\\r\\'\\xcd\\x11\\x16\\xc5\\x92\\x16@\\x88\\xd58H\\x91\\xc1\\xcb2xi\\x0e\\x92\\x17K\\xaaRe\\x13\\x80\\xcb\\xaaB\\xa8<X\\x91\\xb9%\\xcb\\xf8\\xa4z`\\x98\\xf8\\xea\\x91\\xf0\\xb3/9_<\\x12>\\x9b3B\\x81\\x15\\xcc\\x1c\\xa6k\\xd7\\xd5\\xee\\xc9\\xce\\xe1\\xc9\\x8b\\xb7\\xef^\\xbf\\xb8\\xedu\\x9b\\x11o@.\\xd2/OQ\\'\\xc6YC\\xa3\\x82GO\\xd9\\x9f\\r#\\x9f\\x0c\\x8b>\\x19D\\x80\\x07\\x9f<\\x11\\xdcS\\x01\\xd8\\xf0\\x8bZ!\\xdf\\xbch\\xf7\\xe0!\\xbb\\xa9U\\xb7\\xb2\\xe9Z\\xc0\\x972j=\\x18\\xa2\\xa1P\\xe5\\xb3K\\x92\\x89\\x19\\xf1\\xd0\\x8ct`\\x1av\\xc1\\xca\\xbe\\x9aT|\\x05m\\xc7\\x19\\xcd\\xd3y`\\x83a`\\xae\\xcf\\x89\\xa1\\x05\\xf3\\xf0\\x02\\xec\\x13\\xb2\\xc0\\xe6e\\xd8*\\x0f\\x1b \\x97Y\\x1e\\xd8\\xa4\\x06\\xbbo\\xc1\\xa9\\xb0H3\\xaes\\xec\\\\\\x90\\x83\\xd5q\\xb0\\xf1\\xcbUI\\xa9\"\\xae\\xd6\\xa7\\xed\\xeeJ4\\xd9+7@\\x0e=O\\x17v\\x8c\\xf6\\xb8\\x1c\\x1a\\xbd\\xfa\\x80\\xd5\\x95\\xf5\\x85k\\xee@\\x05:\\xf9\\n-t\\xfd\\x82zs\\xdc\\xee)@\\xa7\\xc5\\xe1)@\\xe3\\x8f/6C3\\x1f\\xee\\xa94O\\xdb[\\xd7\\xb9\\xca\\x8e;X0\\xda\\xa3Vw\\xa2\\xd4\\xd8;<}sv\\xf9~\\xb3w\\xe5\\xf2\\xe6\\xc0o\\xa1P{\\xfd\\xc1j\\xa1\\x04\\x1a\\xdbN \\xdc0YSZS\\x02:6\\xc1X\\']\\xdc\\x07\\xe3.\\x9c\\nq\\x07Wd\\t\\xc6\\xbb\\xbd\\x83wW/\\xfe\\x06\\x8e\\xfeH\\x0b\\xc4\\x05 Ms\\xe3\\xf6\\xfc\\xfa\\xaf.o\\x7f\\xbf\\xb9\\xf3\\x8d\\xc5QD%^\\x8d1\\x99*\\xec\\xf7\\x0e\\xdfwz\\xafS\\x85C\\xab\\xbbl\\xb4\\x15|\\xa1n\\xa6pRi\\xdc\\xa4rG&K\\x01\\xc5\\xbc\\x02\\xc4\\xe1\\xf6\\xd6Z\\x9d\\xbb\\x9d\\xddoJ\\xe5C\\x939\\x81b6B\\xe2p\\xb9\\x0b\\x8d\\xd6\\xebJ\\xfdU0\\xb2\\'U$\\xb9\\x02\\x0fh.\\x0e\\xf7F\\xaex\\x9b-\\xdc\\xf8C{zc\\x85 \\xe2\\x1aM\\xc1\\xed\\xde\\x0c\\x85\\xf6]\\xae\\r\\x95*#\\x12\\x05\\xa84\\xf3\\xec\\x9ctuMKg\\x98\\xc9\\x14\\xfd\\xc4s\\xe4\\xc1\\x00{zQE\\xa8R\\x89\\xe2Q\\xbeq\\xd9\\xee\\x9d\\x1e\\x9d]\\xde\\xbdz\\xf3\\xee\\xe5\\xcb\\xddN;\\xec\\x0e\\x12|\\xcd\\xc2\\x04y|\\x8c=8*|\\x04\\xc2\\xf40,\\x1f\\xc4p\\xfc\\x1c\\xd8\\xd0o8\\x82S\\x81\\xf3\\x17\\x0f\\x7f\\xb9\\x82\\xc87\\xce\\xc0\\xe8\\xbc\\xb1s\\xd3\\xdb:\\xe94w\\x8b\\x99f\\x08TA\\x95\\x03\\x11\\x9a\\xc8\\x14\\xf5\\xfc\"16\\x07\\x9b\\x00eO\\xa6@\\x9fT~\\xfd\\xb1\\x03\\xfd\\xb4\\xdfy\\x84\\r\\xb2\\xda\\x81i\\xdd\\xd3\\x19\\xdd\\xc8\\xa2q\\x8a\\xe4\\\\d\\x82q-\\x08\\xdba\\x97Yn\\xd8e\\xb6\\xc8\\xb0-2\\xcck\\xb0\\x9bQ\\xe4\\x01\\xc3?\\x97\\xf0qQ\\x1fW\\xe8\\xe3!~\\x11\\x0e\\x06\\xa4\\x08D{\\xa7\\xbf\\x12\\x88\\xb5\\x9c\\x812\\xaep\\tp3h\\x010\\xd9\\n]H\\xa2\\xf2c27\\xf4}\\x11\\xdc\\x8eJ]p\\x11\"\\x01H\\x06 \\x08\\x81\\xccCa*@G\\xb083\\x9e`\\xc9\\xe9\\x87:#\\x80+\\xac\\x84\\xd2j\\xf3$\\x92\\xb9V\\xb5\\xb9W\\xaa\\xf6lN\\x10/\\x8c\\x08j\\xd0\\xe8\\x03\\xfeP\\xd9\\x1f\\xaa\\xd8\\x9c}\\x8d\\r\\xc1m\\xf0n\\xa0\\x0f\\x05\\xa2M\\x87\\xb7(U\\xf9@\"\"\\xd1e\\xa06U\\x9ag{\\xc7\\xef\\xdb[\\xb7\\xbep]o\\x8ei\\ra\\xa7\\'\\xdf\\xdb{uq\\xfd\\x13\\x1c\\x1d\\xee\\x1c\\xac\\xaa\\x08\\xa5\\xdd\\x11L\\x95\\xda\\xbb\\xa5\\xd6n$]5:\"2\\xb5\\xd3h\\x8f\\x84\\xe2\\xb5Ru\\xafP\\xde5[\\xa3B\\x91\\x8e\\'P\\xfb\\xfd\\xb9\\xcb\\xcb\\x0f?\\xfd\\xf4\\xf7o^\\xffX.o\\x18\\x8d\\x1e\\x95\\xca\\x1a\\x0c\\xe6^\\xbc\\xfe\\xebw\\xdf\\xfe\\xe3\\xd1\\xe9\\xb7\\xe1X\\x1b%\\x9c\\xb8\\xd4\\xeb\\xf6\\xd6\\xbb\\x9b\\xaf\\x8f\\xcf~\\xbb\\xb1\\xfd.\\x1c\\xed\\xc9\\xe4Q\\x9d>\\x9bL\\x1e6\\x1a\\xaf\\xca\\xe5[\\xa7\\xb3\\x81b\\x01\\nE\\xbf\\xb6\\xa6\\xd6\\xe9r\\xb9\\xfcY\\xbd~\\x1b\\x8e\\xf4\\xf8h@\\x80\\x85\\xcd\\xaez\\xb9}\\r\\x06\\xbe\\xad\\xfd\\xcb\\xd3\\xcb\\x9b\\xdb\\x17\\xaf^_]w\\xca\\x15\\x8f\\xd9-d\\xc8fF\\xd7\\xc6\\xc6\\xb8\\xc3\\xe3\\xe2\\x811\\xd1\\x17\\xe3\\xd8g\\xa3($\\x88{\\xa7\\xc2\\xbd<\\r\\x8a\\xd4/\\xa2B\\xa6r\\\\\\xed\\\\l\\xf4n\\x0e\\xf7\\xae\\xf6w.z\\x1b\\xc7\\x9d\\xeaN!U\\xf7y\\x8a:m\\\\\\x8c\\xba\\xd7\\x19\\xb6\\xd95\\xfd\\xc4\\x92\\xee\\xd9\\x9aud\\xd94\\x02;bW\\xad\\xa3\\xa0O.\\x9a\\xc7\\x97\\xad`_\\x83]P\\xd01$\\x8c\\xe0Q\\xd8\\x82J\\x87/\\x07\\x93\\x7f\\x0c\\xf6\\xb6\\xf2\\xe51L\\x0f\\xc2tQa\\xc9\\xc1\\x0e\\x10D\\x16\\x15\\x11\\xb0\\x95*\\xad\\xd0Av\\xaf\\x98\\x1cu\\xad5\\xab\\xb7\\xe7\\xd4f\\x90(\\xbd\\xb8\\xca/\\xd1\\x84\\xc0\\xb1\\x08nD\\x01\\xee\\xe6c}\\x08p\\x8f\\x90\\xf0\\x8a\\xe5\\x01p)\\xa2\\xd0\\xa6E\\xdct\\xae\\x8b%\\xf0\\x82\\xf9\\xe0\\xa3\\xb0\\x04F\\x84p\\xdf\\x11\\x89:A]T\\x19\\xc0\\x14Y\\x02E\\xc7\\xee.I\\xe0f\\xbe\\x91\\xcd7\\xa3\\x12\\x9fZ\\x9fTj\\xe2(\\xe1g\\xf1, \\xfa\\x81\\xc7Pk\\xcc\\xd9=u\\r\\xecK\\x91\\xf4\\x05\\xe55\\xaa\\n\\xc1\\xdcVg9\\x14\\xdb\\nD\\xba&[^\\xaa\\x0c\\x8a0\\x07 \\x14\\xeb\\xe4K\\x87\\x89L\\xcf\\x04\"\\xa4\\xc4\\xc5\\xc7L\\x84\\xc6\\xe9\\x8d\\x96\"\\xa9\\x863\\x90\\x95j\\x9c\\x14\\x16\\xc1\\xe4+Tzo0R\\x89\\xa7Z:\\x83\\x8f/T\\xf2\\xf8r\\x87#trr\\xf7\\x9b\\x9f~\\xff\\xf3o\\xfe\\xe6\\xec\\xf4\\xda\\xed\\xf2\\xcbej\\xbb\\xdd{\\xf3\\xe2\\xc3\\x8f?\\xff\\xdd\\xbbo\\x7f\\xd7\\xdd:\"dzD\\xacVi\\x9c\\xe1hi\\xef\\xe0\\xc5\\xc6\\xd6E0\\\\F13\\xc0\\xed\\xc9\\x17\\x8a{\\xb5\\xfaI X\\x95H\\x9dt\\x86\\x9c\\xc5V%S\\x1b/\\xee~\\xfc\\xdd\\xcf\\xff\\xf8\\xf6\\xcd\\xef\\xc2\\xd1\\xb6\\xde\\x98p\\xf9\\xca\\x90+\\x1b\\xdd\\xcb\\xfd\\xa3\\xab\\xeb\\x9b\\x97\\xaf^\\xbe\\xbd>:-\\xa7\\xb2F\\x85\\x85\\xb1\\x82M\\x0e\\x02\\x15\\x04\\xa3\\x13\\xd8P\\xdf\\xd5\\x88\\x7f>\\x86}\\xfe\\xafT\\xb8\\x97!\\xe0\\xf8G*8\\xc0\\x06X:\\x82V#\\x04\\xdb\\xbd\\x9d\\xab\\xc3\\xfd\\xdb\\x93\\xfd\\x9b\\xd3\\xdd\\xab\\xc3\\xad\\xb3^\\xf3\\xa8\\x96\\xdd\\x88\\xfb\\xf2&\\x95\\x0f\\xe7\\xeb\\x99t\\xf5\\n\\xc5\\xb8D\\xd2\\xaf\\xd0\\x9d\\xcbL\\x1f|Y\\xd3\\x0c5\\x00\\x8dgX\\x85C\\x9bV\\xe5\\xdc\\rd\\xaf\\xb3\\x8d[H]\\x16w\\t\\x1eb\\xa5>ls\\xe6\\xfc\\xa1z(\\xd2\\xf6\\xf9\\x1bV{\\x1ed@\\x10\\x94\\xbd\\x91Z2\\xb7\\x95*\\xf4B\\xc9\\x96\\xd9\\x95\\x04Y\\x19`q\\'}Q\\x88\\x10Uw\\x00\\xa2}\\\\\\xa1\\xf3\\xa9\\xf4A\\xa3=\\xe9\\t\\x81}(o\\x00\\xc7\\x8a\\xce/\\x96\\xd9A\\x9bV\\xe8\\x93:k\\xdel/\\xe8\\xcc\\x19\\x85\\x06D#\\xbf\\x88\\xf0\\xe0\\n\\xb0 \\x80\\xcc\\x08BvB\\xa9\\x8d\\xe02\\x08?\\x16\\x00l\\xfb\\xc7ea\\xa92F\\xc8\\xc1\\x94\\x15\\xe4\\x08\\xdc \\xee\\x81\\x07N\\xa5/\\x80)\\x12\\xac\\x91bI\\x04\\xacM\\x14\\xa6\\x85\\xc1\\xb6\\xe3\\xd2\\x98R\\x03Zy\\x02\\x93\\x84\\xb9\\x02\\x17\\x83me\\xf3\\x1cruRg\\xca\\xab\\xf5\\x19x\\x1f6\\xdf\\x0e\\x167p\\xb8\\x80\\x1f\\xda\\xean\\xc1\\x02\\x87\\'\\xf2\\xcd\\xcc\\xcb\\x17W4\\x18\\x1es:\\xbb\\x81\\xc0\\xaeR\\x91\\xe2\\xb0\\x1d,\\x86E#\\x8f\\xb7\\xaaw/\\xaf\\xff\\xf6\\xdb7\\xffxq\\xf4\\x83\\xd5\\x10\\x17\\xf3\\r\\x1a\\xa5wc\\xeb\\xf4\\xe2\\xea\\xdd\\xc9\\xd9\\xebbyS\\x84j\\xf8\\x02\\xb5Hl\\xd0\\xe9\\x83\\x85\\xd2^2\\xd55\\x9a\\x12<\\x9e\\x91\\xc1T\\xcbd~\\x8f\\xa7\\x9aL\\xf5\\xe0\\xa3\\x93\\xc9\\x03t\\x86\\x9a\\xc1\\xd4\\x04C\\xad\\xd7/\\x7f\\xfc\\xbb\\xdf\\xff\\x8f\\x1f\\xbf\\xfb}\\xb1\\xb4\\xe7pf\\x83\\x91\\x1a\\xc8\\x05\\xad\\x8d\\xcb\\xbd\\x83\\x8b\\x8b\\x8b\\x9b\\x8b\\xb3\\xab^\\xb3\\x93\\xf0\\x87\\xd4\\x98\\x9e\\xb6$\\x9e\\x1a&\\x8f\\x8e\\tG\\'\\xf0\\xa7\\xcfp\\xc8\\x0e\\x9f\\xf4\\x13\\x04\\xb8\\x9c\\x85\\xa0>\\x80\\x06q\\x8f?R\\xc1\\x0fV\\xcf:\\xec\\x8f\\xbb\\xeal]\\xedl\\x9f\\xee\\xed\\x9c\\x9d\\x1c\\\\\\\\\\x1d_]\\x9f\\\\_\\x1c\\\\\\x1d\\xc0\\xc6\\x98\\xcaf*Tt\\x18\\x03\\x12\\xccFc\\x99\\xe1\\xa9\\xa2p\\\\\\xb0\\x1b\\x89\\xca\\x07\\x0bk\\x0c\\xf6\\xf1PD\\x19\\x08\\t\\x1a\\xf7\\xbe7}\\x91(_E\\xf2\\xa7}\\xf7\\x87;ovd =gs;\\x85\\xe2A*\\xbd\\x03\\x1b,\\xad\\xce\\x94\\xcd\\x97\\x8c\\xe5\\x9a\\xd5\\xf6\\x01 ]\\xec:\\x03)\\xa3#d\\xf5\\xc4\\x82\\x89R\\xa1\\xbe]\\xaao\\x81:\\xe7\\x0b\\xa5-\\x8e\\xa0\\xcb\\x17\\xcf\\x14\\x1a{\\xc7\\x97\\x9d\\xed\\x83D\\xb6ls\\x07\\xd5\\x06\\x9b\\xcd\\x13\\r\\xa7*\\xf9\\xeaf\\xa5\\xb1\\x1dOW\\xec\\xee\\xb0Rg\\x81\\xeb\\x91d\\xaeXkeK\\xb5`,i\\xb2\\xbb\\x94:\\xa3Rk\\xd0\\x9bm\\x81H<\\x96\\xca\\xfaBQ\\x9b\\xcb\\x0b\\xa7:\\x93\\x1d4@xgo0\\xed\\xf4\\xc6A$\\x94)-\"L#\\x14\\xa9\\xd5:\\x8f\\xd1\\x02Uj\\x08\\x94F\\x01\\xa2\\x15\\x08\\xb4\"\\x91Q\"\\xb5Ke\\x0e\\x99\\xcc)\\x91\\xd8\\xa1\\xd1\\xc2`*\\xb8<\\x03!\\xf5\\x1aL)\\xbd!%\\x95\\x07\\xd9\\xe0FY\\x91\\x91)\\x1a\\x99,\\xe2p\\xd4\\x9c\\xce\\x9aL\\x1ab1\\x8c\\xa45%\\x9b\\xae\\xd7*c!_\\xa3\\x90\\x86\\x9c\\xbb\\xab\\x92zq\\xc4\\xa2\\x90:\\xcd\\xd6p\"\\xd5\\x88\\xc5+V{\\x04\\xc5\\rl\\xaeR\\x88\\xe8Uj\\x9f\\xc7[r8s\\x12\\x89\\x87\\xc1\\xd0\\xd2\\xe9\\x1a1\\x98\\xad\\xcdy\\x7f\\xa0\\xe3pBT\\x08\\xae\\x93\\x94K\\xcb\\x12\\xb9<\\xdcm\\xee\\x9c\\x1d\\x9enuw\\xc2\\xa1\\x82\\xcb\\x19O\\xa6\\x9a\\xcd\\xce\\xc9\\xc6\\xf6E\\xafw\\xd0\\xeb\\xed\\xb6\\x1b\\xedT0\\xe64X\\xa5\\x025s\\x95X\\x9e\\xe2MN\\x13\\xcf\\xa6\\xa4\\x03\\xcfp\\xe0\\x01\\x00\\x9a\\n_\\x0cB\\xd3\\x9a\\xfb\\xe9\\x13\\xce\\'\\x8f\\xd9\\x80?R\\xa1\\xba\\xfba\\xff\\xec\\xdb\\xe3\\xab\\x1f/o\\xbf\\xbf\\xbdy{q\\xfe\\xe2\\xe6\\xe2\\xe6\\xee\\x02\\xc4\\xce\\xab\\xcb\\xe3\\xf3\\x8b\\xa3\\xb3\\xd3\\xfd\\x93\\xbd\\xad\\x83F\\xb9\\x15\\xf4e\\x15\\x8a\\x00\\x97k`r\\xed\\x0c\\x9e\\x9b\\t\\x96T^\\x94\\xc2\\x8fS`\\xab+\\x9a\\x16\\xa8\\xaaJ{\\xd7\\x16\\xde\\x87}/\\xae\\xc8\\x8e\\xc9\\xddP[\\x8azG\\xdd\\x19\\xda\\x0e$\\x8e\\x02\\x89SWh_goj\\xac5\\xd8*\\nv\\xe1t\\xe5&Q\\xbc\\xf4DwM\\xee\\x96\\xd5\\xd7\\t$\\x0f\\x8a\\xad\\x97\\xf9\\xc6]\\xbc\\x00;\\x1d\\xb6L\\x8e\\xbe\\x970U8\\xd99\\xfe~\\xfb\\xf0\\xdbB\\xed\\xcc\\x1dlh\\xcdIot#W\\xbb\\xe8\\xec~\\xb3s\\xfcm\\xbev\\n\\xd67\\x83-\\xe9\\xf0\\x15Z[\\x97\\x07g\\xef\\xb6\\x0f^\\xa4\\x8b\\x1bnp\\xa9\\xb8b\\x0eo\\xb2X\\xdb\\xde\\xd89\\xefn\\x9fdK\\x1dO e\\x07\\x1a%\\x8a\\x1b;\\xa7;\\x87\\xd7\\x9d\\xed\\x93L\\xb1\\xed\\xf0\\xc6\\x0c\\x16\\xaf\\xc3\\x1d\\x8d\\xa7*5\\xa80*\\xb0\\xc0I\\xab4\\x0eBj\\xf4zR\\xe5\\xd2V\\xa7}\\x94\\xcb\\xb6=\\xee\\xa4^\\xe7\\x91\\xcb,\\x12\\xc2h\\xb3\\xc4\\xc3\\xc1Z4\\xdc0\\xea#8j\\x15\\xf0t\\x88\\xc0\\xa0V\\xfa<\\xae|(Pu\\xd8\\xd2\\x04fc3\\x95\\\\\\xb6Z.u\\x99\\x0cQ\\x80^\\x1b\\x82\\x1b0\\xb1\\x05\\x15\\x99e\\x12\\x8f\\xc5R\\x08\\x04:VkA*\\xf5\\xb3a\\xfb,C-\\x12\\xd9\\x14\\n\\xbf\\x06n\\xd3\\x04\\x11\\xc4B\\xa7\\xabh4%\"\\xb2\\xeb\\x0cI\\xbb\\xb3l0\\xe6\\xc5\\xa8\\x8fD\\xd6-.)h4\\xb3R]\\xd6\\x19\\x9brU\\x16A\\xdd*m\"\\x96\\xeevz\\xe7\\xbd\\xc3\\xeb\\xed\\xbd\\x83\\xed\\xbd\\xddF\\xab\\x1d\\x0e\\xc7%\\x84\\x82\\xcf\\x933h\\xf2\\xb5U\\xb00)&\\xa6\\xe5O\\'\\xa4\\xbf\\x1e%>\\x1f\\xc2\\xbe\\x1c\\x11\\x7f9\\x82|1$\\x006\\xfc{*\\xec]\\xff\\xe1\\xf5\\xb7\\xff\\xf0\\xed\\xcf\\xff\\xf37\\xbf\\xfb\\x1f\\xbf\\xfb\\xed\\x1f~\\xfc\\xe1w?}\\xf7\\xdd\\xf7\\xef\\xde\\xbe{uwwu\\xfe\\xe2\\xea\\xe2\\xd5\\xdd\\xcd\\xab\\x17\\xf0\\xff\\x8b\\xcd\\xee^\"Z5h}\\x18\\xee\\xe2\\x83\\x9dK\\xe8\\x86]\\x8e\\xb0\\xde\\xa5\\t\\xfb\\xfd\\x7f\\xb2 \\t\\xdf\\x9b\\x81\\xe9jj\\xc7\\x96\\xd6\\xd1\\x95\\x1a*`N\\xe1KS\\xa8\\xba\\xa007\\xf5\\xae\\x1d\\xb3\\xef@nj`\\xea\\x02\\xae\\x81/v\\xa9\\x99\\xbd\\x9b\\xce\\xf0\\x9e3\\xbckp\\xb6\\xe1\\xdb\\x1dt\\xf6\\x86\\xd9\\xdb\\xf5\\xc4\\xf6}\\xf1\\x03g\\xb0g\\xb0\\xd5\\xd5\\xc6\\x92\\xcd\\xdb\\x01S\\x06lS\\x89e\\x8f\\xc1>\\xaa\\xb5\\x94\\xb4\\xb6\\x9a+\\xbc\\x9b*\\xdf\\xd46\\xdf\\xc3F\\x17\\xab\\xb7\\rVD\\x138\\x92\\xdb/\\xc16\\xde\\xd9\\xf9\\x90*\\x9e8\\x03-\\x83\\xbdh\\xf5\\xd4\\xca\\xad\\xdb\\xee\\xee\\xfb\\xe6\\xe6\\xebD\\xee\\xc8h+\\xc1\\x96\\x1b\\x7f\\xac\\xdb=\\xb8\\xd9\\xbf\\xfc\\xa6\\xb9s\\x11\\xcd\\xb7\\xf5\\xce(\\xa1vx\"\\xc5\\xe6\\xf6\\xf9\\xf1\\xf5\\x87\\xcd\\x83\\xdbH\\xa6\\xa9\\xb1\\xc0\\xd6\\t[\"\\xd798{{\\xfd\\xea7\\xdd\\x9d\\x9bP\\xa2av&M\\x8eD(^\\xef\\xee\\x9c\\x1f\\x9c\\xbf\\xec\\xee\\x9c\\xd9\\xbd\\xe0H3\\x13J\\xb3\\xd9\\x19\\xae\\xb5\\xf7\\xc1LVm\\xed\\xb9\\xfd\\xe0\\xbb1a2\\x93\\xd9\\x1e\\xc9\\x956\\xda\\x1b\\'\\xb1d]k\\xf0\\x0bDZ\\x04\\xd5\\xc3\\xc0\\x17,\\xa5s\\xdb\\xe1X\\x0b\\xdc\\x0f\\\\\\x81\\x9e\\xceR@%kwf\\x9c\\xee,\\x98e\\xc0W\\xccd)8\\\\\\x8dR\\x1d\\x88&`Yq\\x10\\x08\\xb7%\\xb2~\\xecY\\'\\xa9\\x17\\x17e\\xf3\\xf3\\xf2\\x95u\\xd7\\xf2\\xbag\\x85d\\x83\\r\\xb2\\xd0b\\x81<\\xdb\\xd99\\xdb\\xd8;\\xdb\\xdc\\x83\\x00\\n\\x9c8\\x84X*\\xc4\\xa4L\\x9e\\x1c\\xea\\xeb\\x15\\xb2\\xf4\\xf9\\xacblR6\\xd4\\xff\\xda\\x06\\xe5\\x83!\\xd9\\x97\\xc3\\xb0)\\n\\xb6\\xc8\\xf5]L\\xf7\\xe5\\xc2\\x1f\\xa3B\\xf7\\xe8\\xe7\\x9b\\xb7\\x7f\\xfb\\xee\\xa7\\xff\\xf9\\xf3_\\xff\\xd3\\xdf\\xfc\\xcd?\\xfc\\xf6\\xe7?\\xfc\\xfc\\xc3\\x8f@\\x85\\xb7/\\xefn/\\xcf_\\\\_\\xbey\\xf9\\xe2\\xfd\\xbb\\xb7\\x80\\x8b\\xd3\\xdbNc?\\x19-[\\xaci\\xa5:\\x82I\\x82|p\\x85\\xa0)\\x0e\\n_fP\\x04\\x80\\xc3\\x006E\\xa1\\xda\\x16\\xa6k\\x81&\\t}S\\xf0\\x07p\\xa4%\\xbe\\xb2\\x81\\x1a\\xb6\\xe5\\xf6C\\xcc\\xb0\\x01}up\\x0fp$E1lM7\\xc3\\x86\\xf3]\\xa9\\tT\\xca\\x06OV\\x06\\x8b\\x80\\xc4\\xb8\\x01W\\x00\\x12\\xc3\\x16\\xc8t\\x1c\\xa2L\\xe87\\r\\x9eS\\x93\\xf7\\\\\\xe78\"\\xb4\\x1bL1\\xecl\\xaf\\xc8L={\\xe8\\xda\\x16\\xba\\x92[\\xb6A\\xf7\\xe2K\\x0b&\\xef\\xa1/y\\x13L\\xdf\\xb9cgz\\xd7\\x16\\xa1\\xab\\x10\\xba\\xb2=t\\x10\\xca\\\\Grw\\xde\\xf8\\x99\\xd2\\xd8 \\xd4\\xfdfW\\xa6~S\\xef\\xbd+u_E\\n\\xc7FO\\rSG\\xac\\xfeF\\xaeq\\xb9u\\xfc]\\xa3\\xf7\\xca\\x1b\\x85\\x9dna\\xa1\\xc4\\x19No\\xed\\x1c\\x7f8\\xbb\\xfd]w\\xe7U \\xde1:2Vw>S\\xde\\xdf=yyv\\xfb~s\\xff\\xd2\\xe2\\x89J\\xd4f\\x99\\xd6\\xea\\t\\xa7\\x8f._\\x9d\\xdd~\\xd3\\xdc:t\\x05\\x93\\xa8\\\\\\xaf2:\\xd3\\xa5\\xd6\\xf9\\xdd\\xbb\\x9b7\\xdf\\xe7k[\\x90\\x011\\x85Iip\\xc5s\\x8d\\xc6\\xe6Qk\\xfb$\\x96\\xad\\xabM\\x1e>\\xa6F\\xe5\\x86B}\\xb3\\xbb{\\xda\\xd8<\\x88\\xa4\\xcb\\x84\\xca\\xc4F\\xa4j\\x93\\xab\\xda\\xd9\\xbd\\xfb\\xe6\\xc7\\xc3\\x8b\\x97\\x89|\\x1d.2\\x05\\x04\\x89)\\\\\\xa3\\xf3\\xd7\\xe8\\xa2U\\x8a\\x1a\\x8c\\xddL\\x9e\\x19\\xfa+\\xb0\\xd2\\x01\\x03\\xe2\\xe6\\xe6\\xd1\\xc6\\xc6\\xe1\\xde\\xee)L\\xd4\\xf9\\xd9+\\x08c8\\xa6\\xe7\\xf2a\\'\\xb5~i]16#\\x1b\\x9c\\xc0\\x9e\\x8c\\xe3\\x0f\\xc6$_\\x8f\\x10_\\x8d\\xfc\\x0b\\x15\\xee=\\xae\\xb0\\x8e\\xf8\\x93Z!{^\\xdax\\xd5;\\xff\\xed\\xd9\\xed\\xcf7/~\\xba\\xb9\\xfb\\xf1\\xea\\xfa\\x9b\\xb3\\xb3\\xbb\\xa3\\xa3\\xcb\\xc3\\xa3\\xf3\\xd3\\xb3\\xeb\\xcb\\xebW\\xb7/\\xdf\\xbfx\\xfd\\xed\\xd9\\xe9\\xcb\\xde\\xd6Y\\xad\\xd2\\xf3\\x87\\x9a\\x06K\\x16\\xaaw>\\x0e\\x8e \\xd8+\\x0e\\xe2}\\x85\\xd7\\x17\\xd6`F[\\x88j\\x03QuE\\xea\\xaeP\\xd5\\xe1\\x03\\x94\\x1d\\x9e\\xb2#Po\\x8a\\xf4\\xdbb}G\\xa8\\xa9\\x83\\xb1\\x85+/\\x81\\x8a\\rl\\xc0\\xf5\\x1dL\\x07\\xde\\x85\\x06\\xec\\xb4\\x04\\x1a\\x89\\xb5-\\xc2\\xb0!1n\\xe1\\xbaM6\\x18\\x17\\xf02\\xa8\\x97\\xb8~Sn\\xda\\x91\\xe8\\xb7\\x10E\\x13\\xf6 S\\x84\\xb0I\\xb7\\x84\\xeb\\xba@\\x08\\xb1\\xba\\xc9\\xc0\\xb2\\xf0\\xdd\\x0c \\xe9\\x8aT5\\x99iCe\\xdb\\x12\\xab\\xab`-\\x81o\\xd5\\xa0\\n\\xe3RCGe\\xed\\xc9M\\x9b\\xa8\\xba\\x01\\xdf\\xc4\\x00\\xbe&\\xd8\\xd9\\xa8un[\\x83GF\\xef\\x1e\\xec\\xa0\\x85\\x9d\\xb2\\x88\\xb2\\xa8ql\\xfaR\\x97\\x00\\x83k[$\\xcf1\\x91\\x88\\xda\\xd2\\x0e\\xa5\\xaf\\xd3\\x95\\xb7\\xb1\\xfc\\x0b\\x8bwW\\xaa\\x83\\x8dxe\\xabo7\\xdfz\\xd5\\xda\\xfb.\\xdfz\\xa1sV1MB\\xa2O;\\xc2\\x9b\\xed\\xfd\\xef\\xb7N~.\\xb4_Z\\xfc\\x1d\\xbe4\\x0c^N\\x7f\\xeap\\xf3\\xf8\\xb7\\xbd\\xb3\\xbf\\x82\\x1e\\x90o\\x93\\x00\\x00\\x11\\xe6IDAT\\xcaI\\xef\\xacIt\\x19B\\x97\\x89\\x15\\xce\\xeb\\xdb\\xdf\\xd4\\xb7^\\x853\\xbb\\n\\x13\\xc8o\\xe0\\xd7\\x8dA\\xb2;\\xbe\\xfe\\xdd\\xee\\xe9\\xf7\\xe9\\xd2!|\\xed\\x15S\\xa0\\xb7\\xb8s\\xfbg\\x1f\\xbe\\xff\\xdd\\xff}t\\xf5m,\\xd7\\x96\\xeb`\\xd9\\xa2\\xe5\\xa1*\\x89\\xc6jt\\x84-\\xae\\xbc7\\xdc\\x8c$\\xdb\\xe9\\xfcF\\xa5q\\xd0\\xe9\\x1ct\\xbb\\xfb\\x1b\\xdd\\xfd\\xbd\\x9d\\xd3\\xf3\\xd3\\xbb\\x9d\\xad\\xb3X\\xa4\\x82\\x8a\\xf4\\x1c\\x9e\\x89B\\xd7-\\xae)F\\xa7\\xa5\\x03\\xe3\\xe2\\x87\\xa3\\xe2\\xafF0\\x08\\t_\\x8d\\xf6\\xa9\\x00\\xeb\\xc9\\xff\\x0f*`\\xa6\\xba\\xd1\\xbf\\x19\\xc8\\x9d\\xa5\\xcag\\x85\\xfaY\\xa9q^i\\x1c\\x96k\\xfb\\xd0\\x01\\xac\\xb5\\x0e\\x1b\\xed\\xa3f\\xf7\\xb8\\xb5q\\xd6\\xd9:\\xdf\\xda\\xbe\\xecn\\x9cUk\\xfb\\xfe\\x08\\xa8\\x069B\\x99\\xec\\xefT\\x17%hB\\xf8\\xd0\\xa1\\xf1\\x9e[\\xe7e)Bp\\x07\\xd5\\x81\\x10}\\xc8\\xdb<e\\xb7\\x0f\\xd5\\x86@\\xb3%\\xd2\\xf7D\\xfa\\x8e\\xd8\\xd0\\x16\\xe9\\x9a\"mC\\xa8\\x06WK\\rHp\\x8f\\xbe\\xf7I^\\x05\\x83\\x13\\xf8Yp\\xc3\\x96\\xcc\\xb2\\x87\\x1b\\xb6\\x01\\x98~K\\xac\\xdd \\x8c=\\xa9yWb\\xea\\xa1:`\\x18\\xec\\xc7m\\x11F\\xb8\\xb8!1o\\xa0\\xfa\\x16|\\x91\\x03OQ\\x12\\xaa+x\\xdft\\xbf%\\xb7l\\x8855p]3\\xb14\\x18\\xe3`\\x0c\\xe2\\x1e\\x84(:\\xb8/\\xf9\\xa0\\x14\\x948x\\x03Qt\\x11E\\x87\\x8dWI\\xdc\\xcc\\x12=\\xba\\xceIq\\x89*\\xe8\\xe6\\x88\\xa2\\x01>\\x835v\\x8c\\xc4\\x89\\xf3\\x88\\xb2\\xcc\\xb8\\xa9s\\xecK\\r]\\xf02\\xad0\\x03$N\\x18UW\\x0c\\xee\\x1e\\x00:\\xeb\\x1c\\xd8\\xe5!\\n\\xc36g\\xb5\\xbd\\xed\\x8e\\x9d8#\\x87j[\\x8b\\'I\\x90y^BWt\\xfe\\xbf\\xed\\x9dws\\x1b\\xd7\\xd5\\xc6?\\x92#\\x89b\\x15;\\x01\\x82\\xa8\\x04H\\x10\\x9d \\x01\\x12\\xbdw\\x10 z/\\x04\\xc1.\\xf6\\x86B\\xb0H\\xac\\x92(\\xc9\\x94l\\xc9\\x96\\x1c;o2\\xef(~5vF\\xfe(\\xef\\xb3\\xdcX\\x91\\xecd\\xf2O2\\xe3\\xf1h\\xe6\\xcc\\x9d\\xc5\\xee\\x02 \\xf7\\x1e\\x9c{w\\xefs~\\xa7p\\x92_\\xba\\x0c\\xe7\\x8e\\x1c\\xc1\\xcdqK\\x11O]\\x1d\\xc1\\xad\\xdc\\xc2\\xd9\\xdc\\xfa\\xa3\\xd8T\\xcd\\xe8\\xc6\\nHLm\\xcdO\\xdf\\xbd(\\xdf\\xfb\\xb6z\\x1f\\xaep\\t\\xe9\\xfd\\xa8&\\xea\\t\\xdeE\\xc6\\xe2\\xe5\\x17\\xdf\\xef\\x9f\\xbe\\xca\\xcd\\x96\\xed\\x13\\x19\\xab\\'\\x15J\\xce\\xcd,\\x97\\xb6k\\xc8\\x94\\xbe<:\\x7f\\x8a\\xc1\\xe0\\xfe\\xe9C(\\x19\\x0fj\\xc8\\x90<\\xdc\\xaf\\xdc;\\xa9=\\x80m,\\xd6\\xe2\\x93\\xf3:\\xa5O1\\x1a\\x94\\xca \\x90ta5\\xb1\\xb5WG\\x90x\\xa8\\x9a\\xbanU]\\xd7\\xdf\\xef \\xfe\\x89+\\x0c\\xe3g\\xe1Y\\xb5\\x86K\\xdeD9\\x90\\xae\\x04\\xd3\\x95pz\\'\\x92\\xde\\x89f\\xf0\\xe4\\xa7\\x82\\xe42d\\x97\\x863\\x15$\\x9e\\x16\\xe6\\x0f\\x8b\\x8b\\x87\\xd9\\x99\\xbdp\\xb6\\xe2\\n\\xaf\\xe9\\\\\\x8bX9E\\x16\\x14_Y\\xe4\\xca\\xa7\\xc1!\\xe8\\x97\\x16\\x07\\x86\\xe7\\x06\\xe5\\xf3C\\xa3\\x8b\\xd7\\xb6\\x80%\\x19\\x81rQ\\xa2\\x85(mc\\xdc\\x8e\\xf5\\xd6\\x12\\xb2e oD\\xc7C\\xdf&7\\x12\\xc2$\\x18\\x01\\x18 DJh1\\xa0@\\xf9X\\xd6{\\x0f\\x0c\\xde\\x03\\x9d\\xbb\\xa6vT\\x94\\x16\\xac\\xd2\\x02\\xccp\\xdf\\x199s\\xc5\\x8e-\\x01\\xb8H\\xd5\\xe4\\xaf\\x9a\\x035W\\xfc\\xd8\\x938q\\xc5\\xee\\xd9B{\\xe6\\xc9\\n\\x9c\\xc0\\x1d;\\xf2&\\xee\\xa3\\xb5\\x06\\xaa\\xa4j\\xc68\\xb1k\\xf1\\xe3\\xd0\\xbe-P3\\xb8\\xf7\\xd4\\xb6=\\x83\\xfb\\xd0\\xe0>\\xd0\\xbb\\x0e\\xb4\\x8e\\x1a\\xdcB\\xae\\xdbD\\xab\\xb2V\\xd4\\xb6\\xaa\\xda^Q\\xc1\\x83-\\xbbr\\xfd\\x86\\xc2\\xb4\\xaduV-\\xfe#\\x9d\\xab\\x8a%o>\\xd6\\xe2\\x15X\\x87D\\x14\\xa9\\x1a\\xbd\\x87hG\\x0c\\x9b\\xf8\\xef\\xf0?\\x8aU\\xcb\\xf8L\\x93\\xf7\\x1e>\\x01K\\x97\\xb8\\x02\\x02\\x05$\\x96\\xd0\\xe9 \\x98\\x9d\\x8c[\\xaa\\x02\\xc52SP\\x18\\x94\\x83&Vq\\x86\\x8f\\x11\\xcf\\x14\\xa6-\\xbc\\x17\\x97hT\\xb7\\xe5\\x0c\\x9c\\xfb\\xe3O\\\\\\xc1\\x0b\\x95\\xb9$\\xc3\"\\x85v\\xd5\\xe6\\xddK\\x15\\x1e\\xa4\\x8b\\x8f&\"%\\x9b\\xef\\xae/\\xb6\\x93_\\xb8\\xb7Rz\\\\=yv\\xfe\\xf4\\xf3\\xb3\\'\\xc8\\xc3\\xbc<\\xbbxp|zvT;8\\xac\\xee\\x1fU\\x0f\\x8f\\xab\\'\\xe5\\xb5\\xcaL\\xea\\xae\\xcf\\x9e\\xd2)<JEP*\\xf5q\\xf9 \\xccYZz\\xb5\\x8d\\xbd\\xda:*\\x16 \\xc6ob\\xc2\\xf8s\\x12\\xc4/\\xe7\\n\\x83\\x9a\\x0514}\\xc0\\x88\\x00R\\x01@\\x9a\\x0b}\\x8ce\\xa4e\\x9dcY\\xebX\\xd6\\xd8\\xefj\\x1c+:\\xd7\\xba\\xd9\\xbf\\xed\\x0co\\xb9\\xc3\\x1b\\x0ed\\'\\xfa O\\x85\\xd2\\xb0(\\xd4\\x80]\\x92\\xeb\\x97\\xe7\\x99\\xd2,]\\x94\\xa6\\xf2\\x12\\xbd\\xbcD\\xdf`\\x9a)\\xc8][\\x96%\"\\xac_650\\x02\\xd2\\n\\xf2h\\xe7\\xb1\\xe6F\\x98f^0>\\xcb\\x1b\\x99B\\x16\\rS\\x9cd\\x8a\\xd1\\xa6Y\\x12\\xb0y\\x00\\xbb\\x00f\\x00\\x0bq\\x84\\xb6G\\xaa]\\xc3:2Ln\\x80&\\xaaf\\x0b\\x9dL\\xa4\\xce\\x91\\xb1\\xaf\\xf7\\x96t\\xde]K\\xb0\\xe6O\\x9f\\x87\\xa7.C\\xf9G\\x13\\xc9cg\\xe4\\x00!\\x01i\\xfc\\x91\\xc2\\xa3\\xe4\\xdc\\xe7h]Q\\xfcv\\t\\xe9\\x07\\xc6\\x08\\x7f\\xf2\\x0c\\xe6\\x8abj\\xb2\\x07w\\xc4l\\x06\\xce\\xe1\\x89\\xdf\\x87\\xdf\\xe0]\\xc8\\xf8\\x86\\xc7\\xc0\\xec\\xe1\\xaa#\\xb2g\\r\\x96\\xc1\\x061\\xf9w-\\x81\\xb2-TE\\x0bN\\x88;\\x86\\x99\\rF\\xae\\x8a\\xce\\xb9\\xabw\\x95\\x0c\\x9e2ZPc\\xc6 ,\\xb0l\\xea\\x9c%\\xad\\xa3\\xa4\\xb6\\xed\\x8c[\\xb6F\\rk2,\\x94kW\\x95\\xa6-\\xad\\xa3\\xaa\\xb6\\x96!\\xcd\\x12)\\x97\\x06\\xe5\\x80\\x13B\\x0e\\x0e=\\xdc\\x1a$OX\\xa5\\xe4\\r\\x17Y\\x82\\x1c\\x0e\\x8d\\x99v4\\xb6\\xea\\xb8iW\\x8e5n\\xe5\\x82D9;\\xaa\\x9d\\xd1YWl\\xfe\\x8d`\\xaa\\x9a_\\xbc\\x98AFk\\xf9\\xea\\xe0\\xe2\\xe5\\xb3\\xd7\\xaf\\x9e\\x7f\\xf3\\xfa\\xe5\\xebW_\\xbe|q\\xf5\\xec\\xea\\xf3G\\x8f\\x9e]^>\\xbf|\\xfa\\xf4\\xf4\\xf1\\xdeF%\\x15\\x9c\\xb2i\\xfd*\\xb9}D\\xee\\x17\\t\\xdd,\\x9e\\xad\\x9dij\\xa2j\\x1a\\xe9\\xc6\\xdb}\\x86\\x9b\\x14\\xed\\xad\\xeb9#\\xf9\\xc0\\x113\\xc7\\x8f\\x1e5\\x0e\\xa8H=\\xcf\\x9c\\x08\\xccD\\xe3\\x02!Z\\x87\\x99\\xc0\\xb4\"`z\\x88\\xb1\\xd0\\x8d\\xe1\\xe7;j\\x86\\xfe\\x18\\xf1\\x16\\x9a\\xe3\\x19\\x99\\xb1(\\xd6M\\xf1U9\\x8e\"\\xc3\\x1aI\\xd1%\\xa9^a\\x82\\xc2\\x8fu\\xb2\\x83\\x1d\\xcc@\\'\\x8cqmL?\\x01\\xa0\\xe3LR\\xb8\\xa0\\xf7\\x86@X\\xa5\\x0b2La\\x8e-\\x9e\\xe2\\xca\\x8a\\xfd\\xd2i\\xfaP\\x86\\xc2\\x8dw\\xb3\\xa3\\xb0Nf\\xe4\\xdab=\\x9c$m K\\xe7\\xe7\\xf13b\\n\\x8bL\\xe1\\x0c\\xac_\\xba \\x1c\\x03\\r\\xa9b\\xf6\\x1di]{\\xe36\\x0c@`\\xfc\\xec9B\\'\\xbe\\xe4C\\x7f\\xea\\xa1\\'zf\\xf5\\x1f\\x1a=\\xb8s\\xd9\\x0ff.\\xd3s/\\x123\\xcf\\'\\xe2\\xe7:GYk/Y}p\\x85\\x87\\x89\\xe2\\x17\\xe1\\xfc\\xa5;z\\x0fp \\xa5\\x19\\xd4\\xb7\\xf2D\\xe2$V|\\x12\\xca=\\x00)\\xc6\\xec+\\x9b&v\\'3\\xa7\\x99\\xc5\\xab\\xa9\\x95\\x17\\x89\\xb9\\'\\xceh\\rN`\\x0f\\xef\\x05\\xb2\\'\\xd3\\xeb/f\\xb7\\xbeJ/|\\xee\\x0c\\x1d\\x98\\xbceL>\\xbc\\xb1\\xe3\\x10\\xd2\\xe0\\xd3\\x17\\x9e\\xe8}\\xdb\\xe4\\xbey\\xa2j\\x0f\\x1cx\\xa2\\x00z\\x9c:\\x82\\x87z\\xc8<m\\x9bj\\xdb\\x96\\xd1]\\xb5\\xf9A\\xe6:2{kZ\\xfb\\xee\\x88y\\x15b\\xbbQ\\xeb\\x9a\\xeaZ\\xf2\\tI\\x0bIiQ\\x987\\xd5\\xf6\\x92\\xc6Q\\x02\\x94\\x08\\xfc!0\\xa0\\xc6m\\x80\\xfa\\xcc\\xba\"\\xeb\\x89\\x99\\xda\\xcc\\xfaya\\xf5hv\\xf3\\xb8\\x84\\x94\\xf9W\\x7f\\xf9\\xee\\xaf\\xef\\xde\\xfc\\xf0\\xee\\xed\\xdf~\\xfa\\xf1\\xddO?\\xbd\\xfb\\xf1\\xa7w?\\xbc\\xfd\\xeb\\xff~\\xf3\\xe2\\xc5Q\\xb5\\x1a\\x9eD\\x1a\\x8cI*R\\r\\xf0M\\xfd\\\\=\\x95\\xa9k\\xa1\\xe9\\x9b{u-L{#\\xc3\\x8e\\x07\\x8eu\\x9d\\x9a\\xbaN,Njn\\xb4\\xa9>\\xfb\\xf0Q#\\x9c\\x02\\xae0\\xa8\\x9a\\x1bTA\\x89T\\x04\\xf2H\\x88\\x16\\xdc\\xab\\xf1\\x02\\xf2\\x9c\\xf0\\xc0\\x006DH\\xbb\\xe6\\x04\\xea\\xf9a\\x1d(I\\xf3\\x04-K]\\xe0\\x8f\\xe5\\xb8\\xca\\x0ck4A\\x1f\\x8e\\xf6\\x8aB\\x14\\x012#\\x80\\xed\\xf4\\xb5B\\xdeBs6v\\xdb\\x1b\\xba\\xac\\r\\xdd\\xd6\\x86\\x1eK3\\xd5\\xde\\xd2\\x07\\xb0\\xaa\\x0b\\x87Z\\xe9\\xbev\\xc6$\\xdc\\xa5\\x9b\\x13\\x86a\\x03\\x0c\\xd5f\\xea\\x04\\xac\\xb1\\xc7S\\xdf\\xe5\\xbe\\xd5\\xeel\\xe8\\xf66S\\xfdwh\\x81vF\\xa4\\x93\\x15\\xef`\\xc6;X\\t\\x18\\x85\\x8b\\x003\\x8dhLj\\x02 \\x0b@X\\x86\\xdaQ\\x811\\xde\\xba\\xa3\\x86B\\xce\\xb2#\\xd7B\\xcc\\xb2fp\\xedy\"\\xe7\\xbe\\xf8Cw\\xf8L\\xef\\xacil\\x15\\x83k\\xdf\\x118\\xf5\\'\\x1e\\xfb\\x93\\x17\\x88\\x10\\x98B\\x8e\\xe8\\x97\\xb0\\xbc\\xeb\\x08\\x1e\\xa0;\\x11-\\xac~(.\\xb7a\\xd8\\x13+<\\xc9-\\xbe\\x88\\x15\\x9f\\xdaC\\x07\\xc6\\x89\\xb2\\xd9_\\xf5\\xa7\\xcf\\x16v\\xfe\\xb4\\\\\\xf9Ka\\xe5\\xa5;\\xbao\\xf0l\\x9a};\\x10dd\\x17\\xaf\\n+_\\xc6\\x8b\\x8f\\xa0\\xcc@\\xe0\\x84T\\'9\\xfbxn\\xf3Un\\xe9\\xb9/yO\\xeb\\xc4\\xb4wAc_\\xf5%\\xeeG\\xf2\\x0fB\\xd9sg\\xa8\\x86\\xdc\\x10\\x19\\x94\\xae\\xceu<\\x91\\xf3g/\\xdc\\xf1\\x13\\x93\\x7f\\x1f\\xfao\\x9d\\xab\\x84\\xc9\\xb2;z\\x8c8\\xe7\\x8d\\x1f\\x9b|\\xdb\\xf0\\x03p)B\\xf9\\xbd\\xf9\\xad\\xc7K\\xa5\\xa7\\x91\\xe9mgt>^\\xdc\\xde\\xde\\x7f\\xfc\\xe0\\xd9\\xff|\\xfd\\xdd\\xf7\\x7f~\\xf3\\xe3\\x9b\\xb7\\x7f{\\xfb\\xf6\\xff~\\xf8\\xe1\\xed\\xf7o\\xde\\xfc\\xf1\\xab\\xafO\\x0e\\x8f\\x82\\xfe\\xa8rD7\\xc0\\x1b\\xa6\\xd0F\\xbb(\\xc3w\\xba\\t\\xf1\\x12\\xa8}m\\xfd\\x9e\\x16\\xb6\\xa7\\xb1\\xcfV\\xdf\\x85\\xf9\\xa3\\x0e\\x12\\xd9\\x9bmx\\xb4\\xf0\\xb1\\xc6u\\x08\\xaa,-\\x84Y\\xf3B5\\xe1\\n\\xf0\\x00\\x812\\x07\\xa2\\x0c\\x80E\\xd7\\xde0#\\xd4\\xcc\\x11G5\\x0b25\\xa6]\\x10b\\x80\\xbb\\x06\\xb2a\\x86=\\x02?\\x88PD\\x81.\\xbe\\xaf\\x83\\xe7\\xe9\\xe0\\x02\\xeaL\\x10\\\\\\xef\\xf4\\xb9Z\\xa8\\x8ef\\x8a\\x1dN\\xd0\\xdc\\x0b?@\\xfe\\xb5\\xb3\\x85Nda\\xdf\\xa1yZz\\xddh\\xdb\\xe8\\x130l4S]MTW#\\xd5U\\xdf\\xe3\\xbc\\xd1n\\xf9\\xac\\xd5\\x84\\xf6f\\x87\\xf5V\\xa7\\xed6\\xee\\x83)\\x9eF\\x8a\\xb7\\x91\\xea\\xad\\xa7z\\x9b\\xfa\\xfcm\\xccP\\x17\\'F\\xe3g\\x18\\xc2<]\\x90\\xa3\\x0b\\xb20D\\x17\\xfe\\xe8\\x1c\\xa9\\r![\\xb1\\nj\\xf4M\\xdc\\xce(M\\xdbr\\xcd\\xba\\x14\\xea\\x01\\xf5\\xbaB\\xbf\\xad\\xb6\\x94a*KIa\\xd8\\x82\\xb4\\x046j\\xd8\\xd4:*0\\x85qS\\xae[\\x1b5l`\\xf2h\\xf4\\xd4\\xac\\x93\\x80\\xc5\\x1ch]\\xe5q\\x1b$\\x87\\x18\\x9bJ\\xd1\\xe9\\xab\\xfc\\xf2kD\\x1a[`\\x7f\\xcc\\x02\\x19*\\xa8\\x91\\xdb\\xfe\\xd4Yj\\xee\\x19\\x82\\n\"\\x8aL;\\x07B` s6\\xbf\\xf5\\xc7\\xa5\\xdd\\xef\\xe2\\xc5K8\\x07\\xd0D \\xf4x\\xe3\\x87\\x89\\x99Kx\\x8c+R\\x1b\\xb5,\\x8a\\xb5\\x90;\\xaf\\x04\\xa7\\x1eM\\xad\\xbdJ/~\\x89!\\x0f\\xe1\\x01w\\xd7\\xf6\\xd0ar\\xee\\xd9\\xcc\\xc6\\xeb\\xc2\\xeaW\\xeeX\\r~0b\\x9c\\x8e\\xcd\\x1c\\xad\\xd6^\\xae\\x1f\\xbc\\x8c\\xceT\\xb4\\x9e\\xfc\\xb85c\\x9dXL\\x14\\x0eV\\xb6\\x1f\\x94\\x0f\\x9f\\x1d\\x9c|q\\xef\\xf4\\xc9\\xc9\\xc5\\xd5\\xc9\\xc5\\x13L!7\\xb6\\xab\\xfePV\\xa5s\\t$\\x06\\x1aG\\xdb\\xc3\\x18\\xefd\\xe8;\\x986*\\xcf\\x83\\xc5#,\\x1b\\xb5s\\x08\\x10)\\\\\\x81\\xf4\\x83_\\xba\\x82\\x90\\x10\\xfeB\\xa07\\x87\\xbe\\x17\\xab\\x8b\\x12\\x10\\x0eT9$Z\\x88\\xd5S\\xd7\\x14E\\xa0\\xd1f\\x08\\xb1/\\x94\\xe0\\xd0\\x0f*f\\x81\\x0f\\x82\\xe0\\x1a\\xc6\\x19\\x89\\xd1e\\x01\\xaah\\xa2\\x8b\\xefj\\x87\\xd2\\xa9\\xdf\\x06\\x85K+\\xd3~\\x87\\x01\\xae\\xb3\\xa3\\x99\\xe6h\\xbc6\\xacd\\xde\\xa6;\\xea\\xe8\\xf6z\\xba\\xa5\\xa9\\xcf\\xd0D36\\xf7\\x99\\xee0,-`\\xc0\\xf4\\x02\\xfe`h \\xcc|\\x9bj\\xba\\xd5m\\xb8\\xd1\\xa9\\xbb\\xd9\\xa5\\xbf\\xd1\\xa9\\xffC\\x87\\xee\\xb3\\x0e\\xed\\x8d.\\xe3MH\\xf9 \\xec\\xec1\\xdf\\xee\\xb55\\xd0\\\\\\xcd4o\\x0b\\xdd\\x07keL\\xb6!\\xba\\xf4\\x87\\xe9\\x82\\x14[\\x0c4p\\xae_\\nXd\\x9eK\\xcc^\\xf3\\xd0\\x0e\\r)\\xe6\\x11BxRp\\xda\\xa6\\xb9\\x92\\xe2\\xa0lnH\\x0e\\x81\\xe42<\\x03-\\xa6\\xb7lQ\\x81\\'\\x9b\\x15(\\xa0JZ\\xc6$\\x17s=\\xec\\x84\\t\\x95\\xb8\\x1b\\xc2X\\xbe\\x81\\xbb!\\xc1\\xd8\\xdd\\x81\\x91\\xf9\\xc1\\xd1\\x05\\x85\\xb9\\xacscl\\xda\\xc7\\\\\\x12\\xd3=\\xc8\\x93\\x10\\x9c\\xb0m\\x9a8\\xd2\\xbb\\xf1\\x08ds@^\\xe4\\xca\\n\\x1aG\\xd9\\x97|\\x14\\xce_y\\xe3\\xe7\\x10s\\x13\\xe8.\\xf5\\xa2\\xc1SuGO\\xb1\\xc7\\xe2?\\xc0\\xf4\\x13sO\\xa8\\xa2\\xbd\\xf1\\x07\\xb9\\xa5o\\xf2w\\xbf\\rf\\xaf0\\x03\\x95j0!\\xab\\x85rW\\xb3\\x1b\\x7f.\\xac|\\x8b\\xa9%D\\xcfr\\xfd]\\xccN\\xb2K\\xcfg7\\xbfN\\xcc]\\xe8<\\xd0\\xba\\x01{5\\x05Q\\x93/^\\x02C(>U\\x0b\\xa77\\x90:\\xe1\\x8f.\\xf8\"\\xb3\\xdeP\\xd1\\xe6E\\x9aoR\\xa9\\x8f\\x0e\\xabb\\x80\\xfb\\x89\\xc7S8\\x1f4\\'9\\xa8\\xb9&\\xc8\\xa5\\n\\xc0\\xed\\x023\\xdbD1\\xde\\xee\\xd4\\xc2\\'>\\x9a+\\xfc\\xdb\\x17\\xf0\\x0f`\\x13\\x89v\\x0c\\xb7X\\xe0\\xe9a\\xe9\\x01\\x9c\\xdc,O\\x91d\\xcb#tI\\x80*\\x98\\xe8\\x01\\x1ew\\x10\\x84\\\\o\\x17\\x80\\xefl\\x80\\x93\\xddw\\x08\\xd5\\x13aM\\x0cg\\x03\\xd3\\xd9\\xc0r52\\x80\\xe90\\xc0\\xee0MmlK+\\xcb\\xdc\\xd4\\xa7\\x07\\x1a\\xa8\\x91\\xa6ob\\x98a\\xf54\\x03\\x98 dK\\n2oR\\xb57@\\x96\\xebQ\\x7f\\xd6\\xadB{\\x8bj\\xaa\\xa3Xo\\xf5X`\\xd8\\x80\\x9f\\xb5\\x03\\xdf=\\x10\\xe8\\x1d\\n\\xd3\\x04\\x11X\\x9f0zm1\\x96$\\xc5\\x95Cc7\\x05@$\\x98@\\x1c)\\x82\\x07|%70\\x92\\x03]\\x96#K3%\\t\\x9cI\\x07)\\x9e\\x80\\x8cb\\xc6\\x9ab\\x88\\x124A\\x0c\\x89\\xe1H\\xf9\\xe2*\\xa6!pE\\xcb\\x05\\xb9M>\\xc5\\x94\\xe6\\x98\\x92<S2\\xc5\\x92\\x16\\x18\\xa2|7/\\x01\\xa3\\x0c\\xa6\\xfa\\x84\\xd9\\xfe\\xe1\\x99\\x81\\xd1\\xf9~y\\x91!\\xca\\xd2\\x86\\x92\\x03\\xa3\\xc0\\xd2\\xe2>\\x087Gk\\x10\\xb5\\nU\\xf3C\\xc0\\x03\\xaa\\x80+\\xc4]\\xd2\\xca\\xb0~\\x997\\\\\\xe0@\\xfc\\'+\\x88\\xc7\\x17\\xf1$F\\xeb\\xac\\xa8\\xede\\xe8\\xfa\\xe1[\\xf0\\xdd13\\xe6\\xe6\\xa7\\xb6\\xc0\\xfdq\\xeb6\\xe4\\x93\\x821@C\\x970Hy\\x12\\xf7=\\x89C\\xe4\\x93\\xa1#\\x00\\xc4\\x1c\\xd6\\xe3\\xe9\\xc8&\\xc0\\xa2v\\xe0#\\x91\\x88m\\xc8H\\xc7\\xa3\"EP2\\x16\\x16+c\\x92\\xb1\\xb8L\\x95\\x06EVa\\x98V\\x9a\\xe6U6\\xdcNoX\\x02%L}0\\xee u\\x07\\xfclp\\xb2\\x01\\xd0\\x87\\xfd\\xdb\\xde\\xffO\\x9e\\x00\\x162\\x01\\xcdf\\xbb\\xba8.\\x92\\xa7\\r\\xb0v\\x1b\\x13\\xf0m\\xdb{\\xc3K\\x18\\xf4\\x10M\\xbd\\xa6\\x06\\xaa\\xb1\\xbe\\x1b\\x8f\\xca\\xf5u\\x9d\\xba\\xba.}\\x03\\xc5T\\xdfc\\xac\\xeb\\xd6C\\x91W\\xd7e\\xac\\xeb2\\xdd\\xea4\\xc2\\xea1\\x0b\\xa1\\xe1s\\x80}G\\xfd\\x08bZJ\\x1b\\x8a\\xd0\\xd1\\xbb\\x84\\xa1\\xde\\x04j\\x99\\x00\\x0c\\x852\\x16)t6Z\\xb68\\x85\\x16\\xb5\\x02\\x00\\x9f&\\x10R\\x83\\xd0\\\\\\x81\\x1f\\x05\\x8b\\xf4\\t\\xa0\\xc6\\x8b\\xd1\\x86@wF\\x9e\\x0f 2A\\xe4\\x00\\x82\\x14@\\xe1#\\x03,\\x0e#f\\xc4\\\\\\x1c\\x8a\\xf7\\x0c&;\\xb9\\xf1\\x16F\\xf0\\x0e3\\xd4\\xca\\n\\xb7s\"]\\xbc8\\x03.\"+\\xd0\\xc5Y\\n?\\x81\\x8c1l i\\x8c5\\x9cg\\xcb\\xf3\\x9c\\x91|?(\\x93\\x8a)\\x1eF\\xd5\\xb1i\\x9e\\xa2\\xc0\\x11e\\xd8\\xc24s(I\\x1f\\x8c\\xa3\\xe5I\\xf3\\x03\\x08cx\\xcbP\\x12\\xfb\\xf9\\x00G\\xaa \\xb4\\xc4\\xbd\\xe8,\\xf8\\xa6\\x1cI\\x967<%P\\xce\\x0e\\xeb\\x90\\x93\\xb3*\\xd5.\\x00\\xe4\\xc6\\x96\\x148Rd\\xac\\x137Y\\x12\\xed\\xaaP\\x05~\\xe0,\\xee\\xd1\\xd8\\x92\\x1cK\\x94\\xa1\\r\\xc4\\xe8\\xfc\\x04K\\x94\\xea\\x97\\xa4y@^\\x8e\\xa4\\xc1KG\\x80\\x1f1Mk]\\xc0\\xe1.\\x82|\\x8b=lq\\x04\\xa4j8\\xc4\\x7f\\xb2\\xa7\\xff\\xdb\\x9f\\xd5L\\x80\\xe3-\\xf5\\xdd\\x98\\xfa\\xc29\\xd0\\x1aou\\x18`\\xf5\\xdd\\xa0\\xc9\\xdbZ\\xe9.`\\xfe\\xbb8`\\x89\\x937)\\x11t6Y\\x1b\\x02\\xb5L`\\xd7\\xb5!\\x08\\xf68\\xecg\\x8eX\\x10\\'\\xf7pQ\\x89\\x04eH\\x02\\xd4\\x01\\x02N\\x0e#\\xca\\x17\\xf4\\xfb;\\xd9\\x13hq\\xf4\\xc3\\x13p\\x08_q\\r\\x9dq\\xa0\\xa6A\\x03\\xd5\\\\O15\\xf6Z \\xf2\\xeb\\xe6\\xf9\\xa8\\xfc@\\x9f0B\\x17\\xc5\\x88\\x18\\x03\\xc8\\x04\\\\P\\x02\\xffK`\\x1b-\\xb8\\xc6\\x08B\\x00\\xd8r\\xe5\\x98`\\xe5x\\xc3\\x08N\\x19\\x96(\\xc9\\x10\\xa0\\xaaJ\\x1c\\x0e\\nc\\n\\x13L(C\\xd1\\x7f\\xa8\\xb9\"\\xcf\\x0f\\x0cc\\x98\\xcb\\xb1\\x91\\x8f*B}\\x9e\\x0c\\x07UXdP\\x03!\\xa4a\\x04D\\x97\\xe7\\x19\\xc2,K\\x9c\\xeb\\x1bJ\\xf5\\x0e&z\\xf9\\xf8\\x96\\x0c]\\x90\\xee\\x1b\"\\x8c>\\x94f\\x89\\x08\\x9f`\\x08\\xf0\\x15\\xa0\\xe7G\\xaeK(\\x04\\xd8\\x12\\xdf\\xc0H\\x88\\xafH\\xc0\\x0f@e\\xe7\\xca\\xf0\\xd5\\xc4\\xa1\\xffv\\xf7\\xfd\\x86>\\x1fn\\x81\\x18\\x80~\\xbd.\\x1e\\x81\\xf81I\\x96\\xa3\\x01\\x89\\xbe\\x8b\\x83\\xc2$\\x13=\\\\?u\\x00>1\\xd9\\x01\\xd46\\xdd\\xd9\\x06\\x81\\xd6\\xb5\\xb53\\xdd\\xd8\\x03?C\\xdb\\xc6p\\xc3\\xe7Zh\\x8e\\x96>{\\x13\\xcd\\n?\\xb8\\xddc\\x84C\\xa0\\xdaE;\\xdb\\xdd\\x83\\x826\\xa8\\xb9\\x85j[R\\xc4\\xa1\\x14\\xe7\\xda\\xe0\\x85(R\\xc2\\x96\\x00r\\x9e&\\xf7\\x10\\x05v@4\\xfe\\xf9\\x10\\x8e\\xe2\\x1c\\x9c\\x00#\\xbd\\x96l\\xf1\\x92<\\x9f\\xdcO\\xbe$?\\x04\\xdbd\\xe1\\x13\\xf87\\x8c\\xfc\\x84\\xf7\\xef\\xc5K\\xf2\\x1b\\xdf\\x7f&\\xb9\\x87<\\x81|#\\x0bE\\\\P\\nJ\\x8a\\xef\\xc5\\xc9\\xa8\\xed\\x13\\xfe\\ru\\xd5o\\xffOic8[\\xe9\\x0e\\xd2\\xd0\\xf7\\x08\\x06\\xf0\\x83\\xban\\x03\\x0c\\xde\\x80 \\xd1\\xc1A\\xa1\\xa5\\x00C\\x1c\\xe5\\xc8\\xd0\\x8bDG\\xbe\\xef]l_\\x13\\xf0\\x89rK\\xa4s\\x90\\xdd\\xf3\\xbe\\xdb>\\xec\\xf5\\xf7\\x9dJ\\xf6%y\\x08\\xef%}\\x08\\x1b\\xa4+\\x90\\x1e\\xf0\\xdeE\\xc8\\xfdx/\\xe9\\x1c\\xbf\\xfe\\xc0\\x8f=\\x03E\\xbf\\xe0CD\\x81\\'\\x14\\x8eCy\\xa6\\xdf\\xfe\\xf5\\xff\\xfd\\xfc\\x85\\xa4[\\xfc\\xfawL\\xf6\\x10\\xd9\\xa3\\xa4\\xf7\\xbc\\xdf\\xf3\\xe1\\xc6{\\x87\\xf8\\xc59\\xbf\\xde\\xffaT\\xf80\\xcc|\\xe8\\x85t\\x01\\xa1C\\x86+\\xc0P\\x90\\x07\\xb5\\xbb~?\\x17\\xfaw\\xff\\x9f|\\xfc\\x9b\\xfe\\xc7\\x98\\xf2\\xa1\\xbb\\x90\\xf1\\xe6\\xd7C\\xc6\\x87\\x0eA:\\n\\xe9\\x07\\xe4\\x18\\x81\\n\\x1d\\x18)~\\xf7\\x17\\xf0\\xd3?\\xf8\\xf7+\\xf0\\x8b\\xf0\\xc0\\x96\\xa00\\x13*\\x03\\xa2`$Q\\xa1\\x03\\x1b\\x9f\\xae\\xd4\\xa7+\\xf0\\xe9\\n|\\xba\\x02\\xff\\xe2\\n\\xfc?\\x84\\'\\x81\\xdf\\x12\\xce\\x05\\x1b\\x00\\x00\\x00\\x00IEND\\xaeB`\\x82'"
      ]
     },
     "execution_count": 35,
     "metadata": {},
     "output_type": "execute_result"
    }
   ],
   "source": [
    "image_data"
   ]
  },
  {
   "cell_type": "code",
   "execution_count": 37,
   "metadata": {
    "collapsed": false
   },
   "outputs": [],
   "source": [
    "next_to_last_tensor = sess.graph.get_tensor_by_name('pool_3:0')"
   ]
  },
  {
   "cell_type": "code",
   "execution_count": 38,
   "metadata": {
    "collapsed": false
   },
   "outputs": [
    {
     "data": {
      "text/plain": [
       "<tf.Tensor 'pool_3:0' shape=(1, 1, 1, 2048) dtype=float32>"
      ]
     },
     "execution_count": 38,
     "metadata": {},
     "output_type": "execute_result"
    }
   ],
   "source": [
    "next_to_last_tensor"
   ]
  },
  {
   "cell_type": "code",
   "execution_count": 40,
   "metadata": {
    "collapsed": false
   },
   "outputs": [
    {
     "ename": "InvalidArgumentError",
     "evalue": "Invalid JPEG data, size 21206\n\t [[Node: DecodeJpeg = DecodeJpeg[acceptable_fraction=1, channels=3, fancy_upscaling=true, ratio=1, try_recover_truncated=false, _device=\"/job:localhost/replica:0/task:0/cpu:0\"](_recv_DecodeJpeg/contents_0)]]\n\nCaused by op u'DecodeJpeg', defined at:\n  File \"/usr/local/Cellar/python/2.7.12/Frameworks/Python.framework/Versions/2.7/lib/python2.7/runpy.py\", line 174, in _run_module_as_main\n    \"__main__\", fname, loader, pkg_name)\n  File \"/usr/local/Cellar/python/2.7.12/Frameworks/Python.framework/Versions/2.7/lib/python2.7/runpy.py\", line 72, in _run_code\n    exec code in run_globals\n  File \"/usr/local/lib/python2.7/site-packages/ipykernel/__main__.py\", line 3, in <module>\n    app.launch_new_instance()\n  File \"/usr/local/lib/python2.7/site-packages/traitlets/config/application.py\", line 596, in launch_instance\n    app.start()\n  File \"/usr/local/lib/python2.7/site-packages/ipykernel/kernelapp.py\", line 442, in start\n    ioloop.IOLoop.instance().start()\n  File \"/usr/local/lib/python2.7/site-packages/zmq/eventloop/ioloop.py\", line 162, in start\n    super(ZMQIOLoop, self).start()\n  File \"/usr/local/lib/python2.7/site-packages/tornado/ioloop.py\", line 883, in start\n    handler_func(fd_obj, events)\n  File \"/usr/local/lib/python2.7/site-packages/tornado/stack_context.py\", line 275, in null_wrapper\n    return fn(*args, **kwargs)\n  File \"/usr/local/lib/python2.7/site-packages/zmq/eventloop/zmqstream.py\", line 440, in _handle_events\n    self._handle_recv()\n  File \"/usr/local/lib/python2.7/site-packages/zmq/eventloop/zmqstream.py\", line 472, in _handle_recv\n    self._run_callback(callback, msg)\n  File \"/usr/local/lib/python2.7/site-packages/zmq/eventloop/zmqstream.py\", line 414, in _run_callback\n    callback(*args, **kwargs)\n  File \"/usr/local/lib/python2.7/site-packages/tornado/stack_context.py\", line 275, in null_wrapper\n    return fn(*args, **kwargs)\n  File \"/usr/local/lib/python2.7/site-packages/ipykernel/kernelbase.py\", line 276, in dispatcher\n    return self.dispatch_shell(stream, msg)\n  File \"/usr/local/lib/python2.7/site-packages/ipykernel/kernelbase.py\", line 228, in dispatch_shell\n    handler(stream, idents, msg)\n  File \"/usr/local/lib/python2.7/site-packages/ipykernel/kernelbase.py\", line 391, in execute_request\n    user_expressions, allow_stdin)\n  File \"/usr/local/lib/python2.7/site-packages/ipykernel/ipkernel.py\", line 199, in do_execute\n    shell.run_cell(code, store_history=store_history, silent=silent)\n  File \"/usr/local/lib/python2.7/site-packages/IPython/core/interactiveshell.py\", line 2705, in run_cell\n    interactivity=interactivity, compiler=compiler, result=result)\n  File \"/usr/local/lib/python2.7/site-packages/IPython/core/interactiveshell.py\", line 2809, in run_ast_nodes\n    if self.run_code(code, result):\n  File \"/usr/local/lib/python2.7/site-packages/IPython/core/interactiveshell.py\", line 2869, in run_code\n    exec(code_obj, self.user_global_ns, self.user_ns)\n  File \"<ipython-input-2-63250612a6f5>\", line 1, in <module>\n    features, labels, sns, images = extract_bnfeatures_from_defect('./ben1214/J3801/')\n  File \"defectlib/Transform.py\", line 443, in extract_bnfeatures_from_defect\n    features, labels, sns, images = extract_bnfeatures_from_angle(angle_path, comb=comb)\n  File \"defectlib/Transform.py\", line 394, in extract_bnfeatures_from_angle\n    features = extract_bottleneck_features(images_list)\n  File \"defectlib/Transform.py\", line 337, in extract_bottleneck_features\n    create_graph('./inception_dec_2015/tensorflow_inception_graph.pb')\n  File \"defectlib/Transform.py\", line 311, in create_graph\n    _ = tf.import_graph_def(graph_def, name='')\n  File \"/Users/hadoop1/.virtualenvs/cv/lib/python2.7/site-packages/tensorflow/python/framework/importer.py\", line 285, in import_graph_def\n    op_def=op_def)\n  File \"/Users/hadoop1/.virtualenvs/cv/lib/python2.7/site-packages/tensorflow/python/framework/ops.py\", line 2240, in create_op\n    original_op=self._default_original_op, op_def=op_def)\n  File \"/Users/hadoop1/.virtualenvs/cv/lib/python2.7/site-packages/tensorflow/python/framework/ops.py\", line 1128, in __init__\n    self._traceback = _extract_stack()\n\nInvalidArgumentError (see above for traceback): Invalid JPEG data, size 21206\n\t [[Node: DecodeJpeg = DecodeJpeg[acceptable_fraction=1, channels=3, fancy_upscaling=true, ratio=1, try_recover_truncated=false, _device=\"/job:localhost/replica:0/task:0/cpu:0\"](_recv_DecodeJpeg/contents_0)]]\n",
     "output_type": "error",
     "traceback": [
      "\u001b[0;31m---------------------------------------------------------------------------\u001b[0m",
      "\u001b[0;31mInvalidArgumentError\u001b[0m                      Traceback (most recent call last)",
      "\u001b[0;32m<ipython-input-40-531f215ce472>\u001b[0m in \u001b[0;36m<module>\u001b[0;34m()\u001b[0m\n\u001b[1;32m      1\u001b[0m predictions = sess.run(next_to_last_tensor,\n\u001b[0;32m----> 2\u001b[0;31m                       \u001b[0;34m{\u001b[0m\u001b[0;34m'DecodeJpeg/contents:0'\u001b[0m\u001b[0;34m:\u001b[0m \u001b[0mimage_data\u001b[0m\u001b[0;34m}\u001b[0m\u001b[0;34m\u001b[0m\u001b[0m\n\u001b[0m\u001b[1;32m      3\u001b[0m                       )\n",
      "\u001b[0;32m/Users/hadoop1/.virtualenvs/cv/lib/python2.7/site-packages/tensorflow/python/client/session.pyc\u001b[0m in \u001b[0;36mrun\u001b[0;34m(self, fetches, feed_dict, options, run_metadata)\u001b[0m\n\u001b[1;32m    764\u001b[0m     \u001b[0;32mtry\u001b[0m\u001b[0;34m:\u001b[0m\u001b[0;34m\u001b[0m\u001b[0m\n\u001b[1;32m    765\u001b[0m       result = self._run(None, fetches, feed_dict, options_ptr,\n\u001b[0;32m--> 766\u001b[0;31m                          run_metadata_ptr)\n\u001b[0m\u001b[1;32m    767\u001b[0m       \u001b[0;32mif\u001b[0m \u001b[0mrun_metadata\u001b[0m\u001b[0;34m:\u001b[0m\u001b[0;34m\u001b[0m\u001b[0m\n\u001b[1;32m    768\u001b[0m         \u001b[0mproto_data\u001b[0m \u001b[0;34m=\u001b[0m \u001b[0mtf_session\u001b[0m\u001b[0;34m.\u001b[0m\u001b[0mTF_GetBuffer\u001b[0m\u001b[0;34m(\u001b[0m\u001b[0mrun_metadata_ptr\u001b[0m\u001b[0;34m)\u001b[0m\u001b[0;34m\u001b[0m\u001b[0m\n",
      "\u001b[0;32m/Users/hadoop1/.virtualenvs/cv/lib/python2.7/site-packages/tensorflow/python/client/session.pyc\u001b[0m in \u001b[0;36m_run\u001b[0;34m(self, handle, fetches, feed_dict, options, run_metadata)\u001b[0m\n\u001b[1;32m    962\u001b[0m     \u001b[0;32mif\u001b[0m \u001b[0mfinal_fetches\u001b[0m \u001b[0;32mor\u001b[0m \u001b[0mfinal_targets\u001b[0m\u001b[0;34m:\u001b[0m\u001b[0;34m\u001b[0m\u001b[0m\n\u001b[1;32m    963\u001b[0m       results = self._do_run(handle, final_targets, final_fetches,\n\u001b[0;32m--> 964\u001b[0;31m                              feed_dict_string, options, run_metadata)\n\u001b[0m\u001b[1;32m    965\u001b[0m     \u001b[0;32melse\u001b[0m\u001b[0;34m:\u001b[0m\u001b[0;34m\u001b[0m\u001b[0m\n\u001b[1;32m    966\u001b[0m       \u001b[0mresults\u001b[0m \u001b[0;34m=\u001b[0m \u001b[0;34m[\u001b[0m\u001b[0;34m]\u001b[0m\u001b[0;34m\u001b[0m\u001b[0m\n",
      "\u001b[0;32m/Users/hadoop1/.virtualenvs/cv/lib/python2.7/site-packages/tensorflow/python/client/session.pyc\u001b[0m in \u001b[0;36m_do_run\u001b[0;34m(self, handle, target_list, fetch_list, feed_dict, options, run_metadata)\u001b[0m\n\u001b[1;32m   1012\u001b[0m     \u001b[0;32mif\u001b[0m \u001b[0mhandle\u001b[0m \u001b[0;32mis\u001b[0m \u001b[0mNone\u001b[0m\u001b[0;34m:\u001b[0m\u001b[0;34m\u001b[0m\u001b[0m\n\u001b[1;32m   1013\u001b[0m       return self._do_call(_run_fn, self._session, feed_dict, fetch_list,\n\u001b[0;32m-> 1014\u001b[0;31m                            target_list, options, run_metadata)\n\u001b[0m\u001b[1;32m   1015\u001b[0m     \u001b[0;32melse\u001b[0m\u001b[0;34m:\u001b[0m\u001b[0;34m\u001b[0m\u001b[0m\n\u001b[1;32m   1016\u001b[0m       return self._do_call(_prun_fn, self._session, handle, feed_dict,\n",
      "\u001b[0;32m/Users/hadoop1/.virtualenvs/cv/lib/python2.7/site-packages/tensorflow/python/client/session.pyc\u001b[0m in \u001b[0;36m_do_call\u001b[0;34m(self, fn, *args)\u001b[0m\n\u001b[1;32m   1032\u001b[0m         \u001b[0;32mexcept\u001b[0m \u001b[0mKeyError\u001b[0m\u001b[0;34m:\u001b[0m\u001b[0;34m\u001b[0m\u001b[0m\n\u001b[1;32m   1033\u001b[0m           \u001b[0;32mpass\u001b[0m\u001b[0;34m\u001b[0m\u001b[0m\n\u001b[0;32m-> 1034\u001b[0;31m       \u001b[0;32mraise\u001b[0m \u001b[0mtype\u001b[0m\u001b[0;34m(\u001b[0m\u001b[0me\u001b[0m\u001b[0;34m)\u001b[0m\u001b[0;34m(\u001b[0m\u001b[0mnode_def\u001b[0m\u001b[0;34m,\u001b[0m \u001b[0mop\u001b[0m\u001b[0;34m,\u001b[0m \u001b[0mmessage\u001b[0m\u001b[0;34m)\u001b[0m\u001b[0;34m\u001b[0m\u001b[0m\n\u001b[0m\u001b[1;32m   1035\u001b[0m \u001b[0;34m\u001b[0m\u001b[0m\n\u001b[1;32m   1036\u001b[0m   \u001b[0;32mdef\u001b[0m \u001b[0m_extend_graph\u001b[0m\u001b[0;34m(\u001b[0m\u001b[0mself\u001b[0m\u001b[0;34m)\u001b[0m\u001b[0;34m:\u001b[0m\u001b[0;34m\u001b[0m\u001b[0m\n",
      "\u001b[0;31mInvalidArgumentError\u001b[0m: Invalid JPEG data, size 21206\n\t [[Node: DecodeJpeg = DecodeJpeg[acceptable_fraction=1, channels=3, fancy_upscaling=true, ratio=1, try_recover_truncated=false, _device=\"/job:localhost/replica:0/task:0/cpu:0\"](_recv_DecodeJpeg/contents_0)]]\n\nCaused by op u'DecodeJpeg', defined at:\n  File \"/usr/local/Cellar/python/2.7.12/Frameworks/Python.framework/Versions/2.7/lib/python2.7/runpy.py\", line 174, in _run_module_as_main\n    \"__main__\", fname, loader, pkg_name)\n  File \"/usr/local/Cellar/python/2.7.12/Frameworks/Python.framework/Versions/2.7/lib/python2.7/runpy.py\", line 72, in _run_code\n    exec code in run_globals\n  File \"/usr/local/lib/python2.7/site-packages/ipykernel/__main__.py\", line 3, in <module>\n    app.launch_new_instance()\n  File \"/usr/local/lib/python2.7/site-packages/traitlets/config/application.py\", line 596, in launch_instance\n    app.start()\n  File \"/usr/local/lib/python2.7/site-packages/ipykernel/kernelapp.py\", line 442, in start\n    ioloop.IOLoop.instance().start()\n  File \"/usr/local/lib/python2.7/site-packages/zmq/eventloop/ioloop.py\", line 162, in start\n    super(ZMQIOLoop, self).start()\n  File \"/usr/local/lib/python2.7/site-packages/tornado/ioloop.py\", line 883, in start\n    handler_func(fd_obj, events)\n  File \"/usr/local/lib/python2.7/site-packages/tornado/stack_context.py\", line 275, in null_wrapper\n    return fn(*args, **kwargs)\n  File \"/usr/local/lib/python2.7/site-packages/zmq/eventloop/zmqstream.py\", line 440, in _handle_events\n    self._handle_recv()\n  File \"/usr/local/lib/python2.7/site-packages/zmq/eventloop/zmqstream.py\", line 472, in _handle_recv\n    self._run_callback(callback, msg)\n  File \"/usr/local/lib/python2.7/site-packages/zmq/eventloop/zmqstream.py\", line 414, in _run_callback\n    callback(*args, **kwargs)\n  File \"/usr/local/lib/python2.7/site-packages/tornado/stack_context.py\", line 275, in null_wrapper\n    return fn(*args, **kwargs)\n  File \"/usr/local/lib/python2.7/site-packages/ipykernel/kernelbase.py\", line 276, in dispatcher\n    return self.dispatch_shell(stream, msg)\n  File \"/usr/local/lib/python2.7/site-packages/ipykernel/kernelbase.py\", line 228, in dispatch_shell\n    handler(stream, idents, msg)\n  File \"/usr/local/lib/python2.7/site-packages/ipykernel/kernelbase.py\", line 391, in execute_request\n    user_expressions, allow_stdin)\n  File \"/usr/local/lib/python2.7/site-packages/ipykernel/ipkernel.py\", line 199, in do_execute\n    shell.run_cell(code, store_history=store_history, silent=silent)\n  File \"/usr/local/lib/python2.7/site-packages/IPython/core/interactiveshell.py\", line 2705, in run_cell\n    interactivity=interactivity, compiler=compiler, result=result)\n  File \"/usr/local/lib/python2.7/site-packages/IPython/core/interactiveshell.py\", line 2809, in run_ast_nodes\n    if self.run_code(code, result):\n  File \"/usr/local/lib/python2.7/site-packages/IPython/core/interactiveshell.py\", line 2869, in run_code\n    exec(code_obj, self.user_global_ns, self.user_ns)\n  File \"<ipython-input-2-63250612a6f5>\", line 1, in <module>\n    features, labels, sns, images = extract_bnfeatures_from_defect('./ben1214/J3801/')\n  File \"defectlib/Transform.py\", line 443, in extract_bnfeatures_from_defect\n    features, labels, sns, images = extract_bnfeatures_from_angle(angle_path, comb=comb)\n  File \"defectlib/Transform.py\", line 394, in extract_bnfeatures_from_angle\n    features = extract_bottleneck_features(images_list)\n  File \"defectlib/Transform.py\", line 337, in extract_bottleneck_features\n    create_graph('./inception_dec_2015/tensorflow_inception_graph.pb')\n  File \"defectlib/Transform.py\", line 311, in create_graph\n    _ = tf.import_graph_def(graph_def, name='')\n  File \"/Users/hadoop1/.virtualenvs/cv/lib/python2.7/site-packages/tensorflow/python/framework/importer.py\", line 285, in import_graph_def\n    op_def=op_def)\n  File \"/Users/hadoop1/.virtualenvs/cv/lib/python2.7/site-packages/tensorflow/python/framework/ops.py\", line 2240, in create_op\n    original_op=self._default_original_op, op_def=op_def)\n  File \"/Users/hadoop1/.virtualenvs/cv/lib/python2.7/site-packages/tensorflow/python/framework/ops.py\", line 1128, in __init__\n    self._traceback = _extract_stack()\n\nInvalidArgumentError (see above for traceback): Invalid JPEG data, size 21206\n\t [[Node: DecodeJpeg = DecodeJpeg[acceptable_fraction=1, channels=3, fancy_upscaling=true, ratio=1, try_recover_truncated=false, _device=\"/job:localhost/replica:0/task:0/cpu:0\"](_recv_DecodeJpeg/contents_0)]]\n"
     ]
    }
   ],
   "source": [
    "predictions = sess.run(next_to_last_tensor,\n",
    "                      {'DecodeJpeg/contents:0': image_data}\n",
    "                      )"
   ]
  },
  {
   "cell_type": "code",
   "execution_count": null,
   "metadata": {
    "collapsed": true
   },
   "outputs": [],
   "source": []
  }
 ],
 "metadata": {
  "kernelspec": {
   "display_name": "Python 2",
   "language": "python",
   "name": "python2"
  },
  "language_info": {
   "codemirror_mode": {
    "name": "ipython",
    "version": 2
   },
   "file_extension": ".py",
   "mimetype": "text/x-python",
   "name": "python",
   "nbconvert_exporter": "python",
   "pygments_lexer": "ipython2",
   "version": "2.7.12"
  },
  "latex_envs": {
   "bibliofile": "biblio.bib",
   "cite_by": "apalike",
   "current_citInitial": 1,
   "eqLabelWithNumbers": true,
   "eqNumInitial": 0
  }
 },
 "nbformat": 4,
 "nbformat_minor": 1
}
