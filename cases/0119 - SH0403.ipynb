{
 "cells": [
  {
   "cell_type": "code",
   "execution_count": 7,
   "metadata": {
    "collapsed": false
   },
   "outputs": [
    {
     "data": {
      "text/html": [
       "\n",
       "    <div class=\"bk-root\">\n",
       "        <a href=\"http://bokeh.pydata.org\" target=\"_blank\" class=\"bk-logo bk-logo-small bk-logo-notebook\"></a>\n",
       "        <span id=\"17caf7f5-3b74-4951-839f-653a228244f6\">Loading BokehJS ...</span>\n",
       "    </div>"
      ]
     },
     "metadata": {},
     "output_type": "display_data"
    },
    {
     "data": {
      "application/javascript": [
       "\n",
       "(function(global) {\n",
       "  function now() {\n",
       "    return new Date();\n",
       "  }\n",
       "\n",
       "  var force = \"1\";\n",
       "\n",
       "  if (typeof (window._bokeh_onload_callbacks) === \"undefined\" || force !== \"\") {\n",
       "    window._bokeh_onload_callbacks = [];\n",
       "    window._bokeh_is_loading = undefined;\n",
       "  }\n",
       "\n",
       "\n",
       "  \n",
       "  if (typeof (window._bokeh_timeout) === \"undefined\" || force !== \"\") {\n",
       "    window._bokeh_timeout = Date.now() + 5000;\n",
       "    window._bokeh_failed_load = false;\n",
       "  }\n",
       "\n",
       "  var NB_LOAD_WARNING = {'data': {'text/html':\n",
       "     \"<div style='background-color: #fdd'>\\n\"+\n",
       "     \"<p>\\n\"+\n",
       "     \"BokehJS does not appear to have successfully loaded. If loading BokehJS from CDN, this \\n\"+\n",
       "     \"may be due to a slow or bad network connection. Possible fixes:\\n\"+\n",
       "     \"</p>\\n\"+\n",
       "     \"<ul>\\n\"+\n",
       "     \"<li>re-rerun `output_notebook()` to attempt to load from CDN again, or</li>\\n\"+\n",
       "     \"<li>use INLINE resources instead, as so:</li>\\n\"+\n",
       "     \"</ul>\\n\"+\n",
       "     \"<code>\\n\"+\n",
       "     \"from bokeh.resources import INLINE\\n\"+\n",
       "     \"output_notebook(resources=INLINE)\\n\"+\n",
       "     \"</code>\\n\"+\n",
       "     \"</div>\"}};\n",
       "\n",
       "  function display_loaded() {\n",
       "    if (window.Bokeh !== undefined) {\n",
       "      Bokeh.$(\"#17caf7f5-3b74-4951-839f-653a228244f6\").text(\"BokehJS successfully loaded.\");\n",
       "    } else if (Date.now() < window._bokeh_timeout) {\n",
       "      setTimeout(display_loaded, 100)\n",
       "    }\n",
       "  }\n",
       "\n",
       "  function run_callbacks() {\n",
       "    window._bokeh_onload_callbacks.forEach(function(callback) { callback() });\n",
       "    delete window._bokeh_onload_callbacks\n",
       "    console.info(\"Bokeh: all callbacks have finished\");\n",
       "  }\n",
       "\n",
       "  function load_libs(js_urls, callback) {\n",
       "    window._bokeh_onload_callbacks.push(callback);\n",
       "    if (window._bokeh_is_loading > 0) {\n",
       "      console.log(\"Bokeh: BokehJS is being loaded, scheduling callback at\", now());\n",
       "      return null;\n",
       "    }\n",
       "    if (js_urls == null || js_urls.length === 0) {\n",
       "      run_callbacks();\n",
       "      return null;\n",
       "    }\n",
       "    console.log(\"Bokeh: BokehJS not loaded, scheduling load and callback at\", now());\n",
       "    window._bokeh_is_loading = js_urls.length;\n",
       "    for (var i = 0; i < js_urls.length; i++) {\n",
       "      var url = js_urls[i];\n",
       "      var s = document.createElement('script');\n",
       "      s.src = url;\n",
       "      s.async = false;\n",
       "      s.onreadystatechange = s.onload = function() {\n",
       "        window._bokeh_is_loading--;\n",
       "        if (window._bokeh_is_loading === 0) {\n",
       "          console.log(\"Bokeh: all BokehJS libraries loaded\");\n",
       "          run_callbacks()\n",
       "        }\n",
       "      };\n",
       "      s.onerror = function() {\n",
       "        console.warn(\"failed to load library \" + url);\n",
       "      };\n",
       "      console.log(\"Bokeh: injecting script tag for BokehJS library: \", url);\n",
       "      document.getElementsByTagName(\"head\")[0].appendChild(s);\n",
       "    }\n",
       "  };var element = document.getElementById(\"17caf7f5-3b74-4951-839f-653a228244f6\");\n",
       "  if (element == null) {\n",
       "    console.log(\"Bokeh: ERROR: autoload.js configured with elementid '17caf7f5-3b74-4951-839f-653a228244f6' but no matching script tag was found. \")\n",
       "    return false;\n",
       "  }\n",
       "\n",
       "  var js_urls = ['https://cdn.pydata.org/bokeh/release/bokeh-0.12.3.min.js', 'https://cdn.pydata.org/bokeh/release/bokeh-widgets-0.12.3.min.js'];\n",
       "\n",
       "  var inline_js = [\n",
       "    function(Bokeh) {\n",
       "      Bokeh.set_log_level(\"info\");\n",
       "    },\n",
       "    \n",
       "    function(Bokeh) {\n",
       "      \n",
       "      Bokeh.$(\"#17caf7f5-3b74-4951-839f-653a228244f6\").text(\"BokehJS is loading...\");\n",
       "    },\n",
       "    function(Bokeh) {\n",
       "      console.log(\"Bokeh: injecting CSS: https://cdn.pydata.org/bokeh/release/bokeh-0.12.3.min.css\");\n",
       "      Bokeh.embed.inject_css(\"https://cdn.pydata.org/bokeh/release/bokeh-0.12.3.min.css\");\n",
       "      console.log(\"Bokeh: injecting CSS: https://cdn.pydata.org/bokeh/release/bokeh-widgets-0.12.3.min.css\");\n",
       "      Bokeh.embed.inject_css(\"https://cdn.pydata.org/bokeh/release/bokeh-widgets-0.12.3.min.css\");\n",
       "    }\n",
       "  ];\n",
       "\n",
       "  function run_inline_js() {\n",
       "    \n",
       "    if ((window.Bokeh !== undefined) || (force === \"1\")) {\n",
       "      for (var i = 0; i < inline_js.length; i++) {\n",
       "        inline_js[i](window.Bokeh);\n",
       "      }if (force === \"1\") {\n",
       "        display_loaded();\n",
       "      }} else if (Date.now() < window._bokeh_timeout) {\n",
       "      setTimeout(run_inline_js, 100);\n",
       "    } else if (!window._bokeh_failed_load) {\n",
       "      console.log(\"Bokeh: BokehJS failed to load within specified timeout.\");\n",
       "      window._bokeh_failed_load = true;\n",
       "    } else if (!force) {\n",
       "      var cell = $(\"#17caf7f5-3b74-4951-839f-653a228244f6\").parents('.cell').data().cell;\n",
       "      cell.output_area.append_execute_result(NB_LOAD_WARNING)\n",
       "    }\n",
       "\n",
       "  }\n",
       "\n",
       "  if (window._bokeh_is_loading === 0) {\n",
       "    console.log(\"Bokeh: BokehJS loaded, going straight to plotting\");\n",
       "    run_inline_js();\n",
       "  } else {\n",
       "    load_libs(js_urls, function() {\n",
       "      console.log(\"Bokeh: BokehJS plotting callback run at\", now());\n",
       "      run_inline_js();\n",
       "    });\n",
       "  }\n",
       "}(this));"
      ]
     },
     "metadata": {},
     "output_type": "display_data"
    }
   ],
   "source": [
    "from defectlib import extract_bnfeatures_from_defect, train_svm_classifier, plot_tsne\n",
    "import numpy as np\n",
    "from bokeh.plotting import figure, output_notebook\n",
    "output_notebook()\n",
    "%matplotlib inline"
   ]
  },
  {
   "cell_type": "code",
   "execution_count": 2,
   "metadata": {
    "collapsed": false
   },
   "outputs": [
    {
     "name": "stdout",
     "output_type": "stream",
     "text": [
      "there are 31 images inside c0\n",
      "Processing ./Data/Lam/SH0403/2A/c0/1_c0_2AAAAAA_16.jpg...\n",
      "there are 15 images inside c1\n",
      "Processing ./Data/Lam/SH0403/2A/c1/1_c1_2AAAAAA_16.jpg...\n",
      "there are 24 images inside c13\n",
      "Processing ./Data/Lam/SH0403/2A/c13/1_c13_2AAAAAA_15.jpg...\n",
      "there are 24 images inside c9\n",
      "Processing ./Data/Lam/SH0403/2A/c9/1_c9_2AAAAAA_16.jpg...\n",
      "there are 47 images inside c8\n",
      "Processing ./Data/Lam/SH0403/4A/c8/14_4AAAAAA_0.jpg...\n",
      "there are 138 images inside c9\n",
      "Processing ./Data/Lam/SH0403/4A/c9/10_4AAAAAA_0.jpg...\n",
      "Processing ./Data/Lam/SH0403/4A/c9/21_4AAAAAA_17.jpg...\n"
     ]
    }
   ],
   "source": [
    "features, labels, sns, images = extract_bnfeatures_from_defect('./Data/Lam/SH0403/')"
   ]
  },
  {
   "cell_type": "code",
   "execution_count": 5,
   "metadata": {
    "collapsed": false
   },
   "outputs": [
    {
     "data": {
      "image/png": "[encoded data removed]",
      "text/plain": [
       "<matplotlib.figure.Figure at 0x140b0e610>"
      ]
     },
     "metadata": {},
     "output_type": "display_data"
    }
   ],
   "source": [
    "plot_tsne(features, labels, sns, perplexity=30, interactive=False, images=images)"
   ]
  },
  {
   "cell_type": "code",
   "execution_count": 8,
   "metadata": {
    "collapsed": false
   },
   "outputs": [
    {
     "data": {
      "text/html": [
       "\n",
       "\n",
       "    <div class=\"bk-root\">\n",
       "        <div class=\"plotdiv\" id=\"5b09325e-218d-4d16-b174-5c1f859c2403\"></div>\n",
       "    </div>\n",
       "<script type=\"text/javascript\">\n",
       "  \n",
       "  (function(global) {\n",
       "    function now() {\n",
       "      return new Date();\n",
       "    }\n",
       "  \n",
       "    var force = \"\";\n",
       "  \n",
       "    if (typeof (window._bokeh_onload_callbacks) === \"undefined\" || force !== \"\") {\n",
       "      window._bokeh_onload_callbacks = [];\n",
       "      window._bokeh_is_loading = undefined;\n",
       "    }\n",
       "  \n",
       "  \n",
       "    \n",
       "    if (typeof (window._bokeh_timeout) === \"undefined\" || force !== \"\") {\n",
       "      window._bokeh_timeout = Date.now() + 0;\n",
       "      window._bokeh_failed_load = false;\n",
       "    }\n",
       "  \n",
       "    var NB_LOAD_WARNING = {'data': {'text/html':\n",
       "       \"<div style='background-color: #fdd'>\\n\"+\n",
       "       \"<p>\\n\"+\n",
       "       \"BokehJS does not appear to have successfully loaded. If loading BokehJS from CDN, this \\n\"+\n",
       "       \"may be due to a slow or bad network connection. Possible fixes:\\n\"+\n",
       "       \"</p>\\n\"+\n",
       "       \"<ul>\\n\"+\n",
       "       \"<li>re-rerun `output_notebook()` to attempt to load from CDN again, or</li>\\n\"+\n",
       "       \"<li>use INLINE resources instead, as so:</li>\\n\"+\n",
       "       \"</ul>\\n\"+\n",
       "       \"<code>\\n\"+\n",
       "       \"from bokeh.resources import INLINE\\n\"+\n",
       "       \"output_notebook(resources=INLINE)\\n\"+\n",
       "       \"</code>\\n\"+\n",
       "       \"</div>\"}};\n",
       "  \n",
       "    function display_loaded() {\n",
       "      if (window.Bokeh !== undefined) {\n",
       "        Bokeh.$(\"#5b09325e-218d-4d16-b174-5c1f859c2403\").text(\"BokehJS successfully loaded.\");\n",
       "      } else if (Date.now() < window._bokeh_timeout) {\n",
       "        setTimeout(display_loaded, 100)\n",
       "      }\n",
       "    }\n",
       "  \n",
       "    function run_callbacks() {\n",
       "      window._bokeh_onload_callbacks.forEach(function(callback) { callback() });\n",
       "      delete window._bokeh_onload_callbacks\n",
       "      console.info(\"Bokeh: all callbacks have finished\");\n",
       "    }\n",
       "  \n",
       "    function load_libs(js_urls, callback) {\n",
       "      window._bokeh_onload_callbacks.push(callback);\n",
       "      if (window._bokeh_is_loading > 0) {\n",
       "        console.log(\"Bokeh: BokehJS is being loaded, scheduling callback at\", now());\n",
       "        return null;\n",
       "      }\n",
       "      if (js_urls == null || js_urls.length === 0) {\n",
       "        run_callbacks();\n",
       "        return null;\n",
       "      }\n",
       "      console.log(\"Bokeh: BokehJS not loaded, scheduling load and callback at\", now());\n",
       "      window._bokeh_is_loading = js_urls.length;\n",
       "      for (var i = 0; i < js_urls.length; i++) {\n",
       "        var url = js_urls[i];\n",
       "        var s = document.createElement('script');\n",
       "        s.src = url;\n",
       "        s.async = false;\n",
       "        s.onreadystatechange = s.onload = function() {\n",
       "          window._bokeh_is_loading--;\n",
       "          if (window._bokeh_is_loading === 0) {\n",
       "            console.log(\"Bokeh: all BokehJS libraries loaded\");\n",
       "            run_callbacks()\n",
       "          }\n",
       "        };\n",
       "        s.onerror = function() {\n",
       "          console.warn(\"failed to load library \" + url);\n",
       "        };\n",
       "        console.log(\"Bokeh: injecting script tag for BokehJS library: \", url);\n",
       "        document.getElementsByTagName(\"head\")[0].appendChild(s);\n",
       "      }\n",
       "    };var element = document.getElementById(\"5b09325e-218d-4d16-b174-5c1f859c2403\");\n",
       "    if (element == null) {\n",
       "      console.log(\"Bokeh: ERROR: autoload.js configured with elementid '5b09325e-218d-4d16-b174-5c1f859c2403' but no matching script tag was found. \")\n",
       "      return false;\n",
       "    }\n",
       "  \n",
       "    var js_urls = [];\n",
       "  \n",
       "    var inline_js = [\n",
       "      function(Bokeh) {\n",
       "        Bokeh.$(function() {\n",
       "            var docs_json = {\"fcfa14c9-3398-4f28-9328-780bf303c7d6\":{\"roots\":{\"references\":[{\"attributes\":{\"fill_alpha\":{\"value\":0.5},\"fill_color\":{\"value\":\"red\"},\"line_alpha\":{\"value\":0.5},\"line_color\":{\"value\":\"red\"},\"size\":{\"units\":\"screen\",\"value\":20},\"x\":{\"field\":\"x\"},\"y\":{\"field\":\"y\"}},\"id\":\"815ad979-49c7-466f-a2ce-af568e2d5982\",\"type\":\"Circle\"},{\"attributes\":{\"fill_alpha\":{\"value\":0.1},\"fill_color\":{\"value\":\"#1f77b4\"},\"line_alpha\":{\"value\":0.1},\"line_color\":{\"value\":\"#1f77b4\"},\"size\":{\"units\":\"screen\",\"value\":20},\"x\":{\"field\":\"x\"},\"y\":{\"field\":\"y\"}},\"id\":\"fd363442-c75b-4f21-85a9-0ab97007d5d0\",\"type\":\"Circle\"},{\"attributes\":{\"fill_alpha\":{\"value\":0.1},\"fill_color\":{\"value\":\"#1f77b4\"},\"line_alpha\":{\"value\":0.1},\"line_color\":{\"value\":\"#1f77b4\"},\"size\":{\"units\":\"screen\",\"value\":20},\"x\":{\"field\":\"x\"},\"y\":{\"field\":\"y\"}},\"id\":\"4cf11986-3e9d-4a1c-b64a-51409e694b2c\",\"type\":\"Circle\"},{\"attributes\":{\"callback\":null,\"column_names\":[\"imgs\",\"y\",\"desc\",\"x\"],\"data\":{\"desc\":[\"1\",\"1\",\"1\",\"1\",\"1\",\"1\",\"1\",\"2\",\"2\",\"2\",\"2\",\"2\",\"2\",\"2\",\"3\",\"3\",\"3\",\"3\",\"3\",\"3\",\"3\",\"3\",\"3\",\"4\",\"4\",\"4\",\"4\",\"4\",\"4\",\"4\",\"4\"],\"imgs\":[\"./Data/Lam/SH0403/2A/c0/1_c0_2AAAAAA_16.jpg\",\"./Data/Lam/SH0403/2A/c0/1_c0_2AAAAAA_17.jpg\",\"./Data/Lam/SH0403/2A/c0/1_c0_2AAAAAA_18.jpg\",\"./Data/Lam/SH0403/2A/c0/1_c0_2AAAAAA_19.jpg\",\"./Data/Lam/SH0403/2A/c0/1_c0_2AAAAAA_6.jpg\",\"./Data/Lam/SH0403/2A/c0/1_c0_2AAAAAA_7.jpg\",\"./Data/Lam/SH0403/2A/c0/1_c0_2AAAAAA_8.jpg\",\"./Data/Lam/SH0403/2A/c0/2_c0_2AAAAAA_16.jpg\",\"./Data/Lam/SH0403/2A/c0/2_c0_2AAAAAA_17.jpg\",\"./Data/Lam/SH0403/2A/c0/2_c0_2AAAAAA_18.jpg\",\"./Data/Lam/SH0403/2A/c0/2_c0_2AAAAAA_19.jpg\",\"./Data/Lam/SH0403/2A/c0/2_c0_2AAAAAA_6.jpg\",\"./Data/Lam/SH0403/2A/c0/2_c0_2AAAAAA_7.jpg\",\"./Data/Lam/SH0403/2A/c0/2_c0_2AAAAAA_8.jpg\",\"./Data/Lam/SH0403/2A/c0/3_c0_2AAAAAA_14.jpg\",\"./Data/Lam/SH0403/2A/c0/3_c0_2AAAAAA_15.jpg\",\"./Data/Lam/SH0403/2A/c0/3_c0_2AAAAAA_16.jpg\",\"./Data/Lam/SH0403/2A/c0/3_c0_2AAAAAA_17.jpg\",\"./Data/Lam/SH0403/2A/c0/3_c0_2AAAAAA_3.jpg\",\"./Data/Lam/SH0403/2A/c0/3_c0_2AAAAAA_4.jpg\",\"./Data/Lam/SH0403/2A/c0/3_c0_2AAAAAA_5.jpg\",\"./Data/Lam/SH0403/2A/c0/3_c0_2AAAAAA_6.jpg\",\"./Data/Lam/SH0403/2A/c0/3_c0_2AAAAAA_7.jpg\",\"./Data/Lam/SH0403/2A/c0/4_c0_2AAAAAA_16.jpg\",\"./Data/Lam/SH0403/2A/c0/4_c0_2AAAAAA_17.jpg\",\"./Data/Lam/SH0403/2A/c0/4_c0_2AAAAAA_18.jpg\",\"./Data/Lam/SH0403/2A/c0/4_c0_2AAAAAA_19.jpg\",\"./Data/Lam/SH0403/2A/c0/4_c0_2AAAAAA_6.jpg\",\"./Data/Lam/SH0403/2A/c0/4_c0_2AAAAAA_7.jpg\",\"./Data/Lam/SH0403/2A/c0/4_c0_2AAAAAA_8.jpg\",\"./Data/Lam/SH0403/2A/c0/4_c0_2AAAAAA_9.jpg\"],\"x\":[3.774099109476068,4.048942511552358,4.300930165667528,4.201820554308499,2.148791365833409,2.6683900092206687,3.467536922573242,3.5857494298490047,3.4016529014322168,4.158226153225343,4.267066068236113,1.9427141895422266,2.7282940465734726,2.6112571340643886,2.5457688169932267,2.837640551887644,3.3097449101234555,3.8063942008164022,1.1158055161747833,1.64242350264129,1.867906471133536,2.416502928415766,2.661997456892575,2.6033322519600355,2.880778771537803,3.3852817823867065,3.9202845240169317,1.3869482709231322,1.6447128846947712,2.3225076678130376,3.3571364316340726],\"y\":[-8.637326762648161,-8.659695125177995,-7.157320961191851,-6.928973862639365,-8.46406229420734,-8.329302453237235,-6.605545973392922,-8.618498630932372,-8.747002109270879,-8.356327768814149,-6.783239246523625,-8.322756011423076,-8.415910159100452,-8.035381922808705,-10.526131587180338,-9.496274474099915,-9.80194067671874,-6.202562388026166,-8.588376522892569,-7.781240140874618,-7.934346714823122,-7.721077926014599,-7.1412411955624195,-10.457516815990402,-9.591748021040118,-9.94353943942143,-6.2454083576104145,-8.174705815624305,-7.778173743677767,-7.79289335689469,-6.623287098316688]}},\"id\":\"fd8f2d80-c0bc-43f4-8464-3d9a8d88d560\",\"type\":\"ColumnDataSource\"},{\"attributes\":{},\"id\":\"b84e2754-c59c-4d35-96a2-3819dfbcc124\",\"type\":\"BasicTicker\"},{\"attributes\":{\"active_drag\":\"auto\",\"active_scroll\":\"auto\",\"active_tap\":\"auto\",\"tools\":[{\"id\":\"dbda782e-ea5e-47ef-8ed3-21816f015f06\",\"type\":\"HoverTool\"}]},\"id\":\"fe34661f-95f7-4f21-9fdd-c7ad0449141e\",\"type\":\"Toolbar\"},{\"attributes\":{\"below\":[{\"id\":\"fc42ddb0-0d41-404e-a174-392cd2180c02\",\"type\":\"LinearAxis\"}],\"left\":[{\"id\":\"85910d73-2b21-4589-9c8e-e9725da44c6b\",\"type\":\"LinearAxis\"}],\"plot_height\":800,\"plot_width\":800,\"renderers\":[{\"id\":\"fc42ddb0-0d41-404e-a174-392cd2180c02\",\"type\":\"LinearAxis\"},{\"id\":\"ba68cfa2-085f-4787-80bc-e475a227fc20\",\"type\":\"Grid\"},{\"id\":\"85910d73-2b21-4589-9c8e-e9725da44c6b\",\"type\":\"LinearAxis\"},{\"id\":\"e3bbe2be-4720-4769-89bb-322e2e8022b0\",\"type\":\"Grid\"},{\"id\":\"ffcfb240-d9cd-4fc2-ad8c-0d3d2e2d28b4\",\"type\":\"GlyphRenderer\"},{\"id\":\"31a99dd3-5055-4b08-8dc6-414ad4c41d2f\",\"type\":\"GlyphRenderer\"},{\"id\":\"f492092a-f4ad-445e-a63a-541b574a2db6\",\"type\":\"GlyphRenderer\"},{\"id\":\"204a0ce2-4b04-4d37-8da6-7dcdf53de111\",\"type\":\"GlyphRenderer\"},{\"id\":\"0adcafb5-436c-412c-b502-01ca22049c5e\",\"type\":\"GlyphRenderer\"}],\"title\":{\"id\":\"c1027ddc-071e-4897-a033-662c5f2a2526\",\"type\":\"Title\"},\"tool_events\":{\"id\":\"793c7942-bb1a-439b-b8cd-c37b1418c70f\",\"type\":\"ToolEvents\"},\"toolbar\":{\"id\":\"fe34661f-95f7-4f21-9fdd-c7ad0449141e\",\"type\":\"Toolbar\"},\"x_range\":{\"id\":\"c73384a9-6084-4a1b-ba06-3a70a27db15b\",\"type\":\"DataRange1d\"},\"y_range\":{\"id\":\"a21f7fcd-1957-4bd9-a7ff-4d709bf7cb71\",\"type\":\"DataRange1d\"}},\"id\":\"dc164878-46b1-458b-92bd-7e1fd9763249\",\"subtype\":\"Figure\",\"type\":\"Plot\"},{\"attributes\":{\"callback\":null,\"column_names\":[\"imgs\",\"y\",\"desc\",\"x\"],\"data\":{\"desc\":[\"14\",\"14\",\"14\",\"14\",\"14\",\"14\",\"14\",\"14\",\"14\",\"14\",\"14\",\"14\",\"14\",\"14\",\"14\",\"14\",\"14\",\"14\",\"14\",\"14\",\"14\",\"14\",\"14\",\"14\",\"19\",\"19\",\"19\",\"19\",\"19\",\"19\",\"19\",\"19\",\"19\",\"19\",\"19\",\"19\",\"19\",\"19\",\"19\",\"19\",\"19\",\"19\",\"19\",\"19\",\"19\",\"19\",\"19\"],\"imgs\":[\"./Data/Lam/SH0403/4A/c8/14_4AAAAAA_0.jpg\",\"./Data/Lam/SH0403/4A/c8/14_4AAAAAA_1.jpg\",\"./Data/Lam/SH0403/4A/c8/14_4AAAAAA_10.jpg\",\"./Data/Lam/SH0403/4A/c8/14_4AAAAAA_11.jpg\",\"./Data/Lam/SH0403/4A/c8/14_4AAAAAA_12.jpg\",\"./Data/Lam/SH0403/4A/c8/14_4AAAAAA_13.jpg\",\"./Data/Lam/SH0403/4A/c8/14_4AAAAAA_14.jpg\",\"./Data/Lam/SH0403/4A/c8/14_4AAAAAA_15.jpg\",\"./Data/Lam/SH0403/4A/c8/14_4AAAAAA_16.jpg\",\"./Data/Lam/SH0403/4A/c8/14_4AAAAAA_17.jpg\",\"./Data/Lam/SH0403/4A/c8/14_4AAAAAA_18.jpg\",\"./Data/Lam/SH0403/4A/c8/14_4AAAAAA_19.jpg\",\"./Data/Lam/SH0403/4A/c8/14_4AAAAAA_2.jpg\",\"./Data/Lam/SH0403/4A/c8/14_4AAAAAA_20.jpg\",\"./Data/Lam/SH0403/4A/c8/14_4AAAAAA_21.jpg\",\"./Data/Lam/SH0403/4A/c8/14_4AAAAAA_22.jpg\",\"./Data/Lam/SH0403/4A/c8/14_4AAAAAA_23.jpg\",\"./Data/Lam/SH0403/4A/c8/14_4AAAAAA_24.jpg\",\"./Data/Lam/SH0403/4A/c8/14_4AAAAAA_25.jpg\",\"./Data/Lam/SH0403/4A/c8/14_4AAAAAA_26.jpg\",\"./Data/Lam/SH0403/4A/c8/14_4AAAAAA_27.jpg\",\"./Data/Lam/SH0403/4A/c8/14_4AAAAAA_28.jpg\",\"./Data/Lam/SH0403/4A/c8/14_4AAAAAA_29.jpg\",\"./Data/Lam/SH0403/4A/c8/14_4AAAAAA_3.jpg\",\"./Data/Lam/SH0403/4A/c8/19_4AAAAAA_1.jpg\",\"./Data/Lam/SH0403/4A/c8/19_4AAAAAA_10.jpg\",\"./Data/Lam/SH0403/4A/c8/19_4AAAAAA_11.jpg\",\"./Data/Lam/SH0403/4A/c8/19_4AAAAAA_12.jpg\",\"./Data/Lam/SH0403/4A/c8/19_4AAAAAA_13.jpg\",\"./Data/Lam/SH0403/4A/c8/19_4AAAAAA_14.jpg\",\"./Data/Lam/SH0403/4A/c8/19_4AAAAAA_15.jpg\",\"./Data/Lam/SH0403/4A/c8/19_4AAAAAA_16.jpg\",\"./Data/Lam/SH0403/4A/c8/19_4AAAAAA_17.jpg\",\"./Data/Lam/SH0403/4A/c8/19_4AAAAAA_18.jpg\",\"./Data/Lam/SH0403/4A/c8/19_4AAAAAA_19.jpg\",\"./Data/Lam/SH0403/4A/c8/19_4AAAAAA_2.jpg\",\"./Data/Lam/SH0403/4A/c8/19_4AAAAAA_20.jpg\",\"./Data/Lam/SH0403/4A/c8/19_4AAAAAA_21.jpg\",\"./Data/Lam/SH0403/4A/c8/19_4AAAAAA_22.jpg\",\"./Data/Lam/SH0403/4A/c8/19_4AAAAAA_23.jpg\",\"./Data/Lam/SH0403/4A/c8/19_4AAAAAA_24.jpg\",\"./Data/Lam/SH0403/4A/c8/19_4AAAAAA_25.jpg\",\"./Data/Lam/SH0403/4A/c8/19_4AAAAAA_26.jpg\",\"./Data/Lam/SH0403/4A/c8/19_4AAAAAA_27.jpg\",\"./Data/Lam/SH0403/4A/c8/19_4AAAAAA_28.jpg\",\"./Data/Lam/SH0403/4A/c8/19_4AAAAAA_29.jpg\",\"./Data/Lam/SH0403/4A/c8/19_4AAAAAA_3.jpg\"],\"x\":[-10.271326443069066,-10.517919668244463,-11.462516183654293,-11.334931710611103,-11.329714714490532,-11.578232860800318,-11.561687111774528,-11.50687920211912,-11.707693367377182,-10.803677674772318,-10.345374182525081,-11.78102005262483,-10.72140450107097,-11.663931272975804,-11.245169100430365,-10.272522748169502,-10.935341531527389,-10.45283553818328,-10.574699627910846,-11.139563107748982,-10.669532675307801,-10.7004598440501,-10.701569587639488,-10.87657745761767,-13.947480641302668,-14.346340016060836,-15.180598265285722,-14.811618157446386,-15.151227280451584,-14.76105644299583,-15.056542983974953,-14.41028914664609,-14.621795160430418,-14.73433633434325,-14.196090245051836,-15.511781977671916,-14.217176293481355,-14.269070924890434,-14.418939092248815,-14.713620925874428,-15.024011801477162,-15.647612537901162,-15.276663113733159,-15.36737113385466,-15.450975163960115,-15.590959502205035,-15.068720741238598],\"y\":[-13.828345986544711,-13.061769501574831,-12.974044527506502,-12.868326927230864,-14.263670314758436,-14.206029942274643,-13.821939416653091,-13.105892911697662,-13.753797741698458,-14.317352651372499,-13.705133363923865,-13.542317728336368,-14.260767054603358,-13.343013772491469,-14.133898254066784,-13.473526971189468,-13.594423302043204,-13.930719411243903,-13.940034331135776,-13.684488214256262,-12.934370271626676,-13.062471967707804,-14.63542278038626,-13.009255594676873,-2.5477692295078556,-1.4027375070045092,-0.6953129391693549,-0.8586408037681711,-1.6413258922801077,-1.4006689354844677,-1.57264622829173,-2.0267330217874977,-1.7333451738178203,-0.7347932044116615,-1.6717152134821314,-1.0189164443917749,-1.0832472776789055,-1.1606169777711346,-0.6054237569519803,-1.7991294403620433,-0.7736598070465162,-1.5054514240664245,-1.895959265464381,-0.9470660152319609,-1.270574070590219,-1.6212833526947448,-1.9739623417471852]}},\"id\":\"a4bf20d0-7c24-434b-9dab-b5aa434601ee\",\"type\":\"ColumnDataSource\"},{\"attributes\":{},\"id\":\"793c7942-bb1a-439b-b8cd-c37b1418c70f\",\"type\":\"ToolEvents\"},{\"attributes\":{\"data_source\":{\"id\":\"90d91085-4f78-4500-99bc-f3a15e9debee\",\"type\":\"ColumnDataSource\"},\"glyph\":{\"id\":\"878ffb1e-111e-410f-bbdd-952691c1666f\",\"type\":\"Circle\"},\"hover_glyph\":null,\"nonselection_glyph\":{\"id\":\"29e0c52a-0c08-4e95-9f8f-b57c37b59cd7\",\"type\":\"Circle\"},\"selection_glyph\":null},\"id\":\"204a0ce2-4b04-4d37-8da6-7dcdf53de111\",\"type\":\"GlyphRenderer\"},{\"attributes\":{\"plot\":null,\"text\":\"Mouse over the dots\"},\"id\":\"c1027ddc-071e-4897-a033-662c5f2a2526\",\"type\":\"Title\"},{\"attributes\":{},\"id\":\"0e17283e-1ca9-48ea-9177-3fcbc8112453\",\"type\":\"BasicTickFormatter\"},{\"attributes\":{\"fill_alpha\":{\"value\":0.1},\"fill_color\":{\"value\":\"#1f77b4\"},\"line_alpha\":{\"value\":0.1},\"line_color\":{\"value\":\"#1f77b4\"},\"size\":{\"units\":\"screen\",\"value\":20},\"x\":{\"field\":\"x\"},\"y\":{\"field\":\"y\"}},\"id\":\"294228f6-5e76-45ff-acb5-b8d069debad5\",\"type\":\"Circle\"},{\"attributes\":{\"callback\":null,\"column_names\":[\"imgs\",\"y\",\"desc\",\"x\"],\"data\":{\"desc\":[\"1\",\"1\",\"1\",\"1\",\"1\",\"1\",\"1\",\"2\",\"2\",\"2\",\"2\",\"2\",\"2\",\"2\",\"2\"],\"imgs\":[\"./Data/Lam/SH0403/2A/c1/1_c1_2AAAAAA_16.jpg\",\"./Data/Lam/SH0403/2A/c1/1_c1_2AAAAAA_17.jpg\",\"./Data/Lam/SH0403/2A/c1/1_c1_2AAAAAA_18.jpg\",\"./Data/Lam/SH0403/2A/c1/1_c1_2AAAAAA_5.jpg\",\"./Data/Lam/SH0403/2A/c1/1_c1_2AAAAAA_6.jpg\",\"./Data/Lam/SH0403/2A/c1/1_c1_2AAAAAA_7.jpg\",\"./Data/Lam/SH0403/2A/c1/1_c1_2AAAAAA_8.jpg\",\"./Data/Lam/SH0403/2A/c1/2_c1_2AAAAAA_17.jpg\",\"./Data/Lam/SH0403/2A/c1/2_c1_2AAAAAA_18.jpg\",\"./Data/Lam/SH0403/2A/c1/2_c1_2AAAAAA_19.jpg\",\"./Data/Lam/SH0403/2A/c1/2_c1_2AAAAAA_20.jpg\",\"./Data/Lam/SH0403/2A/c1/2_c1_2AAAAAA_6.jpg\",\"./Data/Lam/SH0403/2A/c1/2_c1_2AAAAAA_7.jpg\",\"./Data/Lam/SH0403/2A/c1/2_c1_2AAAAAA_8.jpg\",\"./Data/Lam/SH0403/2A/c1/2_c1_2AAAAAA_9.jpg\"],\"x\":[-3.7404149166210052,-3.755954730676468,-3.7328533200170186,-2.0722593536557916,-2.083621756916272,-2.1172735988363955,-2.138321580173693,-1.7759769292034902,-1.7628234963290255,-1.7660007080110702,-1.7481295116640485,-2.38297729221461,-2.3916509746633263,-2.442027591845562,-2.5309523899116133],\"y\":[-9.059467409317344,-9.060989599594336,-9.057924637937317,-9.348844373489966,-9.359217877406762,-9.33939513035454,-9.342799813579003,-4.357091085804868,-4.350064073204538,-4.3740039773783606,-4.2164806963156,-5.530974231161009,-5.55008460514461,-5.542114201125801,-5.51546073380097]}},\"id\":\"ea5dce26-99d5-4c2d-a7fc-2f73b066bdf6\",\"type\":\"ColumnDataSource\"},{\"attributes\":{\"plot\":{\"id\":\"dc164878-46b1-458b-92bd-7e1fd9763249\",\"subtype\":\"Figure\",\"type\":\"Plot\"},\"ticker\":{\"id\":\"f44dd78f-39ae-4c8c-a502-0c79db19b921\",\"type\":\"BasicTicker\"}},\"id\":\"ba68cfa2-085f-4787-80bc-e475a227fc20\",\"type\":\"Grid\"},{\"attributes\":{\"data_source\":{\"id\":\"fd8f2d80-c0bc-43f4-8464-3d9a8d88d560\",\"type\":\"ColumnDataSource\"},\"glyph\":{\"id\":\"b8dfbffe-6101-4e9e-9084-e7a047b1afc3\",\"type\":\"Circle\"},\"hover_glyph\":null,\"nonselection_glyph\":{\"id\":\"fd363442-c75b-4f21-85a9-0ab97007d5d0\",\"type\":\"Circle\"},\"selection_glyph\":null},\"id\":\"31a99dd3-5055-4b08-8dc6-414ad4c41d2f\",\"type\":\"GlyphRenderer\"},{\"attributes\":{\"formatter\":{\"id\":\"0e17283e-1ca9-48ea-9177-3fcbc8112453\",\"type\":\"BasicTickFormatter\"},\"plot\":{\"id\":\"dc164878-46b1-458b-92bd-7e1fd9763249\",\"subtype\":\"Figure\",\"type\":\"Plot\"},\"ticker\":{\"id\":\"b84e2754-c59c-4d35-96a2-3819dfbcc124\",\"type\":\"BasicTicker\"}},\"id\":\"85910d73-2b21-4589-9c8e-e9725da44c6b\",\"type\":\"LinearAxis\"},{\"attributes\":{\"fill_alpha\":{\"value\":0.5},\"fill_color\":{\"value\":\"yellow\"},\"line_alpha\":{\"value\":0.5},\"line_color\":{\"value\":\"yellow\"},\"size\":{\"units\":\"screen\",\"value\":20},\"x\":{\"field\":\"x\"},\"y\":{\"field\":\"y\"}},\"id\":\"878ffb1e-111e-410f-bbdd-952691c1666f\",\"type\":\"Circle\"},{\"attributes\":{\"fill_alpha\":{\"value\":0.5},\"fill_color\":{\"value\":\"blue\"},\"line_alpha\":{\"value\":0.5},\"line_color\":{\"value\":\"blue\"},\"size\":{\"units\":\"screen\",\"value\":20},\"x\":{\"field\":\"x\"},\"y\":{\"field\":\"y\"}},\"id\":\"f552cfc6-163b-4939-a4ce-162f6d38ef75\",\"type\":\"Circle\"},{\"attributes\":{\"fill_alpha\":{\"value\":0.5},\"fill_color\":{\"value\":\"green\"},\"line_alpha\":{\"value\":0.5},\"line_color\":{\"value\":\"green\"},\"size\":{\"units\":\"screen\",\"value\":20},\"x\":{\"field\":\"x\"},\"y\":{\"field\":\"y\"}},\"id\":\"b8dfbffe-6101-4e9e-9084-e7a047b1afc3\",\"type\":\"Circle\"},{\"attributes\":{\"fill_alpha\":{\"value\":0.1},\"fill_color\":{\"value\":\"#1f77b4\"},\"line_alpha\":{\"value\":0.1},\"line_color\":{\"value\":\"#1f77b4\"},\"size\":{\"units\":\"screen\",\"value\":20},\"x\":{\"field\":\"x\"},\"y\":{\"field\":\"y\"}},\"id\":\"8489f1da-a15f-4a62-a52e-dbb38450379c\",\"type\":\"Circle\"},{\"attributes\":{\"callback\":null},\"id\":\"a21f7fcd-1957-4bd9-a7ff-4d709bf7cb71\",\"type\":\"DataRange1d\"},{\"attributes\":{\"callback\":null,\"column_names\":[\"imgs\",\"y\",\"desc\",\"x\"],\"data\":{\"desc\":[\"1\",\"1\",\"1\",\"1\",\"1\",\"1\",\"1\",\"1\",\"2\",\"2\",\"2\",\"2\",\"2\",\"2\",\"2\",\"2\",\"3\",\"3\",\"3\",\"3\",\"3\",\"3\",\"3\",\"3\",\"10\",\"10\",\"10\",\"10\",\"10\",\"10\",\"11\",\"11\",\"11\",\"11\",\"11\",\"12\",\"12\",\"12\",\"12\",\"12\",\"12\",\"12\",\"12\",\"12\",\"12\",\"13\",\"13\",\"13\",\"13\",\"13\",\"13\",\"13\",\"13\",\"13\",\"13\",\"13\",\"13\",\"13\",\"13\",\"13\",\"13\",\"13\",\"13\",\"13\",\"13\",\"13\",\"13\",\"13\",\"13\",\"18\",\"18\",\"18\",\"18\",\"18\",\"18\",\"18\",\"18\",\"18\",\"18\",\"18\",\"18\",\"18\",\"18\",\"18\",\"18\",\"18\",\"18\",\"18\",\"18\",\"1\",\"1\",\"20\",\"20\",\"20\",\"20\",\"20\",\"20\",\"20\",\"20\",\"20\",\"20\",\"20\",\"20\",\"20\",\"20\",\"20\",\"20\",\"20\",\"20\",\"20\",\"20\",\"20\",\"20\",\"20\",\"20\",\"21\",\"21\",\"21\",\"21\",\"21\",\"21\",\"21\",\"21\",\"21\",\"21\",\"21\",\"21\",\"21\",\"21\",\"21\",\"21\",\"21\",\"21\",\"21\",\"21\",\"23\",\"24\",\"24\",\"24\",\"24\",\"24\",\"24\",\"24\",\"24\",\"24\",\"24\",\"24\",\"24\",\"24\",\"24\",\"24\",\"24\",\"24\",\"24\",\"24\",\"24\",\"24\",\"24\",\"24\",\"24\",\"9\",\"9\"],\"imgs\":[\"./Data/Lam/SH0403/2A/c9/1_c9_2AAAAAA_16.jpg\",\"./Data/Lam/SH0403/2A/c9/1_c9_2AAAAAA_17.jpg\",\"./Data/Lam/SH0403/2A/c9/1_c9_2AAAAAA_18.jpg\",\"./Data/Lam/SH0403/2A/c9/1_c9_2AAAAAA_19.jpg\",\"./Data/Lam/SH0403/2A/c9/1_c9_2AAAAAA_5.jpg\",\"./Data/Lam/SH0403/2A/c9/1_c9_2AAAAAA_6.jpg\",\"./Data/Lam/SH0403/2A/c9/1_c9_2AAAAAA_7.jpg\",\"./Data/Lam/SH0403/2A/c9/1_c9_2AAAAAA_8.jpg\",\"./Data/Lam/SH0403/2A/c9/2_c9_2AAAAAA_15.jpg\",\"./Data/Lam/SH0403/2A/c9/2_c9_2AAAAAA_16.jpg\",\"./Data/Lam/SH0403/2A/c9/2_c9_2AAAAAA_17.jpg\",\"./Data/Lam/SH0403/2A/c9/2_c9_2AAAAAA_18.jpg\",\"./Data/Lam/SH0403/2A/c9/2_c9_2AAAAAA_5.jpg\",\"./Data/Lam/SH0403/2A/c9/2_c9_2AAAAAA_6.jpg\",\"./Data/Lam/SH0403/2A/c9/2_c9_2AAAAAA_7.jpg\",\"./Data/Lam/SH0403/2A/c9/2_c9_2AAAAAA_8.jpg\",\"./Data/Lam/SH0403/2A/c9/3_c9_2AAAAAA_16.jpg\",\"./Data/Lam/SH0403/2A/c9/3_c9_2AAAAAA_17.jpg\",\"./Data/Lam/SH0403/2A/c9/3_c9_2AAAAAA_18.jpg\",\"./Data/Lam/SH0403/2A/c9/3_c9_2AAAAAA_19.jpg\",\"./Data/Lam/SH0403/2A/c9/3_c9_2AAAAAA_5.jpg\",\"./Data/Lam/SH0403/2A/c9/3_c9_2AAAAAA_6.jpg\",\"./Data/Lam/SH0403/2A/c9/3_c9_2AAAAAA_7.jpg\",\"./Data/Lam/SH0403/2A/c9/3_c9_2AAAAAA_8.jpg\",\"./Data/Lam/SH0403/4A/c9/10_4AAAAAA_0.jpg\",\"./Data/Lam/SH0403/4A/c9/10_4AAAAAA_1.jpg\",\"./Data/Lam/SH0403/4A/c9/10_4AAAAAA_10.jpg\",\"./Data/Lam/SH0403/4A/c9/10_4AAAAAA_11.jpg\",\"./Data/Lam/SH0403/4A/c9/10_4AAAAAA_2.jpg\",\"./Data/Lam/SH0403/4A/c9/10_4AAAAAA_3.jpg\",\"./Data/Lam/SH0403/4A/c9/11_4AAAAAA_25.jpg\",\"./Data/Lam/SH0403/4A/c9/11_4AAAAAA_26.jpg\",\"./Data/Lam/SH0403/4A/c9/11_4AAAAAA_27.jpg\",\"./Data/Lam/SH0403/4A/c9/11_4AAAAAA_28.jpg\",\"./Data/Lam/SH0403/4A/c9/11_4AAAAAA_29.jpg\",\"./Data/Lam/SH0403/4A/c9/12_4AAAAAA_20.jpg\",\"./Data/Lam/SH0403/4A/c9/12_4AAAAAA_21.jpg\",\"./Data/Lam/SH0403/4A/c9/12_4AAAAAA_22.jpg\",\"./Data/Lam/SH0403/4A/c9/12_4AAAAAA_23.jpg\",\"./Data/Lam/SH0403/4A/c9/12_4AAAAAA_24.jpg\",\"./Data/Lam/SH0403/4A/c9/12_4AAAAAA_25.jpg\",\"./Data/Lam/SH0403/4A/c9/12_4AAAAAA_26.jpg\",\"./Data/Lam/SH0403/4A/c9/12_4AAAAAA_27.jpg\",\"./Data/Lam/SH0403/4A/c9/12_4AAAAAA_28.jpg\",\"./Data/Lam/SH0403/4A/c9/12_4AAAAAA_29.jpg\",\"./Data/Lam/SH0403/4A/c9/13_4AAAAAA_0.jpg\",\"./Data/Lam/SH0403/4A/c9/13_4AAAAAA_1.jpg\",\"./Data/Lam/SH0403/4A/c9/13_4AAAAAA_10.jpg\",\"./Data/Lam/SH0403/4A/c9/13_4AAAAAA_11.jpg\",\"./Data/Lam/SH0403/4A/c9/13_4AAAAAA_12.jpg\",\"./Data/Lam/SH0403/4A/c9/13_4AAAAAA_13.jpg\",\"./Data/Lam/SH0403/4A/c9/13_4AAAAAA_14.jpg\",\"./Data/Lam/SH0403/4A/c9/13_4AAAAAA_15.jpg\",\"./Data/Lam/SH0403/4A/c9/13_4AAAAAA_16.jpg\",\"./Data/Lam/SH0403/4A/c9/13_4AAAAAA_17.jpg\",\"./Data/Lam/SH0403/4A/c9/13_4AAAAAA_18.jpg\",\"./Data/Lam/SH0403/4A/c9/13_4AAAAAA_19.jpg\",\"./Data/Lam/SH0403/4A/c9/13_4AAAAAA_2.jpg\",\"./Data/Lam/SH0403/4A/c9/13_4AAAAAA_20.jpg\",\"./Data/Lam/SH0403/4A/c9/13_4AAAAAA_21.jpg\",\"./Data/Lam/SH0403/4A/c9/13_4AAAAAA_22.jpg\",\"./Data/Lam/SH0403/4A/c9/13_4AAAAAA_23.jpg\",\"./Data/Lam/SH0403/4A/c9/13_4AAAAAA_24.jpg\",\"./Data/Lam/SH0403/4A/c9/13_4AAAAAA_25.jpg\",\"./Data/Lam/SH0403/4A/c9/13_4AAAAAA_26.jpg\",\"./Data/Lam/SH0403/4A/c9/13_4AAAAAA_27.jpg\",\"./Data/Lam/SH0403/4A/c9/13_4AAAAAA_28.jpg\",\"./Data/Lam/SH0403/4A/c9/13_4AAAAAA_29.jpg\",\"./Data/Lam/SH0403/4A/c9/13_4AAAAAA_3.jpg\",\"./Data/Lam/SH0403/4A/c9/18_4AAAAAA_10.jpg\",\"./Data/Lam/SH0403/4A/c9/18_4AAAAAA_11.jpg\",\"./Data/Lam/SH0403/4A/c9/18_4AAAAAA_12.jpg\",\"./Data/Lam/SH0403/4A/c9/18_4AAAAAA_13.jpg\",\"./Data/Lam/SH0403/4A/c9/18_4AAAAAA_14.jpg\",\"./Data/Lam/SH0403/4A/c9/18_4AAAAAA_15.jpg\",\"./Data/Lam/SH0403/4A/c9/18_4AAAAAA_16.jpg\",\"./Data/Lam/SH0403/4A/c9/18_4AAAAAA_17.jpg\",\"./Data/Lam/SH0403/4A/c9/18_4AAAAAA_18.jpg\",\"./Data/Lam/SH0403/4A/c9/18_4AAAAAA_19.jpg\",\"./Data/Lam/SH0403/4A/c9/18_4AAAAAA_20.jpg\",\"./Data/Lam/SH0403/4A/c9/18_4AAAAAA_21.jpg\",\"./Data/Lam/SH0403/4A/c9/18_4AAAAAA_22.jpg\",\"./Data/Lam/SH0403/4A/c9/18_4AAAAAA_23.jpg\",\"./Data/Lam/SH0403/4A/c9/18_4AAAAAA_24.jpg\",\"./Data/Lam/SH0403/4A/c9/18_4AAAAAA_25.jpg\",\"./Data/Lam/SH0403/4A/c9/18_4AAAAAA_26.jpg\",\"./Data/Lam/SH0403/4A/c9/18_4AAAAAA_27.jpg\",\"./Data/Lam/SH0403/4A/c9/18_4AAAAAA_28.jpg\",\"./Data/Lam/SH0403/4A/c9/18_4AAAAAA_29.jpg\",\"./Data/Lam/SH0403/4A/c9/1_4AAAAAA_14.jpg\",\"./Data/Lam/SH0403/4A/c9/1_4AAAAAA_15.jpg\",\"./Data/Lam/SH0403/4A/c9/20_4AAAAAA_0.jpg\",\"./Data/Lam/SH0403/4A/c9/20_4AAAAAA_1.jpg\",\"./Data/Lam/SH0403/4A/c9/20_4AAAAAA_10.jpg\",\"./Data/Lam/SH0403/4A/c9/20_4AAAAAA_11.jpg\",\"./Data/Lam/SH0403/4A/c9/20_4AAAAAA_12.jpg\",\"./Data/Lam/SH0403/4A/c9/20_4AAAAAA_13.jpg\",\"./Data/Lam/SH0403/4A/c9/20_4AAAAAA_14.jpg\",\"./Data/Lam/SH0403/4A/c9/20_4AAAAAA_15.jpg\",\"./Data/Lam/SH0403/4A/c9/20_4AAAAAA_16.jpg\",\"./Data/Lam/SH0403/4A/c9/20_4AAAAAA_17.jpg\",\"./Data/Lam/SH0403/4A/c9/20_4AAAAAA_18.jpg\",\"./Data/Lam/SH0403/4A/c9/20_4AAAAAA_19.jpg\",\"./Data/Lam/SH0403/4A/c9/20_4AAAAAA_2.jpg\",\"./Data/Lam/SH0403/4A/c9/20_4AAAAAA_20.jpg\",\"./Data/Lam/SH0403/4A/c9/20_4AAAAAA_21.jpg\",\"./Data/Lam/SH0403/4A/c9/20_4AAAAAA_22.jpg\",\"./Data/Lam/SH0403/4A/c9/20_4AAAAAA_23.jpg\",\"./Data/Lam/SH0403/4A/c9/20_4AAAAAA_24.jpg\",\"./Data/Lam/SH0403/4A/c9/20_4AAAAAA_25.jpg\",\"./Data/Lam/SH0403/4A/c9/20_4AAAAAA_26.jpg\",\"./Data/Lam/SH0403/4A/c9/20_4AAAAAA_27.jpg\",\"./Data/Lam/SH0403/4A/c9/20_4AAAAAA_28.jpg\",\"./Data/Lam/SH0403/4A/c9/20_4AAAAAA_29.jpg\",\"./Data/Lam/SH0403/4A/c9/20_4AAAAAA_3.jpg\",\"./Data/Lam/SH0403/4A/c9/21_4AAAAAA_0.jpg\",\"./Data/Lam/SH0403/4A/c9/21_4AAAAAA_1.jpg\",\"./Data/Lam/SH0403/4A/c9/21_4AAAAAA_10.jpg\",\"./Data/Lam/SH0403/4A/c9/21_4AAAAAA_11.jpg\",\"./Data/Lam/SH0403/4A/c9/21_4AAAAAA_12.jpg\",\"./Data/Lam/SH0403/4A/c9/21_4AAAAAA_13.jpg\",\"./Data/Lam/SH0403/4A/c9/21_4AAAAAA_14.jpg\",\"./Data/Lam/SH0403/4A/c9/21_4AAAAAA_15.jpg\",\"./Data/Lam/SH0403/4A/c9/21_4AAAAAA_16.jpg\",\"./Data/Lam/SH0403/4A/c9/21_4AAAAAA_17.jpg\",\"./Data/Lam/SH0403/4A/c9/21_4AAAAAA_18.jpg\",\"./Data/Lam/SH0403/4A/c9/21_4AAAAAA_19.jpg\",\"./Data/Lam/SH0403/4A/c9/21_4AAAAAA_2.jpg\",\"./Data/Lam/SH0403/4A/c9/21_4AAAAAA_20.jpg\",\"./Data/Lam/SH0403/4A/c9/21_4AAAAAA_21.jpg\",\"./Data/Lam/SH0403/4A/c9/21_4AAAAAA_22.jpg\",\"./Data/Lam/SH0403/4A/c9/21_4AAAAAA_23.jpg\",\"./Data/Lam/SH0403/4A/c9/21_4AAAAAA_24.jpg\",\"./Data/Lam/SH0403/4A/c9/21_4AAAAAA_25.jpg\",\"./Data/Lam/SH0403/4A/c9/21_4AAAAAA_3.jpg\",\"./Data/Lam/SH0403/4A/c9/23_4AAAAAA_29.jpg\",\"./Data/Lam/SH0403/4A/c9/24_4AAAAAA_0.jpg\",\"./Data/Lam/SH0403/4A/c9/24_4AAAAAA_1.jpg\",\"./Data/Lam/SH0403/4A/c9/24_4AAAAAA_10.jpg\",\"./Data/Lam/SH0403/4A/c9/24_4AAAAAA_11.jpg\",\"./Data/Lam/SH0403/4A/c9/24_4AAAAAA_12.jpg\",\"./Data/Lam/SH0403/4A/c9/24_4AAAAAA_13.jpg\",\"./Data/Lam/SH0403/4A/c9/24_4AAAAAA_14.jpg\",\"./Data/Lam/SH0403/4A/c9/24_4AAAAAA_15.jpg\",\"./Data/Lam/SH0403/4A/c9/24_4AAAAAA_16.jpg\",\"./Data/Lam/SH0403/4A/c9/24_4AAAAAA_17.jpg\",\"./Data/Lam/SH0403/4A/c9/24_4AAAAAA_18.jpg\",\"./Data/Lam/SH0403/4A/c9/24_4AAAAAA_19.jpg\",\"./Data/Lam/SH0403/4A/c9/24_4AAAAAA_2.jpg\",\"./Data/Lam/SH0403/4A/c9/24_4AAAAAA_20.jpg\",\"./Data/Lam/SH0403/4A/c9/24_4AAAAAA_21.jpg\",\"./Data/Lam/SH0403/4A/c9/24_4AAAAAA_22.jpg\",\"./Data/Lam/SH0403/4A/c9/24_4AAAAAA_23.jpg\",\"./Data/Lam/SH0403/4A/c9/24_4AAAAAA_24.jpg\",\"./Data/Lam/SH0403/4A/c9/24_4AAAAAA_25.jpg\",\"./Data/Lam/SH0403/4A/c9/24_4AAAAAA_26.jpg\",\"./Data/Lam/SH0403/4A/c9/24_4AAAAAA_27.jpg\",\"./Data/Lam/SH0403/4A/c9/24_4AAAAAA_28.jpg\",\"./Data/Lam/SH0403/4A/c9/24_4AAAAAA_29.jpg\",\"./Data/Lam/SH0403/4A/c9/24_4AAAAAA_3.jpg\",\"./Data/Lam/SH0403/4A/c9/9_4AAAAAA_28.jpg\",\"./Data/Lam/SH0403/4A/c9/9_4AAAAAA_29.jpg\"],\"x\":[3.959578812717972,4.296827922262431,5.757862584287411,2.954159510751058,5.418514255774754,6.388488270825299,6.01388810946202,6.12101155070383,5.072969258912928,4.8532531447254845,5.18643971948642,6.080822789792644,8.121797635955918,8.230509730454461,8.07339431924275,8.048125416258472,3.9595788127179716,4.295351746825862,5.7578121180265365,2.954159510751058,5.418514200910703,6.387980380303657,6.013888109462019,6.12101155070383,-4.842993394448093,-4.840815670245939,-4.893669520785418,-4.8641952299775335,-4.805657532244095,-4.820060309760205,-3.836637354432625,-3.752802666064503,-3.8481737549996313,-3.8192546587500606,-3.8017326086389183,9.559911563101517,9.440165563635952,9.511251091875042,9.402987531676517,9.051084883750677,9.741838715094099,9.19788394567832,9.757065958595032,9.533745877292178,11.272210818117777,6.450010697697341,6.721627084357934,6.619258934384132,6.370568460312335,6.087375677021317,6.0153022687476225,6.3239267916580975,6.0380194899134505,6.801593135369977,5.543150747918457,5.867276846279206,5.956845977671633,5.799960302859435,6.161665375197136,6.258464220250369,5.163748778974331,5.3919405117985555,5.879983954177222,5.761864460393391,6.51242888368924,6.77996795970372,5.651592775370655,11.334120549659573,5.6182719777719985,12.070193737425674,11.756713010621702,12.217183686495165,12.35414547761346,11.23178911921774,11.836151265142341,11.046428319060613,11.869564711762813,11.272166193460222,11.319468802975774,12.535189964156901,12.315466696158792,11.835470178297614,12.37696952037635,11.724744529685553,11.019333744891615,10.91450407266473,11.542146223971226,11.544375548539167,12.066250915399344,-1.8598296087653114,-1.8489590904473698,8.490094384265952,7.688815049944855,7.979579265137195,7.740582578422561,8.60828984847136,8.643252462838534,9.064789538516328,7.691682275257801,8.003943563067681,7.921083637724718,6.897441168882833,8.601645171693724,8.031983524579328,7.237226544675034,6.955870201679722,7.171782322264232,8.275628045248833,7.2112785900310685,7.9275147798580505,6.70634246364034,8.214508822933666,6.985284307253944,8.760726546199436,8.057280653844439,-4.806628046833697,-5.464874341850214,-6.203213878791543,-6.290622305596523,-5.703787387046273,-5.4338594269451646,-6.058062523257423,-6.4200347661547355,-5.499530740013595,-5.708083936819044,-5.830828093030106,-6.253747146019904,-6.404621838191049,-6.4146270346565455,-5.699260065370905,-5.594606981513421,-5.803354269810534,-6.311560413832026,-5.56760707977854,-6.337516939936412,-3.4709279436530713,-10.147948514111595,-9.66402433491587,-10.530742833737325,-9.886056142716225,-10.095639388327816,-9.544330541284852,-9.138618391188759,-9.50800705960254,-9.215493903434814,-9.653276915491418,-9.922007366628165,-8.96842821360688,-10.259335076204264,-9.40550617677009,-10.108837291151614,-9.757044827778456,-10.553386600998593,-9.154621775192812,-9.743934245756234,-9.007260160174239,-9.213140536094881,-10.470748706877012,-10.168505033740532,-10.191260357201507,-6.678479966276793,-6.69926167042891],\"y\":[-11.718089702276629,-12.03812777912808,-12.664460205016125,-12.804259560232465,-11.17081509774436,-11.467896324118417,-10.728745367054918,-7.500976396544948,-13.106899330009949,-12.473971519268373,-12.488443181279786,-7.967904588045517,-10.98115880844823,-11.031994076885661,-10.536407109565046,-10.652898410731217,-11.718089702276629,-12.037516581164972,-12.664265926755407,-12.804259560232465,-11.17081512346189,-11.467493257504538,-10.728745367054918,-7.500976396544948,8.861390910755077,8.95666478400098,8.974058817103453,9.026001187123855,8.857696800307519,8.86758008499327,7.135537057792002,7.043576494236805,7.160611060668539,7.0930541991967875,7.102065664553179,8.71390865780222,8.290916784059926,8.38828247931667,8.501307519325252,8.574835082238685,8.503300216018191,8.70937659666136,8.422613989666882,8.397787703568856,6.845111882012949,8.40086600859893,8.246286231302442,7.522880716464837,7.9933231194294185,7.1002526174749905,7.776685117997842,7.08778470813218,7.932529609430084,7.822838417587229,7.375683472118732,6.85080582541073,9.016729019179918,7.490242001327859,8.402783712825961,8.75445764247991,7.1382531671732625,7.982591927706201,8.06529519433464,8.43050238276098,7.098952971452984,7.644058340275906,7.808850426633252,6.903259788340715,8.63825374664093,3.766734437292699,4.053959088371883,4.422616891748289,4.3941654690781276,3.506780577966578,4.500928632786993,3.763018328651384,4.627975346909579,3.3394154565060408,4.436337873364548,4.32541072810801,3.908750912935506,4.373956699357,3.6352217490213614,3.790124302878988,3.8535629193820773,3.561524626138699,4.527055942445301,3.2008254324988594,3.6732945299353545,8.176678577980068,8.17886900520896,12.553552214684355,12.89935586490569,13.664585025059448,14.412600689465245,13.090999101716344,13.203841142632292,13.224806198552402,14.201588240131269,13.63328800541852,13.284841747555983,13.638003234131315,13.791650424830461,12.569891101333342,13.611580660617815,13.188012106980862,13.023103777668704,12.842256363456418,14.132351662903899,12.897940880576328,13.207519875795839,13.71666452761636,12.92508948284065,13.091345976162991,12.52515876950962,11.700299461619567,11.159887065099769,11.997219557498124,11.08765543427895,12.16656695753897,11.364339991501062,11.790000919575157,11.541025334610245,11.434383802703,11.977324354698764,11.178135278617512,11.711428549687367,10.878951840951087,11.785996992561453,10.863236109306255,12.060864872285476,11.208928111627031,11.49303401492124,11.588064464278826,10.753184249383777,6.713061163144855,6.47249192266721,7.408836753853978,6.3299395468421675,6.234806810936575,6.968903143015986,7.077435815089711,6.270583774448633,6.319980798904736,7.090287817821285,5.980141587466956,5.739121973798053,6.335306160725122,6.034769185670941,6.060874801062186,7.590348651685696,7.39137313865737,7.005209076123315,7.3653779063986855,6.785783876995535,6.648023039316961,6.692979527071498,6.993208856126091,7.329235126820847,6.72432629616152,6.582662062002865,6.568769740051615]}},\"id\":\"90d91085-4f78-4500-99bc-f3a15e9debee\",\"type\":\"ColumnDataSource\"},{\"attributes\":{\"fill_alpha\":{\"value\":0.5},\"fill_color\":{\"value\":\"blue\"},\"line_alpha\":{\"value\":0.5},\"line_color\":{\"value\":\"blue\"},\"size\":{\"units\":\"screen\",\"value\":20},\"x\":{\"field\":\"x\"},\"y\":{\"field\":\"y\"}},\"id\":\"1bd39566-8654-4e71-9981-2028a33d36e0\",\"type\":\"Circle\"},{\"attributes\":{},\"id\":\"642a81cb-533f-4f79-8a1a-d35672db74cf\",\"type\":\"BasicTickFormatter\"},{\"attributes\":{\"data_source\":{\"id\":\"ea5dce26-99d5-4c2d-a7fc-2f73b066bdf6\",\"type\":\"ColumnDataSource\"},\"glyph\":{\"id\":\"815ad979-49c7-466f-a2ce-af568e2d5982\",\"type\":\"Circle\"},\"hover_glyph\":null,\"nonselection_glyph\":{\"id\":\"4cf11986-3e9d-4a1c-b64a-51409e694b2c\",\"type\":\"Circle\"},\"selection_glyph\":null},\"id\":\"ffcfb240-d9cd-4fc2-ad8c-0d3d2e2d28b4\",\"type\":\"GlyphRenderer\"},{\"attributes\":{\"dimension\":1,\"plot\":{\"id\":\"dc164878-46b1-458b-92bd-7e1fd9763249\",\"subtype\":\"Figure\",\"type\":\"Plot\"},\"ticker\":{\"id\":\"b84e2754-c59c-4d35-96a2-3819dfbcc124\",\"type\":\"BasicTicker\"}},\"id\":\"e3bbe2be-4720-4769-89bb-322e2e8022b0\",\"type\":\"Grid\"},{\"attributes\":{\"callback\":null,\"column_names\":[\"imgs\",\"y\",\"desc\",\"x\"],\"data\":{\"desc\":[\"1\",\"1\",\"1\",\"1\",\"1\",\"1\",\"1\",\"1\",\"2\",\"2\",\"2\",\"2\",\"2\",\"2\",\"2\",\"2\",\"3\",\"3\",\"3\",\"3\",\"3\",\"3\",\"3\",\"3\"],\"imgs\":[\"./Data/Lam/SH0403/2A/c13/1_c13_2AAAAAA_15.jpg\",\"./Data/Lam/SH0403/2A/c13/1_c13_2AAAAAA_16.jpg\",\"./Data/Lam/SH0403/2A/c13/1_c13_2AAAAAA_17.jpg\",\"./Data/Lam/SH0403/2A/c13/1_c13_2AAAAAA_18.jpg\",\"./Data/Lam/SH0403/2A/c13/1_c13_2AAAAAA_5.jpg\",\"./Data/Lam/SH0403/2A/c13/1_c13_2AAAAAA_6.jpg\",\"./Data/Lam/SH0403/2A/c13/1_c13_2AAAAAA_7.jpg\",\"./Data/Lam/SH0403/2A/c13/1_c13_2AAAAAA_8.jpg\",\"./Data/Lam/SH0403/2A/c13/2_c13_2AAAAAA_10.jpg\",\"./Data/Lam/SH0403/2A/c13/2_c13_2AAAAAA_18.jpg\",\"./Data/Lam/SH0403/2A/c13/2_c13_2AAAAAA_19.jpg\",\"./Data/Lam/SH0403/2A/c13/2_c13_2AAAAAA_20.jpg\",\"./Data/Lam/SH0403/2A/c13/2_c13_2AAAAAA_21.jpg\",\"./Data/Lam/SH0403/2A/c13/2_c13_2AAAAAA_7.jpg\",\"./Data/Lam/SH0403/2A/c13/2_c13_2AAAAAA_8.jpg\",\"./Data/Lam/SH0403/2A/c13/2_c13_2AAAAAA_9.jpg\",\"./Data/Lam/SH0403/2A/c13/3_c13_2AAAAAA_13.jpg\",\"./Data/Lam/SH0403/2A/c13/3_c13_2AAAAAA_14.jpg\",\"./Data/Lam/SH0403/2A/c13/3_c13_2AAAAAA_15.jpg\",\"./Data/Lam/SH0403/2A/c13/3_c13_2AAAAAA_16.jpg\",\"./Data/Lam/SH0403/2A/c13/3_c13_2AAAAAA_2.jpg\",\"./Data/Lam/SH0403/2A/c13/3_c13_2AAAAAA_3.jpg\",\"./Data/Lam/SH0403/2A/c13/3_c13_2AAAAAA_4.jpg\",\"./Data/Lam/SH0403/2A/c13/3_c13_2AAAAAA_5.jpg\"],\"x\":[4.438110343287465,4.505538344189396,4.712406080679211,5.043985915581714,9.657419553634895,9.644985895861511,9.618532937468027,9.704684771341908,5.709420561843531,8.175801926915693,8.4746238608718,8.034287082914798,6.92928522997566,5.4450135347618085,5.422593007200332,6.624910324513929,8.078062624062904,8.426512439812331,8.046887348957503,6.933407508408084,5.603646648878623,5.254392565952552,4.633642036033363,6.261408005908483],\"y\":[-10.57732958407084,-10.36064117266259,-10.359921664639758,-7.0090317479264925,-5.94928891714801,-5.93146542369275,-5.995628066097867,-5.734111139428391,-7.508025761402516,-8.669920932711115,-8.472154674633394,-8.95946607061222,-5.655143508721681,-9.503554486900502,-9.505869608238715,-9.777366899620471,-8.677623441975982,-8.468142512983896,-8.939825375541572,-5.671507639666343,-9.743523237410804,-9.28061396642908,-9.400046698362095,-8.877321489222487]}},\"id\":\"26a77807-dd99-420e-a713-8288a7307db0\",\"type\":\"ColumnDataSource\"},{\"attributes\":{\"callback\":null,\"plot\":{\"id\":\"dc164878-46b1-458b-92bd-7e1fd9763249\",\"subtype\":\"Figure\",\"type\":\"Plot\"},\"tooltips\":\"\\n                <div>\\n                    <div>\\n                        <img\\n                            src=\\\"@imgs\\\" height=\\\"80\\\" alt=\\\"@imgs\\\" width=\\\"80\\\"\\n                            style=\\\"float: left; margin: 0px 15px 15px 0px;\\\"\\n                            border=\\\"2\\\"\\n                        ></img>\\n                    </div>\\n                    <div>\\n                        <span style=\\\"font-size: 17px; font-weight: bold;\\\">@desc</span>\\n                    </div>\\n                </div>\\n            \"},\"id\":\"dbda782e-ea5e-47ef-8ed3-21816f015f06\",\"type\":\"HoverTool\"},{\"attributes\":{\"data_source\":{\"id\":\"a4bf20d0-7c24-434b-9dab-b5aa434601ee\",\"type\":\"ColumnDataSource\"},\"glyph\":{\"id\":\"f552cfc6-163b-4939-a4ce-162f6d38ef75\",\"type\":\"Circle\"},\"hover_glyph\":null,\"nonselection_glyph\":{\"id\":\"8489f1da-a15f-4a62-a52e-dbb38450379c\",\"type\":\"Circle\"},\"selection_glyph\":null},\"id\":\"0adcafb5-436c-412c-b502-01ca22049c5e\",\"type\":\"GlyphRenderer\"},{\"attributes\":{\"formatter\":{\"id\":\"642a81cb-533f-4f79-8a1a-d35672db74cf\",\"type\":\"BasicTickFormatter\"},\"plot\":{\"id\":\"dc164878-46b1-458b-92bd-7e1fd9763249\",\"subtype\":\"Figure\",\"type\":\"Plot\"},\"ticker\":{\"id\":\"f44dd78f-39ae-4c8c-a502-0c79db19b921\",\"type\":\"BasicTicker\"}},\"id\":\"fc42ddb0-0d41-404e-a174-392cd2180c02\",\"type\":\"LinearAxis\"},{\"attributes\":{\"callback\":null},\"id\":\"c73384a9-6084-4a1b-ba06-3a70a27db15b\",\"type\":\"DataRange1d\"},{\"attributes\":{\"data_source\":{\"id\":\"26a77807-dd99-420e-a713-8288a7307db0\",\"type\":\"ColumnDataSource\"},\"glyph\":{\"id\":\"1bd39566-8654-4e71-9981-2028a33d36e0\",\"type\":\"Circle\"},\"hover_glyph\":null,\"nonselection_glyph\":{\"id\":\"294228f6-5e76-45ff-acb5-b8d069debad5\",\"type\":\"Circle\"},\"selection_glyph\":null},\"id\":\"f492092a-f4ad-445e-a63a-541b574a2db6\",\"type\":\"GlyphRenderer\"},{\"attributes\":{},\"id\":\"f44dd78f-39ae-4c8c-a502-0c79db19b921\",\"type\":\"BasicTicker\"},{\"attributes\":{\"fill_alpha\":{\"value\":0.1},\"fill_color\":{\"value\":\"#1f77b4\"},\"line_alpha\":{\"value\":0.1},\"line_color\":{\"value\":\"#1f77b4\"},\"size\":{\"units\":\"screen\",\"value\":20},\"x\":{\"field\":\"x\"},\"y\":{\"field\":\"y\"}},\"id\":\"29e0c52a-0c08-4e95-9f8f-b57c37b59cd7\",\"type\":\"Circle\"}],\"root_ids\":[\"dc164878-46b1-458b-92bd-7e1fd9763249\"]},\"title\":\"Bokeh Application\",\"version\":\"0.12.3\"}};\n",
       "            var render_items = [{\"docid\":\"fcfa14c9-3398-4f28-9328-780bf303c7d6\",\"elementid\":\"5b09325e-218d-4d16-b174-5c1f859c2403\",\"modelid\":\"dc164878-46b1-458b-92bd-7e1fd9763249\"}];\n",
       "            \n",
       "            Bokeh.embed.embed_items(docs_json, render_items);\n",
       "        });\n",
       "      },\n",
       "      function(Bokeh) {\n",
       "      }\n",
       "    ];\n",
       "  \n",
       "    function run_inline_js() {\n",
       "      \n",
       "      if ((window.Bokeh !== undefined) || (force === \"1\")) {\n",
       "        for (var i = 0; i < inline_js.length; i++) {\n",
       "          inline_js[i](window.Bokeh);\n",
       "        }if (force === \"1\") {\n",
       "          display_loaded();\n",
       "        }} else if (Date.now() < window._bokeh_timeout) {\n",
       "        setTimeout(run_inline_js, 100);\n",
       "      } else if (!window._bokeh_failed_load) {\n",
       "        console.log(\"Bokeh: BokehJS failed to load within specified timeout.\");\n",
       "        window._bokeh_failed_load = true;\n",
       "      } else if (!force) {\n",
       "        var cell = $(\"#5b09325e-218d-4d16-b174-5c1f859c2403\").parents('.cell').data().cell;\n",
       "        cell.output_area.append_execute_result(NB_LOAD_WARNING)\n",
       "      }\n",
       "  \n",
       "    }\n",
       "  \n",
       "    if (window._bokeh_is_loading === 0) {\n",
       "      console.log(\"Bokeh: BokehJS loaded, going straight to plotting\");\n",
       "      run_inline_js();\n",
       "    } else {\n",
       "      load_libs(js_urls, function() {\n",
       "        console.log(\"Bokeh: BokehJS plotting callback run at\", now());\n",
       "        run_inline_js();\n",
       "      });\n",
       "    }\n",
       "  }(this));\n",
       "</script>"
      ]
     },
     "metadata": {},
     "output_type": "display_data"
    }
   ],
   "source": [
    "plot_tsne(features, labels, sns, perplexity=30, interactive=True, images=images)"
   ]
  },
  {
   "cell_type": "code",
   "execution_count": 13,
   "metadata": {
    "collapsed": false
   },
   "outputs": [
    {
     "data": {
      "text/plain": [
       "(31, 2048)"
      ]
     },
     "execution_count": 13,
     "metadata": {},
     "output_type": "execute_result"
    }
   ],
   "source": [
    "features[labels=='0'].shape"
   ]
  },
  {
   "cell_type": "code",
   "execution_count": 16,
   "metadata": {
    "collapsed": false
   },
   "outputs": [
    {
     "data": {
      "text/plain": [
       "array([[-0.05580239,  0.05690852,  0.00544938, ...,  0.00815547,\n",
       "         0.01373813, -0.03181316],\n",
       "       [-0.02099925,  0.01916191,  0.01040464, ...,  0.01010859,\n",
       "         0.00262287,  0.03375408],\n",
       "       [-0.06065743,  0.00656421,  0.00397114, ...,  0.01830585,\n",
       "        -0.01514745,  0.08105253],\n",
       "       ..., \n",
       "       [-0.03387193,  0.0111357 ,  0.04706603, ...,  0.03053736,\n",
       "         0.03575024,  0.19434272],\n",
       "       [-0.02366131,  0.00907289, -0.02886495, ...,  0.00765384,\n",
       "        -0.01929048,  0.11633689],\n",
       "       [-0.03377193,  0.00968772, -0.01558629, ...,  0.00470034,\n",
       "         0.04148444,  0.07355941]])"
      ]
     },
     "execution_count": 16,
     "metadata": {},
     "output_type": "execute_result"
    }
   ],
   "source": [
    "features[labels=='0'][0:20]"
   ]
  },
  {
   "cell_type": "code",
   "execution_count": 59,
   "metadata": {
    "collapsed": true
   },
   "outputs": [],
   "source": [
    "from sklearn import svm"
   ]
  },
  {
   "cell_type": "code",
   "execution_count": 107,
   "metadata": {
    "collapsed": true
   },
   "outputs": [],
   "source": [
    "clf = svm.OneClassSVM(nu=0.01, kernel='rbf', gamma=0.01)"
   ]
  },
  {
   "cell_type": "code",
   "execution_count": 108,
   "metadata": {
    "collapsed": false
   },
   "outputs": [
    {
     "data": {
      "text/plain": [
       "OneClassSVM(cache_size=200, coef0=0.0, degree=3, gamma=0.01, kernel='rbf',\n",
       "      max_iter=-1, nu=0.01, random_state=None, shrinking=True, tol=0.001,\n",
       "      verbose=False)"
      ]
     },
     "execution_count": 108,
     "metadata": {},
     "output_type": "execute_result"
    }
   ],
   "source": [
    "clf.fit(features[labels=='0'])"
   ]
  },
  {
   "cell_type": "code",
   "execution_count": 109,
   "metadata": {
    "collapsed": true
   },
   "outputs": [],
   "source": [
    "y_0_predict = clf.predict(features[labels=='0'])"
   ]
  },
  {
   "cell_type": "code",
   "execution_count": 110,
   "metadata": {
    "collapsed": true
   },
   "outputs": [],
   "source": [
    "import pandas as pd"
   ]
  },
  {
   "cell_type": "code",
   "execution_count": 111,
   "metadata": {
    "collapsed": false
   },
   "outputs": [
    {
     "data": {
      "text/plain": [
       " 1.0    22\n",
       "-1.0     9\n",
       "dtype: int64"
      ]
     },
     "execution_count": 111,
     "metadata": {},
     "output_type": "execute_result"
    }
   ],
   "source": [
    "pd.Series(y_0_predict).value_counts()"
   ]
  },
  {
   "cell_type": "code",
   "execution_count": 101,
   "metadata": {
    "collapsed": true
   },
   "outputs": [],
   "source": [
    "y_1_predict = clf.predict(features[labels!='0'])"
   ]
  },
  {
   "cell_type": "code",
   "execution_count": 95,
   "metadata": {
    "collapsed": false
   },
   "outputs": [
    {
     "data": {
      "text/plain": [
       "array([-1., -1., -1., -1., -1., -1., -1., -1., -1., -1., -1., -1., -1.,\n",
       "       -1., -1., -1., -1., -1., -1., -1., -1., -1., -1., -1., -1., -1.,\n",
       "       -1., -1., -1., -1., -1., -1., -1., -1., -1., -1., -1., -1., -1.,\n",
       "       -1., -1., -1., -1., -1., -1., -1., -1., -1., -1., -1., -1., -1.,\n",
       "       -1., -1., -1., -1., -1., -1., -1., -1., -1., -1., -1., -1., -1.,\n",
       "       -1., -1., -1., -1., -1., -1., -1., -1., -1., -1., -1., -1., -1.,\n",
       "       -1., -1., -1., -1., -1., -1., -1., -1., -1., -1., -1., -1., -1.,\n",
       "       -1., -1., -1., -1., -1., -1., -1., -1., -1., -1., -1., -1., -1.,\n",
       "       -1., -1., -1., -1., -1., -1., -1., -1., -1., -1., -1., -1., -1.,\n",
       "       -1., -1., -1., -1., -1., -1., -1., -1., -1., -1., -1., -1., -1.,\n",
       "       -1., -1., -1., -1., -1., -1., -1., -1., -1., -1., -1., -1., -1.,\n",
       "       -1., -1., -1., -1., -1., -1., -1., -1., -1., -1., -1., -1., -1.,\n",
       "       -1., -1., -1., -1., -1., -1., -1., -1., -1., -1., -1., -1., -1.,\n",
       "       -1., -1., -1., -1., -1., -1., -1., -1., -1., -1., -1., -1., -1.,\n",
       "       -1., -1., -1., -1., -1., -1., -1., -1., -1., -1., -1., -1., -1.,\n",
       "       -1., -1., -1., -1., -1., -1., -1., -1., -1., -1., -1., -1., -1.,\n",
       "       -1., -1., -1., -1., -1., -1., -1., -1., -1., -1., -1., -1., -1.,\n",
       "       -1., -1., -1., -1., -1., -1., -1., -1., -1., -1., -1., -1., -1.,\n",
       "       -1., -1., -1., -1., -1., -1., -1., -1., -1., -1., -1., -1., -1., -1.])"
      ]
     },
     "execution_count": 95,
     "metadata": {},
     "output_type": "execute_result"
    }
   ],
   "source": [
    "y_1_predict"
   ]
  },
  {
   "cell_type": "code",
   "execution_count": 112,
   "metadata": {
    "collapsed": false
   },
   "outputs": [
    {
     "name": "stdout",
     "output_type": "stream",
     "text": [
      "train test split == True\n",
      "Fitting 3 folds for each of 20 candidates, totalling 60 fits\n",
      "[CV] kernel=linear, C=1 ..............................................\n",
      "[CV] ............... kernel=linear, C=1, score=1.000000, total=   0.1s\n",
      "[CV] kernel=linear, C=1 ..............................................\n"
     ]
    },
    {
     "name": "stderr",
     "output_type": "stream",
     "text": [
      "[Parallel(n_jobs=1)]: Done   1 out of   1 | elapsed:    0.1s remaining:    0.0s\n",
      "[Parallel(n_jobs=1)]: Done   2 out of   2 | elapsed:    0.3s remaining:    0.0s\n"
     ]
    },
    {
     "name": "stdout",
     "output_type": "stream",
     "text": [
      "[CV] ............... kernel=linear, C=1, score=1.000000, total=   0.1s\n",
      "[CV] kernel=linear, C=1 ..............................................\n",
      "[CV] ............... kernel=linear, C=1, score=0.985294, total=   0.1s\n",
      "[CV] kernel=linear, C=10 .............................................\n",
      "[CV] .............. kernel=linear, C=10, score=1.000000, total=   0.1s\n",
      "[CV] kernel=linear, C=10 .............................................\n",
      "[CV] .............. kernel=linear, C=10, score=1.000000, total=   0.1s\n",
      "[CV] kernel=linear, C=10 .............................................\n",
      "[CV] .............. kernel=linear, C=10, score=0.985294, total=   0.1s\n",
      "[CV] kernel=linear, C=100 ............................................\n",
      "[CV] ............. kernel=linear, C=100, score=1.000000, total=   0.1s\n",
      "[CV] kernel=linear, C=100 ............................................\n",
      "[CV] ............. kernel=linear, C=100, score=1.000000, total=   0.1s\n",
      "[CV] kernel=linear, C=100 ............................................\n",
      "[CV] ............. kernel=linear, C=100, score=0.985294, total=   0.1s\n",
      "[CV] kernel=linear, C=1000 ...........................................\n",
      "[CV] ............ kernel=linear, C=1000, score=1.000000, total=   0.1s\n",
      "[CV] kernel=linear, C=1000 ...........................................\n",
      "[CV] ............ kernel=linear, C=1000, score=1.000000, total=   0.1s\n",
      "[CV] kernel=linear, C=1000 ...........................................\n",
      "[CV] ............ kernel=linear, C=1000, score=0.985294, total=   0.1s\n",
      "[CV] kernel=rbf, C=1, gamma=0.01 .....................................\n",
      "[CV] ...... kernel=rbf, C=1, gamma=0.01, score=0.777778, total=   0.2s\n",
      "[CV] kernel=rbf, C=1, gamma=0.01 .....................................\n",
      "[CV] ...... kernel=rbf, C=1, gamma=0.01, score=0.811594, total=   0.2s\n",
      "[CV] kernel=rbf, C=1, gamma=0.01 .....................................\n",
      "[CV] ...... kernel=rbf, C=1, gamma=0.01, score=0.808824, total=   0.2s\n",
      "[CV] kernel=rbf, C=1, gamma=0.001 ....................................\n",
      "[CV] ..... kernel=rbf, C=1, gamma=0.001, score=0.555556, total=   0.2s\n",
      "[CV] kernel=rbf, C=1, gamma=0.001 ....................................\n",
      "[CV] ..... kernel=rbf, C=1, gamma=0.001, score=0.565217, total=   0.2s\n",
      "[CV] kernel=rbf, C=1, gamma=0.001 ....................................\n",
      "[CV] ..... kernel=rbf, C=1, gamma=0.001, score=0.573529, total=   0.2s\n",
      "[CV] kernel=rbf, C=1, gamma=0.0001 ...................................\n",
      "[CV] .... kernel=rbf, C=1, gamma=0.0001, score=0.555556, total=   0.2s\n",
      "[CV] kernel=rbf, C=1, gamma=0.0001 ...................................\n",
      "[CV] .... kernel=rbf, C=1, gamma=0.0001, score=0.565217, total=   0.2s\n",
      "[CV] kernel=rbf, C=1, gamma=0.0001 ...................................\n",
      "[CV] .... kernel=rbf, C=1, gamma=0.0001, score=0.573529, total=   0.2s\n",
      "[CV] kernel=rbf, C=1, gamma=1e-05 ....................................\n",
      "[CV] ..... kernel=rbf, C=1, gamma=1e-05, score=0.555556, total=   0.2s\n",
      "[CV] kernel=rbf, C=1, gamma=1e-05 ....................................\n",
      "[CV] ..... kernel=rbf, C=1, gamma=1e-05, score=0.565217, total=   0.2s\n",
      "[CV] kernel=rbf, C=1, gamma=1e-05 ....................................\n",
      "[CV] ..... kernel=rbf, C=1, gamma=1e-05, score=0.573529, total=   0.2s\n",
      "[CV] kernel=rbf, C=10, gamma=0.01 ....................................\n",
      "[CV] ..... kernel=rbf, C=10, gamma=0.01, score=1.000000, total=   0.1s\n",
      "[CV] kernel=rbf, C=10, gamma=0.01 ....................................\n",
      "[CV] ..... kernel=rbf, C=10, gamma=0.01, score=1.000000, total=   0.1s\n",
      "[CV] kernel=rbf, C=10, gamma=0.01 ....................................\n",
      "[CV] ..... kernel=rbf, C=10, gamma=0.01, score=0.985294, total=   0.1s\n",
      "[CV] kernel=rbf, C=10, gamma=0.001 ...................................\n",
      "[CV] .... kernel=rbf, C=10, gamma=0.001, score=0.805556, total=   0.2s\n",
      "[CV] kernel=rbf, C=10, gamma=0.001 ...................................\n",
      "[CV] .... kernel=rbf, C=10, gamma=0.001, score=0.811594, total=   0.2s\n",
      "[CV] kernel=rbf, C=10, gamma=0.001 ...................................\n",
      "[CV] .... kernel=rbf, C=10, gamma=0.001, score=0.823529, total=   0.2s\n",
      "[CV] kernel=rbf, C=10, gamma=0.0001 ..................................\n",
      "[CV] ... kernel=rbf, C=10, gamma=0.0001, score=0.555556, total=   0.2s\n",
      "[CV] kernel=rbf, C=10, gamma=0.0001 ..................................\n",
      "[CV] ... kernel=rbf, C=10, gamma=0.0001, score=0.565217, total=   0.2s\n",
      "[CV] kernel=rbf, C=10, gamma=0.0001 ..................................\n",
      "[CV] ... kernel=rbf, C=10, gamma=0.0001, score=0.573529, total=   0.2s\n",
      "[CV] kernel=rbf, C=10, gamma=1e-05 ...................................\n",
      "[CV] .... kernel=rbf, C=10, gamma=1e-05, score=0.555556, total=   0.2s\n",
      "[CV] kernel=rbf, C=10, gamma=1e-05 ...................................\n",
      "[CV] .... kernel=rbf, C=10, gamma=1e-05, score=0.565217, total=   0.2s\n",
      "[CV] kernel=rbf, C=10, gamma=1e-05 ...................................\n",
      "[CV] .... kernel=rbf, C=10, gamma=1e-05, score=0.573529, total=   0.2s\n",
      "[CV] kernel=rbf, C=100, gamma=0.01 ...................................\n",
      "[CV] .... kernel=rbf, C=100, gamma=0.01, score=1.000000, total=   0.1s\n",
      "[CV] kernel=rbf, C=100, gamma=0.01 ...................................\n",
      "[CV] .... kernel=rbf, C=100, gamma=0.01, score=1.000000, total=   0.1s\n",
      "[CV] kernel=rbf, C=100, gamma=0.01 ...................................\n",
      "[CV] .... kernel=rbf, C=100, gamma=0.01, score=0.985294, total=   0.1s\n",
      "[CV] kernel=rbf, C=100, gamma=0.001 ..................................\n",
      "[CV] ... kernel=rbf, C=100, gamma=0.001, score=1.000000, total=   0.1s\n",
      "[CV] kernel=rbf, C=100, gamma=0.001 ..................................\n",
      "[CV] ... kernel=rbf, C=100, gamma=0.001, score=1.000000, total=   0.1s\n",
      "[CV] kernel=rbf, C=100, gamma=0.001 ..................................\n",
      "[CV] ... kernel=rbf, C=100, gamma=0.001, score=0.985294, total=   0.1s\n",
      "[CV] kernel=rbf, C=100, gamma=0.0001 .................................\n",
      "[CV] .. kernel=rbf, C=100, gamma=0.0001, score=0.805556, total=   0.2s\n",
      "[CV] kernel=rbf, C=100, gamma=0.0001 .................................\n",
      "[CV] .. kernel=rbf, C=100, gamma=0.0001, score=0.811594, total=   0.2s\n",
      "[CV] kernel=rbf, C=100, gamma=0.0001 .................................\n",
      "[CV] .. kernel=rbf, C=100, gamma=0.0001, score=0.823529, total=   0.2s\n",
      "[CV] kernel=rbf, C=100, gamma=1e-05 ..................................\n",
      "[CV] ... kernel=rbf, C=100, gamma=1e-05, score=0.555556, total=   0.2s\n",
      "[CV] kernel=rbf, C=100, gamma=1e-05 ..................................\n",
      "[CV] ... kernel=rbf, C=100, gamma=1e-05, score=0.565217, total=   0.2s\n",
      "[CV] kernel=rbf, C=100, gamma=1e-05 ..................................\n",
      "[CV] ... kernel=rbf, C=100, gamma=1e-05, score=0.573529, total=   0.2s\n",
      "[CV] kernel=rbf, C=1000, gamma=0.01 ..................................\n",
      "[CV] ... kernel=rbf, C=1000, gamma=0.01, score=1.000000, total=   0.1s\n",
      "[CV] kernel=rbf, C=1000, gamma=0.01 ..................................\n",
      "[CV] ... kernel=rbf, C=1000, gamma=0.01, score=1.000000, total=   0.1s\n",
      "[CV] kernel=rbf, C=1000, gamma=0.01 ..................................\n",
      "[CV] ... kernel=rbf, C=1000, gamma=0.01, score=0.985294, total=   0.1s\n",
      "[CV] kernel=rbf, C=1000, gamma=0.001 .................................\n",
      "[CV] .. kernel=rbf, C=1000, gamma=0.001, score=1.000000, total=   0.1s\n",
      "[CV] kernel=rbf, C=1000, gamma=0.001 .................................\n",
      "[CV] .. kernel=rbf, C=1000, gamma=0.001, score=1.000000, total=   0.1s\n",
      "[CV] kernel=rbf, C=1000, gamma=0.001 .................................\n",
      "[CV] .. kernel=rbf, C=1000, gamma=0.001, score=0.985294, total=   0.1s\n",
      "[CV] kernel=rbf, C=1000, gamma=0.0001 ................................\n",
      "[CV] . kernel=rbf, C=1000, gamma=0.0001, score=1.000000, total=   0.1s\n",
      "[CV] kernel=rbf, C=1000, gamma=0.0001 ................................\n",
      "[CV] . kernel=rbf, C=1000, gamma=0.0001, score=1.000000, total=   0.1s\n",
      "[CV] kernel=rbf, C=1000, gamma=0.0001 ................................\n",
      "[CV] . kernel=rbf, C=1000, gamma=0.0001, score=0.985294, total=   0.1s\n",
      "[CV] kernel=rbf, C=1000, gamma=1e-05 .................................\n",
      "[CV] .. kernel=rbf, C=1000, gamma=1e-05, score=0.805556, total=   0.2s\n",
      "[CV] kernel=rbf, C=1000, gamma=1e-05 .................................\n",
      "[CV] .. kernel=rbf, C=1000, gamma=1e-05, score=0.811594, total=   0.2s\n",
      "[CV] kernel=rbf, C=1000, gamma=1e-05 .................................\n",
      "[CV] .. kernel=rbf, C=1000, gamma=1e-05, score=0.823529, total=   0.2s\n",
      "Cannot save trained svm model to model.model\n",
      "\n",
      "Best parameters set:\n",
      "SVC(C=1, cache_size=200, class_weight=None, coef0=0.0,\n",
      "  decision_function_shape=None, degree=3, gamma='auto', kernel='linear',\n",
      "  max_iter=-1, probability=True, random_state=None, shrinking=True,\n",
      "  tol=0.001, verbose=False)\n",
      "\n",
      "Confusion matrix:\n",
      "Labels: 0,1,13,8,9\n",
      "\n",
      "[[10  0  0  0  0]\n",
      " [ 0  2  0  0  0]\n",
      " [ 0  0  5  0  0]\n",
      " [ 0  0  0  9  0]\n",
      " [ 0  0  0  0 44]]\n",
      "\n",
      "Classification report:\n",
      "             precision    recall  f1-score   support\n",
      "\n",
      "          0       1.00      1.00      1.00        10\n",
      "          1       1.00      1.00      1.00         2\n",
      "         13       1.00      1.00      1.00         5\n",
      "          8       1.00      1.00      1.00         9\n",
      "          9       1.00      1.00      1.00        44\n",
      "\n",
      "avg / total       1.00      1.00      1.00        70\n",
      "\n"
     ]
    },
    {
     "name": "stderr",
     "output_type": "stream",
     "text": [
      "[Parallel(n_jobs=1)]: Done  60 out of  60 | elapsed:   10.0s finished\n"
     ]
    },
    {
     "data": {
      "text/plain": [
       "GridSearchCV(cv=3, error_score='raise',\n",
       "       estimator=SVC(C=1.0, cache_size=200, class_weight=None, coef0=0.0,\n",
       "  decision_function_shape=None, degree=3, gamma='auto', kernel='rbf',\n",
       "  max_iter=-1, probability=True, random_state=None, shrinking=True,\n",
       "  tol=0.001, verbose=False),\n",
       "       fit_params={}, iid=True, n_jobs=1,\n",
       "       param_grid=[{'kernel': ['linear'], 'C': [1, 10, 100, 1000]}, {'kernel': ['rbf'], 'C': [1, 10, 100, 1000], 'gamma': [0.01, 0.001, 0.0001, 1e-05]}],\n",
       "       pre_dispatch='2*n_jobs', refit=True, return_train_score=True,\n",
       "       scoring=None, verbose=3)"
      ]
     },
     "execution_count": 112,
     "metadata": {},
     "output_type": "execute_result"
    }
   ],
   "source": [
    "train_svm_classifier(features, labels, sns, 'model.model', split=True)"
   ]
  }
 ],
 "metadata": {
  "kernelspec": {
   "display_name": "Python 2",
   "language": "python",
   "name": "python2"
  },
  "language_info": {
   "codemirror_mode": {
    "name": "ipython",
    "version": 2
   },
   "file_extension": ".py",
   "mimetype": "text/x-python",
   "name": "python",
   "nbconvert_exporter": "python",
   "pygments_lexer": "ipython2",
   "version": "2.7.12"
  },
  "latex_envs": {
   "bibliofile": "biblio.bib",
   "cite_by": "apalike",
   "current_citInitial": 1,
   "eqLabelWithNumbers": true,
   "eqNumInitial": 0
  }
 },
 "nbformat": 4,
 "nbformat_minor": 2
}
