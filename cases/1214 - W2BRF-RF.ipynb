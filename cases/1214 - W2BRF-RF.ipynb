{
 "cells": [
  {
   "cell_type": "code",
   "execution_count": 1,
   "metadata": {
    "collapsed": false
   },
   "outputs": [
    {
     "name": "stderr",
     "output_type": "stream",
     "text": [
      "Using TensorFlow backend.\n"
     ]
    }
   ],
   "source": [
    "from defectlib import extract_features_from_defect, train_svm_classifier, plot_tsne\n",
    "import numpy as np\n",
    "%matplotlib inline"
   ]
  },
  {
   "cell_type": "code",
   "execution_count": 2,
   "metadata": {
    "collapsed": false
   },
   "outputs": [
    {
     "name": "stdout",
     "output_type": "stream",
     "text": [
      "there are 23 images inside W2BPF-RF_8A_c10\n",
      "Processing ./reverse/W2BPF-RF/8A/W2BPF-RF_8A_c10/F3Y64820MGQGY4RA 8AAAAAA_2.jpg...\n",
      "there are 53 images inside W2BPF-RF_2A_c0\n",
      "Processing ./defect_tensors_D10/W2BRFRF/2A/W2BPF-RF_2A_c0/W2BRF-RF_Recombination_0_2A_0.jpg...\n",
      "there are 8 images inside W2BPF-RF_2A_c10\n",
      "Processing ./defect_tensors_D10/W2BRFRF/2A/W2BPF-RF_2A_c10/W2BPF-RF_Recombination_F3Y64940NLLGY4TA_2A_0.jpg...\n",
      "there are 11 images inside W2BPF-RF_6A_c0\n",
      "Processing ./defect_tensors_D10/W2BRFRF/6A/W2BPF-RF_6A_c0/W2BRF-RF_Recombination_0_6A_0.jpg...\n",
      "there are 2 images inside W2BPF-RF_6A_c10\n",
      "Processing ./defect_tensors_D10/W2BRFRF/6A/W2BPF-RF_6A_c10/W2BPF-RF_Recombination_F3Y64940NLLGY4TA_6A_0.jpg...\n"
     ]
    }
   ],
   "source": [
    "features, labels, sns, images = extract_features_from_defect('./reverse/W2BPF-RF/', comb=False)\n",
    "features_test, labels_test, sns_test, images_test = extract_features_from_defect('./defect_tensors_D10/W2BRFRF/', comb=True)\n",
    "\n",
    "features_all = np.concatenate((features, features_test))\n",
    "labels_all = np.concatenate((labels, labels_test))\n",
    "sns_all = np.concatenate((sns, sns_test))\n",
    "images_all = np.concatenate((images, images_test))"
   ]
  },
  {
   "cell_type": "code",
   "execution_count": 3,
   "metadata": {
    "collapsed": false
   },
   "outputs": [
    {
     "data": {
      "image/png": "[encoded data removed]",
      "text/plain": [
       "<matplotlib.figure.Figure at 0x1588f1e10>"
      ]
     },
     "metadata": {},
     "output_type": "display_data"
    }
   ],
   "source": [
    "plot_tsne(features_all, labels_all, images_all, perplexity=30, interactive=False)"
   ]
  },
  {
   "cell_type": "code",
   "execution_count": 5,
   "metadata": {
    "collapsed": false
   },
   "outputs": [
    {
     "name": "stdout",
     "output_type": "stream",
     "text": [
      "train test split == True\n",
      "Fitting 3 folds for each of 20 candidates, totalling 60 fits\n",
      "[CV] kernel=linear, C=1 ..............................................\n",
      "[CV] ............... kernel=linear, C=1, score=0.840000, total=   0.0s\n",
      "[CV] kernel=linear, C=1 ..............................................\n",
      "[CV] ............... kernel=linear, C=1, score=0.916667, total=   0.0s\n",
      "[CV] kernel=linear, C=1 ..............................................\n",
      "[CV] ............... kernel=linear, C=1, score=1.000000, total=   0.0s\n",
      "[CV] kernel=linear, C=10 .............................................\n",
      "[CV] .............. kernel=linear, C=10, score=0.840000, total=   0.0s\n",
      "[CV] kernel=linear, C=10 .............................................\n",
      "[CV] .............. kernel=linear, C=10, score=0.916667, total=   0.0s\n",
      "[CV] kernel=linear, C=10 .............................................\n",
      "[CV] .............. kernel=linear, C=10, score=1.000000, total=   0.0s\n",
      "[CV] kernel=linear, C=100 ............................................\n",
      "[CV] ............. kernel=linear, C=100, score=0.840000, total=   0.0s\n",
      "[CV] kernel=linear, C=100 ............................................\n",
      "[CV] ............. kernel=linear, C=100, score=0.916667, total=   0.0s\n",
      "[CV] kernel=linear, C=100 ............................................\n",
      "[CV] ............. kernel=linear, C=100, score=1.000000, total=   0.0s\n",
      "[CV] kernel=linear, C=1000 ...........................................\n"
     ]
    },
    {
     "name": "stderr",
     "output_type": "stream",
     "text": [
      "[Parallel(n_jobs=1)]: Done   1 out of   1 | elapsed:    0.0s remaining:    0.0s\n",
      "[Parallel(n_jobs=1)]: Done   2 out of   2 | elapsed:    0.0s remaining:    0.0s\n"
     ]
    },
    {
     "name": "stdout",
     "output_type": "stream",
     "text": [
      "[CV] ............ kernel=linear, C=1000, score=0.840000, total=   0.0s\n",
      "[CV] kernel=linear, C=1000 ...........................................\n",
      "[CV] ............ kernel=linear, C=1000, score=0.916667, total=   0.0s\n",
      "[CV] kernel=linear, C=1000 ...........................................\n",
      "[CV] ............ kernel=linear, C=1000, score=1.000000, total=   0.0s\n",
      "[CV] kernel=rbf, C=1, gamma=0.01 .....................................\n",
      "[CV] ...... kernel=rbf, C=1, gamma=0.01, score=0.800000, total=   0.0s\n",
      "[CV] kernel=rbf, C=1, gamma=0.01 .....................................\n",
      "[CV] ...... kernel=rbf, C=1, gamma=0.01, score=0.916667, total=   0.0s\n",
      "[CV] kernel=rbf, C=1, gamma=0.01 .....................................\n",
      "[CV] ...... kernel=rbf, C=1, gamma=0.01, score=0.956522, total=   0.0s\n",
      "[CV] kernel=rbf, C=1, gamma=0.001 ....................................\n",
      "[CV] ..... kernel=rbf, C=1, gamma=0.001, score=0.680000, total=   0.0s\n",
      "[CV] kernel=rbf, C=1, gamma=0.001 ....................................\n",
      "[CV] ..... kernel=rbf, C=1, gamma=0.001, score=0.666667, total=   0.0s\n",
      "[CV] kernel=rbf, C=1, gamma=0.001 ....................................\n",
      "[CV] ..... kernel=rbf, C=1, gamma=0.001, score=0.695652, total=   0.0s\n",
      "[CV] kernel=rbf, C=1, gamma=0.0001 ...................................\n",
      "[CV] .... kernel=rbf, C=1, gamma=0.0001, score=0.680000, total=   0.0s\n",
      "[CV] kernel=rbf, C=1, gamma=0.0001 ...................................\n",
      "[CV] .... kernel=rbf, C=1, gamma=0.0001, score=0.666667, total=   0.0s\n",
      "[CV] kernel=rbf, C=1, gamma=0.0001 ...................................\n",
      "[CV] .... kernel=rbf, C=1, gamma=0.0001, score=0.695652, total=   0.0s\n",
      "[CV] kernel=rbf, C=1, gamma=1e-05 ....................................\n",
      "[CV] ..... kernel=rbf, C=1, gamma=1e-05, score=0.680000, total=   0.0s\n",
      "[CV] kernel=rbf, C=1, gamma=1e-05 ....................................\n",
      "[CV] ..... kernel=rbf, C=1, gamma=1e-05, score=0.666667, total=   0.0s\n",
      "[CV] kernel=rbf, C=1, gamma=1e-05 ....................................\n",
      "[CV] ..... kernel=rbf, C=1, gamma=1e-05, score=0.695652, total=   0.0s\n",
      "[CV] kernel=rbf, C=10, gamma=0.01 ....................................\n",
      "[CV] ..... kernel=rbf, C=10, gamma=0.01, score=0.840000, total=   0.0s\n",
      "[CV] kernel=rbf, C=10, gamma=0.01 ....................................\n",
      "[CV] ..... kernel=rbf, C=10, gamma=0.01, score=0.916667, total=   0.0s\n",
      "[CV] kernel=rbf, C=10, gamma=0.01 ....................................\n",
      "[CV] ..... kernel=rbf, C=10, gamma=0.01, score=0.956522, total=   0.0s\n",
      "[CV] kernel=rbf, C=10, gamma=0.001 ...................................\n",
      "[CV] .... kernel=rbf, C=10, gamma=0.001, score=0.840000, total=   0.0s\n",
      "[CV] kernel=rbf, C=10, gamma=0.001 ...................................\n",
      "[CV] .... kernel=rbf, C=10, gamma=0.001, score=0.916667, total=   0.0s\n",
      "[CV] kernel=rbf, C=10, gamma=0.001 ...................................\n",
      "[CV] .... kernel=rbf, C=10, gamma=0.001, score=0.956522, total=   0.0s\n",
      "[CV] kernel=rbf, C=10, gamma=0.0001 ..................................\n",
      "[CV] ... kernel=rbf, C=10, gamma=0.0001, score=0.680000, total=   0.0s\n",
      "[CV] kernel=rbf, C=10, gamma=0.0001 ..................................\n",
      "[CV] ... kernel=rbf, C=10, gamma=0.0001, score=0.666667, total=   0.0s\n",
      "[CV] kernel=rbf, C=10, gamma=0.0001 ..................................\n",
      "[CV] ... kernel=rbf, C=10, gamma=0.0001, score=0.695652, total=   0.0s\n",
      "[CV] kernel=rbf, C=10, gamma=1e-05 ...................................\n",
      "[CV] .... kernel=rbf, C=10, gamma=1e-05, score=0.680000, total=   0.0s\n",
      "[CV] kernel=rbf, C=10, gamma=1e-05 ...................................\n",
      "[CV] .... kernel=rbf, C=10, gamma=1e-05, score=0.666667, total=   0.0s\n",
      "[CV] kernel=rbf, C=10, gamma=1e-05 ...................................\n",
      "[CV] .... kernel=rbf, C=10, gamma=1e-05, score=0.695652, total=   0.0s\n",
      "[CV] kernel=rbf, C=100, gamma=0.01 ...................................\n",
      "[CV] .... kernel=rbf, C=100, gamma=0.01, score=0.840000, total=   0.0s\n",
      "[CV] kernel=rbf, C=100, gamma=0.01 ...................................\n",
      "[CV] .... kernel=rbf, C=100, gamma=0.01, score=0.916667, total=   0.0s\n",
      "[CV] kernel=rbf, C=100, gamma=0.01 ...................................\n",
      "[CV] .... kernel=rbf, C=100, gamma=0.01, score=1.000000, total=   0.0s\n",
      "[CV] kernel=rbf, C=100, gamma=0.001 ..................................\n",
      "[CV] ... kernel=rbf, C=100, gamma=0.001, score=0.880000, total=   0.0s\n",
      "[CV] kernel=rbf, C=100, gamma=0.001 ..................................\n",
      "[CV] ... kernel=rbf, C=100, gamma=0.001, score=0.916667, total=   0.0s\n",
      "[CV] kernel=rbf, C=100, gamma=0.001 ..................................\n",
      "[CV] ... kernel=rbf, C=100, gamma=0.001, score=0.956522, total=   0.0s\n",
      "[CV] kernel=rbf, C=100, gamma=0.0001 .................................\n",
      "[CV] .. kernel=rbf, C=100, gamma=0.0001, score=0.840000, total=   0.0s\n",
      "[CV] kernel=rbf, C=100, gamma=0.0001 .................................\n",
      "[CV] .. kernel=rbf, C=100, gamma=0.0001, score=0.916667, total=   0.0s\n",
      "[CV] kernel=rbf, C=100, gamma=0.0001 .................................\n",
      "[CV] .. kernel=rbf, C=100, gamma=0.0001, score=0.956522, total=   0.0s\n",
      "[CV] kernel=rbf, C=100, gamma=1e-05 ..................................\n",
      "[CV] ... kernel=rbf, C=100, gamma=1e-05, score=0.680000, total=   0.0s\n",
      "[CV] kernel=rbf, C=100, gamma=1e-05 ..................................\n",
      "[CV] ... kernel=rbf, C=100, gamma=1e-05, score=0.666667, total=   0.0s\n",
      "[CV] kernel=rbf, C=100, gamma=1e-05 ..................................\n",
      "[CV] ... kernel=rbf, C=100, gamma=1e-05, score=0.695652, total=   0.0s\n",
      "[CV] kernel=rbf, C=1000, gamma=0.01 ..................................\n",
      "[CV] ... kernel=rbf, C=1000, gamma=0.01, score=0.840000, total=   0.0s\n",
      "[CV] kernel=rbf, C=1000, gamma=0.01 ..................................\n",
      "[CV] ... kernel=rbf, C=1000, gamma=0.01, score=0.916667, total=   0.0s\n",
      "[CV] kernel=rbf, C=1000, gamma=0.01 ..................................\n",
      "[CV] ... kernel=rbf, C=1000, gamma=0.01, score=1.000000, total=   0.0s\n",
      "[CV] kernel=rbf, C=1000, gamma=0.001 .................................\n",
      "[CV] .. kernel=rbf, C=1000, gamma=0.001, score=0.840000, total=   0.0s\n",
      "[CV] kernel=rbf, C=1000, gamma=0.001 .................................\n",
      "[CV] .. kernel=rbf, C=1000, gamma=0.001, score=0.916667, total=   0.0s\n",
      "[CV] kernel=rbf, C=1000, gamma=0.001 .................................\n",
      "[CV] .. kernel=rbf, C=1000, gamma=0.001, score=1.000000, total=   0.0s\n",
      "[CV] kernel=rbf, C=1000, gamma=0.0001 ................................\n",
      "[CV] . kernel=rbf, C=1000, gamma=0.0001, score=0.880000, total=   0.0s\n",
      "[CV] kernel=rbf, C=1000, gamma=0.0001 ................................\n",
      "[CV] . kernel=rbf, C=1000, gamma=0.0001, score=0.916667, total=   0.0s\n",
      "[CV] kernel=rbf, C=1000, gamma=0.0001 ................................\n",
      "[CV] . kernel=rbf, C=1000, gamma=0.0001, score=0.956522, total=   0.0s\n",
      "[CV] kernel=rbf, C=1000, gamma=1e-05 .................................\n",
      "[CV] .. kernel=rbf, C=1000, gamma=1e-05, score=0.840000, total=   0.0s\n",
      "[CV] kernel=rbf, C=1000, gamma=1e-05 .................................\n",
      "[CV] .. kernel=rbf, C=1000, gamma=1e-05, score=0.916667, total=   0.0s\n",
      "[CV] kernel=rbf, C=1000, gamma=1e-05 .................................\n",
      "[CV] .. kernel=rbf, C=1000, gamma=1e-05, score=0.956522, total=   0.0s\n",
      "Cannot save trained svm model to model.model\n",
      "\n",
      "Best parameters set:\n",
      "SVC(C=1, cache_size=200, class_weight=None, coef0=0.0,\n",
      "  decision_function_shape=None, degree=3, gamma='auto', kernel='linear',\n",
      "  max_iter=-1, probability=True, random_state=None, shrinking=True,\n",
      "  tol=0.001, verbose=False)\n",
      "\n",
      "Confusion matrix:\n",
      "Labels: 0,10\n",
      "\n",
      "[[15  0]\n",
      " [ 0 10]]\n",
      "\n",
      "Classification report:\n",
      "             precision    recall  f1-score   support\n",
      "\n",
      "          0       1.00      1.00      1.00        15\n",
      "         10       1.00      1.00      1.00        10\n",
      "\n",
      "avg / total       1.00      1.00      1.00        25\n",
      "\n"
     ]
    },
    {
     "name": "stderr",
     "output_type": "stream",
     "text": [
      "[Parallel(n_jobs=1)]: Done  60 out of  60 | elapsed:    1.3s finished\n"
     ]
    },
    {
     "data": {
      "text/plain": [
       "GridSearchCV(cv=3, error_score='raise',\n",
       "       estimator=SVC(C=1.0, cache_size=200, class_weight=None, coef0=0.0,\n",
       "  decision_function_shape=None, degree=3, gamma='auto', kernel='rbf',\n",
       "  max_iter=-1, probability=True, random_state=None, shrinking=True,\n",
       "  tol=0.001, verbose=False),\n",
       "       fit_params={}, iid=True, n_jobs=1,\n",
       "       param_grid=[{'kernel': ['linear'], 'C': [1, 10, 100, 1000]}, {'kernel': ['rbf'], 'C': [1, 10, 100, 1000], 'gamma': [0.01, 0.001, 0.0001, 1e-05]}],\n",
       "       pre_dispatch='2*n_jobs', refit=True, return_train_score=True,\n",
       "       scoring=None, verbose=3)"
      ]
     },
     "execution_count": 5,
     "metadata": {},
     "output_type": "execute_result"
    }
   ],
   "source": [
    "train_svm_classifier(features_all, labels_all, sns_all, 'model.model', split=True)"
   ]
  },
  {
   "cell_type": "code",
   "execution_count": 6,
   "metadata": {
    "collapsed": false
   },
   "outputs": [
    {
     "data": {
      "text/html": [
       "\n",
       "    <div class=\"bk-root\">\n",
       "        <a href=\"http://bokeh.pydata.org\" target=\"_blank\" class=\"bk-logo bk-logo-small bk-logo-notebook\"></a>\n",
       "        <span id=\"31c6d810-a796-4d35-b1a0-3afef68cbbb2\">Loading BokehJS ...</span>\n",
       "    </div>"
      ]
     },
     "metadata": {},
     "output_type": "display_data"
    },
    {
     "data": {
      "application/javascript": [
       "\n",
       "(function(global) {\n",
       "  function now() {\n",
       "    return new Date();\n",
       "  }\n",
       "\n",
       "  var force = \"1\";\n",
       "\n",
       "  if (typeof (window._bokeh_onload_callbacks) === \"undefined\" || force !== \"\") {\n",
       "    window._bokeh_onload_callbacks = [];\n",
       "    window._bokeh_is_loading = undefined;\n",
       "  }\n",
       "\n",
       "\n",
       "  \n",
       "  if (typeof (window._bokeh_timeout) === \"undefined\" || force !== \"\") {\n",
       "    window._bokeh_timeout = Date.now() + 5000;\n",
       "    window._bokeh_failed_load = false;\n",
       "  }\n",
       "\n",
       "  var NB_LOAD_WARNING = {'data': {'text/html':\n",
       "     \"<div style='background-color: #fdd'>\\n\"+\n",
       "     \"<p>\\n\"+\n",
       "     \"BokehJS does not appear to have successfully loaded. If loading BokehJS from CDN, this \\n\"+\n",
       "     \"may be due to a slow or bad network connection. Possible fixes:\\n\"+\n",
       "     \"</p>\\n\"+\n",
       "     \"<ul>\\n\"+\n",
       "     \"<li>re-rerun `output_notebook()` to attempt to load from CDN again, or</li>\\n\"+\n",
       "     \"<li>use INLINE resources instead, as so:</li>\\n\"+\n",
       "     \"</ul>\\n\"+\n",
       "     \"<code>\\n\"+\n",
       "     \"from bokeh.resources import INLINE\\n\"+\n",
       "     \"output_notebook(resources=INLINE)\\n\"+\n",
       "     \"</code>\\n\"+\n",
       "     \"</div>\"}};\n",
       "\n",
       "  function display_loaded() {\n",
       "    if (window.Bokeh !== undefined) {\n",
       "      Bokeh.$(\"#31c6d810-a796-4d35-b1a0-3afef68cbbb2\").text(\"BokehJS successfully loaded.\");\n",
       "    } else if (Date.now() < window._bokeh_timeout) {\n",
       "      setTimeout(display_loaded, 100)\n",
       "    }\n",
       "  }\n",
       "\n",
       "  function run_callbacks() {\n",
       "    window._bokeh_onload_callbacks.forEach(function(callback) { callback() });\n",
       "    delete window._bokeh_onload_callbacks\n",
       "    console.info(\"Bokeh: all callbacks have finished\");\n",
       "  }\n",
       "\n",
       "  function load_libs(js_urls, callback) {\n",
       "    window._bokeh_onload_callbacks.push(callback);\n",
       "    if (window._bokeh_is_loading > 0) {\n",
       "      console.log(\"Bokeh: BokehJS is being loaded, scheduling callback at\", now());\n",
       "      return null;\n",
       "    }\n",
       "    if (js_urls == null || js_urls.length === 0) {\n",
       "      run_callbacks();\n",
       "      return null;\n",
       "    }\n",
       "    console.log(\"Bokeh: BokehJS not loaded, scheduling load and callback at\", now());\n",
       "    window._bokeh_is_loading = js_urls.length;\n",
       "    for (var i = 0; i < js_urls.length; i++) {\n",
       "      var url = js_urls[i];\n",
       "      var s = document.createElement('script');\n",
       "      s.src = url;\n",
       "      s.async = false;\n",
       "      s.onreadystatechange = s.onload = function() {\n",
       "        window._bokeh_is_loading--;\n",
       "        if (window._bokeh_is_loading === 0) {\n",
       "          console.log(\"Bokeh: all BokehJS libraries loaded\");\n",
       "          run_callbacks()\n",
       "        }\n",
       "      };\n",
       "      s.onerror = function() {\n",
       "        console.warn(\"failed to load library \" + url);\n",
       "      };\n",
       "      console.log(\"Bokeh: injecting script tag for BokehJS library: \", url);\n",
       "      document.getElementsByTagName(\"head\")[0].appendChild(s);\n",
       "    }\n",
       "  };var element = document.getElementById(\"31c6d810-a796-4d35-b1a0-3afef68cbbb2\");\n",
       "  if (element == null) {\n",
       "    console.log(\"Bokeh: ERROR: autoload.js configured with elementid '31c6d810-a796-4d35-b1a0-3afef68cbbb2' but no matching script tag was found. \")\n",
       "    return false;\n",
       "  }\n",
       "\n",
       "  var js_urls = ['https://cdn.pydata.org/bokeh/release/bokeh-0.12.3.min.js', 'https://cdn.pydata.org/bokeh/release/bokeh-widgets-0.12.3.min.js'];\n",
       "\n",
       "  var inline_js = [\n",
       "    function(Bokeh) {\n",
       "      Bokeh.set_log_level(\"info\");\n",
       "    },\n",
       "    \n",
       "    function(Bokeh) {\n",
       "      \n",
       "      Bokeh.$(\"#31c6d810-a796-4d35-b1a0-3afef68cbbb2\").text(\"BokehJS is loading...\");\n",
       "    },\n",
       "    function(Bokeh) {\n",
       "      console.log(\"Bokeh: injecting CSS: https://cdn.pydata.org/bokeh/release/bokeh-0.12.3.min.css\");\n",
       "      Bokeh.embed.inject_css(\"https://cdn.pydata.org/bokeh/release/bokeh-0.12.3.min.css\");\n",
       "      console.log(\"Bokeh: injecting CSS: https://cdn.pydata.org/bokeh/release/bokeh-widgets-0.12.3.min.css\");\n",
       "      Bokeh.embed.inject_css(\"https://cdn.pydata.org/bokeh/release/bokeh-widgets-0.12.3.min.css\");\n",
       "    }\n",
       "  ];\n",
       "\n",
       "  function run_inline_js() {\n",
       "    \n",
       "    if ((window.Bokeh !== undefined) || (force === \"1\")) {\n",
       "      for (var i = 0; i < inline_js.length; i++) {\n",
       "        inline_js[i](window.Bokeh);\n",
       "      }if (force === \"1\") {\n",
       "        display_loaded();\n",
       "      }} else if (Date.now() < window._bokeh_timeout) {\n",
       "      setTimeout(run_inline_js, 100);\n",
       "    } else if (!window._bokeh_failed_load) {\n",
       "      console.log(\"Bokeh: BokehJS failed to load within specified timeout.\");\n",
       "      window._bokeh_failed_load = true;\n",
       "    } else if (!force) {\n",
       "      var cell = $(\"#31c6d810-a796-4d35-b1a0-3afef68cbbb2\").parents('.cell').data().cell;\n",
       "      cell.output_area.append_execute_result(NB_LOAD_WARNING)\n",
       "    }\n",
       "\n",
       "  }\n",
       "\n",
       "  if (window._bokeh_is_loading === 0) {\n",
       "    console.log(\"Bokeh: BokehJS loaded, going straight to plotting\");\n",
       "    run_inline_js();\n",
       "  } else {\n",
       "    load_libs(js_urls, function() {\n",
       "      console.log(\"Bokeh: BokehJS plotting callback run at\", now());\n",
       "      run_inline_js();\n",
       "    });\n",
       "  }\n",
       "}(this));"
      ]
     },
     "metadata": {},
     "output_type": "display_data"
    }
   ],
   "source": [
    "from bokeh.plotting import figure, output_notebook\n",
    "output_notebook()\n",
    "from bokeh.plotting import figure, show\n",
    "from tsne import bh_sne"
   ]
  },
  {
   "cell_type": "code",
   "execution_count": 7,
   "metadata": {
    "collapsed": false
   },
   "outputs": [
    {
     "name": "stdout",
     "output_type": "stream",
     "text": [
      "the number of class 10 is 33\n",
      "the number of S/Ns: is 25\n",
      "\tthe number of S\\N F3Y65020LVYGY4RA:1\n",
      "\tthe number of S\\N F3Y65031JW2GY4TA:1\n",
      "\tthe number of S\\N F3Y649508YVGY4RA:1\n",
      "\tthe number of S\\N F3Y65030KXEGY4RA:1\n",
      "\tthe number of S\\N F3Y65031FGUGY4TA:1\n",
      "\tthe number of S\\N F3Y64961GTRGY4TA:1\n",
      "\tthe number of S\\N F3Y64820MGQGY4RA:1\n",
      "\tthe number of S\\N F3Y65041CEUGY4TA:1\n",
      "\tthe number of S\\N F3Y650304V6GY4RA:1\n",
      "\tthe number of S\\N F3Y64910CJPGY4RA:1\n",
      "\tthe number of S\\N F3Y6486066SGY4VB:1\n",
      "\tthe number of S\\N F3Y649509BCH3RPA:6\n",
      "\tthe number of S\\N F3Y650404JPGY4RA:1\n",
      "\tthe number of S\\N F3Y64930LG7GY4RA:1\n",
      "\tthe number of S\\N F3Y65030GPVGY4TA:1\n",
      "\tthe number of S\\N F3Y65031GH8GY4TA:1\n",
      "\tthe number of S\\N F3Y65030JTVGY4TA:1\n",
      "\tthe number of S\\N F3Y650205ASGY4RA:1\n",
      "\tthe number of S\\N F3Y65013JQ2GY4TA:1\n",
      "\tthe number of S\\N F3Y65030S4EGY4RA:1\n",
      "\tthe number of S\\N F3Y650319LLGY4TA:1\n",
      "\tthe number of S\\N F3Y65040J7BGY4TA:1\n",
      "\tthe number of S\\N F3Y64940NLLGY4TA:4\n",
      "\tthe number of S\\N F3Y65010XRMGY4TA:1\n",
      "\tthe number of S\\N F3Y650305BYGY4RA:1\n",
      "the number of class 0 is 64\n",
      "the number of S/Ns: is 10\n",
      "\tthe number of S\\N 1:7\n",
      "\tthe number of S\\N 0:8\n",
      "\tthe number of S\\N 3:5\n",
      "\tthe number of S\\N 2:5\n",
      "\tthe number of S\\N 5:7\n",
      "\tthe number of S\\N 4:8\n",
      "\tthe number of S\\N 7:6\n",
      "\tthe number of S\\N 6:7\n",
      "\tthe number of S\\N 9:5\n",
      "\tthe number of S\\N 8:6\n"
     ]
    }
   ],
   "source": [
    "for label_class in set(labels_all):\n",
    "    sns_in_label = sns_all[labels_all == label_class]\n",
    "    print 'the number of class {} is {}'.format(label_class, len(sns_in_label))\n",
    "    print 'the number of S/Ns: is {}'.format(len(set(sns_in_label)))\n",
    "    for sn in set(sns_in_label):\n",
    "        print '\\tthe number of S\\N {}:{}'.format(sn, len(sns_all[(labels_all == label_class) & (sns_all == sn)]))"
   ]
  },
  {
   "cell_type": "code",
   "execution_count": null,
   "metadata": {
    "collapsed": true
   },
   "outputs": [],
   "source": []
  }
 ],
 "metadata": {
  "kernelspec": {
   "display_name": "Python 2",
   "language": "python",
   "name": "python2"
  },
  "language_info": {
   "codemirror_mode": {
    "name": "ipython",
    "version": 2
   },
   "file_extension": ".py",
   "mimetype": "text/x-python",
   "name": "python",
   "nbconvert_exporter": "python",
   "pygments_lexer": "ipython2",
   "version": "2.7.12"
  },
  "latex_envs": {
   "bibliofile": "biblio.bib",
   "cite_by": "apalike",
   "current_citInitial": 1,
   "eqLabelWithNumbers": true,
   "eqNumInitial": 0
  }
 },
 "nbformat": 4,
 "nbformat_minor": 1
}
