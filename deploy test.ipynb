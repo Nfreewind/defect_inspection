{
 "cells": [
  {
   "cell_type": "code",
   "execution_count": 1,
   "metadata": {
    "collapsed": true,
    "deletable": true,
    "editable": true
   },
   "outputs": [],
   "source": [
    "from dqlib.Predict import load_and_predict"
   ]
  },
  {
   "cell_type": "code",
   "execution_count": 5,
   "metadata": {
    "collapsed": false,
    "scrolled": true
   },
   "outputs": [
    {
     "name": "stdout",
     "output_type": "stream",
     "text": [
      "['./query_test/CL0401/2A\\\\0 2AAAAAA_16.jpg', './query_test/CL0401/2A\\\\0 2AAAAAA_17.jpg', './query_test/CL0401/2A\\\\0 2AAAAAA_18.jpg', './query_test/CL0401/2A\\\\0 2AAAAAA_19.jpg', './query_test/CL0401/2A\\\\0 2AAAAAA_20.jpg', './query_test/CL0401/2A\\\\0 2AAAAAA_21.jpg', './query_test/CL0401/2A\\\\0 2AAAAAA_22.jpg', './query_test/CL0401/2A\\\\0 2AAAAAA_23.jpg', './query_test/CL0401/2A\\\\0 2AAAAAA_24.jpg', './query_test/CL0401/2A\\\\0 2AAAAAA_25.jpg', './query_test/CL0401/2A\\\\0 2AAAAAA_26.jpg', './query_test/CL0401/2A\\\\0 2AAAAAA_27.jpg', './query_test/CL0401/2A\\\\0 2AAAAAA_28.jpg', './query_test/CL0401/2A\\\\0 2AAAAAA_29.jpg', './query_test/CL0401/2A\\\\0 2AAAAAA_30.jpg', './query_test/CL0401/2A\\\\0 2AAAAAA_31.jpg', './query_test/CL0401/2A\\\\0 2AAAAAA_32.jpg', './query_test/CL0401/2A\\\\0 2AAAAAA_33.jpg', './query_test/CL0401/2A\\\\0 2AAAAAA_34.jpg', './query_test/CL0401/2A\\\\1 2AAAAAA_25.jpg', './query_test/CL0401/2A\\\\1 2AAAAAA_26.jpg', './query_test/CL0401/2A\\\\1 2AAAAAA_27.jpg', './query_test/CL0401/2A\\\\1 2AAAAAA_28.jpg', './query_test/CL0401/2A\\\\1 2AAAAAA_29.jpg', './query_test/CL0401/2A\\\\1 2AAAAAA_30.jpg', './query_test/CL0401/2A\\\\1 2AAAAAA_31.jpg', './query_test/CL0401/2A\\\\1 2AAAAAA_32.jpg', './query_test/CL0401/2A\\\\1 2AAAAAA_33.jpg', './query_test/CL0401/2A\\\\1 2AAAAAA_34.jpg', './query_test/CL0401/2A\\\\1 2AAAAAA_35.jpg', './query_test/CL0401/2A\\\\CL0401_Recombination_F3Y64910ZSFGY4TA_2A_0.jpg', './query_test/CL0401/2A\\\\CL0401_Recombination_F3Y64910ZSFGY4TA_2A_1.jpg', './query_test/CL0401/2A\\\\CL0401_Recombination_F3Y64910ZSFGY4TA_2A_10.jpg', './query_test/CL0401/2A\\\\CL0401_Recombination_F3Y64910ZSFGY4TA_2A_11.jpg', './query_test/CL0401/2A\\\\CL0401_Recombination_F3Y64910ZSFGY4TA_2A_2.jpg', './query_test/CL0401/2A\\\\CL0401_Recombination_F3Y64910ZSFGY4TA_2A_3.jpg', './query_test/CL0401/2A\\\\CL0401_Recombination_F3Y64910ZSFGY4TA_2A_4.jpg', './query_test/CL0401/2A\\\\CL0401_Recombination_F3Y64910ZSFGY4TA_2A_5.jpg', './query_test/CL0401/2A\\\\CL0401_Recombination_F3Y64910ZSFGY4TA_2A_6.jpg', './query_test/CL0401/2A\\\\CL0401_Recombination_F3Y64910ZSFGY4TA_2A_7.jpg', './query_test/CL0401/2A\\\\CL0401_Recombination_F3Y64910ZSFGY4TA_2A_8.jpg', './query_test/CL0401/2A\\\\CL0401_Recombination_F3Y64910ZSFGY4TA_2A_9.jpg', './query_test/CL0401/2A\\\\CL0401_Recombination_F3Y64920UCWGY4TA_2A_0.jpg', './query_test/CL0401/2A\\\\CL0401_Recombination_F3Y64920UCWGY4TA_2A_1.jpg', './query_test/CL0401/2A\\\\CL0401_Recombination_F3Y64920UCWGY4TA_2A_10.jpg', './query_test/CL0401/2A\\\\CL0401_Recombination_F3Y64920UCWGY4TA_2A_2.jpg', './query_test/CL0401/2A\\\\CL0401_Recombination_F3Y64920UCWGY4TA_2A_3.jpg', './query_test/CL0401/2A\\\\CL0401_Recombination_F3Y64920UCWGY4TA_2A_4.jpg', './query_test/CL0401/2A\\\\CL0401_Recombination_F3Y64920UCWGY4TA_2A_5.jpg', './query_test/CL0401/2A\\\\CL0401_Recombination_F3Y64920UCWGY4TA_2A_6.jpg', './query_test/CL0401/2A\\\\CL0401_Recombination_F3Y64920UCWGY4TA_2A_7.jpg', './query_test/CL0401/2A\\\\CL0401_Recombination_F3Y64920UCWGY4TA_2A_8.jpg', './query_test/CL0401/2A\\\\CL0401_Recombination_F3Y64920UCWGY4TA_2A_9.jpg', './query_test/CL0401/2A\\\\CL0401_Recombination_F3Y64950V9FH3RPA_2A_0.jpg', './query_test/CL0401/2A\\\\F3Y65020RGDGY4RA 2AAAAAA_10.jpg', './query_test/CL0401/2A\\\\F3Y65020RGDGY4RA 2AAAAAA_11.jpg', './query_test/CL0401/2A\\\\F3Y65020RGEGY4RA 2AAAAAA_19.jpg', './query_test/CL0401/2A\\\\F3Y65020RGEGY4RA 2AAAAAA_20.jpg', './query_test/CL0401/2A\\\\F3Y65020RGEGY4RA 2AAAAAA_21.jpg', './query_test/CL0401/2A\\\\F3Y65020RGEGY4RA 2AAAAAA_22.jpg', './query_test/CL0401/2A\\\\F3Y65020RGEGY4RA 2AAAAAA_7.jpg', './query_test/CL0401/2A\\\\F3Y65020RGEGY4RA 2AAAAAA_8.jpg', './query_test/CL0401/2A\\\\F3Y65030LJFGY4RA 2AAAAAA_10.jpg', './query_test/CL0401/2A\\\\F3Y65030LJFGY4RA 2AAAAAA_11.jpg', './query_test/CL0401/2A\\\\F3Y65030LJFGY4RA 2AAAAAA_12.jpg', './query_test/CL0401/2A\\\\F3Y65030LJFGY4RA 2AAAAAA_13.jpg', './query_test/CL0401/2A\\\\F3Y65030LJFGY4RA 2AAAAAA_14.jpg', './query_test/CL0401/2A\\\\F3Y65030LJFGY4RA 2AAAAAA_15.jpg', './query_test/CL0401/2A\\\\F3Y65030LJFGY4RA 2AAAAAA_16.jpg', './query_test/CL0401/2A\\\\F3Y65030LJFGY4RA 2AAAAAA_17.jpg', './query_test/CL0401/2A\\\\F3Y65030LJFGY4RA 2AAAAAA_18.jpg', './query_test/CL0401/2A\\\\F3Y65030LJFGY4RA 2AAAAAA_19.jpg', './query_test/CL0401/2A\\\\F3Y65030LJFGY4RA 2AAAAAA_20.jpg', './query_test/CL0401/2A\\\\F3Y65030LJFGY4RA 2AAAAAA_21.jpg', './query_test/CL0401/2A\\\\F3Y65030LJFGY4RA 2AAAAAA_22.jpg', './query_test/CL0401/2A\\\\F3Y65030LJFGY4RA 2AAAAAA_7.jpg', './query_test/CL0401/2A\\\\F3Y65030LJFGY4RA 2AAAAAA_8.jpg', './query_test/CL0401/2A\\\\F3Y65030LJFGY4RA 2AAAAAA_9.jpg']\n",
      "Processing ./query_test/CL0401/2A\\0 2AAAAAA_16.jpg...\n",
      "['0' '0' '0' '0' '0' '0' '0' '0' '0' '0' '0' '0' '0' '0' '0' '0' '0' '0'\n",
      " '0' '0' '0' '0' '0' '0' '0' '0' '0' '0' '0' '0' '4' '4' '4' '4' '4' '4'\n",
      " '4' '4' '4' '4' '4' '4' '4' '4' '4' '4' '4' '4' '4' '4' '4' '4' '4' '4'\n",
      " '1' '1' '1' '1' '1' '1' '1' '1' '1' '1' '1' '1' '1' '1' '1' '1' '1' '1'\n",
      " '1' '1' '1' '1' '1' '1']\n"
     ]
    }
   ],
   "source": [
    "result = load_and_predict('./query_test/CL0401/2A', './Models/CL0401/model.pkl')"
   ]
  },
  {
   "cell_type": "code",
   "execution_count": 6,
   "metadata": {
    "collapsed": false
   },
   "outputs": [
    {
     "name": "stdout",
     "output_type": "stream",
     "text": [
      "/c/Users/andrliu/projects/defect_inspection\n"
     ]
    }
   ],
   "source": [
    "!pwd"
   ]
  },
  {
   "cell_type": "code",
   "execution_count": null,
   "metadata": {
    "collapsed": true
   },
   "outputs": [],
   "source": [
    "!conda install "
   ]
  }
 ],
 "metadata": {
  "anaconda-cloud": {},
  "kernelspec": {
   "display_name": "Python 3",
   "language": "python",
   "name": "python3"
  },
  "language_info": {
   "codemirror_mode": {
    "name": "ipython",
    "version": 3
   },
   "file_extension": ".py",
   "mimetype": "text/x-python",
   "name": "python",
   "nbconvert_exporter": "python",
   "pygments_lexer": "ipython3",
   "version": "3.5.2"
  },
  "widgets": {
   "state": {},
   "version": "1.1.2"
  }
 },
 "nbformat": 4,
 "nbformat_minor": 0
}
