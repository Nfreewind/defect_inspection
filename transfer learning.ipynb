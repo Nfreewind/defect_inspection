{
 "cells": [
  {
   "cell_type": "code",
   "execution_count": 1,
   "metadata": {
    "collapsed": false
   },
   "outputs": [],
   "source": [
    "import os\n",
    "import re\n",
    "import glob\n",
    "\n",
    "import tensorflow as tf\n",
    "import tensorflow.python.platform\n",
    "from tensorflow.python.platform import gfile\n",
    "import numpy as np\n",
    "import pandas as pd\n",
    "import sklearn\n",
    "from sklearn.model_selection import cross_val_predict\n",
    "from sklearn.metrics import accuracy_score, confusion_matrix\n",
    "from sklearn.svm import SVC, LinearSVC\n",
    "import matplotlib.pyplot as plt\n",
    "%matplotlib inline\n",
    "import pickle"
   ]
  },
  {
   "cell_type": "code",
   "execution_count": 2,
   "metadata": {
    "collapsed": false
   },
   "outputs": [],
   "source": [
    "model_dir = 'imagenet'\n",
    "images_dir = 'images/'\n",
    "list_images = [images_dir+f for f in os.listdir(images_dir) if re.search('jpg|JPG|png', f)]"
   ]
  },
  {
   "cell_type": "code",
   "execution_count": 3,
   "metadata": {
    "collapsed": false
   },
   "outputs": [
    {
     "data": {
      "text/plain": [
       "['images/0 2AAAAAA_25.jpg',\n",
       " 'images/11 2AAAAAA_53.jpg',\n",
       " 'images/CL0401_Recombination_0_2A_0.jpg',\n",
       " 'images/CL0401_Recombination_0_2A_1.jpg',\n",
       " 'images/CL0401_Recombination_0_2A_2.jpg',\n",
       " 'images/CL0401_Recombination_0_2A_3.jpg']"
      ]
     },
     "execution_count": 3,
     "metadata": {},
     "output_type": "execute_result"
    }
   ],
   "source": [
    "list_images"
   ]
  },
  {
   "cell_type": "code",
   "execution_count": 4,
   "metadata": {
    "collapsed": false
   },
   "outputs": [
    {
     "name": "stdout",
     "output_type": "stream",
     "text": [
      "Untitled.ipynb         \u001b[34minception_dec_2015\u001b[m\u001b[m     \u001b[34mmodels\u001b[m\u001b[m\r\n",
      "\u001b[34mimages\u001b[m\u001b[m                 inception_dec_2015.zip\r\n"
     ]
    }
   ],
   "source": [
    "!ls"
   ]
  },
  {
   "cell_type": "code",
   "execution_count": 5,
   "metadata": {
    "collapsed": true
   },
   "outputs": [],
   "source": [
    "def create_graph(model_path):\n",
    "    with gfile.FastGFile(model_path, 'rb') as f:\n",
    "        graph_def = tf.GraphDef()\n",
    "        graph_def.ParseFromString(f.read())\n",
    "        _ = tf.import_graph_def(graph_def, name='')"
   ]
  },
  {
   "cell_type": "code",
   "execution_count": 14,
   "metadata": {
    "collapsed": true
   },
   "outputs": [],
   "source": [
    "def extract_features(list_images):\n",
    "    nb_features = 2048\n",
    "    features = np.empty((len(list_images),nb_features))\n",
    "    labels = []\n",
    "\n",
    "    create_graph('./inception_dec_2015/tensorflow_inception_graph.pb')\n",
    "\n",
    "    with tf.Session() as sess:\n",
    "\n",
    "        next_to_last_tensor = sess.graph.get_tensor_by_name('pool_3:0')\n",
    "        #return next_to_last_tensor\n",
    "        for ind, image in enumerate(list_images):\n",
    "            if (ind%100 == 0):\n",
    "                print('Processing %s...' % (image))\n",
    "            if not gfile.Exists(image):\n",
    "                tf.logging.fatal('File does not exist %s', image)\n",
    "\n",
    "            image_data = gfile.FastGFile(image, 'rb').read()\n",
    "            # print type(image_data)\n",
    "            # print image_data.shape\n",
    "            predictions = sess.run(next_to_last_tensor,\n",
    "                {'DecodeJpeg/contents:0': image_data}\n",
    "            )\n",
    "            features[ind,:] = np.squeeze(predictions)\n",
    "            # labels.append(re.split('_\\d+', image.split('/')[1])[0])\n",
    "            # print labels\n",
    "\n",
    "    return features"
   ]
  },
  {
   "cell_type": "code",
   "execution_count": 15,
   "metadata": {
    "collapsed": false,
    "scrolled": true
   },
   "outputs": [
    {
     "name": "stdout",
     "output_type": "stream",
     "text": [
      "Processing images/0 2AAAAAA_25.jpg...\n"
     ]
    }
   ],
   "source": [
    "features = extract_features(list_images)"
   ]
  },
  {
   "cell_type": "code",
   "execution_count": 16,
   "metadata": {
    "collapsed": false
   },
   "outputs": [
    {
     "data": {
      "text/plain": [
       "array([[ 0.47068241,  0.08945829,  0.13366611, ...,  0.05383435,\n",
       "         0.03009292,  0.63443828],\n",
       "       [ 0.22226571,  0.08672577,  0.12418786, ...,  0.06292149,\n",
       "         0.08584104,  0.27584559],\n",
       "       [ 0.39227298,  0.07663888,  0.07541997, ...,  0.02165406,\n",
       "         0.06384122,  0.87337971],\n",
       "       [ 0.23266368,  0.0678314 ,  0.05158469, ...,  0.04112912,\n",
       "         0.04910438,  0.96127439],\n",
       "       [ 0.2510545 ,  0.09800744,  0.13347431, ...,  0.03023705,\n",
       "         0.05948213,  0.9251731 ],\n",
       "       [ 0.29402694,  0.10031941,  0.08089177, ...,  0.05623374,\n",
       "         0.04242386,  0.84614938]])"
      ]
     },
     "execution_count": 16,
     "metadata": {},
     "output_type": "execute_result"
    }
   ],
   "source": [
    "features"
   ]
  },
  {
   "cell_type": "code",
   "execution_count": 17,
   "metadata": {
    "collapsed": false
   },
   "outputs": [],
   "source": [
    "def extract_features_from_dir(path):\n",
    "    \n",
    "    # filtered_images = path + '/.jpg'\n",
    "    image_all = glob.glob(os.path.join(path, '*.jpg'))\n",
    "    filtered_images = [image for image in image_all if 'Recombination' in image]\n",
    "\n",
    "    return filtered_images"
   ]
  },
  {
   "cell_type": "code",
   "execution_count": 18,
   "metadata": {
    "collapsed": false
   },
   "outputs": [],
   "source": [
    "images = extract_features_from_dir('./images/CL0401/2A/CL0401_2A_c0/')"
   ]
  },
  {
   "cell_type": "code",
   "execution_count": 19,
   "metadata": {
    "collapsed": false
   },
   "outputs": [],
   "source": [
    "test = [dir_names for dir_names in os.listdir('./images/CL0401/2A/') if os.path.isdir(os.path.join('./images/CL0401/2A/', dir_names))]"
   ]
  },
  {
   "cell_type": "code",
   "execution_count": 20,
   "metadata": {
    "collapsed": false,
    "scrolled": true
   },
   "outputs": [
    {
     "data": {
      "text/plain": [
       "array([0, 0, 0, 0, 0, 0, 0, 0, 0, 0])"
      ]
     },
     "execution_count": 20,
     "metadata": {},
     "output_type": "execute_result"
    }
   ],
   "source": [
    "np.array(list(test[0].split('_')[-1][1]) * 10, dtype=int)"
   ]
  },
  {
   "cell_type": "code",
   "execution_count": 21,
   "metadata": {
    "collapsed": true
   },
   "outputs": [],
   "source": [
    "def extract_features_from_angle(path):\n",
    "    \n",
    "    angle_dir_names = [dir_names for dir_names in os.listdir(path) if os.path.isdir(os.path.join(path, dir_names))]\n",
    "    \n",
    "    features_in_angle = []\n",
    "    labels_in_angle = []\n",
    "    for class_dir in angle_dir_names:\n",
    "        \n",
    "        \n",
    "        images_list = extract_features_from_dir(os.path.join(path, class_dir))\n",
    "        print 'there are {} images inside {}'.format(len(images_list), class_dir)\n",
    "        # transform feature from exist model\n",
    "        features = extract_features(images_list)\n",
    "        labels = list(class_dir.split('_')[-1][1]) * len(images_list)\n",
    "        \n",
    "        # \n",
    "        features_in_angle.append(features)\n",
    "        labels_in_angle.append(labels)\n",
    "        \n",
    "        # \n",
    "    features_final = np.concatenate(features_in_angle)\n",
    "    labels_final = np.concatenate(labels_in_angle)\n",
    "        \n",
    "    return features_final, labels_final"
   ]
  },
  {
   "cell_type": "code",
   "execution_count": null,
   "metadata": {
    "collapsed": true
   },
   "outputs": [],
   "source": [
    "def extract_features_from_defect(path):\n",
    "    "
   ]
  },
  {
   "cell_type": "code",
   "execution_count": 22,
   "metadata": {
    "collapsed": false,
    "scrolled": true
   },
   "outputs": [
    {
     "name": "stdout",
     "output_type": "stream",
     "text": [
      "there are 26 images inside CL0401_2A_c0\n",
      "Processing ./images/CL0401/2A/CL0401_2A_c0/CL0401_Recombination_0_2A_0.jpg...\n",
      "there are 40 images inside CL0401_2A_c4\n",
      "Processing ./images/CL0401/2A/CL0401_2A_c4/CL0401_Recombination_F3Y64930RR4H3RNA_2A_0.jpg...\n",
      "there are 40 images inside CL0401_2A_c7\n",
      "Processing ./images/CL0401/2A/CL0401_2A_c7/CL0401_Recombination_F3Y64750DCRH3RPA_2A_0.jpg...\n"
     ]
    }
   ],
   "source": [
    "features, labels = extract_features_from_angle('./images/CL0401/2A/')"
   ]
  },
  {
   "cell_type": "code",
   "execution_count": 23,
   "metadata": {
    "collapsed": false
   },
   "outputs": [
    {
     "data": {
      "text/plain": [
       "(106, 2048)"
      ]
     },
     "execution_count": 23,
     "metadata": {},
     "output_type": "execute_result"
    }
   ],
   "source": [
    "features.shape"
   ]
  },
  {
   "cell_type": "code",
   "execution_count": 24,
   "metadata": {
    "collapsed": false,
    "scrolled": true
   },
   "outputs": [
    {
     "data": {
      "text/plain": [
       "array(['0', '0', '0', '0', '0', '0', '0', '0', '0', '0', '0', '0', '0',\n",
       "       '0', '0', '0', '0', '0', '0', '0', '0', '0', '0', '0', '0', '0',\n",
       "       '4', '4', '4', '4', '4', '4', '4', '4', '4', '4', '4', '4', '4',\n",
       "       '4', '4', '4', '4', '4', '4', '4', '4', '4', '4', '4', '4', '4',\n",
       "       '4', '4', '4', '4', '4', '4', '4', '4', '4', '4', '4', '4', '4',\n",
       "       '4', '7', '7', '7', '7', '7', '7', '7', '7', '7', '7', '7', '7',\n",
       "       '7', '7', '7', '7', '7', '7', '7', '7', '7', '7', '7', '7', '7',\n",
       "       '7', '7', '7', '7', '7', '7', '7', '7', '7', '7', '7', '7', '7',\n",
       "       '7', '7'], \n",
       "      dtype='|S1')"
      ]
     },
     "execution_count": 24,
     "metadata": {},
     "output_type": "execute_result"
    }
   ],
   "source": [
    "labels"
   ]
  },
  {
   "cell_type": "code",
   "execution_count": 25,
   "metadata": {
    "collapsed": false,
    "scrolled": false
   },
   "outputs": [
    {
     "name": "stderr",
     "output_type": "stream",
     "text": [
      "/Users/hadoop1/.virtualenvs/cv/lib/python2.7/site-packages/sklearn/cross_validation.py:44: DeprecationWarning: This module was deprecated in version 0.18 in favor of the model_selection module into which all the refactored classes and functions are moved. Also note that the interface of the new CV iterators are different from that of this module. This module will be removed in 0.20.\n",
      "  \"This module will be removed in 0.20.\", DeprecationWarning)\n",
      "/Users/hadoop1/.virtualenvs/cv/lib/python2.7/site-packages/sklearn/grid_search.py:43: DeprecationWarning: This module was deprecated in version 0.18 in favor of the model_selection module into which all the refactored classes and functions are moved. This module will be removed in 0.20.\n",
      "  DeprecationWarning)\n"
     ]
    }
   ],
   "source": [
    "import os\n",
    "import sklearn\n",
    "from sklearn import cross_validation, grid_search\n",
    "from sklearn.model_selection import train_test_split\n",
    "from sklearn.metrics import confusion_matrix, classification_report\n",
    "from sklearn.svm import SVC\n",
    "from sklearn.externals import joblib"
   ]
  },
  {
   "cell_type": "code",
   "execution_count": 26,
   "metadata": {
    "collapsed": true
   },
   "outputs": [],
   "source": [
    "import os\n",
    "import sklearn\n",
    "from sklearn import cross_validation, grid_search\n",
    "from sklearn.model_selection import train_test_split\n",
    "from sklearn.metrics import confusion_matrix, classification_report\n",
    "from sklearn.svm import SVC\n",
    "from sklearn.externals import joblib\n",
    "\n",
    "def train_svm_classifier(features, labels, model_output_path):\n",
    "    '''train a svm classifier and saved the SVM model, report the classification performance\n",
    "    \n",
    "    Notes:\n",
    "    \n",
    "    Args:\n",
    "        features: array of input features\n",
    "        labels: array of labels associated with the input features\n",
    "        model_output_path: path for storing the trained svm model\n",
    "    \n",
    "    Return:\n",
    "    \n",
    "    '''\n",
    "    X_train, X_test, y_train, y_test = train_test_split(features, labels)\n",
    "    \n",
    "    params = [\n",
    "        {\n",
    "            \"kernel\": [\"linear\"],\n",
    "            \"C\": [1, 10, 100, 1000]\n",
    "        },\n",
    "        {\n",
    "            \"kernel\": [\"rbf\"],\n",
    "            \"C\": [1, 10, 100, 1000],\n",
    "            \"gamma\": [1e-2, 1e-3, 1e-4, 1e-5]\n",
    "        }\n",
    "    ]\n",
    "    \n",
    "    svm = SVC(probability=True)\n",
    "    \n",
    "    clf = grid_search.GridSearchCV(svm, params,\n",
    "                                  cv=5, verbose=3)\n",
    "    \n",
    "    clf.fit(X_train, y_train)\n",
    "    \n",
    "    if os.path.exists(model_output_path):\n",
    "        joblib.dump(clf.best_estimator_, model_output_path)\n",
    "    else:\n",
    "        print('Cannot save trained svm model to {}'.format(model_output_path))\n",
    "        \n",
    "    print(\"\\nBest parameters set:\")\n",
    "    print(clf.best_estimator_)\n",
    "    \n",
    "    y_predict = clf.predict(X_test)\n",
    "    labels=sorted(list(set(labels)))\n",
    "    print(\"\\nConfusion matrix:\")\n",
    "    print(\"Labels: {}\\n\".format(\",\".join(labels)))\n",
    "    print(confusion_matrix(y_test, y_predict, labels=labels))\n",
    "    \n",
    "    print(\"\\nClassification report:\")\n",
    "    print classification_report(y_test, y_predict)\n",
    "    "
   ]
  },
  {
   "cell_type": "code",
   "execution_count": 28,
   "metadata": {
    "collapsed": false
   },
   "outputs": [
    {
     "name": "stdout",
     "output_type": "stream",
     "text": [
      "Fitting 5 folds for each of 20 candidates, totalling 100 fits\n",
      "[CV] kernel=linear, C=1 ..............................................\n",
      "[CV] ..................... kernel=linear, C=1, score=1.000000 -   0.0s\n",
      "[CV] kernel=linear, C=1 ..............................................\n",
      "[CV] ..................... kernel=linear, C=1, score=1.000000 -   0.0s\n",
      "[CV] kernel=linear, C=1 ..............................................\n",
      "[CV] ..................... kernel=linear, C=1, score=1.000000 -   0.0s\n",
      "[CV] kernel=linear, C=1 ..............................................\n",
      "[CV] ..................... kernel=linear, C=1, score=1.000000 -   0.0s\n",
      "[CV] kernel=linear, C=1 ..............................................\n",
      "[CV] ..................... kernel=linear, C=1, score=1.000000 -   0.0s\n",
      "[CV] kernel=linear, C=10 .............................................\n",
      "[CV] .................... kernel=linear, C=10, score=1.000000 -   0.0s\n",
      "[CV] kernel=linear, C=10 .............................................\n",
      "[CV] .................... kernel=linear, C=10, score=1.000000 -   0.0s"
     ]
    },
    {
     "name": "stderr",
     "output_type": "stream",
     "text": [
      "[Parallel(n_jobs=1)]: Done   1 out of   1 | elapsed:    0.0s remaining:    0.0s\n",
      "[Parallel(n_jobs=1)]: Done   2 out of   2 | elapsed:    0.1s remaining:    0.0s\n"
     ]
    },
    {
     "name": "stdout",
     "output_type": "stream",
     "text": [
      "\n",
      "[CV] kernel=linear, C=10 .............................................\n",
      "[CV] .................... kernel=linear, C=10, score=1.000000 -   0.0s\n",
      "[CV] kernel=linear, C=10 .............................................\n",
      "[CV] .................... kernel=linear, C=10, score=1.000000 -   0.0s\n",
      "[CV] kernel=linear, C=10 .............................................\n",
      "[CV] .................... kernel=linear, C=10, score=1.000000 -   0.0s\n",
      "[CV] kernel=linear, C=100 ............................................\n",
      "[CV] ................... kernel=linear, C=100, score=1.000000 -   0.0s\n",
      "[CV] kernel=linear, C=100 ............................................\n",
      "[CV] ................... kernel=linear, C=100, score=1.000000 -   0.0s\n",
      "[CV] kernel=linear, C=100 ............................................\n",
      "[CV] ................... kernel=linear, C=100, score=1.000000 -   0.0s\n",
      "[CV] kernel=linear, C=100 ............................................\n",
      "[CV] ................... kernel=linear, C=100, score=1.000000 -   0.0s\n",
      "[CV] kernel=linear, C=100 ............................................\n",
      "[CV] ................... kernel=linear, C=100, score=1.000000 -   0.0s\n",
      "[CV] kernel=linear, C=1000 ...........................................\n",
      "[CV] .................. kernel=linear, C=1000, score=1.000000 -   0.0s\n",
      "[CV] kernel=linear, C=1000 ...........................................\n",
      "[CV] .................. kernel=linear, C=1000, score=1.000000 -   0.0s\n",
      "[CV] kernel=linear, C=1000 ...........................................\n",
      "[CV] .................. kernel=linear, C=1000, score=1.000000 -   0.0s\n",
      "[CV] kernel=linear, C=1000 ...........................................\n",
      "[CV] .................. kernel=linear, C=1000, score=1.000000 -   0.0s\n",
      "[CV] kernel=linear, C=1000 ...........................................\n",
      "[CV] .................. kernel=linear, C=1000, score=1.000000 -   0.0s\n",
      "[CV] kernel=rbf, C=1, gamma=0.01 .....................................\n",
      "[CV] ............ kernel=rbf, C=1, gamma=0.01, score=1.000000 -   0.0s\n",
      "[CV] kernel=rbf, C=1, gamma=0.01 .....................................\n",
      "[CV] ............ kernel=rbf, C=1, gamma=0.01, score=1.000000 -   0.0s\n",
      "[CV] kernel=rbf, C=1, gamma=0.01 .....................................\n",
      "[CV] ............ kernel=rbf, C=1, gamma=0.01, score=1.000000 -   0.0s\n",
      "[CV] kernel=rbf, C=1, gamma=0.01 .....................................\n",
      "[CV] ............ kernel=rbf, C=1, gamma=0.01, score=1.000000 -   0.0s\n",
      "[CV] kernel=rbf, C=1, gamma=0.01 .....................................\n",
      "[CV] ............ kernel=rbf, C=1, gamma=0.01, score=1.000000 -   0.0s\n",
      "[CV] kernel=rbf, C=1, gamma=0.001 ....................................\n",
      "[CV] ........... kernel=rbf, C=1, gamma=0.001, score=0.705882 -   0.0s\n",
      "[CV] kernel=rbf, C=1, gamma=0.001 ....................................\n",
      "[CV] ........... kernel=rbf, C=1, gamma=0.001, score=0.687500 -   0.0s\n",
      "[CV] kernel=rbf, C=1, gamma=0.001 ....................................\n",
      "[CV] ........... kernel=rbf, C=1, gamma=0.001, score=0.812500 -   0.0s\n",
      "[CV] kernel=rbf, C=1, gamma=0.001 ....................................\n",
      "[CV] ........... kernel=rbf, C=1, gamma=0.001, score=0.933333 -   0.0s\n",
      "[CV] kernel=rbf, C=1, gamma=0.001 ....................................\n",
      "[CV] ........... kernel=rbf, C=1, gamma=0.001, score=0.933333 -   0.0s\n",
      "[CV] kernel=rbf, C=1, gamma=0.0001 ...................................\n",
      "[CV] .......... kernel=rbf, C=1, gamma=0.0001, score=0.352941 -   0.0s\n",
      "[CV] kernel=rbf, C=1, gamma=0.0001 ...................................\n",
      "[CV] .......... kernel=rbf, C=1, gamma=0.0001, score=0.375000 -   0.0s\n",
      "[CV] kernel=rbf, C=1, gamma=0.0001 ...................................\n",
      "[CV] .......... kernel=rbf, C=1, gamma=0.0001, score=0.375000 -   0.0s\n",
      "[CV] kernel=rbf, C=1, gamma=0.0001 ...................................\n",
      "[CV] .......... kernel=rbf, C=1, gamma=0.0001, score=0.400000 -   0.0s\n",
      "[CV] kernel=rbf, C=1, gamma=0.0001 ...................................\n",
      "[CV] .......... kernel=rbf, C=1, gamma=0.0001, score=0.400000 -   0.0s\n",
      "[CV] kernel=rbf, C=1, gamma=1e-05 ....................................\n",
      "[CV] ........... kernel=rbf, C=1, gamma=1e-05, score=0.352941 -   0.0s\n",
      "[CV] kernel=rbf, C=1, gamma=1e-05 ....................................\n",
      "[CV] ........... kernel=rbf, C=1, gamma=1e-05, score=0.375000 -   0.0s\n",
      "[CV] kernel=rbf, C=1, gamma=1e-05 ....................................\n",
      "[CV] ........... kernel=rbf, C=1, gamma=1e-05, score=0.375000 -   0.0s\n",
      "[CV] kernel=rbf, C=1, gamma=1e-05 ....................................\n",
      "[CV] ........... kernel=rbf, C=1, gamma=1e-05, score=0.400000 -   0.0s\n",
      "[CV] kernel=rbf, C=1, gamma=1e-05 ....................................\n",
      "[CV] ........... kernel=rbf, C=1, gamma=1e-05, score=0.400000 -   0.0s\n",
      "[CV] kernel=rbf, C=10, gamma=0.01 ....................................\n",
      "[CV] ........... kernel=rbf, C=10, gamma=0.01, score=1.000000 -   0.0s\n",
      "[CV] kernel=rbf, C=10, gamma=0.01 ....................................\n",
      "[CV] ........... kernel=rbf, C=10, gamma=0.01, score=1.000000 -   0.0s\n",
      "[CV] kernel=rbf, C=10, gamma=0.01 ....................................\n",
      "[CV] ........... kernel=rbf, C=10, gamma=0.01, score=1.000000 -   0.0s\n",
      "[CV] kernel=rbf, C=10, gamma=0.01 ....................................\n",
      "[CV] ........... kernel=rbf, C=10, gamma=0.01, score=1.000000 -   0.0s\n",
      "[CV] kernel=rbf, C=10, gamma=0.01 ....................................\n",
      "[CV] ........... kernel=rbf, C=10, gamma=0.01, score=1.000000 -   0.0s\n",
      "[CV] kernel=rbf, C=10, gamma=0.001 ...................................\n",
      "[CV] .......... kernel=rbf, C=10, gamma=0.001, score=1.000000 -   0.0s\n",
      "[CV] kernel=rbf, C=10, gamma=0.001 ...................................\n",
      "[CV] .......... kernel=rbf, C=10, gamma=0.001, score=1.000000 -   0.0s\n",
      "[CV] kernel=rbf, C=10, gamma=0.001 ...................................\n",
      "[CV] .......... kernel=rbf, C=10, gamma=0.001, score=1.000000 -   0.0s\n",
      "[CV] kernel=rbf, C=10, gamma=0.001 ...................................\n",
      "[CV] .......... kernel=rbf, C=10, gamma=0.001, score=1.000000 -   0.0s\n",
      "[CV] kernel=rbf, C=10, gamma=0.001 ...................................\n",
      "[CV] .......... kernel=rbf, C=10, gamma=0.001, score=1.000000 -   0.0s\n",
      "[CV] kernel=rbf, C=10, gamma=0.0001 ..................................\n",
      "[CV] ......... kernel=rbf, C=10, gamma=0.0001, score=0.764706 -   0.0s\n",
      "[CV] kernel=rbf, C=10, gamma=0.0001 ..................................\n",
      "[CV] ......... kernel=rbf, C=10, gamma=0.0001, score=0.812500 -   0.0s\n",
      "[CV] kernel=rbf, C=10, gamma=0.0001 ..................................\n",
      "[CV] ......... kernel=rbf, C=10, gamma=0.0001, score=0.875000 -   0.0s\n",
      "[CV] kernel=rbf, C=10, gamma=0.0001 ..................................\n",
      "[CV] ......... kernel=rbf, C=10, gamma=0.0001, score=0.933333 -   0.0s\n",
      "[CV] kernel=rbf, C=10, gamma=0.0001 ..................................\n",
      "[CV] ......... kernel=rbf, C=10, gamma=0.0001, score=0.933333 -   0.0s\n",
      "[CV] kernel=rbf, C=10, gamma=1e-05 ...................................\n",
      "[CV] .......... kernel=rbf, C=10, gamma=1e-05, score=0.352941 -   0.0s\n",
      "[CV] kernel=rbf, C=10, gamma=1e-05 ...................................\n",
      "[CV] .......... kernel=rbf, C=10, gamma=1e-05, score=0.375000 -   0.0s\n",
      "[CV] kernel=rbf, C=10, gamma=1e-05 ...................................\n",
      "[CV] .......... kernel=rbf, C=10, gamma=1e-05, score=0.375000 -   0.0s\n",
      "[CV] kernel=rbf, C=10, gamma=1e-05 ...................................\n",
      "[CV] .......... kernel=rbf, C=10, gamma=1e-05, score=0.400000 -   0.0s\n",
      "[CV] kernel=rbf, C=10, gamma=1e-05 ...................................\n",
      "[CV] .......... kernel=rbf, C=10, gamma=1e-05, score=0.400000 -   0.0s\n",
      "[CV] kernel=rbf, C=100, gamma=0.01 ...................................\n",
      "[CV] .......... kernel=rbf, C=100, gamma=0.01, score=1.000000 -   0.0s\n",
      "[CV] kernel=rbf, C=100, gamma=0.01 ...................................\n",
      "[CV] .......... kernel=rbf, C=100, gamma=0.01, score=1.000000 -   0.0s\n",
      "[CV] kernel=rbf, C=100, gamma=0.01 ...................................\n",
      "[CV] .......... kernel=rbf, C=100, gamma=0.01, score=1.000000 -   0.0s\n",
      "[CV] kernel=rbf, C=100, gamma=0.01 ...................................\n",
      "[CV] .......... kernel=rbf, C=100, gamma=0.01, score=1.000000 -   0.0s\n",
      "[CV] kernel=rbf, C=100, gamma=0.01 ...................................\n",
      "[CV] .......... kernel=rbf, C=100, gamma=0.01, score=1.000000 -   0.0s\n",
      "[CV] kernel=rbf, C=100, gamma=0.001 ..................................\n",
      "[CV] ......... kernel=rbf, C=100, gamma=0.001, score=1.000000 -   0.0s\n",
      "[CV] kernel=rbf, C=100, gamma=0.001 ..................................\n",
      "[CV] ......... kernel=rbf, C=100, gamma=0.001, score=1.000000 -   0.0s\n",
      "[CV] kernel=rbf, C=100, gamma=0.001 ..................................\n",
      "[CV] ......... kernel=rbf, C=100, gamma=0.001, score=1.000000 -   0.0s\n",
      "[CV] kernel=rbf, C=100, gamma=0.001 ..................................\n",
      "[CV] ......... kernel=rbf, C=100, gamma=0.001, score=1.000000 -   0.0s\n",
      "[CV] kernel=rbf, C=100, gamma=0.001 ..................................\n",
      "[CV] ......... kernel=rbf, C=100, gamma=0.001, score=1.000000 -   0.0s\n",
      "[CV] kernel=rbf, C=100, gamma=0.0001 .................................\n",
      "[CV] ........ kernel=rbf, C=100, gamma=0.0001, score=1.000000 -   0.0s\n",
      "[CV] kernel=rbf, C=100, gamma=0.0001 .................................\n",
      "[CV] ........ kernel=rbf, C=100, gamma=0.0001, score=1.000000 -   0.0s\n",
      "[CV] kernel=rbf, C=100, gamma=0.0001 .................................\n",
      "[CV] ........ kernel=rbf, C=100, gamma=0.0001, score=1.000000 -   0.0s\n",
      "[CV] kernel=rbf, C=100, gamma=0.0001 .................................\n",
      "[CV] ........ kernel=rbf, C=100, gamma=0.0001, score=1.000000 -   0.0s\n",
      "[CV] kernel=rbf, C=100, gamma=0.0001 .................................\n",
      "[CV] ........ kernel=rbf, C=100, gamma=0.0001, score=1.000000 -   0.0s\n",
      "[CV] kernel=rbf, C=100, gamma=1e-05 ..................................\n",
      "[CV] ......... kernel=rbf, C=100, gamma=1e-05, score=0.764706 -   0.0s\n",
      "[CV] kernel=rbf, C=100, gamma=1e-05 ..................................\n",
      "[CV] ......... kernel=rbf, C=100, gamma=1e-05, score=0.812500 -   0.0s\n",
      "[CV] kernel=rbf, C=100, gamma=1e-05 ..................................\n",
      "[CV] ......... kernel=rbf, C=100, gamma=1e-05, score=0.875000 -   0.0s\n",
      "[CV] kernel=rbf, C=100, gamma=1e-05 ..................................\n",
      "[CV] ......... kernel=rbf, C=100, gamma=1e-05, score=0.933333 -   0.0s\n",
      "[CV] kernel=rbf, C=100, gamma=1e-05 ..................................\n",
      "[CV] ......... kernel=rbf, C=100, gamma=1e-05, score=1.000000 -   0.0s\n",
      "[CV] kernel=rbf, C=1000, gamma=0.01 ..................................\n",
      "[CV] ......... kernel=rbf, C=1000, gamma=0.01, score=1.000000 -   0.0s\n",
      "[CV] kernel=rbf, C=1000, gamma=0.01 ..................................\n",
      "[CV] ......... kernel=rbf, C=1000, gamma=0.01, score=1.000000 -   0.0s\n",
      "[CV] kernel=rbf, C=1000, gamma=0.01 ..................................\n",
      "[CV] ......... kernel=rbf, C=1000, gamma=0.01, score=1.000000 -   0.0s\n",
      "[CV] kernel=rbf, C=1000, gamma=0.01 ..................................\n",
      "[CV] ......... kernel=rbf, C=1000, gamma=0.01, score=1.000000 -   0.0s\n",
      "[CV] kernel=rbf, C=1000, gamma=0.01 ..................................\n",
      "[CV] ......... kernel=rbf, C=1000, gamma=0.01, score=1.000000 -   0.0s\n",
      "[CV] kernel=rbf, C=1000, gamma=0.001 .................................\n",
      "[CV] ........ kernel=rbf, C=1000, gamma=0.001, score=1.000000 -   0.0s\n",
      "[CV] kernel=rbf, C=1000, gamma=0.001 .................................\n",
      "[CV] ........ kernel=rbf, C=1000, gamma=0.001, score=1.000000 -   0.0s\n",
      "[CV] kernel=rbf, C=1000, gamma=0.001 .................................\n",
      "[CV] ........ kernel=rbf, C=1000, gamma=0.001, score=1.000000 -   0.0s\n",
      "[CV] kernel=rbf, C=1000, gamma=0.001 .................................\n",
      "[CV] ........ kernel=rbf, C=1000, gamma=0.001, score=1.000000 -   0.0s\n",
      "[CV] kernel=rbf, C=1000, gamma=0.001 .................................\n",
      "[CV] ........ kernel=rbf, C=1000, gamma=0.001, score=1.000000 -   0.0s\n",
      "[CV] kernel=rbf, C=1000, gamma=0.0001 ................................\n",
      "[CV] ....... kernel=rbf, C=1000, gamma=0.0001, score=1.000000 -   0.0s\n",
      "[CV] kernel=rbf, C=1000, gamma=0.0001 ................................\n",
      "[CV] ....... kernel=rbf, C=1000, gamma=0.0001, score=1.000000 -   0.0s\n",
      "[CV] kernel=rbf, C=1000, gamma=0.0001 ................................\n",
      "[CV] ....... kernel=rbf, C=1000, gamma=0.0001, score=1.000000 -   0.0s\n",
      "[CV] kernel=rbf, C=1000, gamma=0.0001 ................................\n",
      "[CV] ....... kernel=rbf, C=1000, gamma=0.0001, score=1.000000 -   0.0s\n",
      "[CV] kernel=rbf, C=1000, gamma=0.0001 ................................\n",
      "[CV] ....... kernel=rbf, C=1000, gamma=0.0001, score=1.000000 -   0.0s\n",
      "[CV] kernel=rbf, C=1000, gamma=1e-05 .................................\n",
      "[CV] ........ kernel=rbf, C=1000, gamma=1e-05, score=1.000000 -   0.0s\n",
      "[CV] kernel=rbf, C=1000, gamma=1e-05 .................................\n",
      "[CV] ........ kernel=rbf, C=1000, gamma=1e-05, score=1.000000 -   0.0s\n",
      "[CV] kernel=rbf, C=1000, gamma=1e-05 .................................\n",
      "[CV] ........ kernel=rbf, C=1000, gamma=1e-05, score=1.000000 -   0.0s\n",
      "[CV] kernel=rbf, C=1000, gamma=1e-05 .................................\n",
      "[CV] ........ kernel=rbf, C=1000, gamma=1e-05, score=1.000000 -   0.0s\n",
      "[CV] kernel=rbf, C=1000, gamma=1e-05 .................................\n",
      "[CV] ........ kernel=rbf, C=1000, gamma=1e-05, score=1.000000 -   0.0s\n",
      "Cannot save trained svm model to ./models/model.model\n",
      "\n",
      "Best parameters set:\n",
      "SVC(C=1, cache_size=200, class_weight=None, coef0=0.0,\n",
      "  decision_function_shape=None, degree=3, gamma='auto', kernel='linear',\n",
      "  max_iter=-1, probability=True, random_state=None, shrinking=True,\n",
      "  tol=0.001, verbose=False)\n",
      "\n",
      "Confusion matrix:\n",
      "Labels: 0,4,7\n",
      "\n",
      "[[ 3  0  0]\n",
      " [ 0 14  0]\n",
      " [ 0  0 10]]\n",
      "\n",
      "Classification report:\n",
      "             precision    recall  f1-score   support\n",
      "\n",
      "          0       1.00      1.00      1.00         3\n",
      "          4       1.00      1.00      1.00        14\n",
      "          7       1.00      1.00      1.00        10\n",
      "\n",
      "avg / total       1.00      1.00      1.00        27\n",
      "\n"
     ]
    },
    {
     "name": "stderr",
     "output_type": "stream",
     "text": [
      "[Parallel(n_jobs=1)]: Done 100 out of 100 | elapsed:    3.9s finished\n"
     ]
    }
   ],
   "source": [
    "train_svm_classifier(features, labels, './models/model.model')"
   ]
  },
  {
   "cell_type": "code",
   "execution_count": 30,
   "metadata": {
    "collapsed": false
   },
   "outputs": [
    {
     "data": {
      "text/plain": [
       "array([[ 0.39227298,  0.07663888,  0.07541997, ...,  0.02165406,\n",
       "         0.06384122,  0.87337971],\n",
       "       [ 0.23266368,  0.0678314 ,  0.05158469, ...,  0.04112912,\n",
       "         0.04910438,  0.96127439],\n",
       "       [ 0.22793266,  0.0587802 ,  0.05655023, ...,  0.11125222,\n",
       "         0.05073248,  0.83596504],\n",
       "       ..., \n",
       "       [ 0.35035211,  0.02351124,  0.07087517, ...,  0.10144753,\n",
       "         0.05265206,  0.33449203],\n",
       "       [ 0.28047884,  0.03615147,  0.05085311, ...,  0.06710065,\n",
       "         0.01601846,  0.28027076],\n",
       "       [ 0.38363209,  0.05869427,  0.06008301, ...,  0.11713807,\n",
       "         0.00221416,  0.32631245]])"
      ]
     },
     "execution_count": 30,
     "metadata": {},
     "output_type": "execute_result"
    }
   ],
   "source": [
    "features"
   ]
  },
  {
   "cell_type": "code",
   "execution_count": 32,
   "metadata": {
    "collapsed": false
   },
   "outputs": [],
   "source": [
    "import numpy as np\n",
    "import matplotlib.pyplot as plt\n",
    "from tsne import bh_sne"
   ]
  },
  {
   "cell_type": "code",
   "execution_count": 33,
   "metadata": {
    "collapsed": false
   },
   "outputs": [
    {
     "data": {
      "text/plain": [
       "dtype('float64')"
      ]
     },
     "execution_count": 33,
     "metadata": {},
     "output_type": "execute_result"
    }
   ],
   "source": [
    "features.dtype"
   ]
  },
  {
   "cell_type": "code",
   "execution_count": 34,
   "metadata": {
    "collapsed": true
   },
   "outputs": [],
   "source": [
    "vis_data = bh_sne(features)"
   ]
  },
  {
   "cell_type": "code",
   "execution_count": 36,
   "metadata": {
    "collapsed": false
   },
   "outputs": [],
   "source": [
    "vis_x = vis_data[:, 0]\n",
    "vis_y = vis_data[:, 1]"
   ]
  },
  {
   "cell_type": "code",
   "execution_count": 38,
   "metadata": {
    "collapsed": true
   },
   "outputs": [],
   "source": [
    "plt.style.use('ggplot')"
   ]
  },
  {
   "cell_type": "code",
   "execution_count": 42,
   "metadata": {
    "collapsed": false
   },
   "outputs": [
    {
     "data": {
      "text/plain": [
       "(106, 2048)"
      ]
     },
     "execution_count": 42,
     "metadata": {},
     "output_type": "execute_result"
    }
   ],
   "source": [
    "features.shape"
   ]
  },
  {
   "cell_type": "code",
   "execution_count": 43,
   "metadata": {
    "collapsed": false
   },
   "outputs": [
    {
     "data": {
      "text/plain": [
       "array(['0', '0', '0', '0', '0', '0', '0', '0', '0', '0', '0', '0', '0',\n",
       "       '0', '0', '0', '0', '0', '0', '0', '0', '0', '0', '0', '0', '0',\n",
       "       '4', '4', '4', '4', '4', '4', '4', '4', '4', '4', '4', '4', '4',\n",
       "       '4', '4', '4', '4', '4', '4', '4', '4', '4', '4', '4', '4', '4',\n",
       "       '4', '4', '4', '4', '4', '4', '4', '4', '4', '4', '4', '4', '4',\n",
       "       '4', '7', '7', '7', '7', '7', '7', '7', '7', '7', '7', '7', '7',\n",
       "       '7', '7', '7', '7', '7', '7', '7', '7', '7', '7', '7', '7', '7',\n",
       "       '7', '7', '7', '7', '7', '7', '7', '7', '7', '7', '7', '7', '7',\n",
       "       '7', '7'], \n",
       "      dtype='|S1')"
      ]
     },
     "execution_count": 43,
     "metadata": {},
     "output_type": "execute_result"
    }
   ],
   "source": [
    "labels"
   ]
  },
  {
   "cell_type": "code",
   "execution_count": 39,
   "metadata": {
    "collapsed": false
   },
   "outputs": [
    {
     "data": {
      "image/png": "[encoded data removed]",
      "text/plain": [
       "<matplotlib.figure.Figure at 0x11ae18110>"
      ]
     },
     "metadata": {},
     "output_type": "display_data"
    }
   ],
   "source": [
    "plt.scatter(vis_x, vis_y, c=labels, cmap=plt.cm.get_cmap('jet', 10))\n",
    "plt.colorbar(ticks=range(10))\n",
    "plt.clim(-0.5, 9.5)\n",
    "plt.show()"
   ]
  },
  {
   "cell_type": "code",
   "execution_count": 40,
   "metadata": {
    "collapsed": false
   },
   "outputs": [
    {
     "data": {
      "text/plain": [
       "array(['0', '0', '0', '0', '0', '0', '0', '0', '0', '0', '0', '0', '0',\n",
       "       '0', '0', '0', '0', '0', '0', '0', '0', '0', '0', '0', '0', '0',\n",
       "       '4', '4', '4', '4', '4', '4', '4', '4', '4', '4', '4', '4', '4',\n",
       "       '4', '4', '4', '4', '4', '4', '4', '4', '4', '4', '4', '4', '4',\n",
       "       '4', '4', '4', '4', '4', '4', '4', '4', '4', '4', '4', '4', '4',\n",
       "       '4', '7', '7', '7', '7', '7', '7', '7', '7', '7', '7', '7', '7',\n",
       "       '7', '7', '7', '7', '7', '7', '7', '7', '7', '7', '7', '7', '7',\n",
       "       '7', '7', '7', '7', '7', '7', '7', '7', '7', '7', '7', '7', '7',\n",
       "       '7', '7'], \n",
       "      dtype='|S1')"
      ]
     },
     "execution_count": 40,
     "metadata": {},
     "output_type": "execute_result"
    }
   ],
   "source": [
    "labels"
   ]
  },
  {
   "cell_type": "code",
   "execution_count": 44,
   "metadata": {
    "collapsed": false
   },
   "outputs": [
    {
     "name": "stdout",
     "output_type": "stream",
     "text": [
      "there are 286 images inside SH0401_2A_c0\n",
      "Processing ./images/SH0401/2A/SH0401_2A_c0/SH0401_Recombination_0_2A_0.jpg...\n",
      "Processing ./images/SH0401/2A/SH0401_2A_c0/SH0401_Recombination_14_2A_12.jpg...\n",
      "Processing ./images/SH0401/2A/SH0401_2A_c0/SH0401_Recombination_5_2A_15.jpg...\n",
      "there are 19 images inside SH0401_2A_c1\n",
      "Processing ./images/SH0401/2A/SH0401_2A_c1/SH0401_Recombination_F3Y64840AZAGY4TA_2A_0.jpg...\n",
      "there are 57 images inside SH0401_2A_c6\n",
      "Processing ./images/SH0401/2A/SH0401_2A_c6/SH0401_Recombination_F3Y64920CWAGY4RA_2A_0.jpg...\n",
      "there are 18 images inside SH0401_2A_c7\n",
      "Processing ./images/SH0401/2A/SH0401_2A_c7/SH0401_Recombination_F3Y6495092JGY4TA_2A_0.jpg...\n"
     ]
    }
   ],
   "source": [
    "features, labels = extract_features_from_angle('./images/SH0401/2A/')"
   ]
  },
  {
   "cell_type": "code",
   "execution_count": 45,
   "metadata": {
    "collapsed": false
   },
   "outputs": [
    {
     "name": "stdout",
     "output_type": "stream",
     "text": [
      "Fitting 5 folds for each of 20 candidates, totalling 100 fits\n",
      "[CV] kernel=linear, C=1 ..............................................\n",
      "[CV] ..................... kernel=linear, C=1, score=1.000000 -   0.1s\n",
      "[CV] kernel=linear, C=1 ..............................................\n"
     ]
    },
    {
     "name": "stderr",
     "output_type": "stream",
     "text": [
      "[Parallel(n_jobs=1)]: Done   1 out of   1 | elapsed:    0.1s remaining:    0.0s\n",
      "[Parallel(n_jobs=1)]: Done   2 out of   2 | elapsed:    0.3s remaining:    0.0s\n"
     ]
    },
    {
     "name": "stdout",
     "output_type": "stream",
     "text": [
      "[CV] ..................... kernel=linear, C=1, score=1.000000 -   0.1s\n",
      "[CV] kernel=linear, C=1 ..............................................\n",
      "[CV] ..................... kernel=linear, C=1, score=1.000000 -   0.1s\n",
      "[CV] kernel=linear, C=1 ..............................................\n",
      "[CV] ..................... kernel=linear, C=1, score=1.000000 -   0.1s\n",
      "[CV] kernel=linear, C=1 ..............................................\n",
      "[CV] ..................... kernel=linear, C=1, score=1.000000 -   0.1s\n",
      "[CV] kernel=linear, C=10 .............................................\n",
      "[CV] .................... kernel=linear, C=10, score=1.000000 -   0.1s\n",
      "[CV] kernel=linear, C=10 .............................................\n",
      "[CV] .................... kernel=linear, C=10, score=1.000000 -   0.1s\n",
      "[CV] kernel=linear, C=10 .............................................\n",
      "[CV] .................... kernel=linear, C=10, score=1.000000 -   0.1s\n",
      "[CV] kernel=linear, C=10 .............................................\n",
      "[CV] .................... kernel=linear, C=10, score=1.000000 -   0.1s\n",
      "[CV] kernel=linear, C=10 .............................................\n",
      "[CV] .................... kernel=linear, C=10, score=1.000000 -   0.1s\n",
      "[CV] kernel=linear, C=100 ............................................\n",
      "[CV] ................... kernel=linear, C=100, score=1.000000 -   0.1s\n",
      "[CV] kernel=linear, C=100 ............................................\n",
      "[CV] ................... kernel=linear, C=100, score=1.000000 -   0.1s\n",
      "[CV] kernel=linear, C=100 ............................................\n",
      "[CV] ................... kernel=linear, C=100, score=1.000000 -   0.1s\n",
      "[CV] kernel=linear, C=100 ............................................\n",
      "[CV] ................... kernel=linear, C=100, score=1.000000 -   0.1s\n",
      "[CV] kernel=linear, C=100 ............................................\n",
      "[CV] ................... kernel=linear, C=100, score=1.000000 -   0.1s\n",
      "[CV] kernel=linear, C=1000 ...........................................\n",
      "[CV] .................. kernel=linear, C=1000, score=1.000000 -   0.1s\n",
      "[CV] kernel=linear, C=1000 ...........................................\n",
      "[CV] .................. kernel=linear, C=1000, score=1.000000 -   0.1s\n",
      "[CV] kernel=linear, C=1000 ...........................................\n",
      "[CV] .................. kernel=linear, C=1000, score=1.000000 -   0.1s\n",
      "[CV] kernel=linear, C=1000 ...........................................\n",
      "[CV] .................. kernel=linear, C=1000, score=1.000000 -   0.1s\n",
      "[CV] kernel=linear, C=1000 ...........................................\n",
      "[CV] .................. kernel=linear, C=1000, score=1.000000 -   0.1s\n",
      "[CV] kernel=rbf, C=1, gamma=0.01 .....................................\n",
      "[CV] ............ kernel=rbf, C=1, gamma=0.01, score=1.000000 -   0.2s\n",
      "[CV] kernel=rbf, C=1, gamma=0.01 .....................................\n",
      "[CV] ............ kernel=rbf, C=1, gamma=0.01, score=1.000000 -   0.2s\n",
      "[CV] kernel=rbf, C=1, gamma=0.01 .....................................\n",
      "[CV] ............ kernel=rbf, C=1, gamma=0.01, score=1.000000 -   0.3s\n",
      "[CV] kernel=rbf, C=1, gamma=0.01 .....................................\n",
      "[CV] ............ kernel=rbf, C=1, gamma=0.01, score=1.000000 -   0.2s\n",
      "[CV] kernel=rbf, C=1, gamma=0.01 .....................................\n",
      "[CV] ............ kernel=rbf, C=1, gamma=0.01, score=1.000000 -   0.2s\n",
      "[CV] kernel=rbf, C=1, gamma=0.001 ....................................\n",
      "[CV] ........... kernel=rbf, C=1, gamma=0.001, score=0.931034 -   0.3s\n",
      "[CV] kernel=rbf, C=1, gamma=0.001 ....................................\n",
      "[CV] ........... kernel=rbf, C=1, gamma=0.001, score=0.894737 -   0.3s\n",
      "[CV] kernel=rbf, C=1, gamma=0.001 ....................................\n",
      "[CV] ........... kernel=rbf, C=1, gamma=0.001, score=0.912281 -   0.3s\n",
      "[CV] kernel=rbf, C=1, gamma=0.001 ....................................\n",
      "[CV] ........... kernel=rbf, C=1, gamma=0.001, score=0.912281 -   0.3s\n",
      "[CV] kernel=rbf, C=1, gamma=0.001 ....................................\n",
      "[CV] ........... kernel=rbf, C=1, gamma=0.001, score=0.910714 -   0.3s\n",
      "[CV] kernel=rbf, C=1, gamma=0.0001 ...................................\n",
      "[CV] .......... kernel=rbf, C=1, gamma=0.0001, score=0.741379 -   0.3s\n",
      "[CV] kernel=rbf, C=1, gamma=0.0001 ...................................\n",
      "[CV] .......... kernel=rbf, C=1, gamma=0.0001, score=0.736842 -   0.3s\n",
      "[CV] kernel=rbf, C=1, gamma=0.0001 ...................................\n",
      "[CV] .......... kernel=rbf, C=1, gamma=0.0001, score=0.736842 -   0.3s\n",
      "[CV] kernel=rbf, C=1, gamma=0.0001 ...................................\n",
      "[CV] .......... kernel=rbf, C=1, gamma=0.0001, score=0.736842 -   0.3s\n",
      "[CV] kernel=rbf, C=1, gamma=0.0001 ...................................\n",
      "[CV] .......... kernel=rbf, C=1, gamma=0.0001, score=0.750000 -   0.3s\n",
      "[CV] kernel=rbf, C=1, gamma=1e-05 ....................................\n",
      "[CV] ........... kernel=rbf, C=1, gamma=1e-05, score=0.741379 -   0.3s\n",
      "[CV] kernel=rbf, C=1, gamma=1e-05 ....................................\n",
      "[CV] ........... kernel=rbf, C=1, gamma=1e-05, score=0.736842 -   0.3s\n",
      "[CV] kernel=rbf, C=1, gamma=1e-05 ....................................\n",
      "[CV] ........... kernel=rbf, C=1, gamma=1e-05, score=0.736842 -   0.3s\n",
      "[CV] kernel=rbf, C=1, gamma=1e-05 ....................................\n",
      "[CV] ........... kernel=rbf, C=1, gamma=1e-05, score=0.736842 -   0.3s\n",
      "[CV] kernel=rbf, C=1, gamma=1e-05 ....................................\n",
      "[CV] ........... kernel=rbf, C=1, gamma=1e-05, score=0.750000 -   0.3s\n",
      "[CV] kernel=rbf, C=10, gamma=0.01 ....................................\n",
      "[CV] ........... kernel=rbf, C=10, gamma=0.01, score=1.000000 -   0.2s\n",
      "[CV] kernel=rbf, C=10, gamma=0.01 ....................................\n",
      "[CV] ........... kernel=rbf, C=10, gamma=0.01, score=1.000000 -   0.2s\n",
      "[CV] kernel=rbf, C=10, gamma=0.01 ....................................\n",
      "[CV] ........... kernel=rbf, C=10, gamma=0.01, score=1.000000 -   0.2s\n",
      "[CV] kernel=rbf, C=10, gamma=0.01 ....................................\n",
      "[CV] ........... kernel=rbf, C=10, gamma=0.01, score=1.000000 -   0.2s\n",
      "[CV] kernel=rbf, C=10, gamma=0.01 ....................................\n",
      "[CV] ........... kernel=rbf, C=10, gamma=0.01, score=1.000000 -   0.2s\n",
      "[CV] kernel=rbf, C=10, gamma=0.001 ...................................\n",
      "[CV] .......... kernel=rbf, C=10, gamma=0.001, score=1.000000 -   0.2s\n",
      "[CV] kernel=rbf, C=10, gamma=0.001 ...................................\n",
      "[CV] .......... kernel=rbf, C=10, gamma=0.001, score=1.000000 -   0.2s\n",
      "[CV] kernel=rbf, C=10, gamma=0.001 ...................................\n",
      "[CV] .......... kernel=rbf, C=10, gamma=0.001, score=1.000000 -   0.2s\n",
      "[CV] kernel=rbf, C=10, gamma=0.001 ...................................\n",
      "[CV] .......... kernel=rbf, C=10, gamma=0.001, score=1.000000 -   0.2s\n",
      "[CV] kernel=rbf, C=10, gamma=0.001 ...................................\n",
      "[CV] .......... kernel=rbf, C=10, gamma=0.001, score=1.000000 -   0.2s\n",
      "[CV] kernel=rbf, C=10, gamma=0.0001 ..................................\n",
      "[CV] ......... kernel=rbf, C=10, gamma=0.0001, score=0.931034 -   0.2s\n",
      "[CV] kernel=rbf, C=10, gamma=0.0001 ..................................\n",
      "[CV] ......... kernel=rbf, C=10, gamma=0.0001, score=0.912281 -   0.2s\n",
      "[CV] kernel=rbf, C=10, gamma=0.0001 ..................................\n",
      "[CV] ......... kernel=rbf, C=10, gamma=0.0001, score=0.929825 -   0.2s\n",
      "[CV] kernel=rbf, C=10, gamma=0.0001 ..................................\n",
      "[CV] ......... kernel=rbf, C=10, gamma=0.0001, score=0.929825 -   0.3s\n",
      "[CV] kernel=rbf, C=10, gamma=0.0001 ..................................\n",
      "[CV] ......... kernel=rbf, C=10, gamma=0.0001, score=0.910714 -   0.2s\n",
      "[CV] kernel=rbf, C=10, gamma=1e-05 ...................................\n",
      "[CV] .......... kernel=rbf, C=10, gamma=1e-05, score=0.741379 -   0.3s\n",
      "[CV] kernel=rbf, C=10, gamma=1e-05 ...................................\n",
      "[CV] .......... kernel=rbf, C=10, gamma=1e-05, score=0.736842 -   0.3s\n",
      "[CV] kernel=rbf, C=10, gamma=1e-05 ...................................\n",
      "[CV] .......... kernel=rbf, C=10, gamma=1e-05, score=0.736842 -   0.3s\n",
      "[CV] kernel=rbf, C=10, gamma=1e-05 ...................................\n",
      "[CV] .......... kernel=rbf, C=10, gamma=1e-05, score=0.736842 -   0.3s\n",
      "[CV] kernel=rbf, C=10, gamma=1e-05 ...................................\n",
      "[CV] .......... kernel=rbf, C=10, gamma=1e-05, score=0.750000 -   0.3s\n",
      "[CV] kernel=rbf, C=100, gamma=0.01 ...................................\n",
      "[CV] .......... kernel=rbf, C=100, gamma=0.01, score=1.000000 -   0.2s\n",
      "[CV] kernel=rbf, C=100, gamma=0.01 ...................................\n",
      "[CV] .......... kernel=rbf, C=100, gamma=0.01, score=1.000000 -   0.2s\n",
      "[CV] kernel=rbf, C=100, gamma=0.01 ...................................\n",
      "[CV] .......... kernel=rbf, C=100, gamma=0.01, score=1.000000 -   0.2s\n",
      "[CV] kernel=rbf, C=100, gamma=0.01 ...................................\n",
      "[CV] .......... kernel=rbf, C=100, gamma=0.01, score=1.000000 -   0.2s\n",
      "[CV] kernel=rbf, C=100, gamma=0.01 ...................................\n",
      "[CV] .......... kernel=rbf, C=100, gamma=0.01, score=1.000000 -   0.2s\n",
      "[CV] kernel=rbf, C=100, gamma=0.001 ..................................\n",
      "[CV] ......... kernel=rbf, C=100, gamma=0.001, score=1.000000 -   0.2s\n",
      "[CV] kernel=rbf, C=100, gamma=0.001 ..................................\n",
      "[CV] ......... kernel=rbf, C=100, gamma=0.001, score=1.000000 -   0.2s\n",
      "[CV] kernel=rbf, C=100, gamma=0.001 ..................................\n",
      "[CV] ......... kernel=rbf, C=100, gamma=0.001, score=1.000000 -   0.2s\n",
      "[CV] kernel=rbf, C=100, gamma=0.001 ..................................\n",
      "[CV] ......... kernel=rbf, C=100, gamma=0.001, score=1.000000 -   0.2s\n",
      "[CV] kernel=rbf, C=100, gamma=0.001 ..................................\n",
      "[CV] ......... kernel=rbf, C=100, gamma=0.001, score=1.000000 -   0.2s\n",
      "[CV] kernel=rbf, C=100, gamma=0.0001 .................................\n",
      "[CV] ........ kernel=rbf, C=100, gamma=0.0001, score=1.000000 -   0.2s\n",
      "[CV] kernel=rbf, C=100, gamma=0.0001 .................................\n",
      "[CV] ........ kernel=rbf, C=100, gamma=0.0001, score=1.000000 -   0.2s\n",
      "[CV] kernel=rbf, C=100, gamma=0.0001 .................................\n",
      "[CV] ........ kernel=rbf, C=100, gamma=0.0001, score=1.000000 -   0.2s\n",
      "[CV] kernel=rbf, C=100, gamma=0.0001 .................................\n",
      "[CV] ........ kernel=rbf, C=100, gamma=0.0001, score=1.000000 -   0.2s\n",
      "[CV] kernel=rbf, C=100, gamma=0.0001 .................................\n",
      "[CV] ........ kernel=rbf, C=100, gamma=0.0001, score=1.000000 -   0.2s\n",
      "[CV] kernel=rbf, C=100, gamma=1e-05 ..................................\n",
      "[CV] ......... kernel=rbf, C=100, gamma=1e-05, score=0.931034 -   0.2s\n",
      "[CV] kernel=rbf, C=100, gamma=1e-05 ..................................\n",
      "[CV] ......... kernel=rbf, C=100, gamma=1e-05, score=0.912281 -   0.2s\n",
      "[CV] kernel=rbf, C=100, gamma=1e-05 ..................................\n",
      "[CV] ......... kernel=rbf, C=100, gamma=1e-05, score=0.929825 -   0.2s\n",
      "[CV] kernel=rbf, C=100, gamma=1e-05 ..................................\n",
      "[CV] ......... kernel=rbf, C=100, gamma=1e-05, score=0.929825 -   0.2s\n",
      "[CV] kernel=rbf, C=100, gamma=1e-05 ..................................\n",
      "[CV] ......... kernel=rbf, C=100, gamma=1e-05, score=0.910714 -   0.2s\n",
      "[CV] kernel=rbf, C=1000, gamma=0.01 ..................................\n",
      "[CV] ......... kernel=rbf, C=1000, gamma=0.01, score=1.000000 -   0.2s\n",
      "[CV] kernel=rbf, C=1000, gamma=0.01 ..................................\n",
      "[CV] ......... kernel=rbf, C=1000, gamma=0.01, score=1.000000 -   0.2s\n",
      "[CV] kernel=rbf, C=1000, gamma=0.01 ..................................\n",
      "[CV] ......... kernel=rbf, C=1000, gamma=0.01, score=1.000000 -   0.2s\n",
      "[CV] kernel=rbf, C=1000, gamma=0.01 ..................................\n",
      "[CV] ......... kernel=rbf, C=1000, gamma=0.01, score=1.000000 -   0.2s\n",
      "[CV] kernel=rbf, C=1000, gamma=0.01 ..................................\n",
      "[CV] ......... kernel=rbf, C=1000, gamma=0.01, score=1.000000 -   0.2s\n",
      "[CV] kernel=rbf, C=1000, gamma=0.001 .................................\n",
      "[CV] ........ kernel=rbf, C=1000, gamma=0.001, score=1.000000 -   0.2s\n",
      "[CV] kernel=rbf, C=1000, gamma=0.001 .................................\n",
      "[CV] ........ kernel=rbf, C=1000, gamma=0.001, score=1.000000 -   0.2s\n",
      "[CV] kernel=rbf, C=1000, gamma=0.001 .................................\n",
      "[CV] ........ kernel=rbf, C=1000, gamma=0.001, score=1.000000 -   0.2s\n",
      "[CV] kernel=rbf, C=1000, gamma=0.001 .................................\n",
      "[CV] ........ kernel=rbf, C=1000, gamma=0.001, score=1.000000 -   0.2s\n",
      "[CV] kernel=rbf, C=1000, gamma=0.001 .................................\n",
      "[CV] ........ kernel=rbf, C=1000, gamma=0.001, score=1.000000 -   0.2s\n",
      "[CV] kernel=rbf, C=1000, gamma=0.0001 ................................\n",
      "[CV] ....... kernel=rbf, C=1000, gamma=0.0001, score=1.000000 -   0.1s\n",
      "[CV] kernel=rbf, C=1000, gamma=0.0001 ................................\n",
      "[CV] ....... kernel=rbf, C=1000, gamma=0.0001, score=1.000000 -   0.1s\n",
      "[CV] kernel=rbf, C=1000, gamma=0.0001 ................................\n",
      "[CV] ....... kernel=rbf, C=1000, gamma=0.0001, score=1.000000 -   0.2s\n",
      "[CV] kernel=rbf, C=1000, gamma=0.0001 ................................\n",
      "[CV] ....... kernel=rbf, C=1000, gamma=0.0001, score=1.000000 -   0.1s\n",
      "[CV] kernel=rbf, C=1000, gamma=0.0001 ................................\n",
      "[CV] ....... kernel=rbf, C=1000, gamma=0.0001, score=1.000000 -   0.2s\n",
      "[CV] kernel=rbf, C=1000, gamma=1e-05 .................................\n",
      "[CV] ........ kernel=rbf, C=1000, gamma=1e-05, score=1.000000 -   0.2s\n",
      "[CV] kernel=rbf, C=1000, gamma=1e-05 .................................\n",
      "[CV] ........ kernel=rbf, C=1000, gamma=1e-05, score=1.000000 -   0.2s\n",
      "[CV] kernel=rbf, C=1000, gamma=1e-05 .................................\n",
      "[CV] ........ kernel=rbf, C=1000, gamma=1e-05, score=1.000000 -   0.2s\n",
      "[CV] kernel=rbf, C=1000, gamma=1e-05 .................................\n",
      "[CV] ........ kernel=rbf, C=1000, gamma=1e-05, score=1.000000 -   0.2s\n",
      "[CV] kernel=rbf, C=1000, gamma=1e-05 .................................\n",
      "[CV] ........ kernel=rbf, C=1000, gamma=1e-05, score=1.000000 -   0.2s\n",
      "Cannot save trained svm model to ./model.model\n",
      "\n",
      "Best parameters set:\n",
      "SVC(C=1, cache_size=200, class_weight=None, coef0=0.0,\n",
      "  decision_function_shape=None, degree=3, gamma='auto', kernel='linear',\n",
      "  max_iter=-1, probability=True, random_state=None, shrinking=True,\n",
      "  tol=0.001, verbose=False)\n",
      "\n",
      "Confusion matrix:\n",
      "Labels: 0,1,6,7\n",
      "\n",
      "[[75  0  0  0]\n",
      " [ 0  4  0  0]\n",
      " [ 0  0 12  0]\n",
      " [ 0  0  0  4]]\n",
      "\n",
      "Classification report:\n",
      "             precision    recall  f1-score   support\n",
      "\n",
      "          0       1.00      1.00      1.00        75\n",
      "          1       1.00      1.00      1.00         4\n",
      "          6       1.00      1.00      1.00        12\n",
      "          7       1.00      1.00      1.00         4\n",
      "\n",
      "avg / total       1.00      1.00      1.00        95\n",
      "\n"
     ]
    },
    {
     "name": "stderr",
     "output_type": "stream",
     "text": [
      "[Parallel(n_jobs=1)]: Done 100 out of 100 | elapsed:   20.5s finished\n"
     ]
    }
   ],
   "source": [
    "train_svm_classifier(features, labels, './model.model')"
   ]
  },
  {
   "cell_type": "code",
   "execution_count": 46,
   "metadata": {
    "collapsed": false
   },
   "outputs": [
    {
     "data": {
      "image/png": "[encoded data removed]",
      "text/plain": [
       "<matplotlib.figure.Figure at 0x11ec4b750>"
      ]
     },
     "metadata": {},
     "output_type": "display_data"
    }
   ],
   "source": [
    "vis_data = bh_sne(features)\n",
    "vis_x = vis_data[:, 0]\n",
    "vis_y = vis_data[:, 1]\n",
    "plt.scatter(vis_x, vis_y, c=labels, cmap=plt.cm.get_cmap('jet', 10))\n",
    "plt.colorbar(ticks=range(10))\n",
    "plt.clim(-0.5, 9.5)\n",
    "plt.show()"
   ]
  },
  {
   "cell_type": "code",
   "execution_count": null,
   "metadata": {
    "collapsed": true
   },
   "outputs": [],
   "source": []
  }
 ],
 "metadata": {
  "kernelspec": {
   "display_name": "Python 2",
   "language": "python",
   "name": "python2"
  },
  "language_info": {
   "codemirror_mode": {
    "name": "ipython",
    "version": 2
   },
   "file_extension": ".py",
   "mimetype": "text/x-python",
   "name": "python",
   "nbconvert_exporter": "python",
   "pygments_lexer": "ipython2",
   "version": "2.7.12"
  },
  "latex_envs": {
   "bibliofile": "biblio.bib",
   "cite_by": "apalike",
   "current_citInitial": 1,
   "eqLabelWithNumbers": true,
   "eqNumInitial": 0
  }
 },
 "nbformat": 4,
 "nbformat_minor": 1
}
